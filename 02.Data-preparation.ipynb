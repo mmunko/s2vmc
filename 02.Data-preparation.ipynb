{
 "metadata": {
  "name": "",
  "signature": "sha256:669a864ee4be29a031e05c3a59e3be1d4cb866cbacd676ab4c5eb825af4e2109"
 },
 "nbformat": 3,
 "nbformat_minor": 0,
 "worksheets": [
  {
   "cells": [
    {
     "cell_type": "markdown",
     "metadata": {},
     "source": [
      "## Konverzia data na Treningovu, Testovaciu a Klasifikacnu vzorku"
     ]
    },
    {
     "cell_type": "code",
     "collapsed": false,
     "input": [
      "from osgeo import ogr\n",
      "import subprocess\n",
      "import os, shutil\n",
      "import glob\n",
      "import numpy as np\n",
      "import gdal"
     ],
     "language": "python",
     "metadata": {},
     "outputs": [],
     "prompt_number": 1
    },
    {
     "cell_type": "markdown",
     "metadata": {},
     "source": [
      "###Oklipovanie rastrov podla Treningovej a Testovacej vzorky"
     ]
    },
    {
     "cell_type": "code",
     "collapsed": false,
     "input": [
      "indir = 'preproc_rasters'\n",
      "pozitive_train_mask = 'masks/pozitivne_train.shp'\n",
      "pozitive_test_mask = 'masks/pozitivne_test.shp'\n",
      "negative_train_mask = 'masks/stabilne_train.shp'\n",
      "negative_test_mask = 'masks/stabilne_test.shp'"
     ],
     "language": "python",
     "metadata": {},
     "outputs": [],
     "prompt_number": 19
    },
    {
     "cell_type": "code",
     "collapsed": false,
     "input": [
      "train_pozitive = os.path.join('test-train-classify','train','POZITIVE')\n",
      "train_negative = os.path.join('test-train-classify','train','NEGATIVE')\n",
      "test_pozitive = os.path.join('test-train-classify','test','POZITIVE')\n",
      "test_negative = os.path.join('test-train-classify','test','NEGATIVE')\n",
      "\n",
      "if os.path.exists('test-train-classify'):\n",
      "    shutil.rmtree('test-train-classify')\n",
      "    \n",
      "os.makedirs(train_pozitive)\n",
      "os.makedirs(train_negative)\n",
      "os.makedirs(test_pozitive)\n",
      "os.makedirs(test_negative)"
     ],
     "language": "python",
     "metadata": {},
     "outputs": [],
     "prompt_number": 20
    },
    {
     "cell_type": "code",
     "collapsed": false,
     "input": [
      "rasters = glob.glob(os.path.join(indir,'*.tif'))"
     ],
     "language": "python",
     "metadata": {},
     "outputs": [],
     "prompt_number": 21
    },
    {
     "cell_type": "code",
     "collapsed": false,
     "input": [
      "for raster in rasters:\n",
      "    subprocess.call(['gdalwarp', raster, os.path.join(train_pozitive,raster.split('/')[-1]), '-cutline', pozitive_train_mask])\n",
      "    subprocess.call(['gdalwarp', raster, os.path.join(test_pozitive,raster.split('/')[-1]), '-cutline', pozitive_test_mask])\n",
      "    subprocess.call(['gdalwarp', raster, os.path.join(train_negative,raster.split('/')[-1]), '-cutline', negative_train_mask])\n",
      "    subprocess.call(['gdalwarp', raster, os.path.join(test_negative,raster.split('/')[-1]), '-cutline', negative_test_mask])"
     ],
     "language": "python",
     "metadata": {},
     "outputs": [],
     "prompt_number": 22
    },
    {
     "cell_type": "markdown",
     "metadata": {},
     "source": [
      "###Vytvorenie datovych suborov pre Trenovanie a Testovanie"
     ]
    },
    {
     "cell_type": "code",
     "collapsed": false,
     "input": [
      "categorical_data = np.array([\n",
      "    ['clc12_recl.tif', 'range(1,11)'],\n",
      "    ['ov_lithology.tif','range(1,17)'],\n",
      "    ['ov_dem_a10_recl.tif', 'range(0,9)'],\n",
      "])"
     ],
     "language": "python",
     "metadata": {},
     "outputs": [],
     "prompt_number": 6
    },
    {
     "cell_type": "code",
     "collapsed": false,
     "input": [
      "samples_datadir = 'test-train-classify/train'\n",
      "pozitive_samples = glob.glob(os.path.join(samples_datadir,'POZITIVE','*tif'))\n",
      "pozitive_samples.sort()\n",
      "negative_samples = glob.glob(os.path.join(samples_datadir,'NEGATIVE','*tif'))\n",
      "negative_samples.sort()"
     ],
     "language": "python",
     "metadata": {},
     "outputs": [],
     "prompt_number": 11
    },
    {
     "cell_type": "code",
     "collapsed": false,
     "input": [
      "#vytvorenie matice pozitivnych sample\n",
      "first = True #indikator prvej iteracie\n",
      "\n",
      "for sample in pozitive_samples:\n",
      "    #nacitanie vstupnej premennej\n",
      "    inr = gdal.Open(sample)\n",
      "    inb = inr.GetRasterBand(1)\n",
      "    ina = inb.ReadAsArray()\n",
      "    ina = ina[ina != inb.GetNoDataValue()]\n",
      "    \n",
      "    #zistenie, ci sa jedna o kategoricke data\n",
      "    if sample.split('/')[-1] in categorical_data[:,0]:\n",
      "        \n",
      "        categories = eval(categorical_data[categorical_data[:,0] == sample.split('/')[-1]][0][1]) #vytiahnutie kategorii\n",
      "        \n",
      "        var = np.zeros([len(ina),len(categories)]) #inicializacia prazdnej premennej\n",
      "        \n",
      "        #budovanie kategorickej premennej\n",
      "        for i,category in enumerate(categories):\n",
      "            var[ina == category,i] = 1\n",
      "            \n",
      "        if first:\n",
      "            pozitives = var\n",
      "            first = False\n",
      "        else:\n",
      "            pozitives = np.column_stack([pozitives,var])\n",
      "    \n",
      "    else:\n",
      "        if first:\n",
      "            pozitives = ina\n",
      "            first = False\n",
      "        else:\n",
      "            pozitives = np.column_stack([pozitives,ina])"
     ],
     "language": "python",
     "metadata": {},
     "outputs": [],
     "prompt_number": 12
    },
    {
     "cell_type": "code",
     "collapsed": false,
     "input": [
      "#vytvorenie matice negativnych sample\n",
      "first = True #indikator prvej iteracie\n",
      "\n",
      "for sample in negative_samples:\n",
      "    #nacitanie vstupnej premennej\n",
      "    inr = gdal.Open(sample)\n",
      "    inb = inr.GetRasterBand(1)\n",
      "    ina = inb.ReadAsArray()\n",
      "    ina = ina[ina != inb.GetNoDataValue()]\n",
      "    \n",
      "    #zistenie, ci sa jedna o kategoricke data\n",
      "    if sample.split('/')[-1] in categorical_data[:,0]:\n",
      "        \n",
      "        categories = eval(categorical_data[categorical_data[:,0] == sample.split('/')[-1]][0][1]) #vytiahnutie kategorii\n",
      "        \n",
      "        var = np.zeros([len(ina),len(categories)]) #inicializacia prazdnej premennej\n",
      "        \n",
      "        #budovanie kategorickej premennej\n",
      "        for i,category in enumerate(categories):\n",
      "            var[ina == category,i] = 1\n",
      "            \n",
      "        if first:\n",
      "            negatives = var\n",
      "            first = False\n",
      "        else:\n",
      "            negatives = np.column_stack([negatives,var])\n",
      "    \n",
      "    else:\n",
      "        if first:\n",
      "            negatives = ina\n",
      "            first = False\n",
      "        else:\n",
      "            negatives = np.column_stack([negatives,ina])"
     ],
     "language": "python",
     "metadata": {},
     "outputs": [],
     "prompt_number": 13
    },
    {
     "cell_type": "code",
     "collapsed": false,
     "input": [
      "print(pozitives.shape, negatives.shape)"
     ],
     "language": "python",
     "metadata": {},
     "outputs": [
      {
       "output_type": "stream",
       "stream": "stdout",
       "text": [
        "(4023209, 40) (1200000, 40)\n"
       ]
      }
     ],
     "prompt_number": 14
    },
    {
     "cell_type": "code",
     "collapsed": false,
     "input": [
      "train_data = np.row_stack([pozitives,negatives])\n",
      "print(train_data.shape)"
     ],
     "language": "python",
     "metadata": {},
     "outputs": [
      {
       "output_type": "stream",
       "stream": "stdout",
       "text": [
        "(5223209, 40)\n"
       ]
      }
     ],
     "prompt_number": 15
    },
    {
     "cell_type": "code",
     "collapsed": false,
     "input": [
      "train_labels = [1] * pozitives.shape[0] + [-1] * negatives.shape[0]\n",
      "print(len(train_labels))"
     ],
     "language": "python",
     "metadata": {},
     "outputs": [
      {
       "output_type": "stream",
       "stream": "stdout",
       "text": [
        "5223209\n"
       ]
      }
     ],
     "prompt_number": 16
    },
    {
     "cell_type": "code",
     "collapsed": false,
     "input": [
      "if os.path.exists('bin'):\n",
      "    shutil.rmtree('bin')\n",
      "os.mkdir('bin')\n",
      "    \n",
      "np.save(os.path.join('bin','train_data.npy'),train_data)\n",
      "np.save(os.path.join('bin','train_labels.npy'),train_labels)"
     ],
     "language": "python",
     "metadata": {},
     "outputs": [],
     "prompt_number": 17
    },
    {
     "cell_type": "code",
     "collapsed": false,
     "input": [
      "train_data = None\n",
      "train_labels = None"
     ],
     "language": "python",
     "metadata": {},
     "outputs": [],
     "prompt_number": 18
    },
    {
     "cell_type": "code",
     "collapsed": false,
     "input": [
      "samples_datadir = 'test-train-classify/test'\n",
      "pozitive_samples = glob.glob(os.path.join(samples_datadir,'POZITIVE','*tif'))\n",
      "pozitive_samples.sort()\n",
      "negative_samples = glob.glob(os.path.join(samples_datadir,'NEGATIVE','*tif'))\n",
      "negative_samples.sort()"
     ],
     "language": "python",
     "metadata": {},
     "outputs": [],
     "prompt_number": 19
    },
    {
     "cell_type": "code",
     "collapsed": false,
     "input": [
      "#vytvorenie matice pozitivnych sample\n",
      "first = True #indikator prvej iteracie\n",
      "\n",
      "for sample in pozitive_samples:\n",
      "    #nacitanie vstupnej premennej\n",
      "    inr = gdal.Open(sample)\n",
      "    inb = inr.GetRasterBand(1)\n",
      "    ina = inb.ReadAsArray()\n",
      "    ina = ina[ina != inb.GetNoDataValue()]\n",
      "    \n",
      "    #zistenie, ci sa jedna o kategoricke data\n",
      "    if sample.split('/')[-1] in categorical_data[:,0]:\n",
      "        \n",
      "        categories = eval(categorical_data[categorical_data[:,0] == sample.split('/')[-1]][0][1]) #vytiahnutie kategorii\n",
      "        \n",
      "        var = np.zeros([len(ina),len(categories)]) #inicializacia prazdnej premennej\n",
      "        \n",
      "        #budovanie kategorickej premennej\n",
      "        for i,category in enumerate(categories):\n",
      "            var[ina == category,i] = 1\n",
      "            \n",
      "        if first:\n",
      "            pozitives = var\n",
      "            first = False\n",
      "        else:\n",
      "            pozitives = np.column_stack([pozitives,var])\n",
      "    \n",
      "    else:\n",
      "        if first:\n",
      "            pozitives = ina\n",
      "            first = False\n",
      "        else:\n",
      "            pozitives = np.column_stack([pozitives,ina])"
     ],
     "language": "python",
     "metadata": {},
     "outputs": [],
     "prompt_number": 20
    },
    {
     "cell_type": "code",
     "collapsed": false,
     "input": [
      "#vytvorenie matice negativnych sample\n",
      "first = True #indikator prvej iteracie\n",
      "\n",
      "for sample in negative_samples:\n",
      "    #nacitanie vstupnej premennej\n",
      "    inr = gdal.Open(sample)\n",
      "    inb = inr.GetRasterBand(1)\n",
      "    ina = inb.ReadAsArray()\n",
      "    ina = ina[ina != inb.GetNoDataValue()]\n",
      "    \n",
      "    #zistenie, ci sa jedna o kategoricke data\n",
      "    if sample.split('/')[-1] in categorical_data[:,0]:\n",
      "        \n",
      "        categories = eval(categorical_data[categorical_data[:,0] == sample.split('/')[-1]][0][1]) #vytiahnutie kategorii\n",
      "        \n",
      "        var = np.zeros([len(ina),len(categories)]) #inicializacia prazdnej premennej\n",
      "        \n",
      "        #budovanie kategorickej premennej\n",
      "        for i,category in enumerate(categories):\n",
      "            var[ina == category,i] = 1\n",
      "            \n",
      "        if first:\n",
      "            negatives = var\n",
      "            first = False\n",
      "        else:\n",
      "            negatives = np.column_stack([negatives,var])\n",
      "    \n",
      "    else:\n",
      "        if first:\n",
      "            negatives = ina\n",
      "            first = False\n",
      "        else:\n",
      "            negatives = np.column_stack([negatives,ina])"
     ],
     "language": "python",
     "metadata": {},
     "outputs": [],
     "prompt_number": 21
    },
    {
     "cell_type": "code",
     "collapsed": false,
     "input": [
      "print(pozitives.shape, negatives.shape)"
     ],
     "language": "python",
     "metadata": {},
     "outputs": [
      {
       "output_type": "stream",
       "stream": "stdout",
       "text": [
        "(1095061, 40) (300000, 40)\n"
       ]
      }
     ],
     "prompt_number": 22
    },
    {
     "cell_type": "code",
     "collapsed": false,
     "input": [
      "test_data = np.row_stack([pozitives,negatives])\n",
      "print(test_data.shape)"
     ],
     "language": "python",
     "metadata": {},
     "outputs": [
      {
       "output_type": "stream",
       "stream": "stdout",
       "text": [
        "(1395061, 40)\n"
       ]
      }
     ],
     "prompt_number": 23
    },
    {
     "cell_type": "code",
     "collapsed": false,
     "input": [
      "test_labels = [1] * pozitives.shape[0] + [-1] * negatives.shape[0]\n",
      "print(len(test_labels))"
     ],
     "language": "python",
     "metadata": {},
     "outputs": [
      {
       "output_type": "stream",
       "stream": "stdout",
       "text": [
        "1395061\n"
       ]
      }
     ],
     "prompt_number": 24
    },
    {
     "cell_type": "code",
     "collapsed": false,
     "input": [
      "np.save(os.path.join('bin','test_data.npy'),test_data)\n",
      "np.save(os.path.join('bin','test_labels.npy'),test_labels)"
     ],
     "language": "python",
     "metadata": {},
     "outputs": [],
     "prompt_number": 25
    },
    {
     "cell_type": "code",
     "collapsed": false,
     "input": [
      "test_data = None\n",
      "test_labels = None"
     ],
     "language": "python",
     "metadata": {},
     "outputs": [],
     "prompt_number": 26
    },
    {
     "cell_type": "markdown",
     "metadata": {},
     "source": [
      "### Vytvorenie dat pre vyslednu klasifikaciu"
     ]
    },
    {
     "cell_type": "code",
     "collapsed": false,
     "input": [
      "# Nasekanie celeho uzemia\n",
      "if os.path.exists('test-train-classify/classify'):\n",
      "    shutil.rmtree('test-train-classify/classify')\n",
      "os.mkdir('test-train-classify/classify')"
     ],
     "language": "python",
     "metadata": {},
     "outputs": [],
     "prompt_number": 2
    },
    {
     "cell_type": "code",
     "collapsed": false,
     "input": [
      "datadir = 'preproc_rasters'\n",
      "rasters = glob.glob(os.path.join(datadir,'*tif'))\n",
      "rasters.sort()"
     ],
     "language": "python",
     "metadata": {},
     "outputs": [],
     "prompt_number": 3
    },
    {
     "cell_type": "code",
     "collapsed": false,
     "input": [
      "for raster in rasters:\n",
      "    r = gdal.Open(raster)\n",
      "    width = r.RasterXSize\n",
      "    height = r.RasterYSize\n",
      "    \n",
      "    tile_size = 100\n",
      "    i = 0\n",
      "    while (i * tile_size) < width:\n",
      "        j = 0\n",
      "        while (j * tile_size) < height:\n",
      "            path = os.path.join('test-train-classify/classify','{:04}-{:04}'.format(i,j))\n",
      "            if not os.path.exists(path):\n",
      "                os.mkdir(path)\n",
      "            outFile = os.path.join(path,raster.split('/')[-1])\n",
      "            os.system('gdal_translate -of GTIFF -srcwin {} {} {} {} {} {}'.format(i*tile_size,j*tile_size,tile_size,tile_size,raster,outFile))\n",
      "            j += 1\n",
      "        i += 1"
     ],
     "language": "python",
     "metadata": {},
     "outputs": [],
     "prompt_number": 4
    },
    {
     "cell_type": "code",
     "collapsed": false,
     "input": [
      "for ii in range(i):\n",
      "    for jj in range(j):\n",
      "\n",
      "        samples = glob.glob(os.path.join('test-train-classify/classify','{:04}-{:04}'.format(ii,jj),'*.tif'))\n",
      "        \n",
      "        first = True #indikator prvej iteracie\n",
      "\n",
      "        for sample in samples:\n",
      "            #nacitanie vstupnej premennej\n",
      "            inr = gdal.Open(sample)\n",
      "            inb = inr.GetRasterBand(1)\n",
      "            ina = inb.ReadAsArray()\n",
      "            ina = ina[ina != inb.GetNoDataValue()]\n",
      "\n",
      "            #zistenie, ci sa jedna o kategoricke data\n",
      "            if sample.split('/')[-1] in categorical_data[:,0]:\n",
      "\n",
      "                categories = eval(categorical_data[categorical_data[:,0] == sample.split('/')[-1]][0][1]) #vytiahnutie kategorii\n",
      "\n",
      "                var = np.zeros([len(ina),len(categories)]) #inicializacia prazdnej premennej\n",
      "\n",
      "                #budovanie kategorickej premennej\n",
      "                for i,category in enumerate(categories):\n",
      "                    var[ina == category,i] = 1\n",
      "\n",
      "                if first:\n",
      "                    data = var\n",
      "                    first = False\n",
      "                else:\n",
      "                    data = np.column_stack([data,var])\n",
      "\n",
      "            else:\n",
      "                if first:\n",
      "                    data = ina\n",
      "                    first = False\n",
      "                else:\n",
      "                    data = np.column_stack([data,ina])\n",
      "\n",
      "        print(data.shape)\n",
      "        np.save(os.path.join('bin','data-{:04}-{:04}.npy'.format(ii,jj)),data)"
     ],
     "language": "python",
     "metadata": {},
     "outputs": [
      {
       "output_type": "stream",
       "stream": "stdout",
       "text": [
        "(4191, 40)\n",
        "(8795, 40)\n",
        "(2765, 40)\n",
        "(0, 40)\n",
        "(0, 40)\n",
        "(0, 40)\n",
        "(0, 40)\n",
        "(0, 40)\n",
        "(0, 40)\n",
        "(0, 40)\n",
        "(0, 40)\n",
        "(0, 40)\n",
        "(0, 40)"
       ]
      },
      {
       "output_type": "stream",
       "stream": "stdout",
       "text": [
        "\n",
        "(0, 40)\n",
        "(0, 40)\n",
        "(0, 40)\n",
        "(0, 40)\n",
        "(0, 40)\n",
        "(0, 40)\n",
        "(0, 40)\n",
        "(0, 40)\n",
        "(0, 40)\n",
        "(0, 40)\n",
        "(0, 40)\n",
        "(0, 40)\n",
        "(0, 40)\n",
        "(0, 40)\n",
        "(0, 40)\n",
        "(0, 40)\n",
        "(0, 40)\n",
        "(0, 40)"
       ]
      },
      {
       "output_type": "stream",
       "stream": "stdout",
       "text": [
        "\n",
        "(0, 40)\n",
        "(0, 40)\n",
        "(0, 40)\n",
        "(0, 40)\n",
        "(0, 40)\n",
        "(0, 40)\n",
        "(0, 40)\n",
        "(0, 40)\n",
        "(0, 40)\n",
        "(0, 40)\n",
        "(0, 40)\n",
        "(0, 40)\n",
        "(0, 40)\n",
        "(0, 40)\n",
        "(0, 40)\n",
        "(0, 40)"
       ]
      },
      {
       "output_type": "stream",
       "stream": "stdout",
       "text": [
        "\n",
        "(0, 40)\n",
        "(0, 40)\n",
        "(0, 40)\n",
        "(0, 40)\n",
        "(0, 40)\n",
        "(0, 40)\n",
        "(0, 40)\n",
        "(0, 40)\n",
        "(0, 40)\n",
        "(0, 40)\n",
        "(0, 40)\n",
        "(0, 40)\n",
        "(0, 40)\n",
        "(0, 40)\n",
        "(0, 40)"
       ]
      },
      {
       "output_type": "stream",
       "stream": "stdout",
       "text": [
        "\n",
        "(0, 40)\n",
        "(0, 40)\n",
        "(0, 40)\n",
        "(0, 40)\n",
        "(0, 40)\n",
        "(0, 40)\n",
        "(0, 40)\n",
        "(0, 40)\n",
        "(0, 40)\n",
        "(0, 40)\n",
        "(0, 40)\n",
        "(0, 40)\n",
        "(0, 40)\n",
        "(0, 40)\n",
        "(0, 40)\n",
        "(0, 40)\n",
        "(0, 40)\n",
        "(0, 40)"
       ]
      },
      {
       "output_type": "stream",
       "stream": "stdout",
       "text": [
        "\n",
        "(0, 40)\n",
        "(0, 40)\n",
        "(0, 40)\n",
        "(0, 40)\n",
        "(0, 40)\n",
        "(0, 40)\n",
        "(0, 40)\n",
        "(0, 40)\n",
        "(0, 40)\n",
        "(0, 40)\n",
        "(0, 40)\n",
        "(0, 40)\n",
        "(9132, 40)\n",
        "(10000, 40)"
       ]
      },
      {
       "output_type": "stream",
       "stream": "stdout",
       "text": [
        "\n",
        "(8908, 40)\n",
        "(642, 40)\n",
        "(0, 40)\n",
        "(0, 40)\n",
        "(0, 40)\n",
        "(0, 40)\n",
        "(0, 40)\n",
        "(0, 40)\n",
        "(0, 40)\n",
        "(0, 40)\n",
        "(0, 40)\n",
        "(0, 40)\n",
        "(0, 40)\n",
        "(0, 40)"
       ]
      },
      {
       "output_type": "stream",
       "stream": "stdout",
       "text": [
        "\n",
        "(0, 40)\n",
        "(0, 40)\n",
        "(0, 40)\n",
        "(0, 40)\n",
        "(0, 40)\n",
        "(0, 40)\n",
        "(0, 40)\n",
        "(0, 40)\n",
        "(0, 40)\n",
        "(0, 40)\n",
        "(0, 40)\n",
        "(0, 40)\n",
        "(0, 40)\n",
        "(0, 40)\n",
        "(0, 40)\n",
        "(0, 40)\n",
        "(0, 40)\n",
        "(0, 40)\n",
        "(0, 40)"
       ]
      },
      {
       "output_type": "stream",
       "stream": "stdout",
       "text": [
        "\n",
        "(0, 40)\n",
        "(0, 40)\n",
        "(0, 40)\n",
        "(0, 40)\n",
        "(0, 40)\n",
        "(0, 40)\n",
        "(0, 40)\n",
        "(0, 40)\n",
        "(0, 40)\n",
        "(0, 40)\n",
        "(0, 40)\n",
        "(0, 40)\n",
        "(0, 40)\n",
        "(0, 40)\n",
        "(0, 40)\n",
        "(0, 40)\n",
        "(0, 40)\n",
        "(0, 40)\n",
        "(0, 40)\n",
        "(0, 40)\n",
        "(0, 40)"
       ]
      },
      {
       "output_type": "stream",
       "stream": "stdout",
       "text": [
        "\n",
        "(0, 40)\n",
        "(0, 40)\n",
        "(0, 40)\n",
        "(0, 40)\n",
        "(0, 40)\n",
        "(0, 40)\n",
        "(0, 40)\n",
        "(0, 40)\n",
        "(0, 40)\n",
        "(0, 40)\n",
        "(0, 40)\n",
        "(0, 40)\n",
        "(0, 40)\n",
        "(0, 40)\n",
        "(0, 40)\n",
        "(0, 40)\n",
        "(0, 40)\n",
        "(0, 40)\n",
        "(0, 40)\n",
        "(0, 40)"
       ]
      },
      {
       "output_type": "stream",
       "stream": "stdout",
       "text": [
        "\n",
        "(0, 40)\n",
        "(0, 40)\n",
        "(0, 40)\n",
        "(0, 40)\n",
        "(0, 40)\n",
        "(0, 40)\n",
        "(0, 40)\n",
        "(0, 40)\n",
        "(0, 40)\n",
        "(0, 40)\n",
        "(0, 40)\n",
        "(0, 40)\n",
        "(0, 40)\n",
        "(0, 40)\n",
        "(0, 40)\n",
        "(0, 40)\n",
        "(4607, 40)\n",
        "(10000, 40)"
       ]
      },
      {
       "output_type": "stream",
       "stream": "stdout",
       "text": [
        "\n",
        "(10000, 40)\n",
        "(8058, 40)\n",
        "(5035, 40)\n",
        "(2258, 40)\n",
        "(31, 40)\n",
        "(1747, 40)\n",
        "(1018, 40)"
       ]
      },
      {
       "output_type": "stream",
       "stream": "stdout",
       "text": [
        "\n",
        "(0, 40)\n",
        "(0, 40)\n",
        "(0, 40)\n",
        "(0, 40)\n",
        "(0, 40)\n",
        "(0, 40)\n",
        "(0, 40)\n",
        "(0, 40)\n",
        "(0, 40)\n",
        "(0, 40)\n",
        "(0, 40)\n",
        "(0, 40)\n",
        "(0, 40)\n",
        "(0, 40)\n",
        "(0, 40)\n",
        "(0, 40)\n",
        "(0, 40)\n",
        "(0, 40)\n",
        "(0, 40)\n",
        "(0, 40)\n",
        "(0, 40)\n",
        "(0, 40)"
       ]
      },
      {
       "output_type": "stream",
       "stream": "stdout",
       "text": [
        "\n",
        "(0, 40)\n",
        "(0, 40)\n",
        "(0, 40)\n",
        "(0, 40)\n",
        "(0, 40)\n",
        "(0, 40)\n",
        "(0, 40)\n",
        "(0, 40)\n",
        "(0, 40)\n",
        "(0, 40)\n",
        "(0, 40)\n",
        "(0, 40)\n",
        "(0, 40)\n",
        "(0, 40)\n",
        "(0, 40)\n",
        "(0, 40)\n",
        "(0, 40)\n",
        "(0, 40)\n",
        "(0, 40)\n",
        "(0, 40)\n",
        "(0, 40)\n",
        "(0, 40)"
       ]
      },
      {
       "output_type": "stream",
       "stream": "stdout",
       "text": [
        "\n",
        "(0, 40)\n",
        "(0, 40)\n",
        "(0, 40)\n",
        "(0, 40)\n",
        "(0, 40)\n",
        "(0, 40)\n",
        "(0, 40)\n",
        "(0, 40)\n",
        "(0, 40)\n",
        "(0, 40)\n",
        "(0, 40)\n",
        "(0, 40)\n",
        "(0, 40)\n",
        "(0, 40)\n",
        "(0, 40)\n",
        "(0, 40)\n",
        "(0, 40)\n",
        "(0, 40)\n",
        "(0, 40)\n",
        "(0, 40)\n",
        "(0, 40)"
       ]
      },
      {
       "output_type": "stream",
       "stream": "stdout",
       "text": [
        "\n",
        "(0, 40)\n",
        "(0, 40)\n",
        "(0, 40)\n",
        "(0, 40)\n",
        "(0, 40)\n",
        "(0, 40)\n",
        "(0, 40)\n",
        "(0, 40)\n",
        "(0, 40)\n",
        "(0, 40)\n",
        "(0, 40)\n",
        "(0, 40)\n",
        "(0, 40)\n",
        "(0, 40)\n",
        "(0, 40)\n",
        "(0, 40)\n",
        "(0, 40)\n",
        "(0, 40)\n",
        "(257, 40)\n",
        "(7650, 40)"
       ]
      },
      {
       "output_type": "stream",
       "stream": "stdout",
       "text": [
        "\n",
        "(9857, 40)\n",
        "(9707, 40)\n",
        "(10000, 40)\n",
        "(10000, 40)\n",
        "(9467, 40)"
       ]
      },
      {
       "output_type": "stream",
       "stream": "stdout",
       "text": [
        "\n",
        "(10000, 40)\n",
        "(9313, 40)\n",
        "(4661, 40)\n",
        "(584, 40)\n",
        "(0, 40)\n",
        "(0, 40)\n",
        "(0, 40)\n",
        "(0, 40)\n",
        "(0, 40)"
       ]
      },
      {
       "output_type": "stream",
       "stream": "stdout",
       "text": [
        "\n",
        "(0, 40)\n",
        "(0, 40)\n",
        "(0, 40)\n",
        "(0, 40)\n",
        "(0, 40)\n",
        "(0, 40)\n",
        "(0, 40)\n",
        "(0, 40)\n",
        "(0, 40)\n",
        "(0, 40)\n",
        "(0, 40)\n",
        "(0, 40)\n",
        "(0, 40)\n",
        "(0, 40)\n",
        "(0, 40)\n",
        "(0, 40)\n",
        "(0, 40)\n",
        "(0, 40)\n",
        "(0, 40)\n",
        "(0, 40)"
       ]
      },
      {
       "output_type": "stream",
       "stream": "stdout",
       "text": [
        "\n",
        "(0, 40)\n",
        "(0, 40)\n",
        "(0, 40)\n",
        "(0, 40)\n",
        "(0, 40)\n",
        "(0, 40)\n",
        "(0, 40)\n",
        "(0, 40)\n",
        "(0, 40)\n",
        "(0, 40)\n",
        "(0, 40)\n",
        "(0, 40)\n",
        "(0, 40)\n",
        "(0, 40)\n",
        "(0, 40)\n",
        "(0, 40)\n",
        "(0, 40)"
       ]
      },
      {
       "output_type": "stream",
       "stream": "stdout",
       "text": [
        "\n",
        "(0, 40)\n",
        "(0, 40)\n",
        "(0, 40)\n",
        "(0, 40)\n",
        "(0, 40)\n",
        "(0, 40)\n",
        "(0, 40)\n",
        "(0, 40)\n",
        "(0, 40)\n",
        "(0, 40)\n",
        "(0, 40)\n",
        "(0, 40)\n",
        "(0, 40)\n",
        "(0, 40)\n",
        "(0, 40)\n",
        "(0, 40)\n",
        "(0, 40)\n",
        "(0, 40)\n",
        "(0, 40)\n",
        "(0, 40)\n",
        "(0, 40)\n",
        "(0, 40)"
       ]
      },
      {
       "output_type": "stream",
       "stream": "stdout",
       "text": [
        "\n",
        "(0, 40)\n",
        "(0, 40)\n",
        "(0, 40)\n",
        "(0, 40)\n",
        "(0, 40)\n",
        "(0, 40)\n",
        "(0, 40)\n",
        "(0, 40)\n",
        "(0, 40)\n",
        "(0, 40)\n",
        "(0, 40)\n",
        "(0, 40)\n",
        "(0, 40)\n",
        "(0, 40)\n",
        "(0, 40)\n",
        "(0, 40)\n",
        "(0, 40)\n",
        "(0, 40)\n",
        "(1275, 40)"
       ]
      },
      {
       "output_type": "stream",
       "stream": "stdout",
       "text": [
        "\n",
        "(9827, 40)\n",
        "(8692, 40)\n",
        "(10000, 40)\n",
        "(10000, 40)\n",
        "(10000, 40)"
       ]
      },
      {
       "output_type": "stream",
       "stream": "stdout",
       "text": [
        "\n",
        "(10000, 40)\n",
        "(10000, 40)\n",
        "(10000, 40)\n",
        "(9166, 40)"
       ]
      },
      {
       "output_type": "stream",
       "stream": "stdout",
       "text": [
        "\n",
        "(2481, 40)\n",
        "(0, 40)\n",
        "(0, 40)\n",
        "(0, 40)\n",
        "(0, 40)\n",
        "(0, 40)\n",
        "(0, 40)\n",
        "(0, 40)\n",
        "(0, 40)\n",
        "(0, 40)\n",
        "(0, 40)\n",
        "(0, 40)\n",
        "(0, 40)\n",
        "(0, 40)\n",
        "(0, 40)\n",
        "(0, 40)\n",
        "(0, 40)"
       ]
      },
      {
       "output_type": "stream",
       "stream": "stdout",
       "text": [
        "\n",
        "(0, 40)\n",
        "(0, 40)\n",
        "(0, 40)\n",
        "(0, 40)\n",
        "(0, 40)\n",
        "(0, 40)\n",
        "(0, 40)\n",
        "(0, 40)\n",
        "(0, 40)\n",
        "(0, 40)\n",
        "(0, 40)\n",
        "(0, 40)\n",
        "(0, 40)\n",
        "(0, 40)\n",
        "(0, 40)\n",
        "(0, 40)\n",
        "(0, 40)\n",
        "(0, 40)\n",
        "(0, 40)"
       ]
      },
      {
       "output_type": "stream",
       "stream": "stdout",
       "text": [
        "\n",
        "(0, 40)\n",
        "(0, 40)\n",
        "(0, 40)\n",
        "(0, 40)\n",
        "(0, 40)\n",
        "(0, 40)\n",
        "(0, 40)\n",
        "(0, 40)\n",
        "(0, 40)\n",
        "(0, 40)\n",
        "(0, 40)\n",
        "(0, 40)\n",
        "(0, 40)\n",
        "(0, 40)\n",
        "(0, 40)\n",
        "(0, 40)\n",
        "(0, 40)"
       ]
      },
      {
       "output_type": "stream",
       "stream": "stdout",
       "text": [
        "\n",
        "(0, 40)\n",
        "(0, 40)\n",
        "(0, 40)\n",
        "(0, 40)\n",
        "(0, 40)\n",
        "(0, 40)\n",
        "(0, 40)\n",
        "(0, 40)\n",
        "(0, 40)\n",
        "(0, 40)\n",
        "(0, 40)\n",
        "(0, 40)\n",
        "(0, 40)\n",
        "(0, 40)\n",
        "(0, 40)\n",
        "(0, 40)"
       ]
      },
      {
       "output_type": "stream",
       "stream": "stdout",
       "text": [
        "\n",
        "(0, 40)\n",
        "(0, 40)\n",
        "(0, 40)\n",
        "(0, 40)\n",
        "(0, 40)\n",
        "(0, 40)\n",
        "(0, 40)\n",
        "(0, 40)\n",
        "(0, 40)\n",
        "(0, 40)\n",
        "(0, 40)\n",
        "(0, 40)\n",
        "(0, 40)\n",
        "(0, 40)\n",
        "(4935, 40)\n",
        "(9872, 40)"
       ]
      },
      {
       "output_type": "stream",
       "stream": "stdout",
       "text": [
        "\n",
        "(7452, 40)\n",
        "(10000, 40)\n",
        "(10000, 40)\n",
        "(10000, 40)\n",
        "(10000, 40)"
       ]
      },
      {
       "output_type": "stream",
       "stream": "stdout",
       "text": [
        "\n",
        "(9204, 40)\n",
        "(4768, 40)\n",
        "(6387, 40)\n",
        "(2210, 40)\n",
        "(0, 40)\n",
        "(0, 40)\n",
        "(0, 40)\n",
        "(0, 40)\n",
        "(0, 40)\n",
        "(0, 40)\n",
        "(0, 40)\n",
        "(0, 40)"
       ]
      },
      {
       "output_type": "stream",
       "stream": "stdout",
       "text": [
        "\n",
        "(0, 40)\n",
        "(0, 40)\n",
        "(0, 40)\n",
        "(0, 40)\n",
        "(0, 40)\n",
        "(0, 40)\n",
        "(0, 40)\n",
        "(0, 40)\n",
        "(0, 40)\n",
        "(0, 40)\n",
        "(0, 40)\n",
        "(0, 40)\n",
        "(0, 40)\n",
        "(0, 40)\n",
        "(0, 40)\n",
        "(0, 40)\n",
        "(0, 40)\n",
        "(0, 40)\n",
        "(0, 40)\n",
        "(0, 40)\n",
        "(0, 40)\n",
        "(0, 40)\n",
        "(0, 40)\n",
        "(0, 40)"
       ]
      },
      {
       "output_type": "stream",
       "stream": "stdout",
       "text": [
        "\n",
        "(0, 40)\n",
        "(0, 40)\n",
        "(0, 40)\n",
        "(0, 40)\n",
        "(0, 40)\n",
        "(0, 40)\n",
        "(0, 40)\n",
        "(0, 40)\n",
        "(0, 40)\n",
        "(0, 40)\n",
        "(0, 40)\n",
        "(0, 40)\n",
        "(0, 40)\n",
        "(0, 40)\n",
        "(0, 40)\n",
        "(0, 40)\n",
        "(0, 40)\n",
        "(0, 40)\n",
        "(0, 40)\n",
        "(0, 40)\n",
        "(0, 40)"
       ]
      },
      {
       "output_type": "stream",
       "stream": "stdout",
       "text": [
        "\n",
        "(0, 40)\n",
        "(0, 40)\n",
        "(0, 40)\n",
        "(0, 40)\n",
        "(0, 40)\n",
        "(0, 40)\n",
        "(0, 40)\n",
        "(0, 40)\n",
        "(0, 40)\n",
        "(0, 40)\n",
        "(0, 40)\n",
        "(0, 40)\n",
        "(0, 40)\n",
        "(0, 40)\n",
        "(0, 40)\n",
        "(0, 40)\n",
        "(0, 40)\n",
        "(0, 40)\n",
        "(0, 40)\n",
        "(0, 40)\n",
        "(0, 40)\n",
        "(0, 40)\n",
        "(0, 40)"
       ]
      },
      {
       "output_type": "stream",
       "stream": "stdout",
       "text": [
        "\n",
        "(0, 40)\n",
        "(0, 40)\n",
        "(0, 40)\n",
        "(0, 40)\n",
        "(0, 40)\n",
        "(3404, 40)\n",
        "(10000, 40)\n",
        "(9288, 40)\n",
        "(8584, 40)"
       ]
      },
      {
       "output_type": "stream",
       "stream": "stdout",
       "text": [
        "\n",
        "(10000, 40)\n",
        "(10000, 40)\n",
        "(9887, 40)\n",
        "(6667, 40)\n",
        "(9839, 40)"
       ]
      },
      {
       "output_type": "stream",
       "stream": "stdout",
       "text": [
        "\n",
        "(10000, 40)\n",
        "(8374, 40)\n",
        "(307, 40)\n",
        "(0, 40)\n",
        "(0, 40)\n",
        "(0, 40)\n",
        "(0, 40)\n",
        "(0, 40)\n",
        "(0, 40)\n",
        "(0, 40)\n",
        "(0, 40)\n",
        "(0, 40)\n",
        "(0, 40)\n",
        "(0, 40)\n",
        "(0, 40)"
       ]
      },
      {
       "output_type": "stream",
       "stream": "stdout",
       "text": [
        "\n",
        "(0, 40)\n",
        "(0, 40)\n",
        "(0, 40)\n",
        "(0, 40)\n",
        "(0, 40)\n",
        "(0, 40)\n",
        "(0, 40)\n",
        "(0, 40)\n",
        "(0, 40)\n",
        "(0, 40)\n",
        "(0, 40)\n",
        "(0, 40)\n",
        "(0, 40)\n",
        "(0, 40)\n",
        "(0, 40)\n",
        "(0, 40)\n",
        "(0, 40)\n",
        "(0, 40)\n",
        "(0, 40)"
       ]
      },
      {
       "output_type": "stream",
       "stream": "stdout",
       "text": [
        "\n",
        "(0, 40)\n",
        "(0, 40)\n",
        "(0, 40)\n",
        "(0, 40)\n",
        "(0, 40)\n",
        "(0, 40)\n",
        "(0, 40)\n",
        "(0, 40)\n",
        "(0, 40)\n",
        "(0, 40)\n",
        "(0, 40)\n",
        "(0, 40)\n",
        "(0, 40)\n",
        "(0, 40)\n",
        "(0, 40)\n",
        "(0, 40)\n",
        "(0, 40)"
       ]
      },
      {
       "output_type": "stream",
       "stream": "stdout",
       "text": [
        "\n",
        "(0, 40)\n",
        "(0, 40)\n",
        "(0, 40)\n",
        "(0, 40)\n",
        "(0, 40)\n",
        "(0, 40)\n",
        "(0, 40)\n",
        "(0, 40)\n",
        "(0, 40)\n",
        "(0, 40)\n",
        "(0, 40)\n",
        "(0, 40)\n",
        "(0, 40)\n",
        "(0, 40)\n",
        "(0, 40)\n",
        "(0, 40)\n",
        "(0, 40)\n",
        "(0, 40)"
       ]
      },
      {
       "output_type": "stream",
       "stream": "stdout",
       "text": [
        "\n",
        "(0, 40)\n",
        "(0, 40)\n",
        "(0, 40)\n",
        "(0, 40)\n",
        "(0, 40)\n",
        "(0, 40)\n",
        "(0, 40)\n",
        "(0, 40)\n",
        "(0, 40)\n",
        "(0, 40)\n",
        "(0, 40)\n",
        "(0, 40)\n",
        "(0, 40)\n",
        "(0, 40)\n",
        "(3017, 40)\n",
        "(10000, 40)"
       ]
      },
      {
       "output_type": "stream",
       "stream": "stdout",
       "text": [
        "\n",
        "(10000, 40)\n",
        "(8498, 40)\n",
        "(7375, 40)\n",
        "(6410, 40)\n",
        "(4389, 40)\n",
        "(9986, 40)\n",
        "(10000, 40)"
       ]
      },
      {
       "output_type": "stream",
       "stream": "stdout",
       "text": [
        "\n",
        "(10000, 40)\n",
        "(10000, 40)\n",
        "(6329, 40)\n",
        "(1961, 40)\n",
        "(72, 40)\n",
        "(0, 40)\n",
        "(0, 40)"
       ]
      },
      {
       "output_type": "stream",
       "stream": "stdout",
       "text": [
        "\n",
        "(0, 40)\n",
        "(2446, 40)\n",
        "(4838, 40)\n",
        "(6185, 40)\n",
        "(5304, 40)\n",
        "(3469, 40)\n",
        "(1631, 40)\n",
        "(167, 40)\n",
        "(0, 40)\n",
        "(0, 40)\n",
        "(0, 40)"
       ]
      },
      {
       "output_type": "stream",
       "stream": "stdout",
       "text": [
        "\n",
        "(0, 40)\n",
        "(0, 40)\n",
        "(0, 40)\n",
        "(0, 40)\n",
        "(0, 40)\n",
        "(0, 40)\n",
        "(0, 40)\n",
        "(0, 40)\n",
        "(0, 40)\n",
        "(0, 40)\n",
        "(0, 40)\n",
        "(0, 40)\n",
        "(0, 40)\n",
        "(0, 40)\n",
        "(0, 40)\n",
        "(0, 40)\n",
        "(0, 40)\n",
        "(0, 40)\n",
        "(0, 40)\n",
        "(0, 40)\n",
        "(0, 40)\n",
        "(0, 40)\n",
        "(0, 40)\n",
        "(0, 40)"
       ]
      },
      {
       "output_type": "stream",
       "stream": "stdout",
       "text": [
        "\n",
        "(0, 40)\n",
        "(0, 40)\n",
        "(0, 40)\n",
        "(0, 40)\n",
        "(0, 40)\n",
        "(0, 40)\n",
        "(0, 40)\n",
        "(0, 40)\n",
        "(0, 40)\n",
        "(0, 40)\n",
        "(0, 40)\n",
        "(0, 40)\n",
        "(0, 40)\n",
        "(0, 40)\n",
        "(0, 40)\n",
        "(0, 40)\n",
        "(0, 40)\n",
        "(0, 40)\n",
        "(0, 40)\n",
        "(0, 40)"
       ]
      },
      {
       "output_type": "stream",
       "stream": "stdout",
       "text": [
        "\n",
        "(0, 40)\n",
        "(0, 40)\n",
        "(0, 40)\n",
        "(0, 40)\n",
        "(0, 40)\n",
        "(0, 40)\n",
        "(0, 40)\n",
        "(0, 40)\n",
        "(0, 40)\n",
        "(0, 40)\n",
        "(0, 40)\n",
        "(0, 40)\n",
        "(0, 40)\n",
        "(0, 40)\n",
        "(0, 40)\n",
        "(0, 40)\n",
        "(0, 40)\n",
        "(0, 40)\n",
        "(0, 40)\n",
        "(0, 40)\n",
        "(0, 40)"
       ]
      },
      {
       "output_type": "stream",
       "stream": "stdout",
       "text": [
        "\n",
        "(5616, 40)\n",
        "(10000, 40)\n",
        "(10000, 40)\n",
        "(9878, 40)\n",
        "(9327, 40)\n",
        "(4157, 40)"
       ]
      },
      {
       "output_type": "stream",
       "stream": "stdout",
       "text": [
        "\n",
        "(6332, 40)\n",
        "(10000, 40)\n",
        "(10000, 40)\n",
        "(10000, 40)\n",
        "(10000, 40)\n",
        "(10000, 40)"
       ]
      },
      {
       "output_type": "stream",
       "stream": "stdout",
       "text": [
        "\n",
        "(10000, 40)\n",
        "(9214, 40)\n",
        "(6628, 40)\n",
        "(4013, 40)\n",
        "(4105, 40)\n",
        "(9739, 40)"
       ]
      },
      {
       "output_type": "stream",
       "stream": "stdout",
       "text": [
        "\n",
        "(7624, 40)\n",
        "(10000, 40)\n",
        "(10000, 40)\n",
        "(10000, 40)\n",
        "(10000, 40)"
       ]
      },
      {
       "output_type": "stream",
       "stream": "stdout",
       "text": [
        "\n",
        "(9825, 40)\n",
        "(8636, 40)\n",
        "(8221, 40)\n",
        "(8440, 40)\n",
        "(8446, 40)\n",
        "(5095, 40)"
       ]
      },
      {
       "output_type": "stream",
       "stream": "stdout",
       "text": [
        "\n",
        "(1297, 40)\n",
        "(0, 40)\n",
        "(0, 40)\n",
        "(0, 40)\n",
        "(0, 40)\n",
        "(0, 40)\n",
        "(0, 40)\n",
        "(0, 40)\n",
        "(0, 40)\n",
        "(0, 40)\n",
        "(0, 40)\n",
        "(0, 40)\n",
        "(0, 40)\n",
        "(0, 40)\n",
        "(0, 40)\n",
        "(0, 40)\n",
        "(0, 40)\n",
        "(0, 40)\n",
        "(0, 40)\n",
        "(0, 40)\n",
        "(0, 40)\n",
        "(0, 40)"
       ]
      },
      {
       "output_type": "stream",
       "stream": "stdout",
       "text": [
        "\n",
        "(0, 40)\n",
        "(0, 40)\n",
        "(0, 40)\n",
        "(0, 40)\n",
        "(0, 40)\n",
        "(0, 40)\n",
        "(0, 40)\n",
        "(0, 40)\n",
        "(0, 40)\n",
        "(0, 40)\n",
        "(0, 40)\n",
        "(0, 40)\n",
        "(0, 40)\n",
        "(0, 40)\n",
        "(0, 40)\n",
        "(0, 40)\n",
        "(0, 40)\n",
        "(0, 40)\n",
        "(0, 40)\n",
        "(0, 40)\n",
        "(0, 40)\n",
        "(0, 40)\n",
        "(0, 40)"
       ]
      },
      {
       "output_type": "stream",
       "stream": "stdout",
       "text": [
        "\n",
        "(0, 40)\n",
        "(0, 40)\n",
        "(0, 40)\n",
        "(0, 40)\n",
        "(0, 40)\n",
        "(0, 40)\n",
        "(0, 40)\n",
        "(0, 40)\n",
        "(0, 40)\n",
        "(0, 40)\n",
        "(0, 40)\n",
        "(0, 40)\n",
        "(0, 40)\n",
        "(0, 40)\n",
        "(0, 40)\n",
        "(0, 40)\n",
        "(0, 40)\n",
        "(0, 40)\n",
        "(6834, 40)\n",
        "(10000, 40)"
       ]
      },
      {
       "output_type": "stream",
       "stream": "stdout",
       "text": [
        "\n",
        "(10000, 40)\n",
        "(10000, 40)\n",
        "(10000, 40)\n",
        "(9852, 40)"
       ]
      },
      {
       "output_type": "stream",
       "stream": "stdout",
       "text": [
        "\n",
        "(8636, 40)\n",
        "(10000, 40)\n",
        "(10000, 40)\n",
        "(10000, 40)\n",
        "(10000, 40)"
       ]
      },
      {
       "output_type": "stream",
       "stream": "stdout",
       "text": [
        "\n",
        "(10000, 40)\n",
        "(10000, 40)\n",
        "(10000, 40)\n",
        "(10000, 40)"
       ]
      },
      {
       "output_type": "stream",
       "stream": "stdout",
       "text": [
        "\n",
        "(10000, 40)\n",
        "(10000, 40)\n",
        "(10000, 40)\n",
        "(8736, 40)\n",
        "(9981, 40)"
       ]
      },
      {
       "output_type": "stream",
       "stream": "stdout",
       "text": [
        "\n",
        "(10000, 40)\n",
        "(10000, 40)\n",
        "(10000, 40)\n",
        "(10000, 40)\n",
        "(9427, 40)"
       ]
      },
      {
       "output_type": "stream",
       "stream": "stdout",
       "text": [
        "\n",
        "(8212, 40)\n",
        "(7713, 40)\n",
        "(8653, 40)\n",
        "(8383, 40)\n",
        "(8679, 40)\n",
        "(1968, 40)"
       ]
      },
      {
       "output_type": "stream",
       "stream": "stdout",
       "text": [
        "\n",
        "(0, 40)\n",
        "(0, 40)\n",
        "(0, 40)\n",
        "(0, 40)\n",
        "(0, 40)\n",
        "(0, 40)\n",
        "(0, 40)\n",
        "(0, 40)\n",
        "(0, 40)\n",
        "(0, 40)\n",
        "(0, 40)\n",
        "(0, 40)\n",
        "(0, 40)\n",
        "(0, 40)\n",
        "(0, 40)\n",
        "(0, 40)\n",
        "(0, 40)\n",
        "(0, 40)\n",
        "(0, 40)"
       ]
      },
      {
       "output_type": "stream",
       "stream": "stdout",
       "text": [
        "\n",
        "(0, 40)\n",
        "(0, 40)\n",
        "(0, 40)\n",
        "(0, 40)\n",
        "(0, 40)\n",
        "(0, 40)\n",
        "(0, 40)\n",
        "(0, 40)\n",
        "(0, 40)\n",
        "(0, 40)\n",
        "(0, 40)\n",
        "(0, 40)\n",
        "(0, 40)\n",
        "(0, 40)\n",
        "(0, 40)\n",
        "(0, 40)\n",
        "(0, 40)\n",
        "(0, 40)\n",
        "(0, 40)\n",
        "(0, 40)"
       ]
      },
      {
       "output_type": "stream",
       "stream": "stdout",
       "text": [
        "\n",
        "(0, 40)\n",
        "(0, 40)\n",
        "(0, 40)\n",
        "(0, 40)\n",
        "(0, 40)\n",
        "(0, 40)\n",
        "(0, 40)\n",
        "(0, 40)\n",
        "(0, 40)\n",
        "(0, 40)\n",
        "(0, 40)\n",
        "(0, 40)\n",
        "(0, 40)\n",
        "(0, 40)\n",
        "(0, 40)\n",
        "(0, 40)\n",
        "(0, 40)\n",
        "(0, 40)\n",
        "(0, 40)\n",
        "(0, 40)"
       ]
      },
      {
       "output_type": "stream",
       "stream": "stdout",
       "text": [
        "\n",
        "(0, 40)\n",
        "(0, 40)\n",
        "(8666, 40)\n",
        "(10000, 40)\n",
        "(10000, 40)\n",
        "(8231, 40)\n",
        "(10000, 40)\n",
        "(10000, 40)"
       ]
      },
      {
       "output_type": "stream",
       "stream": "stdout",
       "text": [
        "\n",
        "(10000, 40)\n",
        "(10000, 40)\n",
        "(10000, 40)\n",
        "(10000, 40)\n",
        "(10000, 40)"
       ]
      },
      {
       "output_type": "stream",
       "stream": "stdout",
       "text": [
        "\n",
        "(10000, 40)\n",
        "(10000, 40)\n",
        "(10000, 40)\n",
        "(10000, 40)\n",
        "(10000, 40)\n",
        "(10000, 40)"
       ]
      },
      {
       "output_type": "stream",
       "stream": "stdout",
       "text": [
        "\n",
        "(10000, 40)\n",
        "(9147, 40)\n",
        "(9418, 40)\n",
        "(10000, 40)\n",
        "(10000, 40)\n",
        "(10000, 40)"
       ]
      },
      {
       "output_type": "stream",
       "stream": "stdout",
       "text": [
        "\n",
        "(8906, 40)\n",
        "(9344, 40)\n",
        "(9919, 40)\n",
        "(10000, 40)\n",
        "(10000, 40)"
       ]
      },
      {
       "output_type": "stream",
       "stream": "stdout",
       "text": [
        "\n",
        "(10000, 40)\n",
        "(10000, 40)\n",
        "(8874, 40)\n",
        "(2429, 40)\n",
        "(0, 40)\n",
        "(0, 40)\n",
        "(0, 40)\n",
        "(0, 40)\n",
        "(0, 40)\n",
        "(0, 40)\n",
        "(0, 40)"
       ]
      },
      {
       "output_type": "stream",
       "stream": "stdout",
       "text": [
        "\n",
        "(0, 40)\n",
        "(0, 40)\n",
        "(0, 40)\n",
        "(0, 40)\n",
        "(0, 40)\n",
        "(0, 40)\n",
        "(0, 40)\n",
        "(0, 40)\n",
        "(0, 40)\n",
        "(0, 40)\n",
        "(0, 40)\n",
        "(0, 40)\n",
        "(0, 40)\n",
        "(0, 40)\n",
        "(0, 40)\n",
        "(0, 40)\n",
        "(0, 40)\n",
        "(0, 40)\n",
        "(0, 40)"
       ]
      },
      {
       "output_type": "stream",
       "stream": "stdout",
       "text": [
        "\n",
        "(0, 40)\n",
        "(0, 40)\n",
        "(0, 40)\n",
        "(0, 40)\n",
        "(0, 40)\n",
        "(0, 40)\n",
        "(0, 40)\n",
        "(0, 40)\n",
        "(0, 40)\n",
        "(0, 40)\n",
        "(0, 40)\n",
        "(0, 40)\n",
        "(0, 40)\n",
        "(0, 40)\n",
        "(0, 40)\n",
        "(0, 40)\n",
        "(0, 40)\n",
        "(0, 40)\n",
        "(0, 40)\n",
        "(0, 40)\n",
        "(0, 40)\n",
        "(0, 40)\n",
        "(0, 40)"
       ]
      },
      {
       "output_type": "stream",
       "stream": "stdout",
       "text": [
        "\n",
        "(0, 40)\n",
        "(0, 40)\n",
        "(0, 40)\n",
        "(0, 40)\n",
        "(0, 40)\n",
        "(0, 40)\n",
        "(0, 40)\n",
        "(0, 40)\n",
        "(0, 40)\n",
        "(0, 40)\n",
        "(0, 40)\n",
        "(5538, 40)\n",
        "(10000, 40)\n",
        "(10000, 40)"
       ]
      },
      {
       "output_type": "stream",
       "stream": "stdout",
       "text": [
        "\n",
        "(9467, 40)\n",
        "(8502, 40)\n",
        "(10000, 40)\n",
        "(10000, 40)\n",
        "(10000, 40)"
       ]
      },
      {
       "output_type": "stream",
       "stream": "stdout",
       "text": [
        "\n",
        "(10000, 40)\n",
        "(10000, 40)\n",
        "(10000, 40)\n",
        "(10000, 40)\n",
        "(10000, 40)\n",
        "(10000, 40)"
       ]
      },
      {
       "output_type": "stream",
       "stream": "stdout",
       "text": [
        "\n",
        "(10000, 40)\n",
        "(10000, 40)\n",
        "(10000, 40)\n",
        "(10000, 40)\n",
        "(10000, 40)"
       ]
      },
      {
       "output_type": "stream",
       "stream": "stdout",
       "text": [
        "\n",
        "(10000, 40)\n",
        "(10000, 40)\n",
        "(10000, 40)\n",
        "(10000, 40)\n",
        "(10000, 40)"
       ]
      },
      {
       "output_type": "stream",
       "stream": "stdout",
       "text": [
        "\n",
        "(10000, 40)\n",
        "(10000, 40)\n",
        "(10000, 40)\n",
        "(10000, 40)\n",
        "(10000, 40)"
       ]
      },
      {
       "output_type": "stream",
       "stream": "stdout",
       "text": [
        "\n",
        "(10000, 40)\n",
        "(10000, 40)\n",
        "(9999, 40)\n",
        "(7367, 40)\n",
        "(3228, 40)\n",
        "(414, 40)\n",
        "(0, 40)\n",
        "(0, 40)"
       ]
      },
      {
       "output_type": "stream",
       "stream": "stdout",
       "text": [
        "\n",
        "(0, 40)\n",
        "(0, 40)\n",
        "(0, 40)\n",
        "(0, 40)\n",
        "(0, 40)\n",
        "(0, 40)\n",
        "(0, 40)\n",
        "(0, 40)\n",
        "(0, 40)\n",
        "(0, 40)\n",
        "(0, 40)\n",
        "(0, 40)\n",
        "(0, 40)\n",
        "(0, 40)\n",
        "(0, 40)\n",
        "(0, 40)\n",
        "(0, 40)"
       ]
      },
      {
       "output_type": "stream",
       "stream": "stdout",
       "text": [
        "\n",
        "(0, 40)\n",
        "(0, 40)\n",
        "(0, 40)\n",
        "(0, 40)\n",
        "(0, 40)\n",
        "(0, 40)\n",
        "(0, 40)\n",
        "(0, 40)\n",
        "(0, 40)\n",
        "(0, 40)\n",
        "(0, 40)\n",
        "(0, 40)\n",
        "(0, 40)\n",
        "(0, 40)\n",
        "(0, 40)\n",
        "(0, 40)"
       ]
      },
      {
       "output_type": "stream",
       "stream": "stdout",
       "text": [
        "\n",
        "(0, 40)\n",
        "(0, 40)\n",
        "(0, 40)\n",
        "(0, 40)\n",
        "(0, 40)\n",
        "(0, 40)\n",
        "(0, 40)\n",
        "(0, 40)\n",
        "(0, 40)\n",
        "(0, 40)\n",
        "(0, 40)\n",
        "(0, 40)\n",
        "(0, 40)\n",
        "(0, 40)\n",
        "(0, 40)\n",
        "(0, 40)\n",
        "(0, 40)\n",
        "(0, 40)\n",
        "(0, 40)\n",
        "(0, 40)"
       ]
      },
      {
       "output_type": "stream",
       "stream": "stdout",
       "text": [
        "\n",
        "(0, 40)\n",
        "(0, 40)\n",
        "(0, 40)\n",
        "(5286, 40)\n",
        "(10000, 40)\n",
        "(10000, 40)\n",
        "(9509, 40)\n",
        "(6602, 40)"
       ]
      },
      {
       "output_type": "stream",
       "stream": "stdout",
       "text": [
        "\n",
        "(10000, 40)\n",
        "(10000, 40)\n",
        "(10000, 40)\n",
        "(10000, 40)\n",
        "(10000, 40)"
       ]
      },
      {
       "output_type": "stream",
       "stream": "stdout",
       "text": [
        "\n",
        "(10000, 40)\n",
        "(10000, 40)\n",
        "(10000, 40)\n",
        "(10000, 40)\n",
        "(9690, 40)\n",
        "(9340, 40)"
       ]
      },
      {
       "output_type": "stream",
       "stream": "stdout",
       "text": [
        "\n",
        "(10000, 40)\n",
        "(10000, 40)\n",
        "(10000, 40)\n",
        "(10000, 40)\n",
        "(10000, 40)"
       ]
      },
      {
       "output_type": "stream",
       "stream": "stdout",
       "text": [
        "\n",
        "(10000, 40)\n",
        "(10000, 40)\n",
        "(10000, 40)\n",
        "(10000, 40)\n",
        "(10000, 40)"
       ]
      },
      {
       "output_type": "stream",
       "stream": "stdout",
       "text": [
        "\n",
        "(10000, 40)\n",
        "(10000, 40)\n",
        "(10000, 40)\n",
        "(10000, 40)\n",
        "(10000, 40)\n",
        "(8202, 40)"
       ]
      },
      {
       "output_type": "stream",
       "stream": "stdout",
       "text": [
        "\n",
        "(9443, 40)\n",
        "(9560, 40)\n",
        "(6428, 40)\n",
        "(2228, 40)\n",
        "(0, 40)\n",
        "(0, 40)\n",
        "(0, 40)\n",
        "(0, 40)\n",
        "(0, 40)\n",
        "(0, 40)\n",
        "(0, 40)\n",
        "(0, 40)"
       ]
      },
      {
       "output_type": "stream",
       "stream": "stdout",
       "text": [
        "\n",
        "(0, 40)\n",
        "(0, 40)\n",
        "(0, 40)\n",
        "(0, 40)\n",
        "(0, 40)\n",
        "(0, 40)\n",
        "(0, 40)\n",
        "(0, 40)\n",
        "(0, 40)\n",
        "(0, 40)\n",
        "(0, 40)\n",
        "(0, 40)\n",
        "(0, 40)\n",
        "(0, 40)\n",
        "(0, 40)\n",
        "(0, 40)\n",
        "(0, 40)\n",
        "(0, 40)\n",
        "(0, 40)\n",
        "(0, 40)\n",
        "(0, 40)"
       ]
      },
      {
       "output_type": "stream",
       "stream": "stdout",
       "text": [
        "\n",
        "(0, 40)\n",
        "(0, 40)\n",
        "(0, 40)\n",
        "(0, 40)\n",
        "(0, 40)\n",
        "(0, 40)\n",
        "(0, 40)\n",
        "(0, 40)\n",
        "(0, 40)\n",
        "(0, 40)\n",
        "(0, 40)\n",
        "(0, 40)\n",
        "(0, 40)\n",
        "(0, 40)\n",
        "(0, 40)\n",
        "(0, 40)\n",
        "(0, 40)\n",
        "(0, 40)\n",
        "(0, 40)\n",
        "(0, 40)\n",
        "(0, 40)\n",
        "(0, 40)\n",
        "(0, 40)\n",
        "(0, 40)"
       ]
      },
      {
       "output_type": "stream",
       "stream": "stdout",
       "text": [
        "\n",
        "(0, 40)\n",
        "(0, 40)\n",
        "(0, 40)\n",
        "(387, 40)\n",
        "(9822, 40)\n",
        "(10000, 40)\n",
        "(10000, 40)\n",
        "(7118, 40)"
       ]
      },
      {
       "output_type": "stream",
       "stream": "stdout",
       "text": [
        "\n",
        "(8812, 40)\n",
        "(10000, 40)\n",
        "(10000, 40)\n",
        "(10000, 40)\n",
        "(10000, 40)\n",
        "(10000, 40)"
       ]
      },
      {
       "output_type": "stream",
       "stream": "stdout",
       "text": [
        "\n",
        "(10000, 40)\n",
        "(10000, 40)\n",
        "(9149, 40)\n",
        "(9117, 40)\n",
        "(7612, 40)"
       ]
      },
      {
       "output_type": "stream",
       "stream": "stdout",
       "text": [
        "\n",
        "(8795, 40)\n",
        "(10000, 40)\n",
        "(10000, 40)\n",
        "(10000, 40)\n",
        "(10000, 40)"
       ]
      },
      {
       "output_type": "stream",
       "stream": "stdout",
       "text": [
        "\n",
        "(10000, 40)\n",
        "(10000, 40)\n",
        "(10000, 40)\n",
        "(10000, 40)"
       ]
      },
      {
       "output_type": "stream",
       "stream": "stdout",
       "text": [
        "\n",
        "(10000, 40)\n",
        "(10000, 40)\n",
        "(10000, 40)\n",
        "(10000, 40)\n",
        "(10000, 40)"
       ]
      },
      {
       "output_type": "stream",
       "stream": "stdout",
       "text": [
        "\n",
        "(10000, 40)\n",
        "(9997, 40)\n",
        "(7982, 40)\n",
        "(8761, 40)\n",
        "(10000, 40)"
       ]
      },
      {
       "output_type": "stream",
       "stream": "stdout",
       "text": [
        "\n",
        "(9808, 40)\n",
        "(4464, 40)\n",
        "(19, 40)\n",
        "(0, 40)\n",
        "(0, 40)\n",
        "(0, 40)\n",
        "(0, 40)\n",
        "(0, 40)\n",
        "(0, 40)\n",
        "(0, 40)"
       ]
      },
      {
       "output_type": "stream",
       "stream": "stdout",
       "text": [
        "\n",
        "(0, 40)\n",
        "(0, 40)\n",
        "(0, 40)\n",
        "(0, 40)\n",
        "(0, 40)\n",
        "(0, 40)\n",
        "(0, 40)\n",
        "(0, 40)\n",
        "(0, 40)\n",
        "(0, 40)\n",
        "(0, 40)\n",
        "(0, 40)\n",
        "(0, 40)"
       ]
      },
      {
       "output_type": "stream",
       "stream": "stdout",
       "text": [
        "\n",
        "(0, 40)\n",
        "(0, 40)\n",
        "(0, 40)\n",
        "(0, 40)\n",
        "(0, 40)\n",
        "(0, 40)\n",
        "(0, 40)\n",
        "(0, 40)\n",
        "(0, 40)\n",
        "(0, 40)\n",
        "(0, 40)\n",
        "(0, 40)\n",
        "(0, 40)\n",
        "(0, 40)\n",
        "(0, 40)"
       ]
      },
      {
       "output_type": "stream",
       "stream": "stdout",
       "text": [
        "\n",
        "(0, 40)\n",
        "(0, 40)\n",
        "(0, 40)\n",
        "(0, 40)\n",
        "(0, 40)\n",
        "(0, 40)\n",
        "(0, 40)\n",
        "(0, 40)\n",
        "(0, 40)\n",
        "(0, 40)\n",
        "(0, 40)\n",
        "(0, 40)\n",
        "(0, 40)\n",
        "(0, 40)\n",
        "(0, 40)"
       ]
      },
      {
       "output_type": "stream",
       "stream": "stdout",
       "text": [
        "\n",
        "(0, 40)\n",
        "(0, 40)\n",
        "(0, 40)\n",
        "(0, 40)\n",
        "(0, 40)\n",
        "(5343, 40)\n",
        "(10000, 40)\n",
        "(10000, 40)\n",
        "(10000, 40)"
       ]
      },
      {
       "output_type": "stream",
       "stream": "stdout",
       "text": [
        "\n",
        "(6005, 40)\n",
        "(9820, 40)\n",
        "(10000, 40)\n",
        "(10000, 40)"
       ]
      },
      {
       "output_type": "stream",
       "stream": "stdout",
       "text": [
        "\n",
        "(10000, 40)\n",
        "(9635, 40)\n",
        "(10000, 40)\n",
        "(10000, 40)\n",
        "(10000, 40)"
       ]
      },
      {
       "output_type": "stream",
       "stream": "stdout",
       "text": [
        "\n",
        "(8121, 40)\n",
        "(7980, 40)\n",
        "(6203, 40)\n",
        "(9466, 40)\n",
        "(10000, 40)"
       ]
      },
      {
       "output_type": "stream",
       "stream": "stdout",
       "text": [
        "\n",
        "(10000, 40)\n",
        "(10000, 40)\n",
        "(9244, 40)\n",
        "(10000, 40)"
       ]
      },
      {
       "output_type": "stream",
       "stream": "stdout",
       "text": [
        "\n",
        "(10000, 40)\n",
        "(10000, 40)\n",
        "(10000, 40)\n",
        "(10000, 40)\n",
        "(10000, 40)"
       ]
      },
      {
       "output_type": "stream",
       "stream": "stdout",
       "text": [
        "\n",
        "(10000, 40)\n",
        "(10000, 40)\n",
        "(10000, 40)\n",
        "(10000, 40)\n",
        "(9989, 40)"
       ]
      },
      {
       "output_type": "stream",
       "stream": "stdout",
       "text": [
        "\n",
        "(8465, 40)\n",
        "(10000, 40)\n",
        "(10000, 40)\n",
        "(9852, 40)\n",
        "(5051, 40)"
       ]
      },
      {
       "output_type": "stream",
       "stream": "stdout",
       "text": [
        "\n",
        "(0, 40)\n",
        "(0, 40)\n",
        "(0, 40)\n",
        "(0, 40)\n",
        "(0, 40)\n",
        "(0, 40)\n",
        "(0, 40)\n",
        "(0, 40)\n",
        "(0, 40)\n",
        "(0, 40)\n",
        "(0, 40)\n",
        "(0, 40)\n",
        "(0, 40)\n",
        "(0, 40)\n",
        "(0, 40)\n",
        "(0, 40)\n",
        "(0, 40)"
       ]
      },
      {
       "output_type": "stream",
       "stream": "stdout",
       "text": [
        "\n",
        "(0, 40)\n",
        "(0, 40)\n",
        "(0, 40)\n",
        "(0, 40)\n",
        "(0, 40)\n",
        "(0, 40)\n",
        "(0, 40)\n",
        "(0, 40)\n",
        "(0, 40)\n",
        "(0, 40)\n",
        "(0, 40)\n",
        "(0, 40)\n",
        "(0, 40)\n",
        "(0, 40)\n",
        "(0, 40)\n",
        "(0, 40)\n",
        "(0, 40)\n",
        "(0, 40)\n",
        "(0, 40)"
       ]
      },
      {
       "output_type": "stream",
       "stream": "stdout",
       "text": [
        "\n",
        "(0, 40)\n",
        "(0, 40)\n",
        "(0, 40)\n",
        "(0, 40)\n",
        "(0, 40)\n",
        "(0, 40)\n",
        "(0, 40)\n",
        "(0, 40)\n",
        "(0, 40)\n",
        "(0, 40)\n",
        "(0, 40)\n",
        "(0, 40)\n",
        "(0, 40)\n",
        "(0, 40)\n",
        "(0, 40)\n",
        "(0, 40)\n",
        "(0, 40)\n",
        "(0, 40)\n",
        "(0, 40)\n",
        "(0, 40)\n",
        "(1835, 40)\n",
        "(8798, 40)"
       ]
      },
      {
       "output_type": "stream",
       "stream": "stdout",
       "text": [
        "\n",
        "(10000, 40)\n",
        "(9395, 40)\n",
        "(8042, 40)\n",
        "(10000, 40)\n",
        "(10000, 40)"
       ]
      },
      {
       "output_type": "stream",
       "stream": "stdout",
       "text": [
        "\n",
        "(10000, 40)\n",
        "(8186, 40)\n",
        "(9097, 40)\n",
        "(8669, 40)\n",
        "(10000, 40)"
       ]
      },
      {
       "output_type": "stream",
       "stream": "stdout",
       "text": [
        "\n",
        "(9677, 40)\n",
        "(8783, 40)\n",
        "(9942, 40)\n",
        "(8196, 40)\n",
        "(9925, 40)\n",
        "(10000, 40)"
       ]
      },
      {
       "output_type": "stream",
       "stream": "stdout",
       "text": [
        "\n",
        "(10000, 40)\n",
        "(8785, 40)\n",
        "(9888, 40)\n",
        "(10000, 40)\n",
        "(10000, 40)\n",
        "(10000, 40)"
       ]
      },
      {
       "output_type": "stream",
       "stream": "stdout",
       "text": [
        "\n",
        "(10000, 40)\n",
        "(10000, 40)\n",
        "(10000, 40)\n",
        "(10000, 40)\n",
        "(10000, 40)"
       ]
      },
      {
       "output_type": "stream",
       "stream": "stdout",
       "text": [
        "\n",
        "(10000, 40)\n",
        "(10000, 40)\n",
        "(8434, 40)\n",
        "(9988, 40)\n",
        "(9149, 40)"
       ]
      },
      {
       "output_type": "stream",
       "stream": "stdout",
       "text": [
        "\n",
        "(10000, 40)\n",
        "(9852, 40)\n",
        "(1703, 40)\n",
        "(3403, 40)\n",
        "(38, 40)\n",
        "(0, 40)\n",
        "(0, 40)"
       ]
      },
      {
       "output_type": "stream",
       "stream": "stdout",
       "text": [
        "\n",
        "(0, 40)\n",
        "(0, 40)\n",
        "(0, 40)\n",
        "(0, 40)\n",
        "(4, 40)\n",
        "(2332, 40)\n",
        "(3802, 40)\n",
        "(68, 40)\n",
        "(0, 40)\n",
        "(0, 40)\n",
        "(0, 40)\n",
        "(0, 40)\n",
        "(0, 40)"
       ]
      },
      {
       "output_type": "stream",
       "stream": "stdout",
       "text": [
        "\n",
        "(0, 40)\n",
        "(0, 40)\n",
        "(0, 40)\n",
        "(0, 40)\n",
        "(0, 40)\n",
        "(0, 40)\n",
        "(0, 40)\n",
        "(0, 40)\n",
        "(0, 40)\n",
        "(0, 40)\n",
        "(0, 40)\n",
        "(0, 40)\n",
        "(0, 40)\n",
        "(0, 40)\n",
        "(0, 40)"
       ]
      },
      {
       "output_type": "stream",
       "stream": "stdout",
       "text": [
        "\n",
        "(0, 40)\n",
        "(0, 40)\n",
        "(0, 40)\n",
        "(0, 40)\n",
        "(0, 40)\n",
        "(0, 40)\n",
        "(0, 40)\n",
        "(0, 40)\n",
        "(0, 40)\n",
        "(0, 40)\n",
        "(0, 40)\n",
        "(0, 40)\n",
        "(0, 40)\n",
        "(0, 40)\n",
        "(0, 40)\n",
        "(0, 40)"
       ]
      },
      {
       "output_type": "stream",
       "stream": "stdout",
       "text": [
        "\n",
        "(0, 40)\n",
        "(0, 40)\n",
        "(0, 40)\n",
        "(0, 40)\n",
        "(0, 40)\n",
        "(0, 40)\n",
        "(0, 40)\n",
        "(902, 40)\n",
        "(9591, 40)\n",
        "(10000, 40)\n",
        "(10000, 40)"
       ]
      },
      {
       "output_type": "stream",
       "stream": "stdout",
       "text": [
        "\n",
        "(9752, 40)\n",
        "(8573, 40)\n",
        "(10000, 40)\n",
        "(9966, 40)"
       ]
      },
      {
       "output_type": "stream",
       "stream": "stdout",
       "text": [
        "\n",
        "(8900, 40)\n",
        "(9158, 40)\n",
        "(9074, 40)\n",
        "(9514, 40)\n",
        "(10000, 40)"
       ]
      },
      {
       "output_type": "stream",
       "stream": "stdout",
       "text": [
        "\n",
        "(8929, 40)\n",
        "(10000, 40)\n",
        "(8493, 40)\n",
        "(9675, 40)\n",
        "(10000, 40)"
       ]
      },
      {
       "output_type": "stream",
       "stream": "stdout",
       "text": [
        "\n",
        "(10000, 40)\n",
        "(9995, 40)\n",
        "(8624, 40)\n",
        "(10000, 40)\n",
        "(10000, 40)"
       ]
      },
      {
       "output_type": "stream",
       "stream": "stdout",
       "text": [
        "\n",
        "(10000, 40)\n",
        "(10000, 40)\n",
        "(10000, 40)\n",
        "(10000, 40)\n",
        "(10000, 40)"
       ]
      },
      {
       "output_type": "stream",
       "stream": "stdout",
       "text": [
        "\n",
        "(10000, 40)\n",
        "(10000, 40)\n",
        "(9257, 40)\n",
        "(9049, 40)\n",
        "(9273, 40)\n",
        "(10000, 40)"
       ]
      },
      {
       "output_type": "stream",
       "stream": "stdout",
       "text": [
        "\n",
        "(9985, 40)\n",
        "(9407, 40)\n",
        "(4265, 40)\n",
        "(5427, 40)\n",
        "(8058, 40)\n",
        "(3596, 40)"
       ]
      },
      {
       "output_type": "stream",
       "stream": "stdout",
       "text": [
        "\n",
        "(216, 40)\n",
        "(0, 40)\n",
        "(0, 40)\n",
        "(0, 40)\n",
        "(689, 40)\n",
        "(8012, 40)\n",
        "(10000, 40)\n",
        "(10000, 40)\n",
        "(7591, 40)\n",
        "(1456, 40)"
       ]
      },
      {
       "output_type": "stream",
       "stream": "stdout",
       "text": [
        "\n",
        "(0, 40)\n",
        "(0, 40)\n",
        "(0, 40)\n",
        "(0, 40)\n",
        "(0, 40)\n",
        "(0, 40)\n",
        "(0, 40)\n",
        "(0, 40)\n",
        "(0, 40)\n",
        "(0, 40)\n",
        "(0, 40)\n",
        "(0, 40)\n",
        "(0, 40)\n",
        "(0, 40)\n",
        "(0, 40)\n",
        "(0, 40)\n",
        "(0, 40)\n",
        "(0, 40)\n",
        "(0, 40)\n",
        "(0, 40)\n",
        "(0, 40)"
       ]
      },
      {
       "output_type": "stream",
       "stream": "stdout",
       "text": [
        "\n",
        "(0, 40)\n",
        "(0, 40)\n",
        "(0, 40)\n",
        "(0, 40)\n",
        "(0, 40)\n",
        "(0, 40)\n",
        "(0, 40)\n",
        "(0, 40)\n",
        "(0, 40)\n",
        "(0, 40)\n",
        "(0, 40)\n",
        "(0, 40)\n",
        "(0, 40)\n",
        "(0, 40)\n",
        "(0, 40)\n",
        "(0, 40)\n",
        "(0, 40)\n",
        "(0, 40)\n",
        "(0, 40)"
       ]
      },
      {
       "output_type": "stream",
       "stream": "stdout",
       "text": [
        "\n",
        "(0, 40)\n",
        "(0, 40)\n",
        "(1681, 40)\n",
        "(9935, 40)\n",
        "(10000, 40)\n",
        "(10000, 40)\n",
        "(10000, 40)"
       ]
      },
      {
       "output_type": "stream",
       "stream": "stdout",
       "text": [
        "\n",
        "(8683, 40)\n",
        "(8690, 40)\n",
        "(10000, 40)\n",
        "(9750, 40)\n",
        "(8050, 40)"
       ]
      },
      {
       "output_type": "stream",
       "stream": "stdout",
       "text": [
        "\n",
        "(8726, 40)\n",
        "(9768, 40)\n",
        "(10000, 40)\n",
        "(10000, 40)"
       ]
      },
      {
       "output_type": "stream",
       "stream": "stdout",
       "text": [
        "\n",
        "(10000, 40)\n",
        "(9607, 40)\n",
        "(9369, 40)\n",
        "(9999, 40)"
       ]
      },
      {
       "output_type": "stream",
       "stream": "stdout",
       "text": [
        "\n",
        "(10000, 40)\n",
        "(10000, 40)\n",
        "(8182, 40)\n",
        "(10000, 40)"
       ]
      },
      {
       "output_type": "stream",
       "stream": "stdout",
       "text": [
        "\n",
        "(10000, 40)\n",
        "(10000, 40)\n",
        "(10000, 40)\n",
        "(10000, 40)"
       ]
      },
      {
       "output_type": "stream",
       "stream": "stdout",
       "text": [
        "\n",
        "(10000, 40)\n",
        "(10000, 40)\n",
        "(9756, 40)\n",
        "(10000, 40)\n",
        "(8289, 40)"
       ]
      },
      {
       "output_type": "stream",
       "stream": "stdout",
       "text": [
        "\n",
        "(10000, 40)\n",
        "(10000, 40)\n",
        "(9718, 40)\n",
        "(8766, 40)\n",
        "(9988, 40)"
       ]
      },
      {
       "output_type": "stream",
       "stream": "stdout",
       "text": [
        "\n",
        "(9729, 40)\n",
        "(1361, 40)\n",
        "(7256, 40)\n",
        "(10000, 40)\n",
        "(8952, 40)"
       ]
      },
      {
       "output_type": "stream",
       "stream": "stdout",
       "text": [
        "\n",
        "(4781, 40)\n",
        "(1787, 40)\n",
        "(3742, 40)\n",
        "(7144, 40)\n",
        "(10000, 40)\n",
        "(9697, 40)\n",
        "(9238, 40)"
       ]
      },
      {
       "output_type": "stream",
       "stream": "stdout",
       "text": [
        "\n",
        "(9822, 40)\n",
        "(9660, 40)\n",
        "(3618, 40)\n",
        "(122, 40)\n",
        "(0, 40)\n",
        "(0, 40)\n",
        "(0, 40)\n",
        "(0, 40)\n",
        "(0, 40)\n",
        "(0, 40)"
       ]
      },
      {
       "output_type": "stream",
       "stream": "stdout",
       "text": [
        "\n",
        "(0, 40)\n",
        "(0, 40)\n",
        "(0, 40)\n",
        "(0, 40)\n",
        "(0, 40)\n",
        "(0, 40)\n",
        "(0, 40)\n",
        "(0, 40)\n",
        "(0, 40)\n",
        "(0, 40)\n",
        "(0, 40)\n",
        "(0, 40)\n",
        "(0, 40)\n",
        "(0, 40)\n",
        "(0, 40)\n",
        "(0, 40)\n",
        "(0, 40)\n",
        "(0, 40)\n",
        "(0, 40)\n",
        "(0, 40)\n",
        "(0, 40)\n",
        "(0, 40)\n",
        "(0, 40)"
       ]
      },
      {
       "output_type": "stream",
       "stream": "stdout",
       "text": [
        "\n",
        "(0, 40)\n",
        "(0, 40)\n",
        "(0, 40)\n",
        "(0, 40)\n",
        "(0, 40)\n",
        "(0, 40)\n",
        "(0, 40)\n",
        "(0, 40)\n",
        "(0, 40)\n",
        "(0, 40)\n",
        "(0, 40)\n",
        "(869, 40)\n",
        "(9381, 40)\n",
        "(10000, 40)\n",
        "(10000, 40)"
       ]
      },
      {
       "output_type": "stream",
       "stream": "stdout",
       "text": [
        "\n",
        "(10000, 40)\n",
        "(10000, 40)\n",
        "(8058, 40)\n",
        "(9948, 40)\n",
        "(8914, 40)"
       ]
      },
      {
       "output_type": "stream",
       "stream": "stdout",
       "text": [
        "\n",
        "(9062, 40)\n",
        "(9374, 40)\n",
        "(8313, 40)\n",
        "(7836, 40)\n",
        "(8562, 40)"
       ]
      },
      {
       "output_type": "stream",
       "stream": "stdout",
       "text": [
        "\n",
        "(10000, 40)\n",
        "(8106, 40)\n",
        "(9835, 40)\n",
        "(9642, 40)\n",
        "(8985, 40)"
       ]
      },
      {
       "output_type": "stream",
       "stream": "stdout",
       "text": [
        "\n",
        "(9622, 40)\n",
        "(7776, 40)\n",
        "(9807, 40)\n",
        "(10000, 40)\n",
        "(9811, 40)\n",
        "(10000, 40)"
       ]
      },
      {
       "output_type": "stream",
       "stream": "stdout",
       "text": [
        "\n",
        "(10000, 40)\n",
        "(10000, 40)\n",
        "(10000, 40)\n",
        "(8984, 40)\n",
        "(8104, 40)"
       ]
      },
      {
       "output_type": "stream",
       "stream": "stdout",
       "text": [
        "\n",
        "(10000, 40)\n",
        "(10000, 40)\n",
        "(10000, 40)\n",
        "(10000, 40)\n",
        "(9704, 40)"
       ]
      },
      {
       "output_type": "stream",
       "stream": "stdout",
       "text": [
        "\n",
        "(10000, 40)\n",
        "(10000, 40)\n",
        "(7147, 40)\n",
        "(1037, 40)\n",
        "(7797, 40)\n",
        "(10000, 40)"
       ]
      },
      {
       "output_type": "stream",
       "stream": "stdout",
       "text": [
        "\n",
        "(10000, 40)\n",
        "(10000, 40)\n",
        "(10000, 40)\n",
        "(10000, 40)\n",
        "(10000, 40)"
       ]
      },
      {
       "output_type": "stream",
       "stream": "stdout",
       "text": [
        "\n",
        "(10000, 40)\n",
        "(10000, 40)\n",
        "(9175, 40)\n",
        "(9006, 40)\n",
        "(8769, 40)"
       ]
      },
      {
       "output_type": "stream",
       "stream": "stdout",
       "text": [
        "\n",
        "(6697, 40)\n",
        "(244, 40)\n",
        "(0, 40)\n",
        "(0, 40)\n",
        "(0, 40)\n",
        "(0, 40)\n",
        "(0, 40)\n",
        "(0, 40)\n",
        "(0, 40)\n",
        "(0, 40)\n",
        "(0, 40)\n",
        "(0, 40)\n",
        "(0, 40)\n",
        "(0, 40)\n",
        "(0, 40)"
       ]
      },
      {
       "output_type": "stream",
       "stream": "stdout",
       "text": [
        "\n",
        "(0, 40)\n",
        "(0, 40)\n",
        "(0, 40)\n",
        "(0, 40)\n",
        "(0, 40)\n",
        "(0, 40)\n",
        "(0, 40)\n",
        "(0, 40)\n",
        "(0, 40)\n",
        "(0, 40)\n",
        "(0, 40)\n",
        "(0, 40)\n",
        "(0, 40)\n",
        "(0, 40)\n",
        "(0, 40)\n",
        "(0, 40)\n",
        "(0, 40)\n",
        "(0, 40)\n",
        "(0, 40)"
       ]
      },
      {
       "output_type": "stream",
       "stream": "stdout",
       "text": [
        "\n",
        "(0, 40)\n",
        "(0, 40)\n",
        "(0, 40)\n",
        "(0, 40)\n",
        "(0, 40)\n",
        "(0, 40)\n",
        "(0, 40)\n",
        "(412, 40)\n",
        "(9617, 40)\n",
        "(10000, 40)\n",
        "(10000, 40)"
       ]
      },
      {
       "output_type": "stream",
       "stream": "stdout",
       "text": [
        "\n",
        "(10000, 40)\n",
        "(9959, 40)\n",
        "(7841, 40)\n",
        "(7107, 40)\n",
        "(9122, 40)"
       ]
      },
      {
       "output_type": "stream",
       "stream": "stdout",
       "text": [
        "\n",
        "(10000, 40)\n",
        "(10000, 40)\n",
        "(10000, 40)\n",
        "(10000, 40)\n",
        "(9296, 40)"
       ]
      },
      {
       "output_type": "stream",
       "stream": "stdout",
       "text": [
        "\n",
        "(7197, 40)\n",
        "(8612, 40)\n",
        "(8482, 40)\n",
        "(5117, 40)\n",
        "(9999, 40)\n",
        "(10000, 40)"
       ]
      },
      {
       "output_type": "stream",
       "stream": "stdout",
       "text": [
        "\n",
        "(10000, 40)\n",
        "(9268, 40)\n",
        "(10000, 40)\n",
        "(7824, 40)\n",
        "(9751, 40)\n",
        "(10000, 40)"
       ]
      },
      {
       "output_type": "stream",
       "stream": "stdout",
       "text": [
        "\n",
        "(10000, 40)\n",
        "(10000, 40)\n",
        "(9729, 40)\n",
        "(8328, 40)\n",
        "(7537, 40)\n",
        "(10000, 40)"
       ]
      },
      {
       "output_type": "stream",
       "stream": "stdout",
       "text": [
        "\n",
        "(10000, 40)\n",
        "(10000, 40)\n",
        "(10000, 40)\n",
        "(10000, 40)\n",
        "(10000, 40)"
       ]
      },
      {
       "output_type": "stream",
       "stream": "stdout",
       "text": [
        "\n",
        "(9955, 40)\n",
        "(4347, 40)\n",
        "(1036, 40)\n",
        "(9809, 40)\n",
        "(10000, 40)\n",
        "(10000, 40)"
       ]
      },
      {
       "output_type": "stream",
       "stream": "stdout",
       "text": [
        "\n",
        "(10000, 40)\n",
        "(10000, 40)\n",
        "(10000, 40)\n",
        "(10000, 40)\n",
        "(10000, 40)"
       ]
      },
      {
       "output_type": "stream",
       "stream": "stdout",
       "text": [
        "\n",
        "(10000, 40)\n",
        "(10000, 40)\n",
        "(9825, 40)\n",
        "(7873, 40)\n",
        "(4484, 40)\n",
        "(6, 40)\n",
        "(0, 40)"
       ]
      },
      {
       "output_type": "stream",
       "stream": "stdout",
       "text": [
        "\n",
        "(0, 40)\n",
        "(0, 40)\n",
        "(0, 40)\n",
        "(0, 40)\n",
        "(0, 40)\n",
        "(0, 40)\n",
        "(0, 40)\n",
        "(0, 40)\n",
        "(0, 40)\n",
        "(0, 40)\n",
        "(0, 40)\n",
        "(0, 40)\n",
        "(0, 40)\n",
        "(0, 40)\n",
        "(0, 40)\n",
        "(0, 40)\n",
        "(0, 40)\n",
        "(0, 40)\n",
        "(0, 40)\n",
        "(0, 40)\n",
        "(0, 40)\n",
        "(0, 40)\n",
        "(0, 40)\n",
        "(0, 40)"
       ]
      },
      {
       "output_type": "stream",
       "stream": "stdout",
       "text": [
        "\n",
        "(0, 40)\n",
        "(0, 40)\n",
        "(0, 40)\n",
        "(0, 40)\n",
        "(0, 40)\n",
        "(0, 40)\n",
        "(0, 40)\n",
        "(0, 40)\n",
        "(0, 40)\n",
        "(0, 40)\n",
        "(0, 40)\n",
        "(0, 40)\n",
        "(0, 40)\n",
        "(0, 40)\n",
        "(1409, 40)\n",
        "(5279, 40)\n",
        "(10000, 40)"
       ]
      },
      {
       "output_type": "stream",
       "stream": "stdout",
       "text": [
        "\n",
        "(10000, 40)\n",
        "(10000, 40)\n",
        "(10000, 40)\n",
        "(10000, 40)\n",
        "(10000, 40)"
       ]
      },
      {
       "output_type": "stream",
       "stream": "stdout",
       "text": [
        "\n",
        "(10000, 40)\n",
        "(10000, 40)\n",
        "(10000, 40)\n",
        "(10000, 40)\n",
        "(10000, 40)"
       ]
      },
      {
       "output_type": "stream",
       "stream": "stdout",
       "text": [
        "\n",
        "(9925, 40)\n",
        "(10000, 40)\n",
        "(10000, 40)\n",
        "(7065, 40)\n",
        "(10000, 40)"
       ]
      },
      {
       "output_type": "stream",
       "stream": "stdout",
       "text": [
        "\n",
        "(10000, 40)\n",
        "(10000, 40)\n",
        "(10000, 40)\n",
        "(9663, 40)\n",
        "(7130, 40)\n",
        "(9250, 40)"
       ]
      },
      {
       "output_type": "stream",
       "stream": "stdout",
       "text": [
        "\n",
        "(10000, 40)\n",
        "(10000, 40)\n",
        "(10000, 40)\n",
        "(9772, 40)\n",
        "(9463, 40)"
       ]
      },
      {
       "output_type": "stream",
       "stream": "stdout",
       "text": [
        "\n",
        "(7858, 40)\n",
        "(8607, 40)\n",
        "(10000, 40)\n",
        "(10000, 40)\n",
        "(10000, 40)"
       ]
      },
      {
       "output_type": "stream",
       "stream": "stdout",
       "text": [
        "\n",
        "(10000, 40)\n",
        "(10000, 40)\n",
        "(10000, 40)\n",
        "(10000, 40)\n",
        "(3018, 40)"
       ]
      },
      {
       "output_type": "stream",
       "stream": "stdout",
       "text": [
        "\n",
        "(1270, 40)\n",
        "(9235, 40)\n",
        "(10000, 40)\n",
        "(10000, 40)\n",
        "(10000, 40)"
       ]
      },
      {
       "output_type": "stream",
       "stream": "stdout",
       "text": [
        "\n",
        "(10000, 40)\n",
        "(10000, 40)\n",
        "(10000, 40)\n",
        "(9894, 40)\n",
        "(9696, 40)"
       ]
      },
      {
       "output_type": "stream",
       "stream": "stdout",
       "text": [
        "\n",
        "(10000, 40)\n",
        "(10000, 40)\n",
        "(10000, 40)\n",
        "(6409, 40)\n",
        "(624, 40)\n",
        "(0, 40)"
       ]
      },
      {
       "output_type": "stream",
       "stream": "stdout",
       "text": [
        "\n",
        "(0, 40)\n",
        "(0, 40)\n",
        "(0, 40)\n",
        "(0, 40)\n",
        "(0, 40)\n",
        "(0, 40)\n",
        "(0, 40)\n",
        "(0, 40)\n",
        "(0, 40)\n",
        "(0, 40)\n",
        "(0, 40)\n",
        "(0, 40)\n",
        "(0, 40)\n",
        "(0, 40)\n",
        "(0, 40)\n",
        "(0, 40)\n",
        "(0, 40)\n",
        "(0, 40)\n",
        "(0, 40)\n",
        "(0, 40)\n",
        "(0, 40)\n",
        "(0, 40)"
       ]
      },
      {
       "output_type": "stream",
       "stream": "stdout",
       "text": [
        "\n",
        "(0, 40)\n",
        "(0, 40)\n",
        "(0, 40)\n",
        "(0, 40)\n",
        "(0, 40)\n",
        "(0, 40)\n",
        "(0, 40)\n",
        "(0, 40)\n",
        "(0, 40)\n",
        "(0, 40)\n",
        "(0, 40)\n",
        "(0, 40)\n",
        "(0, 40)\n",
        "(0, 40)\n",
        "(0, 40)\n",
        "(0, 40)\n",
        "(8, 40)\n",
        "(6894, 40)"
       ]
      },
      {
       "output_type": "stream",
       "stream": "stdout",
       "text": [
        "\n",
        "(10000, 40)\n",
        "(10000, 40)\n",
        "(10000, 40)\n",
        "(10000, 40)\n",
        "(10000, 40)"
       ]
      },
      {
       "output_type": "stream",
       "stream": "stdout",
       "text": [
        "\n",
        "(10000, 40)\n",
        "(10000, 40)\n",
        "(10000, 40)\n",
        "(10000, 40)\n",
        "(10000, 40)"
       ]
      },
      {
       "output_type": "stream",
       "stream": "stdout",
       "text": [
        "\n",
        "(9458, 40)\n",
        "(10000, 40)\n",
        "(10000, 40)\n",
        "(6685, 40)\n",
        "(10000, 40)"
       ]
      },
      {
       "output_type": "stream",
       "stream": "stdout",
       "text": [
        "\n",
        "(10000, 40)\n",
        "(10000, 40)\n",
        "(10000, 40)\n",
        "(10000, 40)\n",
        "(9126, 40)"
       ]
      },
      {
       "output_type": "stream",
       "stream": "stdout",
       "text": [
        "\n",
        "(7420, 40)\n",
        "(10000, 40)\n",
        "(10000, 40)"
       ]
      },
      {
       "output_type": "stream",
       "stream": "stdout",
       "text": [
        "\n",
        "(10000, 40)\n",
        "(9816, 40)\n",
        "(5142, 40)\n",
        "(9629, 40)\n",
        "(9162, 40)"
       ]
      },
      {
       "output_type": "stream",
       "stream": "stdout",
       "text": [
        "\n",
        "(9421, 40)\n",
        "(10000, 40)\n",
        "(10000, 40)\n",
        "(10000, 40)\n",
        "(10000, 40)"
       ]
      },
      {
       "output_type": "stream",
       "stream": "stdout",
       "text": [
        "\n",
        "(10000, 40)\n",
        "(10000, 40)\n",
        "(9794, 40)\n",
        "(4031, 40)\n",
        "(2540, 40)\n",
        "(9663, 40)"
       ]
      },
      {
       "output_type": "stream",
       "stream": "stdout",
       "text": [
        "\n",
        "(10000, 40)\n",
        "(10000, 40)\n",
        "(10000, 40)\n",
        "(10000, 40)"
       ]
      },
      {
       "output_type": "stream",
       "stream": "stdout",
       "text": [
        "\n",
        "(10000, 40)\n",
        "(10000, 40)\n",
        "(9583, 40)\n",
        "(8904, 40)\n",
        "(7763, 40)"
       ]
      },
      {
       "output_type": "stream",
       "stream": "stdout",
       "text": [
        "\n",
        "(9924, 40)\n",
        "(10000, 40)\n",
        "(7577, 40)\n",
        "(3266, 40)\n",
        "(0, 40)\n",
        "(0, 40)"
       ]
      },
      {
       "output_type": "stream",
       "stream": "stdout",
       "text": [
        "\n",
        "(0, 40)\n",
        "(0, 40)\n",
        "(0, 40)\n",
        "(0, 40)\n",
        "(0, 40)\n",
        "(0, 40)\n",
        "(0, 40)\n",
        "(0, 40)\n",
        "(0, 40)\n",
        "(0, 40)\n",
        "(0, 40)\n",
        "(0, 40)\n",
        "(0, 40)\n",
        "(0, 40)\n",
        "(0, 40)\n",
        "(0, 40)"
       ]
      },
      {
       "output_type": "stream",
       "stream": "stdout",
       "text": [
        "\n",
        "(0, 40)\n",
        "(0, 40)\n",
        "(0, 40)\n",
        "(0, 40)\n",
        "(0, 40)\n",
        "(0, 40)\n",
        "(0, 40)\n",
        "(0, 40)\n",
        "(0, 40)\n",
        "(0, 40)\n",
        "(0, 40)\n",
        "(0, 40)\n",
        "(0, 40)\n",
        "(0, 40)\n",
        "(0, 40)\n",
        "(0, 40)\n",
        "(0, 40)\n",
        "(0, 40)\n",
        "(0, 40)\n",
        "(0, 40)\n",
        "(0, 40)\n",
        "(10, 40)"
       ]
      },
      {
       "output_type": "stream",
       "stream": "stdout",
       "text": [
        "\n",
        "(6975, 40)\n",
        "(10000, 40)\n",
        "(10000, 40)\n",
        "(10000, 40)\n",
        "(10000, 40)\n",
        "(10000, 40)"
       ]
      },
      {
       "output_type": "stream",
       "stream": "stdout",
       "text": [
        "\n",
        "(10000, 40)\n",
        "(10000, 40)\n",
        "(10000, 40)\n",
        "(10000, 40)\n",
        "(10000, 40)"
       ]
      },
      {
       "output_type": "stream",
       "stream": "stdout",
       "text": [
        "\n",
        "(9909, 40)\n",
        "(9591, 40)\n",
        "(8697, 40)\n",
        "(10000, 40)\n",
        "(10000, 40)"
       ]
      },
      {
       "output_type": "stream",
       "stream": "stdout",
       "text": [
        "\n",
        "(10000, 40)\n",
        "(10000, 40)\n",
        "(10000, 40)\n",
        "(9695, 40)\n",
        "(7311, 40)"
       ]
      },
      {
       "output_type": "stream",
       "stream": "stdout",
       "text": [
        "\n",
        "(8145, 40)\n",
        "(10000, 40)\n",
        "(10000, 40)\n",
        "(10000, 40)\n",
        "(8044, 40)\n",
        "(6423, 40)"
       ]
      },
      {
       "output_type": "stream",
       "stream": "stdout",
       "text": [
        "\n",
        "(9720, 40)\n",
        "(9033, 40)\n",
        "(9551, 40)\n",
        "(10000, 40)\n",
        "(10000, 40)"
       ]
      },
      {
       "output_type": "stream",
       "stream": "stdout",
       "text": [
        "\n",
        "(10000, 40)\n",
        "(10000, 40)\n",
        "(10000, 40)\n",
        "(10000, 40)"
       ]
      },
      {
       "output_type": "stream",
       "stream": "stdout",
       "text": [
        "\n",
        "(9989, 40)\n",
        "(8183, 40)\n",
        "(2150, 40)\n",
        "(9448, 40)\n",
        "(10000, 40)"
       ]
      },
      {
       "output_type": "stream",
       "stream": "stdout",
       "text": [
        "\n",
        "(10000, 40)\n",
        "(10000, 40)\n",
        "(9605, 40)\n",
        "(9896, 40)\n",
        "(10000, 40)"
       ]
      },
      {
       "output_type": "stream",
       "stream": "stdout",
       "text": [
        "\n",
        "(10000, 40)\n",
        "(9276, 40)\n",
        "(7136, 40)\n",
        "(4103, 40)\n",
        "(1724, 40)"
       ]
      },
      {
       "output_type": "stream",
       "stream": "stdout",
       "text": [
        "\n",
        "(7799, 40)\n",
        "(3998, 40)\n",
        "(7, 40)\n",
        "(0, 40)\n",
        "(0, 40)\n",
        "(0, 40)\n",
        "(0, 40)\n",
        "(0, 40)\n",
        "(0, 40)\n",
        "(0, 40)\n",
        "(0, 40)\n",
        "(0, 40)\n",
        "(0, 40)\n",
        "(0, 40)\n",
        "(0, 40)\n",
        "(0, 40)"
       ]
      },
      {
       "output_type": "stream",
       "stream": "stdout",
       "text": [
        "\n",
        "(0, 40)\n",
        "(0, 40)\n",
        "(0, 40)\n",
        "(0, 40)\n",
        "(0, 40)\n",
        "(0, 40)\n",
        "(0, 40)\n",
        "(0, 40)\n",
        "(0, 40)\n",
        "(0, 40)\n",
        "(0, 40)\n",
        "(0, 40)\n",
        "(0, 40)\n",
        "(0, 40)\n",
        "(0, 40)\n",
        "(0, 40)\n",
        "(0, 40)\n",
        "(0, 40)"
       ]
      },
      {
       "output_type": "stream",
       "stream": "stdout",
       "text": [
        "\n",
        "(0, 40)\n",
        "(0, 40)\n",
        "(0, 40)\n",
        "(0, 40)\n",
        "(0, 40)\n",
        "(0, 40)\n",
        "(0, 40)\n",
        "(967, 40)\n",
        "(9228, 40)\n",
        "(10000, 40)\n",
        "(10000, 40)\n",
        "(10000, 40)"
       ]
      },
      {
       "output_type": "stream",
       "stream": "stdout",
       "text": [
        "\n",
        "(9969, 40)\n",
        "(10000, 40)\n",
        "(10000, 40)\n",
        "(10000, 40)\n",
        "(10000, 40)"
       ]
      },
      {
       "output_type": "stream",
       "stream": "stdout",
       "text": [
        "\n",
        "(9920, 40)\n",
        "(8867, 40)\n",
        "(8030, 40)\n",
        "(9991, 40)\n",
        "(9997, 40)"
       ]
      },
      {
       "output_type": "stream",
       "stream": "stdout",
       "text": [
        "\n",
        "(10000, 40)\n",
        "(10000, 40)\n",
        "(10000, 40)\n",
        "(10000, 40)\n",
        "(10000, 40)"
       ]
      },
      {
       "output_type": "stream",
       "stream": "stdout",
       "text": [
        "\n",
        "(10000, 40)\n",
        "(8099, 40)\n",
        "(9757, 40)\n",
        "(10000, 40)\n",
        "(10000, 40)"
       ]
      },
      {
       "output_type": "stream",
       "stream": "stdout",
       "text": [
        "\n",
        "(9684, 40)\n",
        "(8614, 40)\n",
        "(8019, 40)\n",
        "(7588, 40)\n",
        "(9943, 40)"
       ]
      },
      {
       "output_type": "stream",
       "stream": "stdout",
       "text": [
        "\n",
        "(9087, 40)\n",
        "(9819, 40)\n",
        "(10000, 40)\n",
        "(10000, 40)\n",
        "(10000, 40)"
       ]
      },
      {
       "output_type": "stream",
       "stream": "stdout",
       "text": [
        "\n",
        "(9992, 40)\n",
        "(9306, 40)\n",
        "(7175, 40)\n",
        "(9, 40)\n",
        "(3712, 40)\n",
        "(9749, 40)\n",
        "(10000, 40)"
       ]
      },
      {
       "output_type": "stream",
       "stream": "stdout",
       "text": [
        "\n",
        "(10000, 40)\n",
        "(10000, 40)\n",
        "(10000, 40)\n",
        "(10000, 40)\n",
        "(10000, 40)"
       ]
      },
      {
       "output_type": "stream",
       "stream": "stdout",
       "text": [
        "\n",
        "(8876, 40)\n",
        "(9946, 40)\n",
        "(2290, 40)\n",
        "(2112, 40)\n",
        "(3674, 40)\n",
        "(8831, 40)\n",
        "(6733, 40)"
       ]
      },
      {
       "output_type": "stream",
       "stream": "stdout",
       "text": [
        "\n",
        "(1083, 40)\n",
        "(0, 40)\n",
        "(0, 40)\n",
        "(0, 40)\n",
        "(0, 40)\n",
        "(0, 40)\n",
        "(0, 40)\n",
        "(0, 40)\n",
        "(0, 40)\n",
        "(0, 40)\n",
        "(0, 40)\n",
        "(0, 40)\n",
        "(0, 40)\n",
        "(0, 40)\n",
        "(0, 40)\n",
        "(0, 40)\n",
        "(0, 40)\n",
        "(0, 40)\n",
        "(0, 40)\n",
        "(0, 40)\n",
        "(0, 40)\n",
        "(0, 40)"
       ]
      },
      {
       "output_type": "stream",
       "stream": "stdout",
       "text": [
        "\n",
        "(0, 40)\n",
        "(0, 40)\n",
        "(0, 40)\n",
        "(0, 40)\n",
        "(0, 40)\n",
        "(0, 40)\n",
        "(0, 40)\n",
        "(0, 40)\n",
        "(0, 40)\n",
        "(0, 40)\n",
        "(0, 40)\n",
        "(0, 40)\n",
        "(0, 40)\n",
        "(0, 40)\n",
        "(0, 40)\n",
        "(0, 40)\n",
        "(0, 40)\n",
        "(4030, 40)\n",
        "(10000, 40)"
       ]
      },
      {
       "output_type": "stream",
       "stream": "stdout",
       "text": [
        "\n",
        "(10000, 40)\n",
        "(10000, 40)\n",
        "(9062, 40)\n",
        "(8721, 40)\n",
        "(10000, 40)"
       ]
      },
      {
       "output_type": "stream",
       "stream": "stdout",
       "text": [
        "\n",
        "(10000, 40)\n",
        "(10000, 40)\n",
        "(10000, 40)\n",
        "(10000, 40)\n",
        "(8663, 40)"
       ]
      },
      {
       "output_type": "stream",
       "stream": "stdout",
       "text": [
        "\n",
        "(7551, 40)\n",
        "(9802, 40)\n",
        "(9999, 40)\n",
        "(10000, 40)\n",
        "(10000, 40)"
       ]
      },
      {
       "output_type": "stream",
       "stream": "stdout",
       "text": [
        "\n",
        "(10000, 40)\n",
        "(10000, 40)\n",
        "(10000, 40)\n",
        "(9989, 40)\n",
        "(8350, 40)\n",
        "(7660, 40)"
       ]
      },
      {
       "output_type": "stream",
       "stream": "stdout",
       "text": [
        "\n",
        "(9656, 40)\n",
        "(10000, 40)\n",
        "(10000, 40)\n",
        "(8468, 40)\n",
        "(7288, 40)\n",
        "(7150, 40)"
       ]
      },
      {
       "output_type": "stream",
       "stream": "stdout",
       "text": [
        "\n",
        "(9917, 40)\n",
        "(9158, 40)\n",
        "(9711, 40)\n",
        "(10000, 40)\n",
        "(10000, 40)"
       ]
      },
      {
       "output_type": "stream",
       "stream": "stdout",
       "text": [
        "\n",
        "(10000, 40)\n",
        "(10000, 40)\n",
        "(9422, 40)\n",
        "(2073, 40)\n",
        "(0, 40)\n",
        "(2761, 40)\n",
        "(7948, 40)"
       ]
      },
      {
       "output_type": "stream",
       "stream": "stdout",
       "text": [
        "\n",
        "(9723, 40)\n",
        "(10000, 40)\n",
        "(10000, 40)\n",
        "(10000, 40)\n",
        "(8382, 40)"
       ]
      },
      {
       "output_type": "stream",
       "stream": "stdout",
       "text": [
        "\n",
        "(4623, 40)\n",
        "(1695, 40)\n",
        "(0, 40)\n",
        "(7981, 40)\n",
        "(8403, 40)\n",
        "(7015, 40)\n",
        "(9829, 40)"
       ]
      },
      {
       "output_type": "stream",
       "stream": "stdout",
       "text": [
        "\n",
        "(7260, 40)\n",
        "(3441, 40)\n",
        "(375, 40)\n",
        "(0, 40)\n",
        "(0, 40)\n",
        "(0, 40)\n",
        "(0, 40)\n",
        "(0, 40)\n",
        "(0, 40)\n",
        "(0, 40)\n",
        "(0, 40)\n",
        "(0, 40)\n",
        "(0, 40)\n",
        "(0, 40)"
       ]
      },
      {
       "output_type": "stream",
       "stream": "stdout",
       "text": [
        "\n",
        "(0, 40)\n",
        "(0, 40)\n",
        "(0, 40)\n",
        "(0, 40)\n",
        "(0, 40)\n",
        "(0, 40)\n",
        "(0, 40)\n",
        "(0, 40)\n",
        "(0, 40)\n",
        "(0, 40)\n",
        "(0, 40)\n",
        "(0, 40)\n",
        "(0, 40)\n",
        "(0, 40)\n",
        "(0, 40)\n",
        "(0, 40)\n",
        "(0, 40)\n",
        "(0, 40)\n",
        "(0, 40)"
       ]
      },
      {
       "output_type": "stream",
       "stream": "stdout",
       "text": [
        "\n",
        "(0, 40)\n",
        "(0, 40)\n",
        "(0, 40)\n",
        "(0, 40)\n",
        "(0, 40)\n",
        "(0, 40)\n",
        "(3889, 40)\n",
        "(10000, 40)\n",
        "(10000, 40)\n",
        "(10000, 40)\n",
        "(10000, 40)"
       ]
      },
      {
       "output_type": "stream",
       "stream": "stdout",
       "text": [
        "\n",
        "(8341, 40)\n",
        "(6692, 40)\n",
        "(10000, 40)\n",
        "(10000, 40)\n",
        "(10000, 40)\n",
        "(10000, 40)"
       ]
      },
      {
       "output_type": "stream",
       "stream": "stdout",
       "text": [
        "\n",
        "(10000, 40)\n",
        "(8903, 40)\n",
        "(8370, 40)\n",
        "(10000, 40)\n",
        "(10000, 40)\n",
        "(10000, 40)"
       ]
      },
      {
       "output_type": "stream",
       "stream": "stdout",
       "text": [
        "\n",
        "(10000, 40)\n",
        "(10000, 40)\n",
        "(10000, 40)\n",
        "(9881, 40)"
       ]
      },
      {
       "output_type": "stream",
       "stream": "stdout",
       "text": [
        "\n",
        "(8568, 40)\n",
        "(10000, 40)\n",
        "(7869, 40)\n",
        "(8809, 40)\n",
        "(10000, 40)\n",
        "(10000, 40)"
       ]
      },
      {
       "output_type": "stream",
       "stream": "stdout",
       "text": [
        "\n",
        "(9785, 40)\n",
        "(6805, 40)\n",
        "(8142, 40)\n",
        "(9815, 40)\n",
        "(9390, 40)\n",
        "(9978, 40)"
       ]
      },
      {
       "output_type": "stream",
       "stream": "stdout",
       "text": [
        "\n",
        "(10000, 40)\n",
        "(10000, 40)\n",
        "(10000, 40)\n",
        "(10000, 40)\n",
        "(7013, 40)"
       ]
      },
      {
       "output_type": "stream",
       "stream": "stdout",
       "text": [
        "\n",
        "(1459, 40)\n",
        "(53, 40)\n",
        "(1082, 40)\n",
        "(5077, 40)\n",
        "(9313, 40)\n",
        "(10000, 40)\n",
        "(10000, 40)\n",
        "(1422, 40)\n",
        "(0, 40)\n",
        "(0, 40)"
       ]
      },
      {
       "output_type": "stream",
       "stream": "stdout",
       "text": [
        "\n",
        "(2892, 40)\n",
        "(9844, 40)\n",
        "(9475, 40)\n",
        "(4822, 40)\n",
        "(6674, 40)\n",
        "(2227, 40)\n",
        "(0, 40)\n",
        "(3306, 40)\n",
        "(7381, 40)"
       ]
      },
      {
       "output_type": "stream",
       "stream": "stdout",
       "text": [
        "\n",
        "(1168, 40)\n",
        "(0, 40)\n",
        "(0, 40)\n",
        "(0, 40)\n",
        "(0, 40)\n",
        "(0, 40)\n",
        "(0, 40)\n",
        "(0, 40)\n",
        "(0, 40)\n",
        "(0, 40)\n",
        "(0, 40)\n",
        "(0, 40)\n",
        "(0, 40)\n",
        "(0, 40)\n",
        "(0, 40)\n",
        "(0, 40)\n",
        "(0, 40)\n",
        "(0, 40)"
       ]
      },
      {
       "output_type": "stream",
       "stream": "stdout",
       "text": [
        "\n",
        "(0, 40)\n",
        "(0, 40)\n",
        "(0, 40)\n",
        "(0, 40)\n",
        "(0, 40)\n",
        "(0, 40)\n",
        "(0, 40)\n",
        "(0, 40)\n",
        "(0, 40)\n",
        "(0, 40)\n",
        "(0, 40)\n",
        "(0, 40)\n",
        "(0, 40)\n",
        "(0, 40)\n",
        "(0, 40)\n",
        "(0, 40)\n",
        "(0, 40)\n",
        "(5072, 40)\n",
        "(10000, 40)"
       ]
      },
      {
       "output_type": "stream",
       "stream": "stdout",
       "text": [
        "\n",
        "(10000, 40)\n",
        "(10000, 40)\n",
        "(10000, 40)\n",
        "(10000, 40)\n",
        "(8799, 40)"
       ]
      },
      {
       "output_type": "stream",
       "stream": "stdout",
       "text": [
        "\n",
        "(7488, 40)\n",
        "(10000, 40)\n",
        "(10000, 40)\n",
        "(9976, 40)\n",
        "(10000, 40)"
       ]
      },
      {
       "output_type": "stream",
       "stream": "stdout",
       "text": [
        "\n",
        "(10000, 40)\n",
        "(6923, 40)\n",
        "(10000, 40)\n",
        "(10000, 40)\n",
        "(10000, 40)\n",
        "(10000, 40)"
       ]
      },
      {
       "output_type": "stream",
       "stream": "stdout",
       "text": [
        "\n",
        "(10000, 40)\n",
        "(10000, 40)\n",
        "(10000, 40)\n",
        "(10000, 40)\n",
        "(10000, 40)"
       ]
      },
      {
       "output_type": "stream",
       "stream": "stdout",
       "text": [
        "\n",
        "(10000, 40)\n",
        "(8553, 40)\n",
        "(8943, 40)\n",
        "(8666, 40)\n",
        "(10000, 40)"
       ]
      },
      {
       "output_type": "stream",
       "stream": "stdout",
       "text": [
        "\n",
        "(10000, 40)\n",
        "(9810, 40)\n",
        "(8627, 40)\n",
        "(9994, 40)\n",
        "(10000, 40)"
       ]
      },
      {
       "output_type": "stream",
       "stream": "stdout",
       "text": [
        "\n",
        "(7235, 40)\n",
        "(7271, 40)\n",
        "(6645, 40)\n",
        "(7333, 40)\n",
        "(6210, 40)\n",
        "(10000, 40)"
       ]
      },
      {
       "output_type": "stream",
       "stream": "stdout",
       "text": [
        "\n",
        "(7764, 40)\n",
        "(3350, 40)\n",
        "(0, 40)\n",
        "(822, 40)\n",
        "(4975, 40)\n",
        "(3498, 40)\n",
        "(66, 40)\n",
        "(30, 40)\n",
        "(5241, 40)\n",
        "(9961, 40)"
       ]
      },
      {
       "output_type": "stream",
       "stream": "stdout",
       "text": [
        "\n",
        "(10000, 40)\n",
        "(9675, 40)\n",
        "(9835, 40)\n",
        "(9697, 40)\n",
        "(6522, 40)\n",
        "(118, 40)"
       ]
      },
      {
       "output_type": "stream",
       "stream": "stdout",
       "text": [
        "\n",
        "(0, 40)\n",
        "(4184, 40)\n",
        "(3618, 40)\n",
        "(0, 40)\n",
        "(0, 40)\n",
        "(0, 40)\n",
        "(0, 40)\n",
        "(0, 40)\n",
        "(0, 40)\n",
        "(0, 40)\n",
        "(0, 40)\n",
        "(0, 40)\n",
        "(0, 40)\n",
        "(0, 40)\n",
        "(0, 40)\n",
        "(0, 40)\n",
        "(0, 40)\n",
        "(0, 40)\n",
        "(0, 40)\n",
        "(0, 40)"
       ]
      },
      {
       "output_type": "stream",
       "stream": "stdout",
       "text": [
        "\n",
        "(0, 40)\n",
        "(0, 40)\n",
        "(0, 40)\n",
        "(0, 40)\n",
        "(0, 40)\n",
        "(0, 40)\n",
        "(0, 40)\n",
        "(0, 40)\n",
        "(0, 40)\n",
        "(0, 40)\n",
        "(0, 40)\n",
        "(0, 40)\n",
        "(0, 40)\n",
        "(0, 40)\n",
        "(0, 40)\n",
        "(0, 40)\n",
        "(912, 40)\n",
        "(9932, 40)\n",
        "(10000, 40)"
       ]
      },
      {
       "output_type": "stream",
       "stream": "stdout",
       "text": [
        "\n",
        "(10000, 40)\n",
        "(10000, 40)\n",
        "(10000, 40)\n",
        "(10000, 40)\n",
        "(9028, 40)"
       ]
      },
      {
       "output_type": "stream",
       "stream": "stdout",
       "text": [
        "\n",
        "(7211, 40)\n",
        "(8355, 40)\n",
        "(10000, 40)\n",
        "(10000, 40)\n",
        "(10000, 40)"
       ]
      },
      {
       "output_type": "stream",
       "stream": "stdout",
       "text": [
        "\n",
        "(10000, 40)\n",
        "(7145, 40)\n",
        "(9957, 40)\n",
        "(10000, 40)\n",
        "(10000, 40)\n",
        "(10000, 40)"
       ]
      },
      {
       "output_type": "stream",
       "stream": "stdout",
       "text": [
        "\n",
        "(10000, 40)\n",
        "(10000, 40)\n",
        "(10000, 40)\n",
        "(10000, 40)\n",
        "(10000, 40)"
       ]
      },
      {
       "output_type": "stream",
       "stream": "stdout",
       "text": [
        "\n",
        "(10000, 40)\n",
        "(10000, 40)\n",
        "(10000, 40)\n",
        "(9839, 40)\n",
        "(8407, 40)"
       ]
      },
      {
       "output_type": "stream",
       "stream": "stdout",
       "text": [
        "\n",
        "(10000, 40)\n",
        "(10000, 40)\n",
        "(9605, 40)\n",
        "(8456, 40)\n",
        "(6334, 40)"
       ]
      },
      {
       "output_type": "stream",
       "stream": "stdout",
       "text": [
        "\n",
        "(9679, 40)\n",
        "(9551, 40)\n",
        "(9187, 40)\n",
        "(8874, 40)\n",
        "(6407, 40)"
       ]
      },
      {
       "output_type": "stream",
       "stream": "stdout",
       "text": [
        "\n",
        "(10000, 40)\n",
        "(10000, 40)\n",
        "(9979, 40)\n",
        "(3976, 40)"
       ]
      },
      {
       "output_type": "stream",
       "stream": "stdout",
       "text": [
        "\n",
        "(576, 40)\n",
        "(141, 40)\n",
        "(0, 40)\n",
        "(615, 40)\n",
        "(3668, 40)\n",
        "(10000, 40)\n",
        "(10000, 40)\n",
        "(9456, 40)"
       ]
      },
      {
       "output_type": "stream",
       "stream": "stdout",
       "text": [
        "\n",
        "(9865, 40)\n",
        "(9269, 40)\n",
        "(8922, 40)"
       ]
      },
      {
       "output_type": "stream",
       "stream": "stdout",
       "text": [
        "\n",
        "(9308, 40)\n",
        "(9288, 40)\n",
        "(5885, 40)\n",
        "(3231, 40)\n",
        "(4310, 40)\n",
        "(0, 40)\n",
        "(0, 40)\n",
        "(0, 40)\n",
        "(0, 40)"
       ]
      },
      {
       "output_type": "stream",
       "stream": "stdout",
       "text": [
        "\n",
        "(0, 40)\n",
        "(0, 40)\n",
        "(0, 40)\n",
        "(0, 40)\n",
        "(0, 40)\n",
        "(0, 40)\n",
        "(0, 40)\n",
        "(0, 40)\n",
        "(0, 40)\n",
        "(0, 40)\n",
        "(0, 40)\n",
        "(0, 40)\n",
        "(0, 40)\n",
        "(0, 40)\n",
        "(0, 40)\n",
        "(0, 40)\n",
        "(0, 40)\n",
        "(0, 40)"
       ]
      },
      {
       "output_type": "stream",
       "stream": "stdout",
       "text": [
        "\n",
        "(0, 40)\n",
        "(0, 40)\n",
        "(0, 40)\n",
        "(0, 40)\n",
        "(0, 40)\n",
        "(0, 40)\n",
        "(0, 40)\n",
        "(0, 40)\n",
        "(0, 40)\n",
        "(0, 40)\n",
        "(0, 40)\n",
        "(23, 40)\n",
        "(7880, 40)\n",
        "(10000, 40)"
       ]
      },
      {
       "output_type": "stream",
       "stream": "stdout",
       "text": [
        "\n",
        "(10000, 40)\n",
        "(10000, 40)\n",
        "(10000, 40)\n",
        "(10000, 40)"
       ]
      },
      {
       "output_type": "stream",
       "stream": "stdout",
       "text": [
        "\n",
        "(10000, 40)\n",
        "(10000, 40)\n",
        "(7424, 40)\n",
        "(7937, 40)\n",
        "(9998, 40)"
       ]
      },
      {
       "output_type": "stream",
       "stream": "stdout",
       "text": [
        "\n",
        "(10000, 40)\n",
        "(10000, 40)\n",
        "(7882, 40)\n",
        "(8532, 40)\n",
        "(9867, 40)"
       ]
      },
      {
       "output_type": "stream",
       "stream": "stdout",
       "text": [
        "\n",
        "(10000, 40)\n",
        "(10000, 40)\n",
        "(10000, 40)\n",
        "(10000, 40)"
       ]
      },
      {
       "output_type": "stream",
       "stream": "stdout",
       "text": [
        "\n",
        "(10000, 40)\n",
        "(10000, 40)\n",
        "(10000, 40)\n",
        "(10000, 40)"
       ]
      },
      {
       "output_type": "stream",
       "stream": "stdout",
       "text": [
        "\n",
        "(9967, 40)\n",
        "(9493, 40)\n",
        "(9712, 40)\n",
        "(9003, 40)\n",
        "(9029, 40)"
       ]
      },
      {
       "output_type": "stream",
       "stream": "stdout",
       "text": [
        "\n",
        "(9064, 40)\n",
        "(9683, 40)\n",
        "(8868, 40)\n",
        "(7380, 40)\n",
        "(10000, 40)"
       ]
      },
      {
       "output_type": "stream",
       "stream": "stdout",
       "text": [
        "\n",
        "(10000, 40)\n",
        "(10000, 40)\n",
        "(10000, 40)\n",
        "(7417, 40)\n",
        "(9821, 40)"
       ]
      },
      {
       "output_type": "stream",
       "stream": "stdout",
       "text": [
        "\n",
        "(10000, 40)\n",
        "(9894, 40)\n",
        "(9945, 40)\n",
        "(10000, 40)\n",
        "(8904, 40)"
       ]
      },
      {
       "output_type": "stream",
       "stream": "stdout",
       "text": [
        "\n",
        "(3679, 40)\n",
        "(5566, 40)\n",
        "(9459, 40)\n",
        "(9144, 40)\n",
        "(10000, 40)\n",
        "(9974, 40)"
       ]
      },
      {
       "output_type": "stream",
       "stream": "stdout",
       "text": [
        "\n",
        "(10000, 40)\n",
        "(10000, 40)\n",
        "(10000, 40)\n",
        "(10000, 40)"
       ]
      },
      {
       "output_type": "stream",
       "stream": "stdout",
       "text": [
        "\n",
        "(10000, 40)\n",
        "(10000, 40)\n",
        "(3701, 40)\n",
        "(1845, 40)\n",
        "(454, 40)\n",
        "(0, 40)\n",
        "(0, 40)\n",
        "(0, 40)"
       ]
      },
      {
       "output_type": "stream",
       "stream": "stdout",
       "text": [
        "\n",
        "(0, 40)\n",
        "(0, 40)\n",
        "(0, 40)\n",
        "(0, 40)\n",
        "(0, 40)\n",
        "(0, 40)\n",
        "(0, 40)\n",
        "(0, 40)\n",
        "(0, 40)\n",
        "(0, 40)\n",
        "(0, 40)\n",
        "(0, 40)\n",
        "(0, 40)\n",
        "(0, 40)\n",
        "(0, 40)\n",
        "(0, 40)\n",
        "(0, 40)\n",
        "(0, 40)\n",
        "(0, 40)\n",
        "(0, 40)\n",
        "(0, 40)"
       ]
      },
      {
       "output_type": "stream",
       "stream": "stdout",
       "text": [
        "\n",
        "(0, 40)\n",
        "(0, 40)\n",
        "(0, 40)\n",
        "(0, 40)\n",
        "(0, 40)\n",
        "(0, 40)\n",
        "(0, 40)\n",
        "(0, 40)\n",
        "(0, 40)\n",
        "(6351, 40)\n",
        "(10000, 40)\n",
        "(10000, 40)"
       ]
      },
      {
       "output_type": "stream",
       "stream": "stdout",
       "text": [
        "\n",
        "(10000, 40)\n",
        "(10000, 40)\n",
        "(10000, 40)\n",
        "(10000, 40)\n",
        "(9729, 40)"
       ]
      },
      {
       "output_type": "stream",
       "stream": "stdout",
       "text": [
        "\n",
        "(8670, 40)\n",
        "(8015, 40)\n",
        "(5595, 40)\n",
        "(9119, 40)\n",
        "(10000, 40)\n",
        "(6965, 40)"
       ]
      },
      {
       "output_type": "stream",
       "stream": "stdout",
       "text": [
        "\n",
        "(9431, 40)\n",
        "(10000, 40)\n",
        "(10000, 40)\n",
        "(10000, 40)\n",
        "(10000, 40)\n",
        "(10000, 40)"
       ]
      },
      {
       "output_type": "stream",
       "stream": "stdout",
       "text": [
        "\n",
        "(10000, 40)\n",
        "(10000, 40)\n",
        "(10000, 40)\n",
        "(10000, 40)\n",
        "(9977, 40)"
       ]
      },
      {
       "output_type": "stream",
       "stream": "stdout",
       "text": [
        "\n",
        "(9687, 40)\n",
        "(10000, 40)\n",
        "(10000, 40)\n",
        "(9475, 40)\n",
        "(9163, 40)"
       ]
      },
      {
       "output_type": "stream",
       "stream": "stdout",
       "text": [
        "\n",
        "(8855, 40)\n",
        "(10000, 40)\n",
        "(10000, 40)\n",
        "(10000, 40)\n",
        "(10000, 40)"
       ]
      },
      {
       "output_type": "stream",
       "stream": "stdout",
       "text": [
        "\n",
        "(10000, 40)\n",
        "(10000, 40)\n",
        "(8890, 40)\n",
        "(9116, 40)"
       ]
      },
      {
       "output_type": "stream",
       "stream": "stdout",
       "text": [
        "\n",
        "(10000, 40)\n",
        "(10000, 40)\n",
        "(10000, 40)\n",
        "(10000, 40)"
       ]
      },
      {
       "output_type": "stream",
       "stream": "stdout",
       "text": [
        "\n",
        "(10000, 40)\n",
        "(8485, 40)\n",
        "(9978, 40)\n",
        "(10000, 40)"
       ]
      },
      {
       "output_type": "stream",
       "stream": "stdout",
       "text": [
        "\n",
        "(9542, 40)\n",
        "(10000, 40)\n",
        "(10000, 40)\n",
        "(10000, 40)"
       ]
      },
      {
       "output_type": "stream",
       "stream": "stdout",
       "text": [
        "\n",
        "(10000, 40)\n",
        "(10000, 40)\n",
        "(10000, 40)\n",
        "(10000, 40)"
       ]
      },
      {
       "output_type": "stream",
       "stream": "stdout",
       "text": [
        "\n",
        "(10000, 40)\n",
        "(7206, 40)\n",
        "(146, 40)\n",
        "(1542, 40)\n",
        "(0, 40)\n",
        "(0, 40)\n",
        "(0, 40)\n",
        "(0, 40)\n",
        "(0, 40)"
       ]
      },
      {
       "output_type": "stream",
       "stream": "stdout",
       "text": [
        "\n",
        "(0, 40)\n",
        "(0, 40)\n",
        "(0, 40)\n",
        "(0, 40)\n",
        "(0, 40)\n",
        "(0, 40)\n",
        "(0, 40)\n",
        "(0, 40)\n",
        "(0, 40)\n",
        "(0, 40)\n",
        "(0, 40)\n",
        "(0, 40)\n",
        "(0, 40)\n",
        "(0, 40)\n",
        "(0, 40)\n",
        "(0, 40)\n",
        "(0, 40)"
       ]
      },
      {
       "output_type": "stream",
       "stream": "stdout",
       "text": [
        "\n",
        "(0, 40)\n",
        "(0, 40)\n",
        "(0, 40)\n",
        "(0, 40)\n",
        "(0, 40)\n",
        "(0, 40)\n",
        "(0, 40)\n",
        "(0, 40)\n",
        "(0, 40)\n",
        "(0, 40)\n",
        "(244, 40)\n",
        "(8522, 40)\n",
        "(10000, 40)"
       ]
      },
      {
       "output_type": "stream",
       "stream": "stdout",
       "text": [
        "\n",
        "(10000, 40)\n",
        "(9697, 40)\n",
        "(10000, 40)\n",
        "(10000, 40)\n",
        "(10000, 40)"
       ]
      },
      {
       "output_type": "stream",
       "stream": "stdout",
       "text": [
        "\n",
        "(10000, 40)\n",
        "(8693, 40)\n",
        "(8327, 40)\n",
        "(9998, 40)\n",
        "(8966, 40)"
       ]
      },
      {
       "output_type": "stream",
       "stream": "stdout",
       "text": [
        "\n",
        "(8406, 40)\n",
        "(6509, 40)\n",
        "(10000, 40)\n",
        "(10000, 40)\n",
        "(10000, 40)"
       ]
      },
      {
       "output_type": "stream",
       "stream": "stdout",
       "text": [
        "\n",
        "(10000, 40)\n",
        "(10000, 40)\n",
        "(10000, 40)\n",
        "(10000, 40)"
       ]
      },
      {
       "output_type": "stream",
       "stream": "stdout",
       "text": [
        "\n",
        "(10000, 40)\n",
        "(10000, 40)\n",
        "(10000, 40)\n",
        "(10000, 40)"
       ]
      },
      {
       "output_type": "stream",
       "stream": "stdout",
       "text": [
        "\n",
        "(9844, 40)\n",
        "(9239, 40)\n",
        "(8752, 40)\n",
        "(9046, 40)"
       ]
      },
      {
       "output_type": "stream",
       "stream": "stdout",
       "text": [
        "\n",
        "(10000, 40)\n",
        "(9683, 40)\n",
        "(9541, 40)\n",
        "(9088, 40)\n",
        "(9269, 40)"
       ]
      },
      {
       "output_type": "stream",
       "stream": "stdout",
       "text": [
        "\n",
        "(10000, 40)\n",
        "(10000, 40)\n",
        "(10000, 40)\n",
        "(9934, 40)"
       ]
      },
      {
       "output_type": "stream",
       "stream": "stdout",
       "text": [
        "\n",
        "(10000, 40)\n",
        "(10000, 40)\n",
        "(10000, 40)\n",
        "(9030, 40)"
       ]
      },
      {
       "output_type": "stream",
       "stream": "stdout",
       "text": [
        "\n",
        "(9115, 40)\n",
        "(8795, 40)\n",
        "(8706, 40)\n",
        "(10000, 40)"
       ]
      },
      {
       "output_type": "stream",
       "stream": "stdout",
       "text": [
        "\n",
        "(10000, 40)\n",
        "(10000, 40)\n",
        "(10000, 40)\n",
        "(10000, 40)"
       ]
      },
      {
       "output_type": "stream",
       "stream": "stdout",
       "text": [
        "\n",
        "(10000, 40)\n",
        "(10000, 40)\n",
        "(10000, 40)\n",
        "(10000, 40)"
       ]
      },
      {
       "output_type": "stream",
       "stream": "stdout",
       "text": [
        "\n",
        "(10000, 40)\n",
        "(10000, 40)\n",
        "(9564, 40)"
       ]
      },
      {
       "output_type": "stream",
       "stream": "stdout",
       "text": [
        "\n",
        "(1897, 40)\n",
        "(0, 40)\n",
        "(1423, 40)\n",
        "(0, 40)\n",
        "(0, 40)\n",
        "(0, 40)\n",
        "(0, 40)\n",
        "(0, 40)\n",
        "(0, 40)\n",
        "(0, 40)\n",
        "(0, 40)\n",
        "(0, 40)\n",
        "(0, 40)"
       ]
      },
      {
       "output_type": "stream",
       "stream": "stdout",
       "text": [
        "\n",
        "(0, 40)\n",
        "(0, 40)\n",
        "(0, 40)\n",
        "(0, 40)\n",
        "(0, 40)\n",
        "(0, 40)\n",
        "(0, 40)\n",
        "(0, 40)\n",
        "(0, 40)\n",
        "(0, 40)\n",
        "(0, 40)\n",
        "(0, 40)\n",
        "(0, 40)\n",
        "(0, 40)\n",
        "(0, 40)"
       ]
      },
      {
       "output_type": "stream",
       "stream": "stdout",
       "text": [
        "\n",
        "(0, 40)\n",
        "(0, 40)\n",
        "(0, 40)\n",
        "(0, 40)\n",
        "(1063, 40)\n",
        "(4540, 40)\n",
        "(8779, 40)\n",
        "(10000, 40)\n",
        "(10000, 40)\n",
        "(10000, 40)"
       ]
      },
      {
       "output_type": "stream",
       "stream": "stdout",
       "text": [
        "\n",
        "(9613, 40)\n",
        "(8647, 40)\n",
        "(10000, 40)\n",
        "(10000, 40)\n",
        "(10000, 40)"
       ]
      },
      {
       "output_type": "stream",
       "stream": "stdout",
       "text": [
        "\n",
        "(10000, 40)\n",
        "(10000, 40)\n",
        "(10000, 40)\n",
        "(9966, 40)"
       ]
      },
      {
       "output_type": "stream",
       "stream": "stdout",
       "text": [
        "\n",
        "(10000, 40)\n",
        "(8697, 40)\n",
        "(9272, 40)\n",
        "(10000, 40)"
       ]
      },
      {
       "output_type": "stream",
       "stream": "stdout",
       "text": [
        "\n",
        "(10000, 40)\n",
        "(10000, 40)\n",
        "(10000, 40)\n",
        "(10000, 40)"
       ]
      },
      {
       "output_type": "stream",
       "stream": "stdout",
       "text": [
        "\n",
        "(10000, 40)\n",
        "(10000, 40)\n",
        "(10000, 40)\n",
        "(10000, 40)\n",
        "(10000, 40)"
       ]
      },
      {
       "output_type": "stream",
       "stream": "stdout",
       "text": [
        "\n",
        "(10000, 40)\n",
        "(10000, 40)\n",
        "(9231, 40)\n",
        "(8061, 40)"
       ]
      },
      {
       "output_type": "stream",
       "stream": "stdout",
       "text": [
        "\n",
        "(10000, 40)\n",
        "(10000, 40)\n",
        "(10000, 40)\n",
        "(10000, 40)\n",
        "(9103, 40)"
       ]
      },
      {
       "output_type": "stream",
       "stream": "stdout",
       "text": [
        "\n",
        "(7513, 40)\n",
        "(9576, 40)\n",
        "(10000, 40)\n",
        "(10000, 40)"
       ]
      },
      {
       "output_type": "stream",
       "stream": "stdout",
       "text": [
        "\n",
        "(9936, 40)\n",
        "(8363, 40)\n",
        "(9135, 40)\n",
        "(9590, 40)"
       ]
      },
      {
       "output_type": "stream",
       "stream": "stdout",
       "text": [
        "\n",
        "(8414, 40)\n",
        "(8308, 40)\n",
        "(8392, 40)\n",
        "(10000, 40)"
       ]
      },
      {
       "output_type": "stream",
       "stream": "stdout",
       "text": [
        "\n",
        "(10000, 40)\n",
        "(9811, 40)\n",
        "(9713, 40)\n",
        "(10000, 40)"
       ]
      },
      {
       "output_type": "stream",
       "stream": "stdout",
       "text": [
        "\n",
        "(10000, 40)\n",
        "(10000, 40)\n",
        "(10000, 40)\n",
        "(10000, 40)"
       ]
      },
      {
       "output_type": "stream",
       "stream": "stdout",
       "text": [
        "\n",
        "(10000, 40)\n",
        "(10000, 40)\n",
        "(10000, 40)\n",
        "(9952, 40)"
       ]
      },
      {
       "output_type": "stream",
       "stream": "stdout",
       "text": [
        "\n",
        "(2628, 40)\n",
        "(761, 40)\n",
        "(3004, 40)\n",
        "(48, 40)\n",
        "(0, 40)\n",
        "(0, 40)\n",
        "(0, 40)\n",
        "(0, 40)\n",
        "(0, 40)\n",
        "(0, 40)\n",
        "(0, 40)\n",
        "(0, 40)\n",
        "(0, 40)\n",
        "(0, 40)\n",
        "(0, 40)\n",
        "(0, 40)\n",
        "(0, 40)\n",
        "(0, 40)"
       ]
      },
      {
       "output_type": "stream",
       "stream": "stdout",
       "text": [
        "\n",
        "(0, 40)\n",
        "(0, 40)\n",
        "(0, 40)\n",
        "(0, 40)\n",
        "(0, 40)\n",
        "(0, 40)\n",
        "(0, 40)\n",
        "(0, 40)\n",
        "(0, 40)\n",
        "(0, 40)\n",
        "(0, 40)\n",
        "(0, 40)\n",
        "(903, 40)\n",
        "(9806, 40)\n",
        "(10000, 40)"
       ]
      },
      {
       "output_type": "stream",
       "stream": "stdout",
       "text": [
        "\n",
        "(9285, 40)\n",
        "(10000, 40)\n",
        "(10000, 40)\n",
        "(10000, 40)\n",
        "(10000, 40)"
       ]
      },
      {
       "output_type": "stream",
       "stream": "stdout",
       "text": [
        "\n",
        "(8982, 40)\n",
        "(9271, 40)\n",
        "(9571, 40)\n",
        "(7550, 40)\n",
        "(8423, 40)"
       ]
      },
      {
       "output_type": "stream",
       "stream": "stdout",
       "text": [
        "\n",
        "(8315, 40)\n",
        "(8485, 40)\n",
        "(8884, 40)\n",
        "(7812, 40)\n",
        "(7983, 40)"
       ]
      },
      {
       "output_type": "stream",
       "stream": "stdout",
       "text": [
        "\n",
        "(6467, 40)\n",
        "(10000, 40)\n",
        "(10000, 40)\n",
        "(10000, 40)\n",
        "(10000, 40)"
       ]
      },
      {
       "output_type": "stream",
       "stream": "stdout",
       "text": [
        "\n",
        "(10000, 40)\n",
        "(10000, 40)\n",
        "(10000, 40)"
       ]
      },
      {
       "output_type": "stream",
       "stream": "stdout",
       "text": [
        "\n",
        "(10000, 40)\n",
        "(10000, 40)\n",
        "(10000, 40)"
       ]
      },
      {
       "output_type": "stream",
       "stream": "stdout",
       "text": [
        "\n",
        "(10000, 40)\n",
        "(10000, 40)\n",
        "(10000, 40)"
       ]
      },
      {
       "output_type": "stream",
       "stream": "stdout",
       "text": [
        "\n",
        "(9518, 40)\n",
        "(10000, 40)"
       ]
      },
      {
       "output_type": "stream",
       "stream": "stdout",
       "text": [
        "\n",
        "(10000, 40)\n",
        "(10000, 40)"
       ]
      },
      {
       "output_type": "stream",
       "stream": "stdout",
       "text": [
        "\n",
        "(10000, 40)\n",
        "(10000, 40)"
       ]
      },
      {
       "output_type": "stream",
       "stream": "stdout",
       "text": [
        "\n",
        "(9269, 40)\n",
        "(10000, 40)"
       ]
      },
      {
       "output_type": "stream",
       "stream": "stdout",
       "text": [
        "\n",
        "(10000, 40)\n",
        "(10000, 40)"
       ]
      },
      {
       "output_type": "stream",
       "stream": "stdout",
       "text": [
        "\n",
        "(10000, 40)\n",
        "(10000, 40)"
       ]
      },
      {
       "output_type": "stream",
       "stream": "stdout",
       "text": [
        "\n",
        "(9923, 40)\n",
        "(9298, 40)"
       ]
      },
      {
       "output_type": "stream",
       "stream": "stdout",
       "text": [
        "\n",
        "(10000, 40)\n",
        "(10000, 40)\n",
        "(7670, 40)"
       ]
      },
      {
       "output_type": "stream",
       "stream": "stdout",
       "text": [
        "\n",
        "(10000, 40)\n",
        "(10000, 40)\n",
        "(10000, 40)"
       ]
      },
      {
       "output_type": "stream",
       "stream": "stdout",
       "text": [
        "\n",
        "(9677, 40)\n",
        "(9142, 40)"
       ]
      },
      {
       "output_type": "stream",
       "stream": "stdout",
       "text": [
        "\n",
        "(10000, 40)\n",
        "(10000, 40)\n",
        "(10000, 40)"
       ]
      },
      {
       "output_type": "stream",
       "stream": "stdout",
       "text": [
        "\n",
        "(9998, 40)\n",
        "(9910, 40)"
       ]
      },
      {
       "output_type": "stream",
       "stream": "stdout",
       "text": [
        "\n",
        "(10000, 40)\n",
        "(10000, 40)"
       ]
      },
      {
       "output_type": "stream",
       "stream": "stdout",
       "text": [
        "\n",
        "(9964, 40)\n",
        "(9082, 40)\n",
        "(4009, 40)"
       ]
      },
      {
       "output_type": "stream",
       "stream": "stdout",
       "text": [
        "\n",
        "(90, 40)\n",
        "(619, 40)\n",
        "(0, 40)\n",
        "(0, 40)\n",
        "(0, 40)\n",
        "(0, 40)\n",
        "(0, 40)\n",
        "(0, 40)\n",
        "(0, 40)\n",
        "(0, 40)\n",
        "(0, 40)\n",
        "(0, 40)\n",
        "(0, 40)\n",
        "(0, 40)\n",
        "(0, 40)\n",
        "(0, 40)\n",
        "(0, 40)"
       ]
      },
      {
       "output_type": "stream",
       "stream": "stdout",
       "text": [
        "\n",
        "(0, 40)\n",
        "(0, 40)\n",
        "(0, 40)\n",
        "(0, 40)\n",
        "(0, 40)\n",
        "(0, 40)\n",
        "(0, 40)\n",
        "(0, 40)\n",
        "(0, 40)\n",
        "(0, 40)\n",
        "(0, 40)\n",
        "(835, 40)\n",
        "(8819, 40)\n",
        "(10000, 40)\n",
        "(9897, 40)"
       ]
      },
      {
       "output_type": "stream",
       "stream": "stdout",
       "text": [
        "\n",
        "(9377, 40)\n",
        "(10000, 40)\n",
        "(10000, 40)\n",
        "(9852, 40)\n",
        "(9499, 40)"
       ]
      },
      {
       "output_type": "stream",
       "stream": "stdout",
       "text": [
        "\n",
        "(8569, 40)\n",
        "(8592, 40)"
       ]
      },
      {
       "output_type": "stream",
       "stream": "stdout",
       "text": [
        "\n",
        "(10000, 40)\n",
        "(10000, 40)"
       ]
      },
      {
       "output_type": "stream",
       "stream": "stdout",
       "text": [
        "\n",
        "(10000, 40)\n",
        "(10000, 40)"
       ]
      },
      {
       "output_type": "stream",
       "stream": "stdout",
       "text": [
        "\n",
        "(10000, 40)\n",
        "(9980, 40)"
       ]
      },
      {
       "output_type": "stream",
       "stream": "stdout",
       "text": [
        "\n",
        "(9890, 40)\n",
        "(8757, 40)"
       ]
      },
      {
       "output_type": "stream",
       "stream": "stdout",
       "text": [
        "\n",
        "(7723, 40)\n",
        "(9893, 40)\n",
        "(10000, 40)"
       ]
      },
      {
       "output_type": "stream",
       "stream": "stdout",
       "text": [
        "\n",
        "(10000, 40)\n",
        "(10000, 40)"
       ]
      },
      {
       "output_type": "stream",
       "stream": "stdout",
       "text": [
        "\n",
        "(10000, 40)\n",
        "(10000, 40)"
       ]
      },
      {
       "output_type": "stream",
       "stream": "stdout",
       "text": [
        "\n",
        "(10000, 40)\n",
        "(10000, 40)"
       ]
      },
      {
       "output_type": "stream",
       "stream": "stdout",
       "text": [
        "\n",
        "(10000, 40)\n",
        "(10000, 40)\n",
        "(10000, 40)"
       ]
      },
      {
       "output_type": "stream",
       "stream": "stdout",
       "text": [
        "\n",
        "(10000, 40)\n",
        "(9765, 40)"
       ]
      },
      {
       "output_type": "stream",
       "stream": "stdout",
       "text": [
        "\n",
        "(10000, 40)\n",
        "(10000, 40)"
       ]
      },
      {
       "output_type": "stream",
       "stream": "stdout",
       "text": [
        "\n",
        "(10000, 40)\n",
        "(10000, 40)"
       ]
      },
      {
       "output_type": "stream",
       "stream": "stdout",
       "text": [
        "\n",
        "(10000, 40)\n",
        "(10000, 40)"
       ]
      },
      {
       "output_type": "stream",
       "stream": "stdout",
       "text": [
        "\n",
        "(10000, 40)\n",
        "(10000, 40)"
       ]
      },
      {
       "output_type": "stream",
       "stream": "stdout",
       "text": [
        "\n",
        "(10000, 40)\n",
        "(10000, 40)"
       ]
      },
      {
       "output_type": "stream",
       "stream": "stdout",
       "text": [
        "\n",
        "(10000, 40)\n",
        "(10000, 40)"
       ]
      },
      {
       "output_type": "stream",
       "stream": "stdout",
       "text": [
        "\n",
        "(10000, 40)\n",
        "(10000, 40)"
       ]
      },
      {
       "output_type": "stream",
       "stream": "stdout",
       "text": [
        "\n",
        "(10000, 40)\n",
        "(9703, 40)\n",
        "(9871, 40)"
       ]
      },
      {
       "output_type": "stream",
       "stream": "stdout",
       "text": [
        "\n",
        "(10000, 40)\n",
        "(10000, 40)\n",
        "(10000, 40)\n",
        "(7891, 40)"
       ]
      },
      {
       "output_type": "stream",
       "stream": "stdout",
       "text": [
        "\n",
        "(7624, 40)\n",
        "(10000, 40)\n",
        "(10000, 40)\n",
        "(9038, 40)\n",
        "(9025, 40)"
       ]
      },
      {
       "output_type": "stream",
       "stream": "stdout",
       "text": [
        "\n",
        "(10000, 40)\n",
        "(10000, 40)\n",
        "(9584, 40)\n",
        "(8846, 40)\n",
        "(8239, 40)\n",
        "(2624, 40)"
       ]
      },
      {
       "output_type": "stream",
       "stream": "stdout",
       "text": [
        "\n",
        "(0, 40)\n",
        "(0, 40)\n",
        "(0, 40)\n",
        "(0, 40)\n",
        "(0, 40)\n",
        "(0, 40)\n",
        "(0, 40)\n",
        "(0, 40)\n",
        "(0, 40)\n",
        "(0, 40)\n",
        "(0, 40)\n",
        "(0, 40)\n",
        "(0, 40)\n",
        "(0, 40)\n",
        "(0, 40)\n",
        "(0, 40)\n",
        "(0, 40)\n",
        "(0, 40)\n",
        "(0, 40)\n",
        "(0, 40)"
       ]
      },
      {
       "output_type": "stream",
       "stream": "stdout",
       "text": [
        "\n",
        "(0, 40)\n",
        "(0, 40)\n",
        "(0, 40)\n",
        "(0, 40)\n",
        "(0, 40)\n",
        "(0, 40)\n",
        "(0, 40)\n",
        "(0, 40)\n",
        "(1486, 40)\n",
        "(9445, 40)\n",
        "(10000, 40)"
       ]
      },
      {
       "output_type": "stream",
       "stream": "stdout",
       "text": [
        "\n",
        "(9504, 40)\n",
        "(9359, 40)\n",
        "(10000, 40)\n",
        "(10000, 40)\n",
        "(9270, 40)"
       ]
      },
      {
       "output_type": "stream",
       "stream": "stdout",
       "text": [
        "\n",
        "(9944, 40)\n",
        "(10000, 40)\n",
        "(10000, 40)\n",
        "(10000, 40)\n",
        "(9675, 40)"
       ]
      },
      {
       "output_type": "stream",
       "stream": "stdout",
       "text": [
        "\n",
        "(9973, 40)\n",
        "(10000, 40)\n",
        "(10000, 40)\n",
        "(8612, 40)\n",
        "(7729, 40)\n",
        "(6402, 40)"
       ]
      },
      {
       "output_type": "stream",
       "stream": "stdout",
       "text": [
        "\n",
        "(6407, 40)\n",
        "(10000, 40)\n",
        "(10000, 40)\n",
        "(10000, 40)\n",
        "(8606, 40)"
       ]
      },
      {
       "output_type": "stream",
       "stream": "stdout",
       "text": [
        "\n",
        "(10000, 40)\n",
        "(10000, 40)\n",
        "(10000, 40)\n",
        "(10000, 40)\n",
        "(10000, 40)"
       ]
      },
      {
       "output_type": "stream",
       "stream": "stdout",
       "text": [
        "\n",
        "(10000, 40)\n",
        "(10000, 40)\n",
        "(9952, 40)\n",
        "(9833, 40)"
       ]
      },
      {
       "output_type": "stream",
       "stream": "stdout",
       "text": [
        "\n",
        "(10000, 40)\n",
        "(10000, 40)\n",
        "(10000, 40)\n",
        "(10000, 40)\n",
        "(9690, 40)"
       ]
      },
      {
       "output_type": "stream",
       "stream": "stdout",
       "text": [
        "\n",
        "(9819, 40)\n",
        "(10000, 40)\n",
        "(10000, 40)\n",
        "(10000, 40)\n",
        "(10000, 40)"
       ]
      },
      {
       "output_type": "stream",
       "stream": "stdout",
       "text": [
        "\n",
        "(10000, 40)\n",
        "(10000, 40)\n",
        "(10000, 40)\n",
        "(10000, 40)\n",
        "(10000, 40)"
       ]
      },
      {
       "output_type": "stream",
       "stream": "stdout",
       "text": [
        "\n",
        "(10000, 40)\n",
        "(10000, 40)\n",
        "(9964, 40)\n",
        "(9377, 40)"
       ]
      },
      {
       "output_type": "stream",
       "stream": "stdout",
       "text": [
        "\n",
        "(9159, 40)\n",
        "(9501, 40)"
       ]
      },
      {
       "output_type": "stream",
       "stream": "stdout",
       "text": [
        "\n",
        "(8638, 40)\n",
        "(9373, 40)"
       ]
      },
      {
       "output_type": "stream",
       "stream": "stdout",
       "text": [
        "\n",
        "(6480, 40)\n",
        "(10000, 40)"
       ]
      },
      {
       "output_type": "stream",
       "stream": "stdout",
       "text": [
        "\n",
        "(10000, 40)\n",
        "(10000, 40)"
       ]
      },
      {
       "output_type": "stream",
       "stream": "stdout",
       "text": [
        "\n",
        "(10000, 40)\n",
        "(10000, 40)"
       ]
      },
      {
       "output_type": "stream",
       "stream": "stdout",
       "text": [
        "\n",
        "(10000, 40)\n",
        "(9965, 40)"
       ]
      },
      {
       "output_type": "stream",
       "stream": "stdout",
       "text": [
        "\n",
        "(4170, 40)\n",
        "(0, 40)\n",
        "(0, 40)\n",
        "(0, 40)\n",
        "(0, 40)\n",
        "(0, 40)"
       ]
      },
      {
       "output_type": "stream",
       "stream": "stdout",
       "text": [
        "\n",
        "(0, 40)\n",
        "(0, 40)\n",
        "(0, 40)\n",
        "(0, 40)\n",
        "(0, 40)\n",
        "(0, 40)\n",
        "(0, 40)\n",
        "(0, 40)\n",
        "(0, 40)\n",
        "(0, 40)\n",
        "(0, 40)\n",
        "(0, 40)\n",
        "(0, 40)\n",
        "(0, 40)\n",
        "(0, 40)\n",
        "(0, 40)\n",
        "(0, 40)\n",
        "(0, 40)"
       ]
      },
      {
       "output_type": "stream",
       "stream": "stdout",
       "text": [
        "\n",
        "(0, 40)\n",
        "(0, 40)\n",
        "(0, 40)\n",
        "(0, 40)\n",
        "(0, 40)\n",
        "(2228, 40)\n",
        "(9730, 40)\n",
        "(10000, 40)\n",
        "(9340, 40)"
       ]
      },
      {
       "output_type": "stream",
       "stream": "stdout",
       "text": [
        "\n",
        "(9053, 40)\n",
        "(8833, 40)\n",
        "(8941, 40)\n",
        "(9362, 40)"
       ]
      },
      {
       "output_type": "stream",
       "stream": "stdout",
       "text": [
        "\n",
        "(9942, 40)\n",
        "(7802, 40)"
       ]
      },
      {
       "output_type": "stream",
       "stream": "stdout",
       "text": [
        "\n",
        "(9112, 40)\n",
        "(9350, 40)"
       ]
      },
      {
       "output_type": "stream",
       "stream": "stdout",
       "text": [
        "\n",
        "(9874, 40)\n",
        "(10000, 40)"
       ]
      },
      {
       "output_type": "stream",
       "stream": "stdout",
       "text": [
        "\n",
        "(10000, 40)\n",
        "(10000, 40)"
       ]
      },
      {
       "output_type": "stream",
       "stream": "stdout",
       "text": [
        "\n",
        "(10000, 40)\n",
        "(10000, 40)"
       ]
      },
      {
       "output_type": "stream",
       "stream": "stdout",
       "text": [
        "\n",
        "(6436, 40)\n",
        "(9653, 40)"
       ]
      },
      {
       "output_type": "stream",
       "stream": "stdout",
       "text": [
        "\n",
        "(10000, 40)\n",
        "(10000, 40)"
       ]
      },
      {
       "output_type": "stream",
       "stream": "stdout",
       "text": [
        "\n",
        "(7572, 40)\n",
        "(10000, 40)"
       ]
      },
      {
       "output_type": "stream",
       "stream": "stdout",
       "text": [
        "\n",
        "(10000, 40)\n",
        "(10000, 40)"
       ]
      },
      {
       "output_type": "stream",
       "stream": "stdout",
       "text": [
        "\n",
        "(10000, 40)\n",
        "(10000, 40)"
       ]
      },
      {
       "output_type": "stream",
       "stream": "stdout",
       "text": [
        "\n",
        "(10000, 40)\n",
        "(10000, 40)"
       ]
      },
      {
       "output_type": "stream",
       "stream": "stdout",
       "text": [
        "\n",
        "(10000, 40)\n",
        "(10000, 40)"
       ]
      },
      {
       "output_type": "stream",
       "stream": "stdout",
       "text": [
        "\n",
        "(10000, 40)\n",
        "(10000, 40)"
       ]
      },
      {
       "output_type": "stream",
       "stream": "stdout",
       "text": [
        "\n",
        "(10000, 40)\n",
        "(10000, 40)"
       ]
      },
      {
       "output_type": "stream",
       "stream": "stdout",
       "text": [
        "\n",
        "(9786, 40)\n",
        "(7801, 40)"
       ]
      },
      {
       "output_type": "stream",
       "stream": "stdout",
       "text": [
        "\n",
        "(7217, 40)\n",
        "(10000, 40)\n",
        "(9893, 40)"
       ]
      },
      {
       "output_type": "stream",
       "stream": "stdout",
       "text": [
        "\n",
        "(9661, 40)\n",
        "(10000, 40)"
       ]
      },
      {
       "output_type": "stream",
       "stream": "stdout",
       "text": [
        "\n",
        "(10000, 40)\n",
        "(10000, 40)"
       ]
      },
      {
       "output_type": "stream",
       "stream": "stdout",
       "text": [
        "\n",
        "(10000, 40)\n",
        "(10000, 40)"
       ]
      },
      {
       "output_type": "stream",
       "stream": "stdout",
       "text": [
        "\n",
        "(10000, 40)\n",
        "(10000, 40)"
       ]
      },
      {
       "output_type": "stream",
       "stream": "stdout",
       "text": [
        "\n",
        "(10000, 40)\n",
        "(10000, 40)"
       ]
      },
      {
       "output_type": "stream",
       "stream": "stdout",
       "text": [
        "\n",
        "(10000, 40)\n",
        "(10000, 40)"
       ]
      },
      {
       "output_type": "stream",
       "stream": "stdout",
       "text": [
        "\n",
        "(10000, 40)\n",
        "(6380, 40)"
       ]
      },
      {
       "output_type": "stream",
       "stream": "stdout",
       "text": [
        "\n",
        "(5832, 40)\n",
        "(9612, 40)\n",
        "(10000, 40)"
       ]
      },
      {
       "output_type": "stream",
       "stream": "stdout",
       "text": [
        "\n",
        "(10000, 40)\n",
        "(10000, 40)"
       ]
      },
      {
       "output_type": "stream",
       "stream": "stdout",
       "text": [
        "\n",
        "(10000, 40)\n",
        "(9418, 40)"
       ]
      },
      {
       "output_type": "stream",
       "stream": "stdout",
       "text": [
        "\n",
        "(9843, 40)\n",
        "(9995, 40)"
       ]
      },
      {
       "output_type": "stream",
       "stream": "stdout",
       "text": [
        "\n",
        "(7878, 40)\n",
        "(5792, 40)"
       ]
      },
      {
       "output_type": "stream",
       "stream": "stdout",
       "text": [
        "\n",
        "(4699, 40)\n",
        "(10, 40)\n",
        "(0, 40)\n",
        "(0, 40)\n",
        "(0, 40)\n",
        "(0, 40)\n",
        "(0, 40)\n",
        "(0, 40)\n",
        "(0, 40)\n",
        "(0, 40)"
       ]
      },
      {
       "output_type": "stream",
       "stream": "stdout",
       "text": [
        "\n",
        "(0, 40)\n",
        "(0, 40)\n",
        "(0, 40)\n",
        "(0, 40)\n",
        "(0, 40)\n",
        "(0, 40)\n",
        "(0, 40)\n",
        "(0, 40)\n",
        "(0, 40)\n",
        "(0, 40)\n",
        "(0, 40)\n",
        "(0, 40)\n",
        "(0, 40)\n",
        "(0, 40)\n",
        "(0, 40)\n",
        "(1584, 40)\n",
        "(858, 40)\n",
        "(7431, 40)\n",
        "(10000, 40)"
       ]
      },
      {
       "output_type": "stream",
       "stream": "stdout",
       "text": [
        "\n",
        "(10000, 40)\n",
        "(10000, 40)\n",
        "(10000, 40)"
       ]
      },
      {
       "output_type": "stream",
       "stream": "stdout",
       "text": [
        "\n",
        "(9945, 40)\n",
        "(8918, 40)"
       ]
      },
      {
       "output_type": "stream",
       "stream": "stdout",
       "text": [
        "\n",
        "(8256, 40)\n",
        "(10000, 40)"
       ]
      },
      {
       "output_type": "stream",
       "stream": "stdout",
       "text": [
        "\n",
        "(10000, 40)\n",
        "(10000, 40)"
       ]
      },
      {
       "output_type": "stream",
       "stream": "stdout",
       "text": [
        "\n",
        "(10000, 40)"
       ]
      },
      {
       "output_type": "stream",
       "stream": "stdout",
       "text": [
        "\n",
        "(10000, 40)\n",
        "(10000, 40)\n",
        "(10000, 40)\n",
        "(10000, 40)"
       ]
      },
      {
       "output_type": "stream",
       "stream": "stdout",
       "text": [
        "\n",
        "(10000, 40)\n",
        "(9304, 40)"
       ]
      },
      {
       "output_type": "stream",
       "stream": "stdout",
       "text": [
        "\n",
        "(6595, 40)\n",
        "(10000, 40)\n",
        "(10000, 40)"
       ]
      },
      {
       "output_type": "stream",
       "stream": "stdout",
       "text": [
        "\n",
        "(8713, 40)\n",
        "(10000, 40)"
       ]
      },
      {
       "output_type": "stream",
       "stream": "stdout",
       "text": [
        "\n",
        "(10000, 40)\n",
        "(10000, 40)"
       ]
      },
      {
       "output_type": "stream",
       "stream": "stdout",
       "text": [
        "\n",
        "(10000, 40)\n",
        "(10000, 40)"
       ]
      },
      {
       "output_type": "stream",
       "stream": "stdout",
       "text": [
        "\n",
        "(10000, 40)\n",
        "(10000, 40)"
       ]
      },
      {
       "output_type": "stream",
       "stream": "stdout",
       "text": [
        "\n",
        "(9825, 40)\n",
        "(8857, 40)"
       ]
      },
      {
       "output_type": "stream",
       "stream": "stdout",
       "text": [
        "\n",
        "(10000, 40)\n",
        "(10000, 40)"
       ]
      },
      {
       "output_type": "stream",
       "stream": "stdout",
       "text": [
        "\n",
        "(9998, 40)\n",
        "(10000, 40)"
       ]
      },
      {
       "output_type": "stream",
       "stream": "stdout",
       "text": [
        "\n",
        "(10000, 40)\n",
        "(10000, 40)"
       ]
      },
      {
       "output_type": "stream",
       "stream": "stdout",
       "text": [
        "\n",
        "(8655, 40)\n",
        "(10000, 40)"
       ]
      },
      {
       "output_type": "stream",
       "stream": "stdout",
       "text": [
        "\n",
        "(10000, 40)\n",
        "(7875, 40)"
       ]
      },
      {
       "output_type": "stream",
       "stream": "stdout",
       "text": [
        "\n",
        "(9822, 40)\n",
        "(9844, 40)"
       ]
      },
      {
       "output_type": "stream",
       "stream": "stdout",
       "text": [
        "\n",
        "(10000, 40)"
       ]
      },
      {
       "output_type": "stream",
       "stream": "stdout",
       "text": [
        "\n",
        "(10000, 40)\n",
        "(10000, 40)\n",
        "(10000, 40)\n",
        "(9621, 40)"
       ]
      },
      {
       "output_type": "stream",
       "stream": "stdout",
       "text": [
        "\n",
        "(8878, 40)\n",
        "(10000, 40)\n",
        "(10000, 40)\n",
        "(10000, 40)"
       ]
      },
      {
       "output_type": "stream",
       "stream": "stdout",
       "text": [
        "\n",
        "(9691, 40)\n",
        "(7371, 40)\n",
        "(9281, 40)\n",
        "(10000, 40)\n",
        "(10000, 40)"
       ]
      },
      {
       "output_type": "stream",
       "stream": "stdout",
       "text": [
        "\n",
        "(10000, 40)\n",
        "(10000, 40)\n",
        "(10000, 40)\n",
        "(10000, 40)\n",
        "(9178, 40)"
       ]
      },
      {
       "output_type": "stream",
       "stream": "stdout",
       "text": [
        "\n",
        "(9286, 40)\n",
        "(9566, 40)\n",
        "(10000, 40)\n",
        "(10000, 40)\n",
        "(6277, 40)"
       ]
      },
      {
       "output_type": "stream",
       "stream": "stdout",
       "text": [
        "\n",
        "(2665, 40)\n",
        "(97, 40)\n",
        "(0, 40)\n",
        "(0, 40)\n",
        "(0, 40)\n",
        "(0, 40)\n",
        "(0, 40)\n",
        "(0, 40)\n",
        "(0, 40)\n",
        "(0, 40)\n",
        "(0, 40)\n",
        "(0, 40)\n",
        "(0, 40)\n",
        "(0, 40)\n",
        "(0, 40)\n",
        "(0, 40)\n",
        "(0, 40)\n",
        "(0, 40)\n",
        "(0, 40)\n",
        "(0, 40)\n",
        "(0, 40)"
       ]
      },
      {
       "output_type": "stream",
       "stream": "stdout",
       "text": [
        "\n",
        "(123, 40)\n",
        "(5386, 40)\n",
        "(9304, 40)\n",
        "(8742, 40)\n",
        "(9727, 40)\n",
        "(10000, 40)\n",
        "(10000, 40)"
       ]
      },
      {
       "output_type": "stream",
       "stream": "stdout",
       "text": [
        "\n",
        "(10000, 40)\n",
        "(10000, 40)\n",
        "(10000, 40)\n",
        "(10000, 40)\n",
        "(10000, 40)"
       ]
      },
      {
       "output_type": "stream",
       "stream": "stdout",
       "text": [
        "\n",
        "(10000, 40)\n",
        "(10000, 40)\n",
        "(10000, 40)"
       ]
      },
      {
       "output_type": "stream",
       "stream": "stdout",
       "text": [
        "\n",
        "(10000, 40)\n",
        "(10000, 40)"
       ]
      },
      {
       "output_type": "stream",
       "stream": "stdout",
       "text": [
        "\n",
        "(10000, 40)\n",
        "(10000, 40)"
       ]
      },
      {
       "output_type": "stream",
       "stream": "stdout",
       "text": [
        "\n",
        "(10000, 40)\n",
        "(10000, 40)"
       ]
      },
      {
       "output_type": "stream",
       "stream": "stdout",
       "text": [
        "\n",
        "(10000, 40)"
       ]
      },
      {
       "output_type": "stream",
       "stream": "stdout",
       "text": [
        "\n",
        "(5648, 40)\n",
        "(9088, 40)\n",
        "(10000, 40)\n",
        "(7926, 40)"
       ]
      },
      {
       "output_type": "stream",
       "stream": "stdout",
       "text": [
        "\n",
        "(10000, 40)\n",
        "(10000, 40)\n",
        "(10000, 40)\n",
        "(10000, 40)"
       ]
      },
      {
       "output_type": "stream",
       "stream": "stdout",
       "text": [
        "\n",
        "(10000, 40)\n",
        "(10000, 40)\n",
        "(10000, 40)\n",
        "(10000, 40)"
       ]
      },
      {
       "output_type": "stream",
       "stream": "stdout",
       "text": [
        "\n",
        "(9681, 40)\n",
        "(8013, 40)\n",
        "(7946, 40)\n",
        "(8517, 40)"
       ]
      },
      {
       "output_type": "stream",
       "stream": "stdout",
       "text": [
        "\n",
        "(9442, 40)\n",
        "(9974, 40)\n",
        "(9081, 40)\n",
        "(8174, 40)"
       ]
      },
      {
       "output_type": "stream",
       "stream": "stdout",
       "text": [
        "\n",
        "(9661, 40)\n",
        "(10000, 40)\n",
        "(9893, 40)"
       ]
      },
      {
       "output_type": "stream",
       "stream": "stdout",
       "text": [
        "\n",
        "(7958, 40)\n",
        "(8086, 40)\n",
        "(10000, 40)\n",
        "(10000, 40)"
       ]
      },
      {
       "output_type": "stream",
       "stream": "stdout",
       "text": [
        "\n",
        "(10000, 40)\n",
        "(10000, 40)\n",
        "(10000, 40)"
       ]
      },
      {
       "output_type": "stream",
       "stream": "stdout",
       "text": [
        "\n",
        "(9441, 40)\n",
        "(8149, 40)\n",
        "(9502, 40)"
       ]
      },
      {
       "output_type": "stream",
       "stream": "stdout",
       "text": [
        "\n",
        "(9731, 40)\n",
        "(8986, 40)\n",
        "(6579, 40)\n",
        "(10000, 40)\n",
        "(10000, 40)"
       ]
      },
      {
       "output_type": "stream",
       "stream": "stdout",
       "text": [
        "\n",
        "(10000, 40)\n",
        "(10000, 40)\n",
        "(10000, 40)\n",
        "(10000, 40)"
       ]
      },
      {
       "output_type": "stream",
       "stream": "stdout",
       "text": [
        "\n",
        "(10000, 40)\n",
        "(10000, 40)\n",
        "(9798, 40)\n",
        "(9140, 40)"
       ]
      },
      {
       "output_type": "stream",
       "stream": "stdout",
       "text": [
        "\n",
        "(8243, 40)\n",
        "(7315, 40)\n",
        "(9054, 40)\n",
        "(6992, 40)"
       ]
      },
      {
       "output_type": "stream",
       "stream": "stdout",
       "text": [
        "\n",
        "(5586, 40)\n",
        "(4680, 40)\n",
        "(993, 40)\n",
        "(0, 40)\n",
        "(0, 40)\n",
        "(0, 40)\n",
        "(0, 40)"
       ]
      },
      {
       "output_type": "stream",
       "stream": "stdout",
       "text": [
        "\n",
        "(0, 40)\n",
        "(0, 40)\n",
        "(0, 40)\n",
        "(0, 40)\n",
        "(0, 40)\n",
        "(0, 40)\n",
        "(0, 40)\n",
        "(0, 40)\n",
        "(0, 40)\n",
        "(0, 40)\n",
        "(0, 40)\n",
        "(0, 40)\n",
        "(0, 40)\n",
        "(4541, 40)"
       ]
      },
      {
       "output_type": "stream",
       "stream": "stdout",
       "text": [
        "\n",
        "(10000, 40)\n",
        "(10000, 40)\n",
        "(10000, 40)\n",
        "(10000, 40)\n",
        "(10000, 40)"
       ]
      },
      {
       "output_type": "stream",
       "stream": "stdout",
       "text": [
        "\n",
        "(10000, 40)\n",
        "(10000, 40)\n",
        "(10000, 40)"
       ]
      },
      {
       "output_type": "stream",
       "stream": "stdout",
       "text": [
        "\n",
        "(10000, 40)\n",
        "(10000, 40)"
       ]
      },
      {
       "output_type": "stream",
       "stream": "stdout",
       "text": [
        "\n",
        "(10000, 40)\n",
        "(10000, 40)"
       ]
      },
      {
       "output_type": "stream",
       "stream": "stdout",
       "text": [
        "\n",
        "(10000, 40)\n",
        "(10000, 40)"
       ]
      },
      {
       "output_type": "stream",
       "stream": "stdout",
       "text": [
        "\n",
        "(10000, 40)\n",
        "(10000, 40)"
       ]
      },
      {
       "output_type": "stream",
       "stream": "stdout",
       "text": [
        "\n",
        "(9782, 40)\n",
        "(9702, 40)\n",
        "(10000, 40)"
       ]
      },
      {
       "output_type": "stream",
       "stream": "stdout",
       "text": [
        "\n",
        "(10000, 40)\n",
        "(10000, 40)"
       ]
      },
      {
       "output_type": "stream",
       "stream": "stdout",
       "text": [
        "\n",
        "(9725, 40)\n",
        "(5681, 40)"
       ]
      },
      {
       "output_type": "stream",
       "stream": "stdout",
       "text": [
        "\n",
        "(9343, 40)\n",
        "(8062, 40)\n",
        "(10000, 40)"
       ]
      },
      {
       "output_type": "stream",
       "stream": "stdout",
       "text": [
        "\n",
        "(10000, 40)\n",
        "(10000, 40)"
       ]
      },
      {
       "output_type": "stream",
       "stream": "stdout",
       "text": [
        "\n",
        "(10000, 40)\n",
        "(10000, 40)"
       ]
      },
      {
       "output_type": "stream",
       "stream": "stdout",
       "text": [
        "\n",
        "(10000, 40)\n",
        "(10000, 40)"
       ]
      },
      {
       "output_type": "stream",
       "stream": "stdout",
       "text": [
        "\n",
        "(10000, 40)\n",
        "(10000, 40)"
       ]
      },
      {
       "output_type": "stream",
       "stream": "stdout",
       "text": [
        "\n",
        "(10000, 40)\n",
        "(10000, 40)"
       ]
      },
      {
       "output_type": "stream",
       "stream": "stdout",
       "text": [
        "\n",
        "(10000, 40)\n",
        "(8713, 40)"
       ]
      },
      {
       "output_type": "stream",
       "stream": "stdout",
       "text": [
        "\n",
        "(8935, 40)\n",
        "(8461, 40)"
       ]
      },
      {
       "output_type": "stream",
       "stream": "stdout",
       "text": [
        "\n",
        "(7921, 40)\n",
        "(5771, 40)\n",
        "(10000, 40)"
       ]
      },
      {
       "output_type": "stream",
       "stream": "stdout",
       "text": [
        "\n",
        "(10000, 40)\n",
        "(10000, 40)\n",
        "(8872, 40)"
       ]
      },
      {
       "output_type": "stream",
       "stream": "stdout",
       "text": [
        "\n",
        "(10000, 40)\n",
        "(10000, 40)"
       ]
      },
      {
       "output_type": "stream",
       "stream": "stdout",
       "text": [
        "\n",
        "(10000, 40)\n",
        "(10000, 40)"
       ]
      },
      {
       "output_type": "stream",
       "stream": "stdout",
       "text": [
        "\n",
        "(10000, 40)\n",
        "(10000, 40)\n",
        "(10000, 40)"
       ]
      },
      {
       "output_type": "stream",
       "stream": "stdout",
       "text": [
        "\n",
        "(8371, 40)\n",
        "(8790, 40)"
       ]
      },
      {
       "output_type": "stream",
       "stream": "stdout",
       "text": [
        "\n",
        "(9991, 40)\n",
        "(9605, 40)"
       ]
      },
      {
       "output_type": "stream",
       "stream": "stdout",
       "text": [
        "\n",
        "(6269, 40)\n",
        "(8726, 40)\n",
        "(10000, 40)"
       ]
      },
      {
       "output_type": "stream",
       "stream": "stdout",
       "text": [
        "\n",
        "(10000, 40)\n",
        "(10000, 40)"
       ]
      },
      {
       "output_type": "stream",
       "stream": "stdout",
       "text": [
        "\n",
        "(10000, 40)\n",
        "(10000, 40)"
       ]
      },
      {
       "output_type": "stream",
       "stream": "stdout",
       "text": [
        "\n",
        "(10000, 40)\n",
        "(9952, 40)"
       ]
      },
      {
       "output_type": "stream",
       "stream": "stdout",
       "text": [
        "\n",
        "(9053, 40)\n",
        "(6579, 40)\n",
        "(9153, 40)"
       ]
      },
      {
       "output_type": "stream",
       "stream": "stdout",
       "text": [
        "\n",
        "(8447, 40)\n",
        "(10000, 40)"
       ]
      },
      {
       "output_type": "stream",
       "stream": "stdout",
       "text": [
        "\n",
        "(10000, 40)\n",
        "(9890, 40)"
       ]
      },
      {
       "output_type": "stream",
       "stream": "stdout",
       "text": [
        "\n",
        "(7998, 40)\n",
        "(4772, 40)"
       ]
      },
      {
       "output_type": "stream",
       "stream": "stdout",
       "text": [
        "\n",
        "(633, 40)\n",
        "(2477, 40)\n",
        "(1725, 40)\n",
        "(66, 40)\n",
        "(0, 40)\n",
        "(0, 40)\n",
        "(0, 40)\n",
        "(0, 40)\n",
        "(0, 40)\n",
        "(0, 40)\n",
        "(0, 40)\n",
        "(0, 40)\n",
        "(0, 40)\n",
        "(0, 40)"
       ]
      },
      {
       "output_type": "stream",
       "stream": "stdout",
       "text": [
        "\n",
        "(0, 40)\n",
        "(0, 40)\n",
        "(3738, 40)\n",
        "(10000, 40)\n",
        "(10000, 40)\n",
        "(10000, 40)"
       ]
      },
      {
       "output_type": "stream",
       "stream": "stdout",
       "text": [
        "\n",
        "(10000, 40)\n",
        "(10000, 40)"
       ]
      },
      {
       "output_type": "stream",
       "stream": "stdout",
       "text": [
        "\n",
        "(10000, 40)\n",
        "(10000, 40)"
       ]
      },
      {
       "output_type": "stream",
       "stream": "stdout",
       "text": [
        "\n",
        "(10000, 40)\n",
        "(10000, 40)"
       ]
      },
      {
       "output_type": "stream",
       "stream": "stdout",
       "text": [
        "\n",
        "(10000, 40)\n",
        "(10000, 40)"
       ]
      },
      {
       "output_type": "stream",
       "stream": "stdout",
       "text": [
        "\n",
        "(10000, 40)\n",
        "(10000, 40)"
       ]
      },
      {
       "output_type": "stream",
       "stream": "stdout",
       "text": [
        "\n",
        "(10000, 40)\n",
        "(10000, 40)"
       ]
      },
      {
       "output_type": "stream",
       "stream": "stdout",
       "text": [
        "\n",
        "(10000, 40)\n",
        "(9378, 40)"
       ]
      },
      {
       "output_type": "stream",
       "stream": "stdout",
       "text": [
        "\n",
        "(6761, 40)\n",
        "(4937, 40)"
       ]
      },
      {
       "output_type": "stream",
       "stream": "stdout",
       "text": [
        "\n",
        "(9977, 40)\n",
        "(10000, 40)"
       ]
      },
      {
       "output_type": "stream",
       "stream": "stdout",
       "text": [
        "\n",
        "(10000, 40)\n",
        "(9665, 40)"
       ]
      },
      {
       "output_type": "stream",
       "stream": "stdout",
       "text": [
        "\n",
        "(3557, 40)\n",
        "(7744, 40)\n",
        "(9814, 40)"
       ]
      },
      {
       "output_type": "stream",
       "stream": "stdout",
       "text": [
        "\n",
        "(10000, 40)\n",
        "(10000, 40)"
       ]
      },
      {
       "output_type": "stream",
       "stream": "stdout",
       "text": [
        "\n",
        "(10000, 40)\n",
        "(10000, 40)"
       ]
      },
      {
       "output_type": "stream",
       "stream": "stdout",
       "text": [
        "\n",
        "(10000, 40)\n",
        "(10000, 40)"
       ]
      },
      {
       "output_type": "stream",
       "stream": "stdout",
       "text": [
        "\n",
        "(10000, 40)\n",
        "(10000, 40)"
       ]
      },
      {
       "output_type": "stream",
       "stream": "stdout",
       "text": [
        "\n",
        "(10000, 40)\n",
        "(10000, 40)"
       ]
      },
      {
       "output_type": "stream",
       "stream": "stdout",
       "text": [
        "\n",
        "(10000, 40)\n",
        "(10000, 40)"
       ]
      },
      {
       "output_type": "stream",
       "stream": "stdout",
       "text": [
        "\n",
        "(10000, 40)\n",
        "(10000, 40)"
       ]
      },
      {
       "output_type": "stream",
       "stream": "stdout",
       "text": [
        "\n",
        "(10000, 40)\n",
        "(8857, 40)\n",
        "(9773, 40)\n",
        "(10000, 40)\n",
        "(9201, 40)"
       ]
      },
      {
       "output_type": "stream",
       "stream": "stdout",
       "text": [
        "\n",
        "(8765, 40)\n",
        "(10000, 40)\n",
        "(10000, 40)\n",
        "(10000, 40)"
       ]
      },
      {
       "output_type": "stream",
       "stream": "stdout",
       "text": [
        "\n",
        "(9996, 40)\n",
        "(10000, 40)\n",
        "(10000, 40)\n",
        "(10000, 40)\n",
        "(10000, 40)"
       ]
      },
      {
       "output_type": "stream",
       "stream": "stdout",
       "text": [
        "\n",
        "(9795, 40)\n",
        "(8399, 40)\n",
        "(8545, 40)\n",
        "(5694, 40)\n",
        "(9495, 40)\n",
        "(10000, 40)"
       ]
      },
      {
       "output_type": "stream",
       "stream": "stdout",
       "text": [
        "\n",
        "(10000, 40)\n",
        "(10000, 40)\n",
        "(10000, 40)\n",
        "(10000, 40)\n",
        "(10000, 40)"
       ]
      },
      {
       "output_type": "stream",
       "stream": "stdout",
       "text": [
        "\n",
        "(9988, 40)\n",
        "(7528, 40)\n",
        "(10000, 40)\n",
        "(10000, 40)\n",
        "(10000, 40)"
       ]
      },
      {
       "output_type": "stream",
       "stream": "stdout",
       "text": [
        "\n",
        "(10000, 40)\n",
        "(10000, 40)\n",
        "(10000, 40)\n",
        "(10000, 40)\n",
        "(10000, 40)"
       ]
      },
      {
       "output_type": "stream",
       "stream": "stdout",
       "text": [
        "\n",
        "(9954, 40)\n",
        "(10000, 40)\n",
        "(9434, 40)\n",
        "(9269, 40)\n",
        "(6690, 40)"
       ]
      },
      {
       "output_type": "stream",
       "stream": "stdout",
       "text": [
        "\n",
        "(3810, 40)\n",
        "(0, 40)\n",
        "(0, 40)\n",
        "(0, 40)\n",
        "(0, 40)\n",
        "(0, 40)\n",
        "(0, 40)\n",
        "(0, 40)\n",
        "(0, 40)\n",
        "(0, 40)\n",
        "(0, 40)\n",
        "(1981, 40)\n",
        "(10000, 40)\n",
        "(10000, 40)\n",
        "(10000, 40)"
       ]
      },
      {
       "output_type": "stream",
       "stream": "stdout",
       "text": [
        "\n",
        "(9202, 40)\n",
        "(9973, 40)\n",
        "(10000, 40)\n",
        "(10000, 40)\n",
        "(10000, 40)"
       ]
      },
      {
       "output_type": "stream",
       "stream": "stdout",
       "text": [
        "\n",
        "(10000, 40)\n",
        "(10000, 40)\n",
        "(10000, 40)\n",
        "(10000, 40)\n",
        "(10000, 40)"
       ]
      },
      {
       "output_type": "stream",
       "stream": "stdout",
       "text": [
        "\n",
        "(10000, 40)\n",
        "(10000, 40)\n",
        "(10000, 40)\n",
        "(10000, 40)\n",
        "(10000, 40)"
       ]
      },
      {
       "output_type": "stream",
       "stream": "stdout",
       "text": [
        "\n",
        "(9149, 40)\n",
        "(6175, 40)\n",
        "(10000, 40)\n",
        "(10000, 40)\n",
        "(10000, 40)"
       ]
      },
      {
       "output_type": "stream",
       "stream": "stdout",
       "text": [
        "\n",
        "(9980, 40)\n",
        "(7791, 40)\n",
        "(5115, 40)\n",
        "(8120, 40)\n",
        "(10000, 40)"
       ]
      },
      {
       "output_type": "stream",
       "stream": "stdout",
       "text": [
        "\n",
        "(10000, 40)\n",
        "(10000, 40)\n",
        "(10000, 40)\n",
        "(10000, 40)"
       ]
      },
      {
       "output_type": "stream",
       "stream": "stdout",
       "text": [
        "\n",
        "(10000, 40)\n",
        "(10000, 40)\n",
        "(10000, 40)\n",
        "(10000, 40)"
       ]
      },
      {
       "output_type": "stream",
       "stream": "stdout",
       "text": [
        "\n",
        "(10000, 40)\n",
        "(10000, 40)\n",
        "(9725, 40)\n",
        "(9977, 40)"
       ]
      },
      {
       "output_type": "stream",
       "stream": "stdout",
       "text": [
        "\n",
        "(9777, 40)\n",
        "(9972, 40)"
       ]
      },
      {
       "output_type": "stream",
       "stream": "stdout",
       "text": [
        "\n",
        "(7952, 40)\n",
        "(7760, 40)"
       ]
      },
      {
       "output_type": "stream",
       "stream": "stdout",
       "text": [
        "\n",
        "(8419, 40)\n",
        "(8098, 40)"
       ]
      },
      {
       "output_type": "stream",
       "stream": "stdout",
       "text": [
        "\n",
        "(10000, 40)\n",
        "(10000, 40)"
       ]
      },
      {
       "output_type": "stream",
       "stream": "stdout",
       "text": [
        "\n",
        "(10000, 40)\n",
        "(9991, 40)"
       ]
      },
      {
       "output_type": "stream",
       "stream": "stdout",
       "text": [
        "\n",
        "(9778, 40)\n",
        "(9407, 40)"
       ]
      },
      {
       "output_type": "stream",
       "stream": "stdout",
       "text": [
        "\n",
        "(9648, 40)\n",
        "(10000, 40)"
       ]
      },
      {
       "output_type": "stream",
       "stream": "stdout",
       "text": [
        "\n",
        "(9633, 40)\n",
        "(10000, 40)"
       ]
      },
      {
       "output_type": "stream",
       "stream": "stdout",
       "text": [
        "\n",
        "(9441, 40)\n",
        "(5276, 40)"
       ]
      },
      {
       "output_type": "stream",
       "stream": "stdout",
       "text": [
        "\n",
        "(6118, 40)\n",
        "(9585, 40)\n",
        "(7711, 40)"
       ]
      },
      {
       "output_type": "stream",
       "stream": "stdout",
       "text": [
        "\n",
        "(8284, 40)\n",
        "(9995, 40)\n",
        "(8641, 40)"
       ]
      },
      {
       "output_type": "stream",
       "stream": "stdout",
       "text": [
        "\n",
        "(10000, 40)\n",
        "(9980, 40)"
       ]
      },
      {
       "output_type": "stream",
       "stream": "stdout",
       "text": [
        "\n",
        "(6713, 40)\n",
        "(8226, 40)"
       ]
      },
      {
       "output_type": "stream",
       "stream": "stdout",
       "text": [
        "\n",
        "(10000, 40)\n",
        "(10000, 40)"
       ]
      },
      {
       "output_type": "stream",
       "stream": "stdout",
       "text": [
        "\n",
        "(10000, 40)\n",
        "(9736, 40)"
       ]
      },
      {
       "output_type": "stream",
       "stream": "stdout",
       "text": [
        "\n",
        "(9356, 40)\n",
        "(9687, 40)"
       ]
      },
      {
       "output_type": "stream",
       "stream": "stdout",
       "text": [
        "\n",
        "(10000, 40)\n",
        "(9371, 40)"
       ]
      },
      {
       "output_type": "stream",
       "stream": "stdout",
       "text": [
        "\n",
        "(9387, 40)\n",
        "(9402, 40)"
       ]
      },
      {
       "output_type": "stream",
       "stream": "stdout",
       "text": [
        "\n",
        "(10000, 40)\n",
        "(9973, 40)"
       ]
      },
      {
       "output_type": "stream",
       "stream": "stdout",
       "text": [
        "\n",
        "(4654, 40)\n",
        "(0, 40)\n",
        "(0, 40)\n",
        "(0, 40)\n",
        "(0, 40)\n",
        "(0, 40)"
       ]
      },
      {
       "output_type": "stream",
       "stream": "stdout",
       "text": [
        "\n",
        "(0, 40)\n",
        "(0, 40)\n",
        "(0, 40)\n",
        "(0, 40)\n",
        "(0, 40)\n",
        "(2014, 40)\n",
        "(10000, 40)\n",
        "(10000, 40)\n",
        "(10000, 40)"
       ]
      },
      {
       "output_type": "stream",
       "stream": "stdout",
       "text": [
        "\n",
        "(9975, 40)\n",
        "(8406, 40)"
       ]
      },
      {
       "output_type": "stream",
       "stream": "stdout",
       "text": [
        "\n",
        "(10000, 40)\n",
        "(10000, 40)"
       ]
      },
      {
       "output_type": "stream",
       "stream": "stdout",
       "text": [
        "\n",
        "(10000, 40)\n",
        "(10000, 40)"
       ]
      },
      {
       "output_type": "stream",
       "stream": "stdout",
       "text": [
        "\n",
        "(9095, 40)\n",
        "(9729, 40)"
       ]
      },
      {
       "output_type": "stream",
       "stream": "stdout",
       "text": [
        "\n",
        "(10000, 40)\n",
        "(10000, 40)"
       ]
      },
      {
       "output_type": "stream",
       "stream": "stdout",
       "text": [
        "\n",
        "(10000, 40)\n",
        "(10000, 40)"
       ]
      },
      {
       "output_type": "stream",
       "stream": "stdout",
       "text": [
        "\n",
        "(10000, 40)\n",
        "(10000, 40)"
       ]
      },
      {
       "output_type": "stream",
       "stream": "stdout",
       "text": [
        "\n",
        "(10000, 40)\n",
        "(10000, 40)"
       ]
      },
      {
       "output_type": "stream",
       "stream": "stdout",
       "text": [
        "\n",
        "(9341, 40)\n",
        "(8550, 40)"
       ]
      },
      {
       "output_type": "stream",
       "stream": "stdout",
       "text": [
        "\n",
        "(10000, 40)\n",
        "(10000, 40)"
       ]
      },
      {
       "output_type": "stream",
       "stream": "stdout",
       "text": [
        "\n",
        "(9528, 40)\n",
        "(8081, 40)"
       ]
      },
      {
       "output_type": "stream",
       "stream": "stdout",
       "text": [
        "\n",
        "(7227, 40)\n",
        "(2368, 40)\n",
        "(9513, 40)"
       ]
      },
      {
       "output_type": "stream",
       "stream": "stdout",
       "text": [
        "\n",
        "(10000, 40)\n",
        "(10000, 40)"
       ]
      },
      {
       "output_type": "stream",
       "stream": "stdout",
       "text": [
        "\n",
        "(10000, 40)\n",
        "(10000, 40)"
       ]
      },
      {
       "output_type": "stream",
       "stream": "stdout",
       "text": [
        "\n",
        "(10000, 40)\n",
        "(9635, 40)"
       ]
      },
      {
       "output_type": "stream",
       "stream": "stdout",
       "text": [
        "\n",
        "(8120, 40)\n",
        "(9890, 40)"
       ]
      },
      {
       "output_type": "stream",
       "stream": "stdout",
       "text": [
        "\n",
        "(10000, 40)\n",
        "(10000, 40)"
       ]
      },
      {
       "output_type": "stream",
       "stream": "stdout",
       "text": [
        "\n",
        "(10000, 40)\n",
        "(10000, 40)"
       ]
      },
      {
       "output_type": "stream",
       "stream": "stdout",
       "text": [
        "\n",
        "(10000, 40)\n",
        "(10000, 40)"
       ]
      },
      {
       "output_type": "stream",
       "stream": "stdout",
       "text": [
        "\n",
        "(10000, 40)\n",
        "(10000, 40)"
       ]
      },
      {
       "output_type": "stream",
       "stream": "stdout",
       "text": [
        "\n",
        "(9802, 40)\n",
        "(8875, 40)"
       ]
      },
      {
       "output_type": "stream",
       "stream": "stdout",
       "text": [
        "\n",
        "(7666, 40)\n",
        "(7794, 40)"
       ]
      },
      {
       "output_type": "stream",
       "stream": "stdout",
       "text": [
        "\n",
        "(8871, 40)\n",
        "(10000, 40)"
       ]
      },
      {
       "output_type": "stream",
       "stream": "stdout",
       "text": [
        "\n",
        "(10000, 40)\n",
        "(10000, 40)"
       ]
      },
      {
       "output_type": "stream",
       "stream": "stdout",
       "text": [
        "\n",
        "(8807, 40)\n",
        "(8243, 40)"
       ]
      },
      {
       "output_type": "stream",
       "stream": "stdout",
       "text": [
        "\n",
        "(6544, 40)\n",
        "(7442, 40)\n",
        "(5094, 40)"
       ]
      },
      {
       "output_type": "stream",
       "stream": "stdout",
       "text": [
        "\n",
        "(8614, 40)\n",
        "(7320, 40)\n",
        "(8128, 40)"
       ]
      },
      {
       "output_type": "stream",
       "stream": "stdout",
       "text": [
        "\n",
        "(9992, 40)"
       ]
      },
      {
       "output_type": "stream",
       "stream": "stdout",
       "text": [
        "\n",
        "(9294, 40)\n",
        "(8001, 40)\n",
        "(6791, 40)\n",
        "(8657, 40)"
       ]
      },
      {
       "output_type": "stream",
       "stream": "stdout",
       "text": [
        "\n",
        "(5372, 40)\n",
        "(4784, 40)\n",
        "(8664, 40)\n",
        "(10000, 40)\n",
        "(10000, 40)"
       ]
      },
      {
       "output_type": "stream",
       "stream": "stdout",
       "text": [
        "\n",
        "(9946, 40)\n",
        "(9406, 40)\n",
        "(10000, 40)"
       ]
      },
      {
       "output_type": "stream",
       "stream": "stdout",
       "text": [
        "\n",
        "(10000, 40)\n",
        "(9812, 40)\n",
        "(9491, 40)\n",
        "(10000, 40)"
       ]
      },
      {
       "output_type": "stream",
       "stream": "stdout",
       "text": [
        "\n",
        "(9672, 40)\n",
        "(10000, 40)\n",
        "(6835, 40)\n",
        "(0, 40)"
       ]
      },
      {
       "output_type": "stream",
       "stream": "stdout",
       "text": [
        "\n",
        "(0, 40)\n",
        "(0, 40)\n",
        "(0, 40)\n",
        "(0, 40)\n",
        "(0, 40)\n",
        "(0, 40)\n",
        "(0, 40)\n",
        "(0, 40)\n",
        "(0, 40)\n",
        "(4154, 40)\n",
        "(9953, 40)\n",
        "(10000, 40)"
       ]
      },
      {
       "output_type": "stream",
       "stream": "stdout",
       "text": [
        "\n",
        "(10000, 40)\n",
        "(10000, 40)\n",
        "(10000, 40)\n",
        "(9514, 40)\n",
        "(8188, 40)"
       ]
      },
      {
       "output_type": "stream",
       "stream": "stdout",
       "text": [
        "\n",
        "(10000, 40)\n",
        "(10000, 40)\n",
        "(10000, 40)"
       ]
      },
      {
       "output_type": "stream",
       "stream": "stdout",
       "text": [
        "\n",
        "(10000, 40)\n",
        "(9238, 40)"
       ]
      },
      {
       "output_type": "stream",
       "stream": "stdout",
       "text": [
        "\n",
        "(10000, 40)\n",
        "(10000, 40)"
       ]
      },
      {
       "output_type": "stream",
       "stream": "stdout",
       "text": [
        "\n",
        "(10000, 40)\n",
        "(10000, 40)\n",
        "(10000, 40)"
       ]
      },
      {
       "output_type": "stream",
       "stream": "stdout",
       "text": [
        "\n",
        "(10000, 40)\n",
        "(10000, 40)"
       ]
      },
      {
       "output_type": "stream",
       "stream": "stdout",
       "text": [
        "\n",
        "(10000, 40)\n",
        "(10000, 40)"
       ]
      },
      {
       "output_type": "stream",
       "stream": "stdout",
       "text": [
        "\n",
        "(9222, 40)\n",
        "(8131, 40)"
       ]
      },
      {
       "output_type": "stream",
       "stream": "stdout",
       "text": [
        "\n",
        "(7745, 40)\n",
        "(9007, 40)"
       ]
      },
      {
       "output_type": "stream",
       "stream": "stdout",
       "text": [
        "\n",
        "(10000, 40)\n",
        "(10000, 40)"
       ]
      },
      {
       "output_type": "stream",
       "stream": "stdout",
       "text": [
        "\n",
        "(8891, 40)\n",
        "(6871, 40)"
       ]
      },
      {
       "output_type": "stream",
       "stream": "stdout",
       "text": [
        "\n",
        "(9764, 40)\n",
        "(10000, 40)"
       ]
      },
      {
       "output_type": "stream",
       "stream": "stdout",
       "text": [
        "\n",
        "(10000, 40)\n",
        "(10000, 40)"
       ]
      },
      {
       "output_type": "stream",
       "stream": "stdout",
       "text": [
        "\n",
        "(10000, 40)\n",
        "(8188, 40)"
       ]
      },
      {
       "output_type": "stream",
       "stream": "stdout",
       "text": [
        "\n",
        "(7923, 40)\n",
        "(6462, 40)\n",
        "(9680, 40)"
       ]
      },
      {
       "output_type": "stream",
       "stream": "stdout",
       "text": [
        "\n",
        "(8862, 40)\n",
        "(10000, 40)"
       ]
      },
      {
       "output_type": "stream",
       "stream": "stdout",
       "text": [
        "\n",
        "(10000, 40)\n",
        "(9980, 40)"
       ]
      },
      {
       "output_type": "stream",
       "stream": "stdout",
       "text": [
        "\n",
        "(10000, 40)\n",
        "(10000, 40)"
       ]
      },
      {
       "output_type": "stream",
       "stream": "stdout",
       "text": [
        "\n",
        "(10000, 40)\n",
        "(10000, 40)"
       ]
      },
      {
       "output_type": "stream",
       "stream": "stdout",
       "text": [
        "\n",
        "(10000, 40)\n",
        "(9600, 40)"
       ]
      },
      {
       "output_type": "stream",
       "stream": "stdout",
       "text": [
        "\n",
        "(8683, 40)\n",
        "(9027, 40)"
       ]
      },
      {
       "output_type": "stream",
       "stream": "stdout",
       "text": [
        "\n",
        "(7715, 40)\n",
        "(10000, 40)"
       ]
      },
      {
       "output_type": "stream",
       "stream": "stdout",
       "text": [
        "\n",
        "(10000, 40)\n",
        "(8048, 40)"
       ]
      },
      {
       "output_type": "stream",
       "stream": "stdout",
       "text": [
        "\n",
        "(6108, 40)\n",
        "(3846, 40)\n",
        "(5677, 40)"
       ]
      },
      {
       "output_type": "stream",
       "stream": "stdout",
       "text": [
        "\n",
        "(9996, 40)\n",
        "(8736, 40)\n",
        "(9524, 40)"
       ]
      },
      {
       "output_type": "stream",
       "stream": "stdout",
       "text": [
        "\n",
        "(10000, 40)\n",
        "(10000, 40)\n",
        "(10000, 40)"
       ]
      },
      {
       "output_type": "stream",
       "stream": "stdout",
       "text": [
        "\n",
        "(10000, 40)\n",
        "(8150, 40)"
       ]
      },
      {
       "output_type": "stream",
       "stream": "stdout",
       "text": [
        "\n",
        "(9980, 40)\n",
        "(10000, 40)\n",
        "(9717, 40)"
       ]
      },
      {
       "output_type": "stream",
       "stream": "stdout",
       "text": [
        "\n",
        "(9581, 40)\n",
        "(10000, 40)\n",
        "(8993, 40)"
       ]
      },
      {
       "output_type": "stream",
       "stream": "stdout",
       "text": [
        "\n",
        "(8886, 40)\n",
        "(10000, 40)\n",
        "(10000, 40)"
       ]
      },
      {
       "output_type": "stream",
       "stream": "stdout",
       "text": [
        "\n",
        "(9709, 40)\n",
        "(9589, 40)"
       ]
      },
      {
       "output_type": "stream",
       "stream": "stdout",
       "text": [
        "\n",
        "(10000, 40)\n",
        "(10000, 40)"
       ]
      },
      {
       "output_type": "stream",
       "stream": "stdout",
       "text": [
        "\n",
        "(9967, 40)\n",
        "(10000, 40)"
       ]
      },
      {
       "output_type": "stream",
       "stream": "stdout",
       "text": [
        "\n",
        "(3585, 40)\n",
        "(0, 40)\n",
        "(0, 40)\n",
        "(0, 40)\n",
        "(0, 40)\n",
        "(0, 40)\n",
        "(0, 40)\n",
        "(0, 40)"
       ]
      },
      {
       "output_type": "stream",
       "stream": "stdout",
       "text": [
        "\n",
        "(0, 40)\n",
        "(0, 40)\n",
        "(0, 40)\n",
        "(7459, 40)\n",
        "(10000, 40)\n",
        "(10000, 40)"
       ]
      },
      {
       "output_type": "stream",
       "stream": "stdout",
       "text": [
        "\n",
        "(10000, 40)\n",
        "(10000, 40)"
       ]
      },
      {
       "output_type": "stream",
       "stream": "stdout",
       "text": [
        "\n",
        "(10000, 40)\n",
        "(9944, 40)"
       ]
      },
      {
       "output_type": "stream",
       "stream": "stdout",
       "text": [
        "\n",
        "(8502, 40)"
       ]
      },
      {
       "output_type": "stream",
       "stream": "stdout",
       "text": [
        "\n",
        "(8275, 40)\n",
        "(10000, 40)\n",
        "(8826, 40)\n",
        "(7493, 40)\n",
        "(8559, 40)"
       ]
      },
      {
       "output_type": "stream",
       "stream": "stdout",
       "text": [
        "\n",
        "(10000, 40)\n",
        "(10000, 40)\n",
        "(10000, 40)\n",
        "(10000, 40)\n",
        "(10000, 40)\n",
        "(10000, 40)"
       ]
      },
      {
       "output_type": "stream",
       "stream": "stdout",
       "text": [
        "\n",
        "(10000, 40)\n",
        "(10000, 40)\n",
        "(10000, 40)\n",
        "(9973, 40)\n",
        "(9714, 40)"
       ]
      },
      {
       "output_type": "stream",
       "stream": "stdout",
       "text": [
        "\n",
        "(10000, 40)\n",
        "(10000, 40)\n",
        "(10000, 40)\n",
        "(10000, 40)\n",
        "(10000, 40)"
       ]
      },
      {
       "output_type": "stream",
       "stream": "stdout",
       "text": [
        "\n",
        "(9599, 40)\n",
        "(3865, 40)\n",
        "(9205, 40)\n",
        "(10000, 40)\n",
        "(10000, 40)\n",
        "(10000, 40)"
       ]
      },
      {
       "output_type": "stream",
       "stream": "stdout",
       "text": [
        "\n",
        "(10000, 40)\n",
        "(9983, 40)"
       ]
      },
      {
       "output_type": "stream",
       "stream": "stdout",
       "text": [
        "\n",
        "(9390, 40)\n",
        "(6120, 40)"
       ]
      },
      {
       "output_type": "stream",
       "stream": "stdout",
       "text": [
        "\n",
        "(5999, 40)\n",
        "(10000, 40)\n",
        "(10000, 40)"
       ]
      },
      {
       "output_type": "stream",
       "stream": "stdout",
       "text": [
        "\n",
        "(9737, 40)\n",
        "(9995, 40)"
       ]
      },
      {
       "output_type": "stream",
       "stream": "stdout",
       "text": [
        "\n",
        "(10000, 40)\n",
        "(9898, 40)"
       ]
      },
      {
       "output_type": "stream",
       "stream": "stdout",
       "text": [
        "\n",
        "(9997, 40)\n",
        "(10000, 40)"
       ]
      },
      {
       "output_type": "stream",
       "stream": "stdout",
       "text": [
        "\n",
        "(10000, 40)\n",
        "(10000, 40)"
       ]
      },
      {
       "output_type": "stream",
       "stream": "stdout",
       "text": [
        "\n",
        "(8142, 40)\n",
        "(5291, 40)"
       ]
      },
      {
       "output_type": "stream",
       "stream": "stdout",
       "text": [
        "\n",
        "(6133, 40)\n",
        "(6913, 40)\n",
        "(3630, 40)"
       ]
      },
      {
       "output_type": "stream",
       "stream": "stdout",
       "text": [
        "\n",
        "(9374, 40)\n",
        "(8888, 40)"
       ]
      },
      {
       "output_type": "stream",
       "stream": "stdout",
       "text": [
        "\n",
        "(10000, 40)\n",
        "(10000, 40)"
       ]
      },
      {
       "output_type": "stream",
       "stream": "stdout",
       "text": [
        "\n",
        "(9922, 40)\n",
        "(10000, 40)"
       ]
      },
      {
       "output_type": "stream",
       "stream": "stdout",
       "text": [
        "\n",
        "(10000, 40)\n",
        "(10000, 40)"
       ]
      },
      {
       "output_type": "stream",
       "stream": "stdout",
       "text": [
        "\n",
        "(10000, 40)\n",
        "(10000, 40)"
       ]
      },
      {
       "output_type": "stream",
       "stream": "stdout",
       "text": [
        "\n",
        "(9945, 40)\n",
        "(10000, 40)"
       ]
      },
      {
       "output_type": "stream",
       "stream": "stdout",
       "text": [
        "\n",
        "(10000, 40)\n",
        "(9496, 40)"
       ]
      },
      {
       "output_type": "stream",
       "stream": "stdout",
       "text": [
        "\n",
        "(2975, 40)\n",
        "(1700, 40)\n",
        "(286, 40)\n",
        "(1881, 40)\n",
        "(10000, 40)"
       ]
      },
      {
       "output_type": "stream",
       "stream": "stdout",
       "text": [
        "\n",
        "(10000, 40)\n",
        "(10000, 40)"
       ]
      },
      {
       "output_type": "stream",
       "stream": "stdout",
       "text": [
        "\n",
        "(10000, 40)\n",
        "(9352, 40)"
       ]
      },
      {
       "output_type": "stream",
       "stream": "stdout",
       "text": [
        "\n",
        "(9144, 40)\n",
        "(10000, 40)"
       ]
      },
      {
       "output_type": "stream",
       "stream": "stdout",
       "text": [
        "\n",
        "(7111, 40)\n",
        "(245, 40)"
       ]
      },
      {
       "output_type": "stream",
       "stream": "stdout",
       "text": [
        "\n",
        "(0, 40)\n",
        "(0, 40)\n",
        "(0, 40)\n",
        "(0, 40)\n",
        "(0, 40)"
       ]
      },
      {
       "output_type": "stream",
       "stream": "stdout",
       "text": [
        "\n",
        "(0, 40)\n",
        "(0, 40)\n",
        "(0, 40)\n",
        "(0, 40)\n",
        "(0, 40)\n",
        "(860, 40)\n",
        "(8319, 40)\n",
        "(10000, 40)\n",
        "(10000, 40)"
       ]
      },
      {
       "output_type": "stream",
       "stream": "stdout",
       "text": [
        "\n",
        "(10000, 40)\n",
        "(9463, 40)\n",
        "(9031, 40)\n",
        "(10000, 40)"
       ]
      },
      {
       "output_type": "stream",
       "stream": "stdout",
       "text": [
        "\n",
        "(8941, 40)\n",
        "(7455, 40)\n",
        "(9651, 40)\n",
        "(9991, 40)"
       ]
      },
      {
       "output_type": "stream",
       "stream": "stdout",
       "text": [
        "\n",
        "(7899, 40)\n",
        "(7160, 40)\n",
        "(8861, 40)\n",
        "(9972, 40)"
       ]
      },
      {
       "output_type": "stream",
       "stream": "stdout",
       "text": [
        "\n",
        "(9463, 40)\n",
        "(9343, 40)\n",
        "(10000, 40)\n",
        "(10000, 40)"
       ]
      },
      {
       "output_type": "stream",
       "stream": "stdout",
       "text": [
        "\n",
        "(10000, 40)\n",
        "(10000, 40)\n",
        "(10000, 40)\n",
        "(10000, 40)"
       ]
      },
      {
       "output_type": "stream",
       "stream": "stdout",
       "text": [
        "\n",
        "(10000, 40)\n",
        "(10000, 40)\n",
        "(10000, 40)\n",
        "(9499, 40)"
       ]
      },
      {
       "output_type": "stream",
       "stream": "stdout",
       "text": [
        "\n",
        "(8106, 40)\n",
        "(6413, 40)\n",
        "(236, 40)\n",
        "(1506, 40)\n",
        "(8038, 40)\n",
        "(10000, 40)"
       ]
      },
      {
       "output_type": "stream",
       "stream": "stdout",
       "text": [
        "\n",
        "(9998, 40)\n",
        "(10000, 40)\n",
        "(10000, 40)\n",
        "(10000, 40)"
       ]
      },
      {
       "output_type": "stream",
       "stream": "stdout",
       "text": [
        "\n",
        "(10000, 40)\n",
        "(8246, 40)\n",
        "(6436, 40)\n",
        "(9994, 40)"
       ]
      },
      {
       "output_type": "stream",
       "stream": "stdout",
       "text": [
        "\n",
        "(10000, 40)\n",
        "(9471, 40)"
       ]
      },
      {
       "output_type": "stream",
       "stream": "stdout",
       "text": [
        "\n",
        "(10000, 40)\n",
        "(8421, 40)"
       ]
      },
      {
       "output_type": "stream",
       "stream": "stdout",
       "text": [
        "\n",
        "(9135, 40)\n",
        "(9592, 40)\n",
        "(10000, 40)\n",
        "(10000, 40)"
       ]
      },
      {
       "output_type": "stream",
       "stream": "stdout",
       "text": [
        "\n",
        "(8888, 40)\n",
        "(9556, 40)\n",
        "(10000, 40)\n",
        "(10000, 40)"
       ]
      },
      {
       "output_type": "stream",
       "stream": "stdout",
       "text": [
        "\n",
        "(7138, 40)\n",
        "(9948, 40)\n",
        "(9845, 40)\n",
        "(9273, 40)"
       ]
      },
      {
       "output_type": "stream",
       "stream": "stdout",
       "text": [
        "\n",
        "(10000, 40)\n",
        "(10000, 40)"
       ]
      },
      {
       "output_type": "stream",
       "stream": "stdout",
       "text": [
        "\n",
        "(10000, 40)\n",
        "(10000, 40)\n",
        "(10000, 40)"
       ]
      },
      {
       "output_type": "stream",
       "stream": "stdout",
       "text": [
        "\n",
        "(10000, 40)\n",
        "(10000, 40)"
       ]
      },
      {
       "output_type": "stream",
       "stream": "stdout",
       "text": [
        "\n",
        "(10000, 40)\n",
        "(10000, 40)"
       ]
      },
      {
       "output_type": "stream",
       "stream": "stdout",
       "text": [
        "\n",
        "(10000, 40)\n",
        "(9768, 40)"
       ]
      },
      {
       "output_type": "stream",
       "stream": "stdout",
       "text": [
        "\n",
        "(7129, 40)\n",
        "(64, 40)\n",
        "(0, 40)\n",
        "(786, 40)\n",
        "(3530, 40)\n",
        "(939, 40)\n",
        "(4912, 40)"
       ]
      },
      {
       "output_type": "stream",
       "stream": "stdout",
       "text": [
        "\n",
        "(3278, 40)\n",
        "(121, 40)\n",
        "(22, 40)\n",
        "(3207, 40)\n",
        "(1357, 40)\n",
        "(0, 40)\n",
        "(0, 40)\n",
        "(0, 40)\n",
        "(0, 40)\n",
        "(0, 40)\n",
        "(0, 40)"
       ]
      },
      {
       "output_type": "stream",
       "stream": "stdout",
       "text": [
        "\n",
        "(0, 40)\n",
        "(0, 40)\n",
        "(0, 40)\n",
        "(0, 40)\n",
        "(0, 40)\n",
        "(0, 40)\n",
        "(5296, 40)\n",
        "(10000, 40)\n",
        "(10000, 40)"
       ]
      },
      {
       "output_type": "stream",
       "stream": "stdout",
       "text": [
        "\n",
        "(10000, 40)\n",
        "(10000, 40)\n",
        "(10000, 40)\n",
        "(10000, 40)\n",
        "(10000, 40)"
       ]
      },
      {
       "output_type": "stream",
       "stream": "stdout",
       "text": [
        "\n",
        "(9167, 40)\n",
        "(10000, 40)"
       ]
      },
      {
       "output_type": "stream",
       "stream": "stdout",
       "text": [
        "\n",
        "(10000, 40)\n",
        "(10000, 40)"
       ]
      },
      {
       "output_type": "stream",
       "stream": "stdout",
       "text": [
        "\n",
        "(10000, 40)\n",
        "(7707, 40)"
       ]
      },
      {
       "output_type": "stream",
       "stream": "stdout",
       "text": [
        "\n",
        "(4560, 40)\n",
        "(5843, 40)\n",
        "(6316, 40)"
       ]
      },
      {
       "output_type": "stream",
       "stream": "stdout",
       "text": [
        "\n",
        "(9791, 40)\n",
        "(10000, 40)"
       ]
      },
      {
       "output_type": "stream",
       "stream": "stdout",
       "text": [
        "\n",
        "(10000, 40)\n",
        "(10000, 40)"
       ]
      },
      {
       "output_type": "stream",
       "stream": "stdout",
       "text": [
        "\n",
        "(10000, 40)\n",
        "(10000, 40)"
       ]
      },
      {
       "output_type": "stream",
       "stream": "stdout",
       "text": [
        "\n",
        "(10000, 40)\n",
        "(9892, 40)"
       ]
      },
      {
       "output_type": "stream",
       "stream": "stdout",
       "text": [
        "\n",
        "(4591, 40)\n",
        "(1610, 40)\n",
        "(2561, 40)\n",
        "(4930, 40)"
       ]
      },
      {
       "output_type": "stream",
       "stream": "stdout",
       "text": [
        "\n",
        "(6442, 40)\n",
        "(6418, 40)\n",
        "(699, 40)"
       ]
      },
      {
       "output_type": "stream",
       "stream": "stdout",
       "text": [
        "\n",
        "(3187, 40)\n",
        "(7410, 40)\n",
        "(10000, 40)\n",
        "(10000, 40)"
       ]
      },
      {
       "output_type": "stream",
       "stream": "stdout",
       "text": [
        "\n",
        "(10000, 40)\n",
        "(10000, 40)"
       ]
      },
      {
       "output_type": "stream",
       "stream": "stdout",
       "text": [
        "\n",
        "(10000, 40)\n",
        "(8199, 40)"
       ]
      },
      {
       "output_type": "stream",
       "stream": "stdout",
       "text": [
        "\n",
        "(7369, 40)\n",
        "(8732, 40)\n",
        "(8680, 40)"
       ]
      },
      {
       "output_type": "stream",
       "stream": "stdout",
       "text": [
        "\n",
        "(8132, 40)\n",
        "(9867, 40)"
       ]
      },
      {
       "output_type": "stream",
       "stream": "stdout",
       "text": [
        "\n",
        "(10000, 40)\n",
        "(10000, 40)"
       ]
      },
      {
       "output_type": "stream",
       "stream": "stdout",
       "text": [
        "\n",
        "(10000, 40)\n",
        "(10000, 40)"
       ]
      },
      {
       "output_type": "stream",
       "stream": "stdout",
       "text": [
        "\n",
        "(10000, 40)\n",
        "(10000, 40)"
       ]
      },
      {
       "output_type": "stream",
       "stream": "stdout",
       "text": [
        "\n",
        "(9964, 40)\n",
        "(9808, 40)\n",
        "(8435, 40)"
       ]
      },
      {
       "output_type": "stream",
       "stream": "stdout",
       "text": [
        "\n",
        "(9820, 40)\n",
        "(10000, 40)"
       ]
      },
      {
       "output_type": "stream",
       "stream": "stdout",
       "text": [
        "\n",
        "(9987, 40)\n",
        "(10000, 40)"
       ]
      },
      {
       "output_type": "stream",
       "stream": "stdout",
       "text": [
        "\n",
        "(10000, 40)\n",
        "(10000, 40)"
       ]
      },
      {
       "output_type": "stream",
       "stream": "stdout",
       "text": [
        "\n",
        "(10000, 40)\n",
        "(10000, 40)"
       ]
      },
      {
       "output_type": "stream",
       "stream": "stdout",
       "text": [
        "\n",
        "(10000, 40)\n",
        "(10000, 40)"
       ]
      },
      {
       "output_type": "stream",
       "stream": "stdout",
       "text": [
        "\n",
        "(10000, 40)\n",
        "(10000, 40)"
       ]
      },
      {
       "output_type": "stream",
       "stream": "stdout",
       "text": [
        "\n",
        "(10000, 40)\n",
        "(10000, 40)"
       ]
      },
      {
       "output_type": "stream",
       "stream": "stdout",
       "text": [
        "\n",
        "(9853, 40)\n",
        "(2970, 40)"
       ]
      },
      {
       "output_type": "stream",
       "stream": "stdout",
       "text": [
        "\n",
        "(0, 40)\n",
        "(0, 40)\n",
        "(0, 40)\n",
        "(0, 40)\n",
        "(0, 40)\n",
        "(0, 40)\n",
        "(0, 40)\n",
        "(0, 40)\n",
        "(0, 40)\n",
        "(0, 40)\n",
        "(0, 40)\n",
        "(0, 40)\n",
        "(0, 40)\n",
        "(0, 40)\n",
        "(0, 40)\n",
        "(0, 40)\n",
        "(0, 40)\n",
        "(0, 40)\n",
        "(0, 40)\n",
        "(0, 40)\n",
        "(0, 40)"
       ]
      },
      {
       "output_type": "stream",
       "stream": "stdout",
       "text": [
        "\n",
        "(0, 40)\n",
        "(2261, 40)\n",
        "(10000, 40)\n",
        "(10000, 40)\n",
        "(10000, 40)\n",
        "(10000, 40)\n",
        "(10000, 40)"
       ]
      },
      {
       "output_type": "stream",
       "stream": "stdout",
       "text": [
        "\n",
        "(10000, 40)\n",
        "(9859, 40)\n",
        "(9947, 40)\n",
        "(10000, 40)\n",
        "(10000, 40)"
       ]
      },
      {
       "output_type": "stream",
       "stream": "stdout",
       "text": [
        "\n",
        "(10000, 40)\n",
        "(10000, 40)\n",
        "(10000, 40)"
       ]
      },
      {
       "output_type": "stream",
       "stream": "stdout",
       "text": [
        "\n",
        "(10000, 40)"
       ]
      },
      {
       "output_type": "stream",
       "stream": "stdout",
       "text": [
        "\n",
        "(9112, 40)\n",
        "(6056, 40)\n",
        "(6297, 40)\n",
        "(9865, 40)\n",
        "(9977, 40)\n",
        "(9990, 40)"
       ]
      },
      {
       "output_type": "stream",
       "stream": "stdout",
       "text": [
        "\n",
        "(10000, 40)\n",
        "(10000, 40)\n",
        "(10000, 40)\n",
        "(4937, 40)\n",
        "(6988, 40)\n",
        "(10000, 40)"
       ]
      },
      {
       "output_type": "stream",
       "stream": "stdout",
       "text": [
        "\n",
        "(10000, 40)\n",
        "(10000, 40)\n",
        "(10000, 40)\n",
        "(10000, 40)\n",
        "(8152, 40)"
       ]
      },
      {
       "output_type": "stream",
       "stream": "stdout",
       "text": [
        "\n",
        "(3896, 40)\n",
        "(3639, 40)\n",
        "(10000, 40)\n",
        "(10000, 40)\n",
        "(9601, 40)\n",
        "(9957, 40)"
       ]
      },
      {
       "output_type": "stream",
       "stream": "stdout",
       "text": [
        "\n",
        "(9623, 40)\n",
        "(9331, 40)\n",
        "(9937, 40)\n",
        "(9196, 40)\n",
        "(5934, 40)"
       ]
      },
      {
       "output_type": "stream",
       "stream": "stdout",
       "text": [
        "\n",
        "(8266, 40)\n",
        "(10000, 40)\n",
        "(10000, 40)\n",
        "(10000, 40)\n",
        "(10000, 40)"
       ]
      },
      {
       "output_type": "stream",
       "stream": "stdout",
       "text": [
        "\n",
        "(10000, 40)\n",
        "(10000, 40)\n",
        "(10000, 40)\n",
        "(9496, 40)\n",
        "(10000, 40)"
       ]
      },
      {
       "output_type": "stream",
       "stream": "stdout",
       "text": [
        "\n",
        "(9107, 40)\n",
        "(8915, 40)\n",
        "(10000, 40)\n",
        "(10000, 40)\n",
        "(10000, 40)"
       ]
      },
      {
       "output_type": "stream",
       "stream": "stdout",
       "text": [
        "\n",
        "(9331, 40)\n",
        "(10000, 40)\n",
        "(9263, 40)\n",
        "(10000, 40)\n",
        "(10000, 40)"
       ]
      },
      {
       "output_type": "stream",
       "stream": "stdout",
       "text": [
        "\n",
        "(10000, 40)\n",
        "(10000, 40)\n",
        "(10000, 40)\n",
        "(10000, 40)\n",
        "(10000, 40)"
       ]
      },
      {
       "output_type": "stream",
       "stream": "stdout",
       "text": [
        "\n",
        "(10000, 40)\n",
        "(9392, 40)\n",
        "(1691, 40)\n",
        "(0, 40)\n",
        "(0, 40)\n",
        "(0, 40)\n",
        "(0, 40)\n",
        "(0, 40)\n",
        "(0, 40)\n",
        "(0, 40)\n",
        "(0, 40)"
       ]
      },
      {
       "output_type": "stream",
       "stream": "stdout",
       "text": [
        "\n",
        "(0, 40)\n",
        "(0, 40)\n",
        "(0, 40)\n",
        "(0, 40)\n",
        "(0, 40)\n",
        "(0, 40)\n",
        "(0, 40)\n",
        "(0, 40)\n",
        "(0, 40)\n",
        "(0, 40)\n",
        "(0, 40)\n",
        "(0, 40)\n",
        "(0, 40)\n",
        "(5860, 40)\n",
        "(10000, 40)\n",
        "(10000, 40)"
       ]
      },
      {
       "output_type": "stream",
       "stream": "stdout",
       "text": [
        "\n",
        "(10000, 40)\n",
        "(9930, 40)\n",
        "(9988, 40)\n",
        "(10000, 40)\n",
        "(10000, 40)"
       ]
      },
      {
       "output_type": "stream",
       "stream": "stdout",
       "text": [
        "\n",
        "(10000, 40)\n",
        "(10000, 40)\n",
        "(10000, 40)\n",
        "(9983, 40)"
       ]
      },
      {
       "output_type": "stream",
       "stream": "stdout",
       "text": [
        "\n",
        "(9281, 40)\n",
        "(10000, 40)"
       ]
      },
      {
       "output_type": "stream",
       "stream": "stdout",
       "text": [
        "\n",
        "(9658, 40)\n",
        "(9946, 40)"
       ]
      },
      {
       "output_type": "stream",
       "stream": "stdout",
       "text": [
        "\n",
        "(9713, 40)\n",
        "(6706, 40)"
       ]
      },
      {
       "output_type": "stream",
       "stream": "stdout",
       "text": [
        "\n",
        "(2575, 40)\n",
        "(4381, 40)\n",
        "(5076, 40)\n",
        "(6795, 40)"
       ]
      },
      {
       "output_type": "stream",
       "stream": "stdout",
       "text": [
        "\n",
        "(6808, 40)\n",
        "(4615, 40)\n",
        "(1740, 40)"
       ]
      },
      {
       "output_type": "stream",
       "stream": "stdout",
       "text": [
        "\n",
        "(9406, 40)\n",
        "(10000, 40)\n",
        "(10000, 40)"
       ]
      },
      {
       "output_type": "stream",
       "stream": "stdout",
       "text": [
        "\n",
        "(10000, 40)\n",
        "(10000, 40)"
       ]
      },
      {
       "output_type": "stream",
       "stream": "stdout",
       "text": [
        "\n",
        "(10000, 40)\n",
        "(10000, 40)"
       ]
      },
      {
       "output_type": "stream",
       "stream": "stdout",
       "text": [
        "\n",
        "(10000, 40)\n",
        "(10000, 40)"
       ]
      },
      {
       "output_type": "stream",
       "stream": "stdout",
       "text": [
        "\n",
        "(9571, 40)\n",
        "(5406, 40)"
       ]
      },
      {
       "output_type": "stream",
       "stream": "stdout",
       "text": [
        "\n",
        "(1582, 40)\n",
        "(555, 40)\n",
        "(1769, 40)\n",
        "(2743, 40)\n",
        "(3836, 40)\n",
        "(9623, 40)\n",
        "(7704, 40)"
       ]
      },
      {
       "output_type": "stream",
       "stream": "stdout",
       "text": [
        "\n",
        "(9815, 40)\n",
        "(9922, 40)"
       ]
      },
      {
       "output_type": "stream",
       "stream": "stdout",
       "text": [
        "\n",
        "(10000, 40)\n",
        "(10000, 40)"
       ]
      },
      {
       "output_type": "stream",
       "stream": "stdout",
       "text": [
        "\n",
        "(10000, 40)\n",
        "(10000, 40)"
       ]
      },
      {
       "output_type": "stream",
       "stream": "stdout",
       "text": [
        "\n",
        "(10000, 40)\n",
        "(10000, 40)"
       ]
      },
      {
       "output_type": "stream",
       "stream": "stdout",
       "text": [
        "\n",
        "(9962, 40)\n",
        "(10000, 40)"
       ]
      },
      {
       "output_type": "stream",
       "stream": "stdout",
       "text": [
        "\n",
        "(10000, 40)\n",
        "(8872, 40)"
       ]
      },
      {
       "output_type": "stream",
       "stream": "stdout",
       "text": [
        "\n",
        "(9955, 40)\n",
        "(10000, 40)"
       ]
      },
      {
       "output_type": "stream",
       "stream": "stdout",
       "text": [
        "\n",
        "(10000, 40)\n",
        "(9600, 40)"
       ]
      },
      {
       "output_type": "stream",
       "stream": "stdout",
       "text": [
        "\n",
        "(8401, 40)\n",
        "(9776, 40)"
       ]
      },
      {
       "output_type": "stream",
       "stream": "stdout",
       "text": [
        "\n",
        "(9177, 40)\n",
        "(10000, 40)"
       ]
      },
      {
       "output_type": "stream",
       "stream": "stdout",
       "text": [
        "\n",
        "(10000, 40)\n",
        "(10000, 40)"
       ]
      },
      {
       "output_type": "stream",
       "stream": "stdout",
       "text": [
        "\n",
        "(10000, 40)\n",
        "(10000, 40)"
       ]
      },
      {
       "output_type": "stream",
       "stream": "stdout",
       "text": [
        "\n",
        "(10000, 40)\n",
        "(10000, 40)"
       ]
      },
      {
       "output_type": "stream",
       "stream": "stdout",
       "text": [
        "\n",
        "(10000, 40)\n",
        "(7189, 40)"
       ]
      },
      {
       "output_type": "stream",
       "stream": "stdout",
       "text": [
        "\n",
        "(0, 40)\n",
        "(0, 40)\n",
        "(0, 40)\n",
        "(0, 40)\n",
        "(0, 40)\n",
        "(0, 40)\n",
        "(0, 40)\n",
        "(0, 40)\n",
        "(0, 40)\n",
        "(0, 40)\n",
        "(0, 40)"
       ]
      },
      {
       "output_type": "stream",
       "stream": "stdout",
       "text": [
        "\n",
        "(0, 40)\n",
        "(0, 40)\n",
        "(0, 40)\n",
        "(0, 40)\n",
        "(0, 40)\n",
        "(0, 40)\n",
        "(0, 40)\n",
        "(0, 40)\n",
        "(0, 40)\n",
        "(0, 40)\n",
        "(7624, 40)\n",
        "(10000, 40)\n",
        "(10000, 40)"
       ]
      },
      {
       "output_type": "stream",
       "stream": "stdout",
       "text": [
        "\n",
        "(10000, 40)\n",
        "(9963, 40)\n",
        "(8739, 40)"
       ]
      },
      {
       "output_type": "stream",
       "stream": "stdout",
       "text": [
        "\n",
        "(10000, 40)\n",
        "(10000, 40)"
       ]
      },
      {
       "output_type": "stream",
       "stream": "stdout",
       "text": [
        "\n",
        "(10000, 40)\n",
        "(9984, 40)"
       ]
      },
      {
       "output_type": "stream",
       "stream": "stdout",
       "text": [
        "\n",
        "(9755, 40)\n",
        "(8204, 40)"
       ]
      },
      {
       "output_type": "stream",
       "stream": "stdout",
       "text": [
        "\n",
        "(8465, 40)\n",
        "(8496, 40)"
       ]
      },
      {
       "output_type": "stream",
       "stream": "stdout",
       "text": [
        "\n",
        "(8755, 40)\n",
        "(8727, 40)"
       ]
      },
      {
       "output_type": "stream",
       "stream": "stdout",
       "text": [
        "\n",
        "(9397, 40)\n",
        "(8679, 40)"
       ]
      },
      {
       "output_type": "stream",
       "stream": "stdout",
       "text": [
        "\n",
        "(8931, 40)\n",
        "(9859, 40)"
       ]
      },
      {
       "output_type": "stream",
       "stream": "stdout",
       "text": [
        "\n",
        "(7990, 40)\n",
        "(8469, 40)"
       ]
      },
      {
       "output_type": "stream",
       "stream": "stdout",
       "text": [
        "\n",
        "(9996, 40)\n",
        "(10000, 40)"
       ]
      },
      {
       "output_type": "stream",
       "stream": "stdout",
       "text": [
        "\n",
        "(8283, 40)\n",
        "(7175, 40)"
       ]
      },
      {
       "output_type": "stream",
       "stream": "stdout",
       "text": [
        "\n",
        "(10000, 40)\n",
        "(10000, 40)"
       ]
      },
      {
       "output_type": "stream",
       "stream": "stdout",
       "text": [
        "\n",
        "(10000, 40)\n",
        "(10000, 40)"
       ]
      },
      {
       "output_type": "stream",
       "stream": "stdout",
       "text": [
        "\n",
        "(10000, 40)\n",
        "(10000, 40)"
       ]
      },
      {
       "output_type": "stream",
       "stream": "stdout",
       "text": [
        "\n",
        "(10000, 40)\n",
        "(10000, 40)"
       ]
      },
      {
       "output_type": "stream",
       "stream": "stdout",
       "text": [
        "\n",
        "(10000, 40)\n",
        "(4422, 40)"
       ]
      },
      {
       "output_type": "stream",
       "stream": "stdout",
       "text": [
        "\n",
        "(0, 40)\n",
        "(0, 40)\n",
        "(0, 40)\n",
        "(0, 40)\n",
        "(0, 40)\n",
        "(3862, 40)\n",
        "(8727, 40)\n",
        "(10000, 40)"
       ]
      },
      {
       "output_type": "stream",
       "stream": "stdout",
       "text": [
        "\n",
        "(10000, 40)\n",
        "(10000, 40)"
       ]
      },
      {
       "output_type": "stream",
       "stream": "stdout",
       "text": [
        "\n",
        "(10000, 40)\n",
        "(10000, 40)"
       ]
      },
      {
       "output_type": "stream",
       "stream": "stdout",
       "text": [
        "\n",
        "(10000, 40)\n",
        "(10000, 40)"
       ]
      },
      {
       "output_type": "stream",
       "stream": "stdout",
       "text": [
        "\n",
        "(10000, 40)"
       ]
      },
      {
       "output_type": "stream",
       "stream": "stdout",
       "text": [
        "\n",
        "(10000, 40)\n",
        "(9874, 40)\n",
        "(8671, 40)\n",
        "(9410, 40)"
       ]
      },
      {
       "output_type": "stream",
       "stream": "stdout",
       "text": [
        "\n",
        "(10000, 40)\n",
        "(10000, 40)"
       ]
      },
      {
       "output_type": "stream",
       "stream": "stdout",
       "text": [
        "\n",
        "(10000, 40)\n",
        "(10000, 40)"
       ]
      },
      {
       "output_type": "stream",
       "stream": "stdout",
       "text": [
        "\n",
        "(8128, 40)\n",
        "(8043, 40)"
       ]
      },
      {
       "output_type": "stream",
       "stream": "stdout",
       "text": [
        "\n",
        "(8649, 40)\n",
        "(10000, 40)"
       ]
      },
      {
       "output_type": "stream",
       "stream": "stdout",
       "text": [
        "\n",
        "(10000, 40)\n",
        "(10000, 40)"
       ]
      },
      {
       "output_type": "stream",
       "stream": "stdout",
       "text": [
        "\n",
        "(10000, 40)\n",
        "(10000, 40)"
       ]
      },
      {
       "output_type": "stream",
       "stream": "stdout",
       "text": [
        "\n",
        "(10000, 40)\n",
        "(10000, 40)"
       ]
      },
      {
       "output_type": "stream",
       "stream": "stdout",
       "text": [
        "\n",
        "(10000, 40)\n",
        "(9055, 40)"
       ]
      },
      {
       "output_type": "stream",
       "stream": "stdout",
       "text": [
        "\n",
        "(0, 40)\n",
        "(0, 40)\n",
        "(0, 40)\n",
        "(0, 40)\n",
        "(0, 40)\n",
        "(0, 40)\n",
        "(0, 40)\n",
        "(0, 40)\n",
        "(0, 40)"
       ]
      },
      {
       "output_type": "stream",
       "stream": "stdout",
       "text": [
        "\n",
        "(0, 40)\n",
        "(0, 40)\n",
        "(0, 40)\n",
        "(0, 40)\n",
        "(0, 40)\n",
        "(0, 40)\n",
        "(0, 40)\n",
        "(0, 40)\n",
        "(0, 40)\n",
        "(0, 40)\n",
        "(126, 40)\n",
        "(5016, 40)\n",
        "(9891, 40)"
       ]
      },
      {
       "output_type": "stream",
       "stream": "stdout",
       "text": [
        "\n",
        "(10000, 40)\n",
        "(10000, 40)\n",
        "(10000, 40)\n",
        "(10000, 40)"
       ]
      },
      {
       "output_type": "stream",
       "stream": "stdout",
       "text": [
        "\n",
        "(9546, 40)\n",
        "(7274, 40)\n",
        "(10000, 40)\n",
        "(10000, 40)"
       ]
      },
      {
       "output_type": "stream",
       "stream": "stdout",
       "text": [
        "\n",
        "(9395, 40)\n",
        "(9104, 40)\n",
        "(9425, 40)\n",
        "(9775, 40)"
       ]
      },
      {
       "output_type": "stream",
       "stream": "stdout",
       "text": [
        "\n",
        "(10000, 40)\n",
        "(10000, 40)\n",
        "(10000, 40)"
       ]
      },
      {
       "output_type": "stream",
       "stream": "stdout",
       "text": [
        "\n",
        "(9135, 40)\n",
        "(9314, 40)\n",
        "(10000, 40)\n",
        "(9410, 40)"
       ]
      },
      {
       "output_type": "stream",
       "stream": "stdout",
       "text": [
        "\n",
        "(9680, 40)\n",
        "(10000, 40)\n",
        "(10000, 40)"
       ]
      },
      {
       "output_type": "stream",
       "stream": "stdout",
       "text": [
        "\n",
        "(10000, 40)\n",
        "(9984, 40)\n",
        "(3414, 40)"
       ]
      },
      {
       "output_type": "stream",
       "stream": "stdout",
       "text": [
        "\n",
        "(10000, 40)\n",
        "(10000, 40)\n",
        "(10000, 40)\n",
        "(10000, 40)"
       ]
      },
      {
       "output_type": "stream",
       "stream": "stdout",
       "text": [
        "\n",
        "(10000, 40)\n",
        "(10000, 40)\n",
        "(10000, 40)\n",
        "(10000, 40)"
       ]
      },
      {
       "output_type": "stream",
       "stream": "stdout",
       "text": [
        "\n",
        "(10000, 40)\n",
        "(8912, 40)\n",
        "(8987, 40)"
       ]
      },
      {
       "output_type": "stream",
       "stream": "stdout",
       "text": [
        "\n",
        "(5664, 40)\n",
        "(1639, 40)\n",
        "(581, 40)\n",
        "(0, 40)\n",
        "(1, 40)\n",
        "(5148, 40)\n",
        "(10000, 40)\n",
        "(8996, 40)"
       ]
      },
      {
       "output_type": "stream",
       "stream": "stdout",
       "text": [
        "\n",
        "(9450, 40)\n",
        "(10000, 40)\n",
        "(10000, 40)\n",
        "(10000, 40)"
       ]
      },
      {
       "output_type": "stream",
       "stream": "stdout",
       "text": [
        "\n",
        "(10000, 40)\n",
        "(10000, 40)\n",
        "(10000, 40)"
       ]
      },
      {
       "output_type": "stream",
       "stream": "stdout",
       "text": [
        "\n",
        "(10000, 40)\n",
        "(10000, 40)\n",
        "(10000, 40)\n",
        "(10000, 40)"
       ]
      },
      {
       "output_type": "stream",
       "stream": "stdout",
       "text": [
        "\n",
        "(10000, 40)\n",
        "(10000, 40)\n",
        "(10000, 40)\n",
        "(10000, 40)"
       ]
      },
      {
       "output_type": "stream",
       "stream": "stdout",
       "text": [
        "\n",
        "(7980, 40)\n",
        "(8276, 40)\n",
        "(6878, 40)\n",
        "(10000, 40)"
       ]
      },
      {
       "output_type": "stream",
       "stream": "stdout",
       "text": [
        "\n",
        "(10000, 40)\n",
        "(10000, 40)\n",
        "(10000, 40)"
       ]
      },
      {
       "output_type": "stream",
       "stream": "stdout",
       "text": [
        "\n",
        "(10000, 40)\n",
        "(9976, 40)\n",
        "(8847, 40)"
       ]
      },
      {
       "output_type": "stream",
       "stream": "stdout",
       "text": [
        "\n",
        "(8351, 40)\n",
        "(0, 40)\n",
        "(0, 40)\n",
        "(0, 40)\n",
        "(0, 40)\n",
        "(0, 40)\n",
        "(0, 40)\n",
        "(0, 40)\n",
        "(0, 40)\n",
        "(0, 40)\n",
        "(0, 40)\n",
        "(0, 40)\n",
        "(0, 40)\n",
        "(0, 40)\n",
        "(0, 40)"
       ]
      },
      {
       "output_type": "stream",
       "stream": "stdout",
       "text": [
        "\n",
        "(0, 40)\n",
        "(0, 40)\n",
        "(0, 40)\n",
        "(0, 40)\n",
        "(0, 40)\n",
        "(5692, 40)\n",
        "(10000, 40)\n",
        "(10000, 40)\n",
        "(10000, 40)"
       ]
      },
      {
       "output_type": "stream",
       "stream": "stdout",
       "text": [
        "\n",
        "(10000, 40)\n",
        "(10000, 40)\n",
        "(10000, 40)\n",
        "(9866, 40)\n",
        "(9413, 40)"
       ]
      },
      {
       "output_type": "stream",
       "stream": "stdout",
       "text": [
        "\n",
        "(8597, 40)\n",
        "(8671, 40)\n",
        "(10000, 40)\n",
        "(10000, 40)"
       ]
      },
      {
       "output_type": "stream",
       "stream": "stdout",
       "text": [
        "\n",
        "(10000, 40)\n",
        "(10000, 40)\n",
        "(10000, 40)\n",
        "(10000, 40)"
       ]
      },
      {
       "output_type": "stream",
       "stream": "stdout",
       "text": [
        "\n",
        "(10000, 40)\n",
        "(8282, 40)\n",
        "(10000, 40)\n",
        "(10000, 40)"
       ]
      },
      {
       "output_type": "stream",
       "stream": "stdout",
       "text": [
        "\n",
        "(10000, 40)\n",
        "(10000, 40)\n",
        "(10000, 40)"
       ]
      },
      {
       "output_type": "stream",
       "stream": "stdout",
       "text": [
        "\n",
        "(10000, 40)\n",
        "(10000, 40)\n",
        "(9560, 40)"
       ]
      },
      {
       "output_type": "stream",
       "stream": "stdout",
       "text": [
        "\n",
        "(1803, 40)\n",
        "(10000, 40)\n",
        "(10000, 40)\n",
        "(10000, 40)\n",
        "(10000, 40)"
       ]
      },
      {
       "output_type": "stream",
       "stream": "stdout",
       "text": [
        "\n",
        "(10000, 40)\n",
        "(10000, 40)\n",
        "(10000, 40)"
       ]
      },
      {
       "output_type": "stream",
       "stream": "stdout",
       "text": [
        "\n",
        "(10000, 40)\n",
        "(10000, 40)\n",
        "(10000, 40)\n",
        "(10000, 40)"
       ]
      },
      {
       "output_type": "stream",
       "stream": "stdout",
       "text": [
        "\n",
        "(9926, 40)\n",
        "(9663, 40)\n",
        "(9814, 40)\n",
        "(5385, 40)"
       ]
      },
      {
       "output_type": "stream",
       "stream": "stdout",
       "text": [
        "\n",
        "(1902, 40)\n",
        "(3278, 40)\n",
        "(10000, 40)\n",
        "(9669, 40)\n",
        "(5440, 40)"
       ]
      },
      {
       "output_type": "stream",
       "stream": "stdout",
       "text": [
        "\n",
        "(9364, 40)\n",
        "(10000, 40)\n",
        "(10000, 40)"
       ]
      },
      {
       "output_type": "stream",
       "stream": "stdout",
       "text": [
        "\n",
        "(10000, 40)\n",
        "(10000, 40)\n",
        "(10000, 40)"
       ]
      },
      {
       "output_type": "stream",
       "stream": "stdout",
       "text": [
        "\n",
        "(10000, 40)\n",
        "(10000, 40)\n",
        "(10000, 40)\n",
        "(10000, 40)\n",
        "(10000, 40)"
       ]
      },
      {
       "output_type": "stream",
       "stream": "stdout",
       "text": [
        "\n",
        "(10000, 40)\n",
        "(10000, 40)\n",
        "(10000, 40)\n",
        "(10000, 40)\n",
        "(9718, 40)"
       ]
      },
      {
       "output_type": "stream",
       "stream": "stdout",
       "text": [
        "\n",
        "(5842, 40)\n",
        "(8803, 40)\n",
        "(10000, 40)\n",
        "(10000, 40)\n",
        "(10000, 40)"
       ]
      },
      {
       "output_type": "stream",
       "stream": "stdout",
       "text": [
        "\n",
        "(10000, 40)\n",
        "(10000, 40)\n",
        "(10000, 40)\n",
        "(7615, 40)\n",
        "(0, 40)\n",
        "(0, 40)\n",
        "(0, 40)\n",
        "(0, 40)"
       ]
      },
      {
       "output_type": "stream",
       "stream": "stdout",
       "text": [
        "\n",
        "(0, 40)\n",
        "(0, 40)\n",
        "(0, 40)\n",
        "(0, 40)\n",
        "(0, 40)\n",
        "(0, 40)\n",
        "(0, 40)\n",
        "(0, 40)\n",
        "(0, 40)\n",
        "(0, 40)\n",
        "(0, 40)\n",
        "(0, 40)\n",
        "(0, 40)\n",
        "(0, 40)\n",
        "(19, 40)\n",
        "(8868, 40)"
       ]
      },
      {
       "output_type": "stream",
       "stream": "stdout",
       "text": [
        "\n",
        "(10000, 40)\n",
        "(10000, 40)\n",
        "(10000, 40)\n",
        "(10000, 40)\n",
        "(10000, 40)"
       ]
      },
      {
       "output_type": "stream",
       "stream": "stdout",
       "text": [
        "\n",
        "(9454, 40)\n",
        "(10000, 40)\n",
        "(10000, 40)\n",
        "(10000, 40)\n",
        "(9791, 40)"
       ]
      },
      {
       "output_type": "stream",
       "stream": "stdout",
       "text": [
        "\n",
        "(10000, 40)\n",
        "(10000, 40)\n",
        "(10000, 40)\n",
        "(10000, 40)\n",
        "(10000, 40)"
       ]
      },
      {
       "output_type": "stream",
       "stream": "stdout",
       "text": [
        "\n",
        "(10000, 40)\n",
        "(9043, 40)\n",
        "(9752, 40)\n",
        "(10000, 40)"
       ]
      },
      {
       "output_type": "stream",
       "stream": "stdout",
       "text": [
        "\n",
        "(10000, 40)\n",
        "(10000, 40)\n",
        "(10000, 40)\n",
        "(10000, 40)\n",
        "(10000, 40)"
       ]
      },
      {
       "output_type": "stream",
       "stream": "stdout",
       "text": [
        "\n",
        "(9832, 40)\n",
        "(2386, 40)\n",
        "(2765, 40)\n",
        "(8032, 40)\n",
        "(9856, 40)\n",
        "(10000, 40)\n",
        "(10000, 40)"
       ]
      },
      {
       "output_type": "stream",
       "stream": "stdout",
       "text": [
        "\n",
        "(10000, 40)\n",
        "(10000, 40)\n",
        "(10000, 40)\n",
        "(10000, 40)\n",
        "(10000, 40)"
       ]
      },
      {
       "output_type": "stream",
       "stream": "stdout",
       "text": [
        "\n",
        "(10000, 40)\n",
        "(10000, 40)\n",
        "(10000, 40)\n",
        "(10000, 40)\n",
        "(10000, 40)"
       ]
      },
      {
       "output_type": "stream",
       "stream": "stdout",
       "text": [
        "\n",
        "(10000, 40)\n",
        "(10000, 40)\n",
        "(7488, 40)\n",
        "(2337, 40)\n",
        "(1406, 40)\n",
        "(2216, 40)\n",
        "(6562, 40)"
       ]
      },
      {
       "output_type": "stream",
       "stream": "stdout",
       "text": [
        "\n",
        "(10000, 40)\n",
        "(10000, 40)"
       ]
      },
      {
       "output_type": "stream",
       "stream": "stdout",
       "text": [
        "\n",
        "(10000, 40)\n",
        "(10000, 40)"
       ]
      },
      {
       "output_type": "stream",
       "stream": "stdout",
       "text": [
        "\n",
        "(10000, 40)\n",
        "(10000, 40)"
       ]
      },
      {
       "output_type": "stream",
       "stream": "stdout",
       "text": [
        "\n",
        "(10000, 40)\n",
        "(10000, 40)"
       ]
      },
      {
       "output_type": "stream",
       "stream": "stdout",
       "text": [
        "\n",
        "(9229, 40)\n",
        "(9851, 40)"
       ]
      },
      {
       "output_type": "stream",
       "stream": "stdout",
       "text": [
        "\n",
        "(9288, 40)\n",
        "(9920, 40)"
       ]
      },
      {
       "output_type": "stream",
       "stream": "stdout",
       "text": [
        "\n",
        "(9168, 40)\n",
        "(7859, 40)"
       ]
      },
      {
       "output_type": "stream",
       "stream": "stdout",
       "text": [
        "\n",
        "(9542, 40)\n",
        "(9861, 40)"
       ]
      },
      {
       "output_type": "stream",
       "stream": "stdout",
       "text": [
        "\n",
        "(4998, 40)\n",
        "(9857, 40)\n",
        "(10000, 40)"
       ]
      },
      {
       "output_type": "stream",
       "stream": "stdout",
       "text": [
        "\n",
        "(10000, 40)\n",
        "(10000, 40)"
       ]
      },
      {
       "output_type": "stream",
       "stream": "stdout",
       "text": [
        "\n",
        "(10000, 40)\n",
        "(9782, 40)"
       ]
      },
      {
       "output_type": "stream",
       "stream": "stdout",
       "text": [
        "\n",
        "(4495, 40)\n",
        "(0, 40)"
       ]
      },
      {
       "output_type": "stream",
       "stream": "stdout",
       "text": [
        "\n",
        "(0, 40)\n",
        "(0, 40)\n",
        "(0, 40)\n",
        "(0, 40)\n",
        "(0, 40)\n",
        "(0, 40)\n",
        "(0, 40)\n",
        "(0, 40)\n",
        "(0, 40)\n",
        "(0, 40)\n",
        "(0, 40)\n",
        "(0, 40)\n",
        "(0, 40)\n",
        "(0, 40)\n",
        "(0, 40)\n",
        "(0, 40)\n",
        "(0, 40)"
       ]
      },
      {
       "output_type": "stream",
       "stream": "stdout",
       "text": [
        "\n",
        "(1610, 40)\n",
        "(10000, 40)\n",
        "(10000, 40)\n",
        "(10000, 40)\n",
        "(8974, 40)"
       ]
      },
      {
       "output_type": "stream",
       "stream": "stdout",
       "text": [
        "\n",
        "(9729, 40)\n",
        "(9578, 40)"
       ]
      },
      {
       "output_type": "stream",
       "stream": "stdout",
       "text": [
        "\n",
        "(7265, 40)\n",
        "(9450, 40)"
       ]
      },
      {
       "output_type": "stream",
       "stream": "stdout",
       "text": [
        "\n",
        "(10000, 40)\n",
        "(10000, 40)"
       ]
      },
      {
       "output_type": "stream",
       "stream": "stdout",
       "text": [
        "\n",
        "(10000, 40)\n",
        "(10000, 40)"
       ]
      },
      {
       "output_type": "stream",
       "stream": "stdout",
       "text": [
        "\n",
        "(10000, 40)\n",
        "(10000, 40)"
       ]
      },
      {
       "output_type": "stream",
       "stream": "stdout",
       "text": [
        "\n",
        "(10000, 40)\n",
        "(10000, 40)"
       ]
      },
      {
       "output_type": "stream",
       "stream": "stdout",
       "text": [
        "\n",
        "(10000, 40)\n",
        "(10000, 40)"
       ]
      },
      {
       "output_type": "stream",
       "stream": "stdout",
       "text": [
        "\n",
        "(10000, 40)\n",
        "(10000, 40)"
       ]
      },
      {
       "output_type": "stream",
       "stream": "stdout",
       "text": [
        "\n",
        "(10000, 40)\n",
        "(10000, 40)"
       ]
      },
      {
       "output_type": "stream",
       "stream": "stdout",
       "text": [
        "\n",
        "(10000, 40)\n",
        "(10000, 40)"
       ]
      },
      {
       "output_type": "stream",
       "stream": "stdout",
       "text": [
        "\n",
        "(9209, 40)\n",
        "(4080, 40)"
       ]
      },
      {
       "output_type": "stream",
       "stream": "stdout",
       "text": [
        "\n",
        "(1906, 40)\n",
        "(8537, 40)\n",
        "(9661, 40)"
       ]
      },
      {
       "output_type": "stream",
       "stream": "stdout",
       "text": [
        "\n",
        "(7727, 40)\n",
        "(10000, 40)"
       ]
      },
      {
       "output_type": "stream",
       "stream": "stdout",
       "text": [
        "\n",
        "(10000, 40)\n",
        "(10000, 40)"
       ]
      },
      {
       "output_type": "stream",
       "stream": "stdout",
       "text": [
        "\n",
        "(10000, 40)\n",
        "(10000, 40)"
       ]
      },
      {
       "output_type": "stream",
       "stream": "stdout",
       "text": [
        "\n",
        "(10000, 40)\n",
        "(10000, 40)"
       ]
      },
      {
       "output_type": "stream",
       "stream": "stdout",
       "text": [
        "\n",
        "(10000, 40)\n",
        "(10000, 40)"
       ]
      },
      {
       "output_type": "stream",
       "stream": "stdout",
       "text": [
        "\n",
        "(10000, 40)\n",
        "(10000, 40)"
       ]
      },
      {
       "output_type": "stream",
       "stream": "stdout",
       "text": [
        "\n",
        "(10000, 40)\n",
        "(10000, 40)"
       ]
      },
      {
       "output_type": "stream",
       "stream": "stdout",
       "text": [
        "\n",
        "(9941, 40)\n",
        "(9224, 40)"
       ]
      },
      {
       "output_type": "stream",
       "stream": "stdout",
       "text": [
        "\n",
        "(3835, 40)\n",
        "(548, 40)\n",
        "(0, 40)\n",
        "(678, 40)\n",
        "(9472, 40)"
       ]
      },
      {
       "output_type": "stream",
       "stream": "stdout",
       "text": [
        "\n",
        "(10000, 40)\n",
        "(9460, 40)"
       ]
      },
      {
       "output_type": "stream",
       "stream": "stdout",
       "text": [
        "\n",
        "(10000, 40)\n",
        "(10000, 40)"
       ]
      },
      {
       "output_type": "stream",
       "stream": "stdout",
       "text": [
        "\n",
        "(9999, 40)\n",
        "(10000, 40)"
       ]
      },
      {
       "output_type": "stream",
       "stream": "stdout",
       "text": [
        "\n",
        "(10000, 40)\n",
        "(9813, 40)"
       ]
      },
      {
       "output_type": "stream",
       "stream": "stdout",
       "text": [
        "\n",
        "(9031, 40)\n",
        "(9888, 40)"
       ]
      },
      {
       "output_type": "stream",
       "stream": "stdout",
       "text": [
        "\n",
        "(9319, 40)\n",
        "(9802, 40)"
       ]
      },
      {
       "output_type": "stream",
       "stream": "stdout",
       "text": [
        "\n",
        "(10000, 40)\n",
        "(7911, 40)"
       ]
      },
      {
       "output_type": "stream",
       "stream": "stdout",
       "text": [
        "\n",
        "(7838, 40)\n",
        "(5597, 40)\n",
        "(8520, 40)"
       ]
      },
      {
       "output_type": "stream",
       "stream": "stdout",
       "text": [
        "\n",
        "(9988, 40)\n",
        "(10000, 40)"
       ]
      },
      {
       "output_type": "stream",
       "stream": "stdout",
       "text": [
        "\n",
        "(10000, 40)\n",
        "(10000, 40)"
       ]
      },
      {
       "output_type": "stream",
       "stream": "stdout",
       "text": [
        "\n",
        "(8200, 40)\n",
        "(294, 40)"
       ]
      },
      {
       "output_type": "stream",
       "stream": "stdout",
       "text": [
        "\n",
        "(0, 40)\n",
        "(0, 40)\n",
        "(0, 40)\n",
        "(0, 40)\n",
        "(0, 40)\n",
        "(0, 40)\n",
        "(0, 40)\n",
        "(0, 40)\n",
        "(0, 40)\n",
        "(0, 40)\n",
        "(0, 40)\n",
        "(0, 40)\n",
        "(0, 40)\n",
        "(0, 40)\n",
        "(0, 40)\n",
        "(0, 40)\n",
        "(0, 40)\n",
        "(0, 40)\n",
        "(130, 40)\n",
        "(3481, 40)"
       ]
      },
      {
       "output_type": "stream",
       "stream": "stdout",
       "text": [
        "\n",
        "(8717, 40)\n",
        "(10000, 40)\n",
        "(9997, 40)\n",
        "(8168, 40)"
       ]
      },
      {
       "output_type": "stream",
       "stream": "stdout",
       "text": [
        "\n",
        "(8418, 40)\n",
        "(10000, 40)"
       ]
      },
      {
       "output_type": "stream",
       "stream": "stdout",
       "text": [
        "\n",
        "(9312, 40)\n",
        "(8388, 40)"
       ]
      },
      {
       "output_type": "stream",
       "stream": "stdout",
       "text": [
        "\n",
        "(9502, 40)\n",
        "(10000, 40)"
       ]
      },
      {
       "output_type": "stream",
       "stream": "stdout",
       "text": [
        "\n",
        "(10000, 40)\n",
        "(9142, 40)"
       ]
      },
      {
       "output_type": "stream",
       "stream": "stdout",
       "text": [
        "\n",
        "(9978, 40)\n",
        "(10000, 40)"
       ]
      },
      {
       "output_type": "stream",
       "stream": "stdout",
       "text": [
        "\n",
        "(10000, 40)\n",
        "(10000, 40)"
       ]
      },
      {
       "output_type": "stream",
       "stream": "stdout",
       "text": [
        "\n",
        "(10000, 40)\n",
        "(10000, 40)\n",
        "(10000, 40)"
       ]
      },
      {
       "output_type": "stream",
       "stream": "stdout",
       "text": [
        "\n",
        "(10000, 40)\n",
        "(10000, 40)"
       ]
      },
      {
       "output_type": "stream",
       "stream": "stdout",
       "text": [
        "\n",
        "(10000, 40)\n",
        "(10000, 40)\n",
        "(6463, 40)\n",
        "(3380, 40)\n",
        "(9690, 40)\n",
        "(9529, 40)"
       ]
      },
      {
       "output_type": "stream",
       "stream": "stdout",
       "text": [
        "\n",
        "(10000, 40)\n",
        "(8913, 40)\n",
        "(9097, 40)\n",
        "(10000, 40)\n",
        "(10000, 40)"
       ]
      },
      {
       "output_type": "stream",
       "stream": "stdout",
       "text": [
        "\n",
        "(10000, 40)\n",
        "(10000, 40)\n",
        "(10000, 40)\n",
        "(10000, 40)\n",
        "(10000, 40)\n",
        "(10000, 40)"
       ]
      },
      {
       "output_type": "stream",
       "stream": "stdout",
       "text": [
        "\n",
        "(10000, 40)\n",
        "(10000, 40)\n",
        "(10000, 40)\n",
        "(10000, 40)\n",
        "(10000, 40)\n",
        "(9734, 40)"
       ]
      },
      {
       "output_type": "stream",
       "stream": "stdout",
       "text": [
        "\n",
        "(8588, 40)\n",
        "(6998, 40)\n",
        "(796, 40)\n",
        "(0, 40)\n",
        "(4201, 40)\n",
        "(9080, 40)\n",
        "(6187, 40)\n",
        "(8389, 40)\n",
        "(5987, 40)"
       ]
      },
      {
       "output_type": "stream",
       "stream": "stdout",
       "text": [
        "\n",
        "(5750, 40)\n",
        "(9758, 40)\n",
        "(10000, 40)\n",
        "(10000, 40)\n",
        "(10000, 40)\n",
        "(10000, 40)"
       ]
      },
      {
       "output_type": "stream",
       "stream": "stdout",
       "text": [
        "\n",
        "(10000, 40)\n",
        "(10000, 40)\n",
        "(10000, 40)\n",
        "(10000, 40)\n",
        "(10000, 40)\n",
        "(10000, 40)"
       ]
      },
      {
       "output_type": "stream",
       "stream": "stdout",
       "text": [
        "\n",
        "(9899, 40)\n",
        "(6399, 40)\n",
        "(9708, 40)\n",
        "(10000, 40)\n",
        "(10000, 40)\n",
        "(3577, 40)"
       ]
      },
      {
       "output_type": "stream",
       "stream": "stdout",
       "text": [
        "\n",
        "(0, 40)\n",
        "(0, 40)\n",
        "(0, 40)\n",
        "(0, 40)\n",
        "(0, 40)\n",
        "(0, 40)\n",
        "(0, 40)\n",
        "(0, 40)\n",
        "(0, 40)\n",
        "(0, 40)\n",
        "(0, 40)\n",
        "(0, 40)\n",
        "(0, 40)\n",
        "(0, 40)\n",
        "(0, 40)\n",
        "(0, 40)\n",
        "(0, 40)\n",
        "(0, 40)\n",
        "(0, 40)\n",
        "(0, 40)"
       ]
      },
      {
       "output_type": "stream",
       "stream": "stdout",
       "text": [
        "\n",
        "(0, 40)\n",
        "(167, 40)\n",
        "(4808, 40)\n",
        "(9311, 40)\n",
        "(10000, 40)\n",
        "(10000, 40)\n",
        "(10000, 40)\n",
        "(10000, 40)"
       ]
      },
      {
       "output_type": "stream",
       "stream": "stdout",
       "text": [
        "\n",
        "(9350, 40)\n",
        "(8774, 40)\n",
        "(8278, 40)\n",
        "(9678, 40)\n",
        "(9881, 40)\n",
        "(8318, 40)"
       ]
      },
      {
       "output_type": "stream",
       "stream": "stdout",
       "text": [
        "\n",
        "(7700, 40)\n",
        "(9299, 40)\n",
        "(10000, 40)\n",
        "(10000, 40)\n",
        "(10000, 40)\n",
        "(10000, 40)"
       ]
      },
      {
       "output_type": "stream",
       "stream": "stdout",
       "text": [
        "\n",
        "(10000, 40)\n",
        "(9283, 40)\n",
        "(6237, 40)"
       ]
      },
      {
       "output_type": "stream",
       "stream": "stdout",
       "text": [
        "\n",
        "(3896, 40)\n",
        "(7807, 40)\n",
        "(9979, 40)"
       ]
      },
      {
       "output_type": "stream",
       "stream": "stdout",
       "text": [
        "\n",
        "(10000, 40)\n",
        "(10000, 40)"
       ]
      },
      {
       "output_type": "stream",
       "stream": "stdout",
       "text": [
        "\n",
        "(10000, 40)\n",
        "(10000, 40)"
       ]
      },
      {
       "output_type": "stream",
       "stream": "stdout",
       "text": [
        "\n",
        "(8222, 40)\n",
        "(9493, 40)"
       ]
      },
      {
       "output_type": "stream",
       "stream": "stdout",
       "text": [
        "\n",
        "(10000, 40)\n",
        "(10000, 40)"
       ]
      },
      {
       "output_type": "stream",
       "stream": "stdout",
       "text": [
        "\n",
        "(10000, 40)\n",
        "(10000, 40)"
       ]
      },
      {
       "output_type": "stream",
       "stream": "stdout",
       "text": [
        "\n",
        "(10000, 40)\n",
        "(10000, 40)"
       ]
      },
      {
       "output_type": "stream",
       "stream": "stdout",
       "text": [
        "\n",
        "(10000, 40)\n",
        "(10000, 40)"
       ]
      },
      {
       "output_type": "stream",
       "stream": "stdout",
       "text": [
        "\n",
        "(10000, 40)\n",
        "(10000, 40)"
       ]
      },
      {
       "output_type": "stream",
       "stream": "stdout",
       "text": [
        "\n",
        "(10000, 40)\n",
        "(10000, 40)"
       ]
      },
      {
       "output_type": "stream",
       "stream": "stdout",
       "text": [
        "\n",
        "(9977, 40)\n",
        "(10000, 40)"
       ]
      },
      {
       "output_type": "stream",
       "stream": "stdout",
       "text": [
        "\n",
        "(10000, 40)\n",
        "(8407, 40)"
       ]
      },
      {
       "output_type": "stream",
       "stream": "stdout",
       "text": [
        "\n",
        "(8395, 40)\n",
        "(6046, 40)"
       ]
      },
      {
       "output_type": "stream",
       "stream": "stdout",
       "text": [
        "\n",
        "(3474, 40)\n",
        "(656, 40)\n",
        "(0, 40)\n",
        "(0, 40)\n",
        "(0, 40)\n",
        "(637, 40)\n",
        "(2979, 40)\n",
        "(6037, 40)"
       ]
      },
      {
       "output_type": "stream",
       "stream": "stdout",
       "text": [
        "\n",
        "(6131, 40)\n",
        "(7361, 40)\n",
        "(10000, 40)"
       ]
      },
      {
       "output_type": "stream",
       "stream": "stdout",
       "text": [
        "\n",
        "(10000, 40)\n",
        "(10000, 40)"
       ]
      },
      {
       "output_type": "stream",
       "stream": "stdout",
       "text": [
        "\n",
        "(10000, 40)\n",
        "(10000, 40)"
       ]
      },
      {
       "output_type": "stream",
       "stream": "stdout",
       "text": [
        "\n",
        "(10000, 40)\n",
        "(9635, 40)"
       ]
      },
      {
       "output_type": "stream",
       "stream": "stdout",
       "text": [
        "\n",
        "(5525, 40)\n",
        "(6722, 40)"
       ]
      },
      {
       "output_type": "stream",
       "stream": "stdout",
       "text": [
        "\n",
        "(9272, 40)\n",
        "(10000, 40)"
       ]
      },
      {
       "output_type": "stream",
       "stream": "stdout",
       "text": [
        "\n",
        "(862, 40)\n",
        "(0, 40)\n",
        "(0, 40)\n",
        "(0, 40)"
       ]
      },
      {
       "output_type": "stream",
       "stream": "stdout",
       "text": [
        "\n",
        "(0, 40)\n",
        "(0, 40)\n",
        "(0, 40)\n",
        "(0, 40)\n",
        "(0, 40)\n",
        "(0, 40)\n",
        "(0, 40)\n",
        "(0, 40)\n",
        "(0, 40)\n",
        "(0, 40)\n",
        "(0, 40)\n",
        "(0, 40)\n",
        "(0, 40)\n",
        "(0, 40)\n",
        "(0, 40)\n",
        "(0, 40)\n",
        "(0, 40)\n",
        "(0, 40)\n",
        "(0, 40)"
       ]
      },
      {
       "output_type": "stream",
       "stream": "stdout",
       "text": [
        "\n",
        "(0, 40)\n",
        "(4766, 40)\n",
        "(10000, 40)\n",
        "(10000, 40)\n",
        "(10000, 40)\n",
        "(10000, 40)"
       ]
      },
      {
       "output_type": "stream",
       "stream": "stdout",
       "text": [
        "\n",
        "(9978, 40)\n",
        "(10000, 40)\n",
        "(10000, 40)\n",
        "(10000, 40)"
       ]
      },
      {
       "output_type": "stream",
       "stream": "stdout",
       "text": [
        "\n",
        "(10000, 40)\n",
        "(10000, 40)\n",
        "(10000, 40)\n",
        "(8826, 40)\n",
        "(8768, 40)"
       ]
      },
      {
       "output_type": "stream",
       "stream": "stdout",
       "text": [
        "\n",
        "(8930, 40)\n",
        "(9108, 40)\n",
        "(9216, 40)\n",
        "(5780, 40)\n",
        "(5896, 40)\n",
        "(10000, 40)"
       ]
      },
      {
       "output_type": "stream",
       "stream": "stdout",
       "text": [
        "\n",
        "(10000, 40)\n",
        "(9970, 40)\n",
        "(10000, 40)\n",
        "(10000, 40)"
       ]
      },
      {
       "output_type": "stream",
       "stream": "stdout",
       "text": [
        "\n",
        "(10000, 40)\n",
        "(10000, 40)\n",
        "(10000, 40)\n",
        "(10000, 40)"
       ]
      },
      {
       "output_type": "stream",
       "stream": "stdout",
       "text": [
        "\n",
        "(7986, 40)\n",
        "(9320, 40)\n",
        "(10000, 40)\n",
        "(9493, 40)\n",
        "(10000, 40)"
       ]
      },
      {
       "output_type": "stream",
       "stream": "stdout",
       "text": [
        "\n",
        "(10000, 40)\n",
        "(10000, 40)"
       ]
      },
      {
       "output_type": "stream",
       "stream": "stdout",
       "text": [
        "\n",
        "(10000, 40)\n",
        "(10000, 40)"
       ]
      },
      {
       "output_type": "stream",
       "stream": "stdout",
       "text": [
        "\n",
        "(10000, 40)\n",
        "(10000, 40)"
       ]
      },
      {
       "output_type": "stream",
       "stream": "stdout",
       "text": [
        "\n",
        "(10000, 40)\n",
        "(10000, 40)"
       ]
      },
      {
       "output_type": "stream",
       "stream": "stdout",
       "text": [
        "\n",
        "(10000, 40)\n",
        "(10000, 40)"
       ]
      },
      {
       "output_type": "stream",
       "stream": "stdout",
       "text": [
        "\n",
        "(10000, 40)\n",
        "(9511, 40)"
       ]
      },
      {
       "output_type": "stream",
       "stream": "stdout",
       "text": [
        "\n",
        "(7182, 40)\n",
        "(9656, 40)"
       ]
      },
      {
       "output_type": "stream",
       "stream": "stdout",
       "text": [
        "\n",
        "(9210, 40)\n",
        "(6972, 40)"
       ]
      },
      {
       "output_type": "stream",
       "stream": "stdout",
       "text": [
        "\n",
        "(2320, 40)\n",
        "(2129, 40)\n",
        "(659, 40)\n",
        "(0, 40)\n",
        "(0, 40)\n",
        "(0, 40)\n",
        "(0, 40)\n",
        "(4, 40)"
       ]
      },
      {
       "output_type": "stream",
       "stream": "stdout",
       "text": [
        "\n",
        "(2025, 40)\n",
        "(7791, 40)\n",
        "(10000, 40)\n",
        "(9396, 40)"
       ]
      },
      {
       "output_type": "stream",
       "stream": "stdout",
       "text": [
        "\n",
        "(9998, 40)\n",
        "(9548, 40)"
       ]
      },
      {
       "output_type": "stream",
       "stream": "stdout",
       "text": [
        "\n",
        "(4698, 40)\n",
        "(199, 40)\n",
        "(0, 40)\n",
        "(192, 40)"
       ]
      },
      {
       "output_type": "stream",
       "stream": "stdout",
       "text": [
        "\n",
        "(3050, 40)\n",
        "(883, 40)\n",
        "(0, 40)\n",
        "(0, 40)\n",
        "(0, 40)\n",
        "(0, 40)\n",
        "(0, 40)\n",
        "(0, 40)\n",
        "(0, 40)\n",
        "(0, 40)\n",
        "(0, 40)\n",
        "(0, 40)\n",
        "(0, 40)\n",
        "(0, 40)\n",
        "(0, 40)"
       ]
      },
      {
       "output_type": "stream",
       "stream": "stdout",
       "text": [
        "\n",
        "(0, 40)\n",
        "(0, 40)\n",
        "(0, 40)\n",
        "(0, 40)\n",
        "(0, 40)\n",
        "(0, 40)\n",
        "(0, 40)\n",
        "(0, 40)\n",
        "(0, 40)\n",
        "(0, 40)\n",
        "(30, 40)\n",
        "(4263, 40)\n",
        "(6670, 40)"
       ]
      },
      {
       "output_type": "stream",
       "stream": "stdout",
       "text": [
        "\n",
        "(9514, 40)\n",
        "(10000, 40)\n",
        "(10000, 40)\n",
        "(10000, 40)"
       ]
      },
      {
       "output_type": "stream",
       "stream": "stdout",
       "text": [
        "\n",
        "(10000, 40)\n",
        "(10000, 40)"
       ]
      },
      {
       "output_type": "stream",
       "stream": "stdout",
       "text": [
        "\n",
        "(10000, 40)\n",
        "(10000, 40)"
       ]
      },
      {
       "output_type": "stream",
       "stream": "stdout",
       "text": [
        "\n",
        "(10000, 40)\n",
        "(10000, 40)\n",
        "(10000, 40)"
       ]
      },
      {
       "output_type": "stream",
       "stream": "stdout",
       "text": [
        "\n",
        "(10000, 40)\n",
        "(8919, 40)\n",
        "(4112, 40)\n",
        "(7422, 40)\n",
        "(9577, 40)"
       ]
      },
      {
       "output_type": "stream",
       "stream": "stdout",
       "text": [
        "\n",
        "(10000, 40)\n",
        "(10000, 40)\n",
        "(10000, 40)\n",
        "(10000, 40)"
       ]
      },
      {
       "output_type": "stream",
       "stream": "stdout",
       "text": [
        "\n",
        "(10000, 40)\n",
        "(10000, 40)\n",
        "(10000, 40)"
       ]
      },
      {
       "output_type": "stream",
       "stream": "stdout",
       "text": [
        "\n",
        "(10000, 40)\n",
        "(10000, 40)\n",
        "(8984, 40)\n",
        "(10000, 40)"
       ]
      },
      {
       "output_type": "stream",
       "stream": "stdout",
       "text": [
        "\n",
        "(9838, 40)\n",
        "(7402, 40)\n",
        "(8311, 40)\n",
        "(9695, 40)"
       ]
      },
      {
       "output_type": "stream",
       "stream": "stdout",
       "text": [
        "\n",
        "(10000, 40)\n",
        "(10000, 40)\n",
        "(10000, 40)"
       ]
      },
      {
       "output_type": "stream",
       "stream": "stdout",
       "text": [
        "\n",
        "(10000, 40)\n",
        "(10000, 40)\n",
        "(10000, 40)"
       ]
      },
      {
       "output_type": "stream",
       "stream": "stdout",
       "text": [
        "\n",
        "(10000, 40)\n",
        "(10000, 40)\n",
        "(10000, 40)"
       ]
      },
      {
       "output_type": "stream",
       "stream": "stdout",
       "text": [
        "\n",
        "(9075, 40)\n",
        "(9179, 40)\n",
        "(9669, 40)\n",
        "(9191, 40)"
       ]
      },
      {
       "output_type": "stream",
       "stream": "stdout",
       "text": [
        "\n",
        "(6691, 40)\n",
        "(8466, 40)\n",
        "(9709, 40)\n",
        "(9204, 40)"
       ]
      },
      {
       "output_type": "stream",
       "stream": "stdout",
       "text": [
        "\n",
        "(9981, 40)\n",
        "(5177, 40)\n",
        "(705, 40)\n",
        "(0, 40)\n",
        "(0, 40)\n",
        "(0, 40)\n",
        "(0, 40)"
       ]
      },
      {
       "output_type": "stream",
       "stream": "stdout",
       "text": [
        "\n",
        "(12, 40)\n",
        "(665, 40)\n",
        "(23, 40)\n",
        "(1288, 40)\n",
        "(1150, 40)\n",
        "(850, 40)\n",
        "(4738, 40)\n",
        "(5407, 40)\n",
        "(3675, 40)\n",
        "(2301, 40)\n",
        "(2527, 40)"
       ]
      },
      {
       "output_type": "stream",
       "stream": "stdout",
       "text": [
        "\n",
        "(0, 40)\n",
        "(0, 40)\n",
        "(0, 40)\n",
        "(0, 40)\n",
        "(0, 40)\n",
        "(0, 40)\n",
        "(0, 40)\n",
        "(0, 40)\n",
        "(0, 40)\n",
        "(0, 40)\n",
        "(0, 40)\n",
        "(0, 40)\n",
        "(0, 40)\n",
        "(0, 40)\n",
        "(0, 40)\n",
        "(0, 40)"
       ]
      },
      {
       "output_type": "stream",
       "stream": "stdout",
       "text": [
        "\n",
        "(0, 40)\n",
        "(0, 40)\n",
        "(0, 40)\n",
        "(0, 40)\n",
        "(0, 40)\n",
        "(0, 40)\n",
        "(0, 40)\n",
        "(0, 40)\n",
        "(0, 40)\n",
        "(0, 40)\n",
        "(3704, 40)\n",
        "(10000, 40)\n",
        "(10000, 40)"
       ]
      },
      {
       "output_type": "stream",
       "stream": "stdout",
       "text": [
        "\n",
        "(10000, 40)\n",
        "(10000, 40)\n",
        "(10000, 40)\n",
        "(10000, 40)"
       ]
      },
      {
       "output_type": "stream",
       "stream": "stdout",
       "text": [
        "\n",
        "(10000, 40)\n",
        "(10000, 40)\n",
        "(10000, 40)\n",
        "(10000, 40)\n",
        "(10000, 40)\n",
        "(8476, 40)"
       ]
      },
      {
       "output_type": "stream",
       "stream": "stdout",
       "text": [
        "\n",
        "(10000, 40)\n",
        "(10000, 40)\n",
        "(9238, 40)\n",
        "(10000, 40)\n",
        "(10000, 40)\n",
        "(10000, 40)"
       ]
      },
      {
       "output_type": "stream",
       "stream": "stdout",
       "text": [
        "\n",
        "(10000, 40)\n",
        "(10000, 40)\n",
        "(10000, 40)"
       ]
      },
      {
       "output_type": "stream",
       "stream": "stdout",
       "text": [
        "\n",
        "(10000, 40)\n",
        "(9913, 40)\n",
        "(8735, 40)"
       ]
      },
      {
       "output_type": "stream",
       "stream": "stdout",
       "text": [
        "\n",
        "(9535, 40)\n",
        "(10000, 40)"
       ]
      },
      {
       "output_type": "stream",
       "stream": "stdout",
       "text": [
        "\n",
        "(10000, 40)\n",
        "(10000, 40)\n",
        "(9437, 40)"
       ]
      },
      {
       "output_type": "stream",
       "stream": "stdout",
       "text": [
        "\n",
        "(7957, 40)\n",
        "(8918, 40)\n",
        "(10000, 40)\n",
        "(10000, 40)"
       ]
      },
      {
       "output_type": "stream",
       "stream": "stdout",
       "text": [
        "\n",
        "(10000, 40)\n",
        "(10000, 40)"
       ]
      },
      {
       "output_type": "stream",
       "stream": "stdout",
       "text": [
        "\n",
        "(10000, 40)\n",
        "(10000, 40)\n",
        "(10000, 40)\n",
        "(10000, 40)\n",
        "(9942, 40)"
       ]
      },
      {
       "output_type": "stream",
       "stream": "stdout",
       "text": [
        "\n",
        "(8685, 40)\n",
        "(7281, 40)\n",
        "(2453, 40)\n",
        "(6612, 40)\n",
        "(9062, 40)\n",
        "(10000, 40)"
       ]
      },
      {
       "output_type": "stream",
       "stream": "stdout",
       "text": [
        "\n",
        "(8830, 40)\n",
        "(9276, 40)\n",
        "(9806, 40)\n",
        "(9264, 40)\n",
        "(4186, 40)\n",
        "(353, 40)"
       ]
      },
      {
       "output_type": "stream",
       "stream": "stdout",
       "text": [
        "\n",
        "(134, 40)\n",
        "(492, 40)\n",
        "(380, 40)\n",
        "(1432, 40)\n",
        "(323, 40)\n",
        "(548, 40)\n",
        "(1130, 40)\n",
        "(7298, 40)\n",
        "(10000, 40)\n",
        "(10000, 40)\n",
        "(10000, 40)"
       ]
      },
      {
       "output_type": "stream",
       "stream": "stdout",
       "text": [
        "\n",
        "(10000, 40)\n",
        "(7773, 40)\n",
        "(42, 40)\n",
        "(0, 40)\n",
        "(0, 40)\n",
        "(0, 40)\n",
        "(0, 40)\n",
        "(0, 40)\n",
        "(0, 40)\n",
        "(0, 40)\n",
        "(0, 40)"
       ]
      },
      {
       "output_type": "stream",
       "stream": "stdout",
       "text": [
        "\n",
        "(0, 40)\n",
        "(0, 40)\n",
        "(0, 40)\n",
        "(0, 40)\n",
        "(0, 40)\n",
        "(0, 40)\n",
        "(0, 40)\n",
        "(0, 40)\n",
        "(0, 40)\n",
        "(0, 40)\n",
        "(0, 40)\n",
        "(0, 40)\n",
        "(0, 40)\n",
        "(0, 40)\n",
        "(0, 40)\n",
        "(0, 40)\n",
        "(0, 40)\n",
        "(1421, 40)\n",
        "(9967, 40)\n",
        "(10000, 40)"
       ]
      },
      {
       "output_type": "stream",
       "stream": "stdout",
       "text": [
        "\n",
        "(10000, 40)\n",
        "(10000, 40)\n",
        "(10000, 40)\n",
        "(9982, 40)\n",
        "(10000, 40)"
       ]
      },
      {
       "output_type": "stream",
       "stream": "stdout",
       "text": [
        "\n",
        "(9845, 40)\n",
        "(9307, 40)\n",
        "(9575, 40)\n",
        "(9067, 40)\n",
        "(8272, 40)"
       ]
      },
      {
       "output_type": "stream",
       "stream": "stdout",
       "text": [
        "\n",
        "(10000, 40)\n",
        "(10000, 40)\n",
        "(9345, 40)\n",
        "(10000, 40)\n",
        "(10000, 40)"
       ]
      },
      {
       "output_type": "stream",
       "stream": "stdout",
       "text": [
        "\n",
        "(10000, 40)\n",
        "(10000, 40)\n",
        "(10000, 40)\n",
        "(10000, 40)"
       ]
      },
      {
       "output_type": "stream",
       "stream": "stdout",
       "text": [
        "\n",
        "(9331, 40)\n",
        "(8642, 40)\n",
        "(10000, 40)\n",
        "(10000, 40)"
       ]
      },
      {
       "output_type": "stream",
       "stream": "stdout",
       "text": [
        "\n",
        "(10000, 40)\n",
        "(10000, 40)\n",
        "(10000, 40)\n",
        "(9690, 40)\n",
        "(9523, 40)"
       ]
      },
      {
       "output_type": "stream",
       "stream": "stdout",
       "text": [
        "\n",
        "(8398, 40)\n",
        "(7463, 40)\n",
        "(9961, 40)\n",
        "(10000, 40)\n",
        "(9658, 40)"
       ]
      },
      {
       "output_type": "stream",
       "stream": "stdout",
       "text": [
        "\n",
        "(8926, 40)\n",
        "(9062, 40)\n",
        "(10000, 40)\n",
        "(10000, 40)\n",
        "(7314, 40)"
       ]
      },
      {
       "output_type": "stream",
       "stream": "stdout",
       "text": [
        "\n",
        "(384, 40)\n",
        "(5010, 40)\n",
        "(9962, 40)\n",
        "(10000, 40)\n",
        "(10000, 40)\n",
        "(10000, 40)"
       ]
      },
      {
       "output_type": "stream",
       "stream": "stdout",
       "text": [
        "\n",
        "(9769, 40)\n",
        "(9755, 40)\n",
        "(10000, 40)\n",
        "(10000, 40)\n",
        "(9891, 40)"
       ]
      },
      {
       "output_type": "stream",
       "stream": "stdout",
       "text": [
        "\n",
        "(9194, 40)\n",
        "(8418, 40)\n",
        "(9420, 40)\n",
        "(9777, 40)\n",
        "(10000, 40)"
       ]
      },
      {
       "output_type": "stream",
       "stream": "stdout",
       "text": [
        "\n",
        "(5957, 40)\n",
        "(9478, 40)\n",
        "(7766, 40)\n",
        "(9912, 40)\n",
        "(10000, 40)"
       ]
      },
      {
       "output_type": "stream",
       "stream": "stdout",
       "text": [
        "\n",
        "(10000, 40)\n",
        "(10000, 40)\n",
        "(10000, 40)\n",
        "(9824, 40)\n",
        "(3838, 40)"
       ]
      },
      {
       "output_type": "stream",
       "stream": "stdout",
       "text": [
        "\n",
        "(0, 40)\n",
        "(0, 40)\n",
        "(0, 40)\n",
        "(0, 40)\n",
        "(0, 40)\n",
        "(0, 40)\n",
        "(0, 40)\n",
        "(0, 40)\n",
        "(0, 40)\n",
        "(0, 40)\n",
        "(0, 40)\n",
        "(0, 40)\n",
        "(0, 40)\n",
        "(0, 40)\n",
        "(0, 40)\n",
        "(0, 40)\n",
        "(0, 40)\n",
        "(0, 40)\n",
        "(0, 40)\n",
        "(0, 40)\n",
        "(0, 40)\n",
        "(0, 40)"
       ]
      },
      {
       "output_type": "stream",
       "stream": "stdout",
       "text": [
        "\n",
        "(0, 40)\n",
        "(0, 40)\n",
        "(0, 40)\n",
        "(0, 40)\n",
        "(7780, 40)\n",
        "(10000, 40)\n",
        "(8858, 40)\n",
        "(8211, 40)"
       ]
      },
      {
       "output_type": "stream",
       "stream": "stdout",
       "text": [
        "\n",
        "(9224, 40)\n",
        "(8681, 40)\n",
        "(6973, 40)\n",
        "(7936, 40)\n",
        "(9994, 40)\n",
        "(10000, 40)"
       ]
      },
      {
       "output_type": "stream",
       "stream": "stdout",
       "text": [
        "\n",
        "(10000, 40)\n",
        "(7596, 40)"
       ]
      },
      {
       "output_type": "stream",
       "stream": "stdout",
       "text": [
        "\n",
        "(10000, 40)\n",
        "(10000, 40)"
       ]
      },
      {
       "output_type": "stream",
       "stream": "stdout",
       "text": [
        "\n",
        "(9021, 40)\n",
        "(9726, 40)"
       ]
      },
      {
       "output_type": "stream",
       "stream": "stdout",
       "text": [
        "\n",
        "(10000, 40)\n",
        "(10000, 40)"
       ]
      },
      {
       "output_type": "stream",
       "stream": "stdout",
       "text": [
        "\n",
        "(10000, 40)\n",
        "(10000, 40)"
       ]
      },
      {
       "output_type": "stream",
       "stream": "stdout",
       "text": [
        "\n",
        "(10000, 40)\n",
        "(10000, 40)"
       ]
      },
      {
       "output_type": "stream",
       "stream": "stdout",
       "text": [
        "\n",
        "(8844, 40)\n",
        "(10000, 40)"
       ]
      },
      {
       "output_type": "stream",
       "stream": "stdout",
       "text": [
        "\n",
        "(10000, 40)\n",
        "(10000, 40)"
       ]
      },
      {
       "output_type": "stream",
       "stream": "stdout",
       "text": [
        "\n",
        "(10000, 40)\n",
        "(10000, 40)"
       ]
      },
      {
       "output_type": "stream",
       "stream": "stdout",
       "text": [
        "\n",
        "(10000, 40)\n",
        "(9526, 40)"
       ]
      },
      {
       "output_type": "stream",
       "stream": "stdout",
       "text": [
        "\n",
        "(8932, 40)\n",
        "(8726, 40)"
       ]
      },
      {
       "output_type": "stream",
       "stream": "stdout",
       "text": [
        "\n",
        "(8551, 40)\n",
        "(7502, 40)"
       ]
      },
      {
       "output_type": "stream",
       "stream": "stdout",
       "text": [
        "\n",
        "(7026, 40)\n",
        "(10000, 40)\n",
        "(9566, 40)"
       ]
      },
      {
       "output_type": "stream",
       "stream": "stdout",
       "text": [
        "\n",
        "(7038, 40)\n",
        "(2255, 40)"
       ]
      },
      {
       "output_type": "stream",
       "stream": "stdout",
       "text": [
        "\n",
        "(817, 40)\n",
        "(2714, 40)\n",
        "(8161, 40)\n",
        "(10000, 40)"
       ]
      },
      {
       "output_type": "stream",
       "stream": "stdout",
       "text": [
        "\n",
        "(10000, 40)\n",
        "(10000, 40)"
       ]
      },
      {
       "output_type": "stream",
       "stream": "stdout",
       "text": [
        "\n",
        "(10000, 40)\n",
        "(10000, 40)"
       ]
      },
      {
       "output_type": "stream",
       "stream": "stdout",
       "text": [
        "\n",
        "(10000, 40)\n",
        "(10000, 40)"
       ]
      },
      {
       "output_type": "stream",
       "stream": "stdout",
       "text": [
        "\n",
        "(10000, 40)\n",
        "(9810, 40)"
       ]
      },
      {
       "output_type": "stream",
       "stream": "stdout",
       "text": [
        "\n",
        "(6642, 40)\n",
        "(7467, 40)"
       ]
      },
      {
       "output_type": "stream",
       "stream": "stdout",
       "text": [
        "\n",
        "(9399, 40)\n",
        "(8532, 40)"
       ]
      },
      {
       "output_type": "stream",
       "stream": "stdout",
       "text": [
        "\n",
        "(6406, 40)\n",
        "(7534, 40)"
       ]
      },
      {
       "output_type": "stream",
       "stream": "stdout",
       "text": [
        "\n",
        "(10000, 40)\n",
        "(6466, 40)"
       ]
      },
      {
       "output_type": "stream",
       "stream": "stdout",
       "text": [
        "\n",
        "(9835, 40)\n",
        "(9936, 40)"
       ]
      },
      {
       "output_type": "stream",
       "stream": "stdout",
       "text": [
        "\n",
        "(10000, 40)\n",
        "(10000, 40)"
       ]
      },
      {
       "output_type": "stream",
       "stream": "stdout",
       "text": [
        "\n",
        "(9783, 40)\n",
        "(9609, 40)"
       ]
      },
      {
       "output_type": "stream",
       "stream": "stdout",
       "text": [
        "\n",
        "(9702, 40)\n",
        "(1530, 40)"
       ]
      },
      {
       "output_type": "stream",
       "stream": "stdout",
       "text": [
        "\n",
        "(0, 40)\n",
        "(0, 40)\n",
        "(0, 40)\n",
        "(0, 40)\n",
        "(0, 40)\n",
        "(0, 40)\n",
        "(0, 40)\n",
        "(0, 40)\n",
        "(0, 40)\n",
        "(0, 40)\n",
        "(0, 40)\n",
        "(0, 40)\n",
        "(0, 40)"
       ]
      },
      {
       "output_type": "stream",
       "stream": "stdout",
       "text": [
        "\n",
        "(0, 40)\n",
        "(0, 40)\n",
        "(0, 40)\n",
        "(0, 40)\n",
        "(0, 40)\n",
        "(0, 40)\n",
        "(0, 40)\n",
        "(0, 40)\n",
        "(0, 40)\n",
        "(0, 40)\n",
        "(0, 40)\n",
        "(0, 40)\n",
        "(3297, 40)\n",
        "(10000, 40)"
       ]
      },
      {
       "output_type": "stream",
       "stream": "stdout",
       "text": [
        "\n",
        "(10000, 40)\n",
        "(10000, 40)\n",
        "(10000, 40)\n",
        "(10000, 40)"
       ]
      },
      {
       "output_type": "stream",
       "stream": "stdout",
       "text": [
        "\n",
        "(9976, 40)\n",
        "(9704, 40)\n",
        "(10000, 40)\n",
        "(10000, 40)"
       ]
      },
      {
       "output_type": "stream",
       "stream": "stdout",
       "text": [
        "\n",
        "(10000, 40)\n",
        "(7133, 40)\n",
        "(10000, 40)\n",
        "(10000, 40)"
       ]
      },
      {
       "output_type": "stream",
       "stream": "stdout",
       "text": [
        "\n",
        "(10000, 40)\n",
        "(9295, 40)\n",
        "(9924, 40)\n",
        "(10000, 40)"
       ]
      },
      {
       "output_type": "stream",
       "stream": "stdout",
       "text": [
        "\n",
        "(10000, 40)\n",
        "(10000, 40)\n",
        "(10000, 40)"
       ]
      },
      {
       "output_type": "stream",
       "stream": "stdout",
       "text": [
        "\n",
        "(9655, 40)\n",
        "(9944, 40)\n",
        "(10000, 40)"
       ]
      },
      {
       "output_type": "stream",
       "stream": "stdout",
       "text": [
        "\n",
        "(10000, 40)\n",
        "(10000, 40)\n",
        "(9223, 40)"
       ]
      },
      {
       "output_type": "stream",
       "stream": "stdout",
       "text": [
        "\n",
        "(10000, 40)\n",
        "(10000, 40)\n",
        "(9792, 40)"
       ]
      },
      {
       "output_type": "stream",
       "stream": "stdout",
       "text": [
        "\n",
        "(10000, 40)\n",
        "(10000, 40)\n",
        "(10000, 40)\n",
        "(10000, 40)"
       ]
      },
      {
       "output_type": "stream",
       "stream": "stdout",
       "text": [
        "\n",
        "(10000, 40)\n",
        "(9211, 40)\n",
        "(6162, 40)\n",
        "(2318, 40)"
       ]
      },
      {
       "output_type": "stream",
       "stream": "stdout",
       "text": [
        "\n",
        "(1749, 40)"
       ]
      },
      {
       "output_type": "stream",
       "stream": "stdout",
       "text": [
        "\n",
        "(9186, 40)\n",
        "(9634, 40)\n",
        "(9360, 40)\n",
        "(10000, 40)"
       ]
      },
      {
       "output_type": "stream",
       "stream": "stdout",
       "text": [
        "\n",
        "(10000, 40)\n",
        "(10000, 40)\n",
        "(10000, 40)\n",
        "(10000, 40)"
       ]
      },
      {
       "output_type": "stream",
       "stream": "stdout",
       "text": [
        "\n",
        "(10000, 40)\n",
        "(10000, 40)\n",
        "(8870, 40)\n",
        "(7050, 40)\n",
        "(5802, 40)"
       ]
      },
      {
       "output_type": "stream",
       "stream": "stdout",
       "text": [
        "\n",
        "(7443, 40)\n",
        "(5933, 40)\n",
        "(6887, 40)"
       ]
      },
      {
       "output_type": "stream",
       "stream": "stdout",
       "text": [
        "\n",
        "(5481, 40)\n",
        "(8502, 40)\n",
        "(10000, 40)\n",
        "(7933, 40)"
       ]
      },
      {
       "output_type": "stream",
       "stream": "stdout",
       "text": [
        "\n",
        "(9531, 40)\n",
        "(9560, 40)\n",
        "(9990, 40)\n",
        "(9907, 40)"
       ]
      },
      {
       "output_type": "stream",
       "stream": "stdout",
       "text": [
        "\n",
        "(9805, 40)\n",
        "(10000, 40)\n",
        "(10000, 40)"
       ]
      },
      {
       "output_type": "stream",
       "stream": "stdout",
       "text": [
        "\n",
        "(9159, 40)\n",
        "(3087, 40)\n",
        "(0, 40)\n",
        "(0, 40)\n",
        "(0, 40)\n",
        "(0, 40)\n",
        "(0, 40)\n",
        "(0, 40)"
       ]
      },
      {
       "output_type": "stream",
       "stream": "stdout",
       "text": [
        "\n",
        "(0, 40)\n",
        "(0, 40)\n",
        "(0, 40)\n",
        "(0, 40)\n",
        "(0, 40)\n",
        "(0, 40)\n",
        "(0, 40)\n",
        "(0, 40)\n",
        "(0, 40)\n",
        "(0, 40)\n",
        "(0, 40)\n",
        "(0, 40)\n",
        "(0, 40)\n",
        "(0, 40)\n",
        "(0, 40)\n",
        "(0, 40)"
       ]
      },
      {
       "output_type": "stream",
       "stream": "stdout",
       "text": [
        "\n",
        "(0, 40)\n",
        "(1275, 40)\n",
        "(9212, 40)\n",
        "(10000, 40)\n",
        "(10000, 40)\n",
        "(10000, 40)"
       ]
      },
      {
       "output_type": "stream",
       "stream": "stdout",
       "text": [
        "\n",
        "(10000, 40)\n",
        "(10000, 40)\n",
        "(10000, 40)\n",
        "(10000, 40)"
       ]
      },
      {
       "output_type": "stream",
       "stream": "stdout",
       "text": [
        "\n",
        "(10000, 40)\n",
        "(9631, 40)\n",
        "(9231, 40)\n",
        "(7911, 40)"
       ]
      },
      {
       "output_type": "stream",
       "stream": "stdout",
       "text": [
        "\n",
        "(10000, 40)\n",
        "(10000, 40)\n",
        "(10000, 40)\n",
        "(9982, 40)\n",
        "(9071, 40)"
       ]
      },
      {
       "output_type": "stream",
       "stream": "stdout",
       "text": [
        "\n",
        "(9955, 40)\n",
        "(10000, 40)\n",
        "(10000, 40)\n",
        "(10000, 40)"
       ]
      },
      {
       "output_type": "stream",
       "stream": "stdout",
       "text": [
        "\n",
        "(10000, 40)\n",
        "(10000, 40)\n",
        "(9985, 40)"
       ]
      },
      {
       "output_type": "stream",
       "stream": "stdout",
       "text": [
        "\n",
        "(10000, 40)\n",
        "(10000, 40)\n",
        "(9527, 40)"
       ]
      },
      {
       "output_type": "stream",
       "stream": "stdout",
       "text": [
        "\n",
        "(8789, 40)\n",
        "(9639, 40)\n",
        "(10000, 40)\n",
        "(10000, 40)"
       ]
      },
      {
       "output_type": "stream",
       "stream": "stdout",
       "text": [
        "\n",
        "(10000, 40)\n",
        "(10000, 40)\n",
        "(10000, 40)"
       ]
      },
      {
       "output_type": "stream",
       "stream": "stdout",
       "text": [
        "\n",
        "(10000, 40)\n",
        "(2664, 40)\n",
        "(0, 40)\n",
        "(4391, 40)\n",
        "(9299, 40)\n",
        "(10000, 40)"
       ]
      },
      {
       "output_type": "stream",
       "stream": "stdout",
       "text": [
        "\n",
        "(10000, 40)\n",
        "(10000, 40)\n",
        "(10000, 40)"
       ]
      },
      {
       "output_type": "stream",
       "stream": "stdout",
       "text": [
        "\n",
        "(10000, 40)\n",
        "(9624, 40)\n",
        "(10000, 40)\n",
        "(9900, 40)"
       ]
      },
      {
       "output_type": "stream",
       "stream": "stdout",
       "text": [
        "\n",
        "(9315, 40)\n",
        "(7635, 40)\n",
        "(8792, 40)\n",
        "(10000, 40)"
       ]
      },
      {
       "output_type": "stream",
       "stream": "stdout",
       "text": [
        "\n",
        "(9745, 40)\n",
        "(10000, 40)\n",
        "(10000, 40)\n",
        "(9756, 40)"
       ]
      },
      {
       "output_type": "stream",
       "stream": "stdout",
       "text": [
        "\n",
        "(9448, 40)\n",
        "(9441, 40)\n",
        "(10000, 40)\n",
        "(7908, 40)"
       ]
      },
      {
       "output_type": "stream",
       "stream": "stdout",
       "text": [
        "\n",
        "(10000, 40)\n",
        "(10000, 40)\n",
        "(10000, 40)\n",
        "(10000, 40)"
       ]
      },
      {
       "output_type": "stream",
       "stream": "stdout",
       "text": [
        "\n",
        "(9542, 40)\n",
        "(10000, 40)\n",
        "(10000, 40)\n",
        "(10000, 40)"
       ]
      },
      {
       "output_type": "stream",
       "stream": "stdout",
       "text": [
        "\n",
        "(9913, 40)\n",
        "(5822, 40)"
       ]
      },
      {
       "output_type": "stream",
       "stream": "stdout",
       "text": [
        "\n",
        "(1026, 40)\n",
        "(0, 40)\n",
        "(0, 40)\n",
        "(0, 40)\n",
        "(0, 40)\n",
        "(0, 40)\n",
        "(0, 40)\n",
        "(0, 40)\n",
        "(0, 40)\n",
        "(0, 40)\n",
        "(0, 40)\n",
        "(0, 40)\n",
        "(0, 40)\n",
        "(0, 40)\n",
        "(0, 40)\n",
        "(0, 40)"
       ]
      },
      {
       "output_type": "stream",
       "stream": "stdout",
       "text": [
        "\n",
        "(0, 40)\n",
        "(0, 40)\n",
        "(0, 40)\n",
        "(0, 40)\n",
        "(0, 40)\n",
        "(0, 40)\n",
        "(7799, 40)\n",
        "(10000, 40)\n",
        "(10000, 40)\n",
        "(10000, 40)\n",
        "(10000, 40)"
       ]
      },
      {
       "output_type": "stream",
       "stream": "stdout",
       "text": [
        "\n",
        "(8529, 40)\n",
        "(9356, 40)"
       ]
      },
      {
       "output_type": "stream",
       "stream": "stdout",
       "text": [
        "\n",
        "(9594, 40)\n",
        "(8976, 40)"
       ]
      },
      {
       "output_type": "stream",
       "stream": "stdout",
       "text": [
        "\n",
        "(8204, 40)\n",
        "(8512, 40)"
       ]
      },
      {
       "output_type": "stream",
       "stream": "stdout",
       "text": [
        "\n",
        "(10000, 40)\n",
        "(9781, 40)"
       ]
      },
      {
       "output_type": "stream",
       "stream": "stdout",
       "text": [
        "\n",
        "(8982, 40)\n",
        "(10000, 40)"
       ]
      },
      {
       "output_type": "stream",
       "stream": "stdout",
       "text": [
        "\n",
        "(10000, 40)\n",
        "(10000, 40)"
       ]
      },
      {
       "output_type": "stream",
       "stream": "stdout",
       "text": [
        "\n",
        "(9993, 40)\n",
        "(9603, 40)"
       ]
      },
      {
       "output_type": "stream",
       "stream": "stdout",
       "text": [
        "\n",
        "(9959, 40)\n",
        "(9843, 40)"
       ]
      },
      {
       "output_type": "stream",
       "stream": "stdout",
       "text": [
        "\n",
        "(10000, 40)\n",
        "(10000, 40)"
       ]
      },
      {
       "output_type": "stream",
       "stream": "stdout",
       "text": [
        "\n",
        "(10000, 40)\n",
        "(10000, 40)"
       ]
      },
      {
       "output_type": "stream",
       "stream": "stdout",
       "text": [
        "\n",
        "(9622, 40)\n",
        "(10000, 40)"
       ]
      },
      {
       "output_type": "stream",
       "stream": "stdout",
       "text": [
        "\n",
        "(10000, 40)\n",
        "(10000, 40)"
       ]
      },
      {
       "output_type": "stream",
       "stream": "stdout",
       "text": [
        "\n",
        "(7969, 40)\n",
        "(9319, 40)"
       ]
      },
      {
       "output_type": "stream",
       "stream": "stdout",
       "text": [
        "\n",
        "(9950, 40)\n",
        "(9928, 40)\n",
        "(10000, 40)"
       ]
      },
      {
       "output_type": "stream",
       "stream": "stdout",
       "text": [
        "\n",
        "(7030, 40)\n",
        "(7618, 40)\n",
        "(7971, 40)"
       ]
      },
      {
       "output_type": "stream",
       "stream": "stdout",
       "text": [
        "\n",
        "(7258, 40)\n",
        "(10000, 40)\n",
        "(10000, 40)"
       ]
      },
      {
       "output_type": "stream",
       "stream": "stdout",
       "text": [
        "\n",
        "(10000, 40)\n",
        "(10000, 40)"
       ]
      },
      {
       "output_type": "stream",
       "stream": "stdout",
       "text": [
        "\n",
        "(10000, 40)\n",
        "(10000, 40)"
       ]
      },
      {
       "output_type": "stream",
       "stream": "stdout",
       "text": [
        "\n",
        "(9557, 40)\n",
        "(8431, 40)\n",
        "(6976, 40)"
       ]
      },
      {
       "output_type": "stream",
       "stream": "stdout",
       "text": [
        "\n",
        "(5081, 40)\n",
        "(9120, 40)\n",
        "(10000, 40)"
       ]
      },
      {
       "output_type": "stream",
       "stream": "stdout",
       "text": [
        "\n",
        "(10000, 40)\n",
        "(10000, 40)"
       ]
      },
      {
       "output_type": "stream",
       "stream": "stdout",
       "text": [
        "\n",
        "(10000, 40)\n",
        "(10000, 40)"
       ]
      },
      {
       "output_type": "stream",
       "stream": "stdout",
       "text": [
        "\n",
        "(10000, 40)\n",
        "(10000, 40)"
       ]
      },
      {
       "output_type": "stream",
       "stream": "stdout",
       "text": [
        "\n",
        "(9469, 40)\n",
        "(9429, 40)\n",
        "(8541, 40)"
       ]
      },
      {
       "output_type": "stream",
       "stream": "stdout",
       "text": [
        "\n",
        "(5590, 40)\n",
        "(9149, 40)\n",
        "(10000, 40)"
       ]
      },
      {
       "output_type": "stream",
       "stream": "stdout",
       "text": [
        "\n",
        "(10000, 40)\n",
        "(10000, 40)"
       ]
      },
      {
       "output_type": "stream",
       "stream": "stdout",
       "text": [
        "\n",
        "(10000, 40)\n",
        "(10000, 40)"
       ]
      },
      {
       "output_type": "stream",
       "stream": "stdout",
       "text": [
        "\n",
        "(10000, 40)\n",
        "(10000, 40)"
       ]
      },
      {
       "output_type": "stream",
       "stream": "stdout",
       "text": [
        "\n",
        "(10000, 40)\n",
        "(8893, 40)"
       ]
      },
      {
       "output_type": "stream",
       "stream": "stdout",
       "text": [
        "\n",
        "(9184, 40)\n",
        "(2865, 40)"
       ]
      },
      {
       "output_type": "stream",
       "stream": "stdout",
       "text": [
        "\n",
        "(0, 40)\n",
        "(0, 40)\n",
        "(0, 40)\n",
        "(0, 40)\n",
        "(0, 40)\n",
        "(0, 40)\n",
        "(0, 40)\n",
        "(0, 40)\n",
        "(0, 40)\n",
        "(0, 40)\n",
        "(0, 40)\n",
        "(0, 40)\n",
        "(0, 40)\n",
        "(0, 40)\n",
        "(0, 40)\n",
        "(0, 40)\n",
        "(0, 40)\n",
        "(0, 40)\n",
        "(0, 40)"
       ]
      },
      {
       "output_type": "stream",
       "stream": "stdout",
       "text": [
        "\n",
        "(0, 40)\n",
        "(6636, 40)\n",
        "(10000, 40)\n",
        "(10000, 40)\n",
        "(9253, 40)"
       ]
      },
      {
       "output_type": "stream",
       "stream": "stdout",
       "text": [
        "\n",
        "(8502, 40)\n",
        "(9642, 40)"
       ]
      },
      {
       "output_type": "stream",
       "stream": "stdout",
       "text": [
        "\n",
        "(9549, 40)"
       ]
      },
      {
       "output_type": "stream",
       "stream": "stdout",
       "text": [
        "\n",
        "(10000, 40)\n",
        "(10000, 40)\n",
        "(9648, 40)\n",
        "(8745, 40)\n",
        "(10000, 40)"
       ]
      },
      {
       "output_type": "stream",
       "stream": "stdout",
       "text": [
        "\n",
        "(10000, 40)\n",
        "(9180, 40)\n",
        "(9967, 40)\n",
        "(10000, 40)\n",
        "(10000, 40)"
       ]
      },
      {
       "output_type": "stream",
       "stream": "stdout",
       "text": [
        "\n",
        "(10000, 40)\n",
        "(10000, 40)\n",
        "(10000, 40)\n",
        "(9456, 40)\n",
        "(9461, 40)"
       ]
      },
      {
       "output_type": "stream",
       "stream": "stdout",
       "text": [
        "\n",
        "(9843, 40)\n",
        "(10000, 40)\n",
        "(10000, 40)\n",
        "(9563, 40)\n",
        "(10000, 40)"
       ]
      },
      {
       "output_type": "stream",
       "stream": "stdout",
       "text": [
        "\n",
        "(10000, 40)\n",
        "(9128, 40)\n",
        "(9690, 40)\n",
        "(9381, 40)\n",
        "(8933, 40)"
       ]
      },
      {
       "output_type": "stream",
       "stream": "stdout",
       "text": [
        "\n",
        "(8424, 40)\n",
        "(8034, 40)\n",
        "(6124, 40)\n",
        "(10000, 40)\n",
        "(10000, 40)"
       ]
      },
      {
       "output_type": "stream",
       "stream": "stdout",
       "text": [
        "\n",
        "(10000, 40)\n",
        "(10000, 40)\n",
        "(10000, 40)"
       ]
      },
      {
       "output_type": "stream",
       "stream": "stdout",
       "text": [
        "\n",
        "(10000, 40)\n",
        "(9495, 40)"
       ]
      },
      {
       "output_type": "stream",
       "stream": "stdout",
       "text": [
        "\n",
        "(7852, 40)\n",
        "(6642, 40)"
       ]
      },
      {
       "output_type": "stream",
       "stream": "stdout",
       "text": [
        "\n",
        "(7555, 40)\n",
        "(9850, 40)\n",
        "(10000, 40)"
       ]
      },
      {
       "output_type": "stream",
       "stream": "stdout",
       "text": [
        "\n",
        "(9683, 40)\n",
        "(9450, 40)"
       ]
      },
      {
       "output_type": "stream",
       "stream": "stdout",
       "text": [
        "\n",
        "(10000, 40)\n",
        "(10000, 40)"
       ]
      },
      {
       "output_type": "stream",
       "stream": "stdout",
       "text": [
        "\n",
        "(10000, 40)\n",
        "(10000, 40)"
       ]
      },
      {
       "output_type": "stream",
       "stream": "stdout",
       "text": [
        "\n",
        "(10000, 40)\n",
        "(10000, 40)"
       ]
      },
      {
       "output_type": "stream",
       "stream": "stdout",
       "text": [
        "\n",
        "(9957, 40)\n",
        "(9504, 40)"
       ]
      },
      {
       "output_type": "stream",
       "stream": "stdout",
       "text": [
        "\n",
        "(9833, 40)\n",
        "(8811, 40)"
       ]
      },
      {
       "output_type": "stream",
       "stream": "stdout",
       "text": [
        "\n",
        "(7038, 40)\n",
        "(9669, 40)"
       ]
      },
      {
       "output_type": "stream",
       "stream": "stdout",
       "text": [
        "\n",
        "(9278, 40)\n",
        "(9279, 40)"
       ]
      },
      {
       "output_type": "stream",
       "stream": "stdout",
       "text": [
        "\n",
        "(9660, 40)\n",
        "(10000, 40)"
       ]
      },
      {
       "output_type": "stream",
       "stream": "stdout",
       "text": [
        "\n",
        "(10000, 40)\n",
        "(9971, 40)"
       ]
      },
      {
       "output_type": "stream",
       "stream": "stdout",
       "text": [
        "\n",
        "(9801, 40)\n",
        "(10000, 40)"
       ]
      },
      {
       "output_type": "stream",
       "stream": "stdout",
       "text": [
        "\n",
        "(9978, 40)\n",
        "(7514, 40)"
       ]
      },
      {
       "output_type": "stream",
       "stream": "stdout",
       "text": [
        "\n",
        "(8172, 40)\n",
        "(4471, 40)"
       ]
      },
      {
       "output_type": "stream",
       "stream": "stdout",
       "text": [
        "\n",
        "(41, 40)\n",
        "(0, 40)\n",
        "(0, 40)\n",
        "(0, 40)\n",
        "(0, 40)\n",
        "(0, 40)\n",
        "(0, 40)\n",
        "(0, 40)\n",
        "(0, 40)\n",
        "(0, 40)\n",
        "(0, 40)\n",
        "(0, 40)\n",
        "(0, 40)\n",
        "(0, 40)\n",
        "(0, 40)\n",
        "(0, 40)\n",
        "(0, 40)\n",
        "(0, 40)\n",
        "(0, 40)\n",
        "(657, 40)"
       ]
      },
      {
       "output_type": "stream",
       "stream": "stdout",
       "text": [
        "\n",
        "(9202, 40)\n",
        "(10000, 40)\n",
        "(10000, 40)\n",
        "(9798, 40)"
       ]
      },
      {
       "output_type": "stream",
       "stream": "stdout",
       "text": [
        "\n",
        "(10000, 40)\n",
        "(10000, 40)"
       ]
      },
      {
       "output_type": "stream",
       "stream": "stdout",
       "text": [
        "\n",
        "(10000, 40)\n",
        "(10000, 40)"
       ]
      },
      {
       "output_type": "stream",
       "stream": "stdout",
       "text": [
        "\n",
        "(9972, 40)\n",
        "(8729, 40)"
       ]
      },
      {
       "output_type": "stream",
       "stream": "stdout",
       "text": [
        "\n",
        "(10000, 40)\n",
        "(10000, 40)"
       ]
      },
      {
       "output_type": "stream",
       "stream": "stdout",
       "text": [
        "\n",
        "(9605, 40)\n",
        "(8291, 40)"
       ]
      },
      {
       "output_type": "stream",
       "stream": "stdout",
       "text": [
        "\n",
        "(9986, 40)\n",
        "(10000, 40)"
       ]
      },
      {
       "output_type": "stream",
       "stream": "stdout",
       "text": [
        "\n",
        "(10000, 40)\n",
        "(10000, 40)"
       ]
      },
      {
       "output_type": "stream",
       "stream": "stdout",
       "text": [
        "\n",
        "(10000, 40)\n",
        "(10000, 40)"
       ]
      },
      {
       "output_type": "stream",
       "stream": "stdout",
       "text": [
        "\n",
        "(9975, 40)\n",
        "(8248, 40)"
       ]
      },
      {
       "output_type": "stream",
       "stream": "stdout",
       "text": [
        "\n",
        "(9151, 40)\n",
        "(10000, 40)"
       ]
      },
      {
       "output_type": "stream",
       "stream": "stdout",
       "text": [
        "\n",
        "(9324, 40)\n",
        "(10000, 40)"
       ]
      },
      {
       "output_type": "stream",
       "stream": "stdout",
       "text": [
        "\n",
        "(10000, 40)\n",
        "(10000, 40)"
       ]
      },
      {
       "output_type": "stream",
       "stream": "stdout",
       "text": [
        "\n",
        "(10000, 40)\n",
        "(10000, 40)"
       ]
      },
      {
       "output_type": "stream",
       "stream": "stdout",
       "text": [
        "\n",
        "(10000, 40)\n",
        "(10000, 40)"
       ]
      },
      {
       "output_type": "stream",
       "stream": "stdout",
       "text": [
        "\n",
        "(8919, 40)\n",
        "(8129, 40)"
       ]
      },
      {
       "output_type": "stream",
       "stream": "stdout",
       "text": [
        "\n",
        "(10000, 40)\n",
        "(10000, 40)"
       ]
      },
      {
       "output_type": "stream",
       "stream": "stdout",
       "text": [
        "\n",
        "(10000, 40)\n",
        "(10000, 40)"
       ]
      },
      {
       "output_type": "stream",
       "stream": "stdout",
       "text": [
        "\n",
        "(10000, 40)\n",
        "(9014, 40)"
       ]
      },
      {
       "output_type": "stream",
       "stream": "stdout",
       "text": [
        "\n",
        "(9257, 40)\n",
        "(10000, 40)"
       ]
      },
      {
       "output_type": "stream",
       "stream": "stdout",
       "text": [
        "\n",
        "(9688, 40)\n",
        "(9951, 40)"
       ]
      },
      {
       "output_type": "stream",
       "stream": "stdout",
       "text": [
        "\n",
        "(8673, 40)\n",
        "(10000, 40)"
       ]
      },
      {
       "output_type": "stream",
       "stream": "stdout",
       "text": [
        "\n",
        "(10000, 40)\n",
        "(9840, 40)"
       ]
      },
      {
       "output_type": "stream",
       "stream": "stdout",
       "text": [
        "\n",
        "(9957, 40)\n",
        "(10000, 40)"
       ]
      },
      {
       "output_type": "stream",
       "stream": "stdout",
       "text": [
        "\n",
        "(10000, 40)\n",
        "(10000, 40)"
       ]
      },
      {
       "output_type": "stream",
       "stream": "stdout",
       "text": [
        "\n",
        "(10000, 40)\n",
        "(10000, 40)"
       ]
      },
      {
       "output_type": "stream",
       "stream": "stdout",
       "text": [
        "\n",
        "(9477, 40)\n",
        "(9388, 40)"
       ]
      },
      {
       "output_type": "stream",
       "stream": "stdout",
       "text": [
        "\n",
        "(9444, 40)\n",
        "(7438, 40)"
       ]
      },
      {
       "output_type": "stream",
       "stream": "stdout",
       "text": [
        "\n",
        "(9224, 40)\n",
        "(9936, 40)"
       ]
      },
      {
       "output_type": "stream",
       "stream": "stdout",
       "text": [
        "\n",
        "(9563, 40)\n",
        "(10000, 40)"
       ]
      },
      {
       "output_type": "stream",
       "stream": "stdout",
       "text": [
        "\n",
        "(9812, 40)\n",
        "(9874, 40)"
       ]
      },
      {
       "output_type": "stream",
       "stream": "stdout",
       "text": [
        "\n",
        "(10000, 40)\n",
        "(10000, 40)"
       ]
      },
      {
       "output_type": "stream",
       "stream": "stdout",
       "text": [
        "\n",
        "(9190, 40)\n",
        "(8524, 40)"
       ]
      },
      {
       "output_type": "stream",
       "stream": "stdout",
       "text": [
        "\n",
        "(8672, 40)\n",
        "(9459, 40)"
       ]
      },
      {
       "output_type": "stream",
       "stream": "stdout",
       "text": [
        "\n",
        "(10000, 40)\n",
        "(10000, 40)"
       ]
      },
      {
       "output_type": "stream",
       "stream": "stdout",
       "text": [
        "\n",
        "(7414, 40)\n",
        "(1573, 40)"
       ]
      },
      {
       "output_type": "stream",
       "stream": "stdout",
       "text": [
        "\n",
        "(0, 40)\n",
        "(0, 40)\n",
        "(0, 40)\n",
        "(0, 40)\n",
        "(0, 40)\n",
        "(0, 40)\n",
        "(0, 40)\n",
        "(0, 40)\n",
        "(0, 40)\n",
        "(0, 40)\n",
        "(0, 40)\n",
        "(0, 40)\n",
        "(0, 40)\n",
        "(0, 40)\n",
        "(0, 40)\n",
        "(0, 40)\n",
        "(0, 40)\n",
        "(0, 40)\n",
        "(8527, 40)"
       ]
      },
      {
       "output_type": "stream",
       "stream": "stdout",
       "text": [
        "\n",
        "(10000, 40)\n",
        "(10000, 40)\n",
        "(10000, 40)"
       ]
      },
      {
       "output_type": "stream",
       "stream": "stdout",
       "text": [
        "\n",
        "(10000, 40)\n",
        "(10000, 40)"
       ]
      },
      {
       "output_type": "stream",
       "stream": "stdout",
       "text": [
        "\n",
        "(10000, 40)\n",
        "(10000, 40)"
       ]
      },
      {
       "output_type": "stream",
       "stream": "stdout",
       "text": [
        "\n",
        "(8990, 40)\n",
        "(9983, 40)"
       ]
      },
      {
       "output_type": "stream",
       "stream": "stdout",
       "text": [
        "\n",
        "(10000, 40)\n",
        "(9972, 40)"
       ]
      },
      {
       "output_type": "stream",
       "stream": "stdout",
       "text": [
        "\n",
        "(9348, 40)\n",
        "(9938, 40)"
       ]
      },
      {
       "output_type": "stream",
       "stream": "stdout",
       "text": [
        "\n",
        "(8829, 40)\n",
        "(8939, 40)"
       ]
      },
      {
       "output_type": "stream",
       "stream": "stdout",
       "text": [
        "\n",
        "(10000, 40)\n",
        "(10000, 40)"
       ]
      },
      {
       "output_type": "stream",
       "stream": "stdout",
       "text": [
        "\n",
        "(10000, 40)\n",
        "(10000, 40)"
       ]
      },
      {
       "output_type": "stream",
       "stream": "stdout",
       "text": [
        "\n",
        "(10000, 40)\n",
        "(10000, 40)"
       ]
      },
      {
       "output_type": "stream",
       "stream": "stdout",
       "text": [
        "\n",
        "(8901, 40)"
       ]
      },
      {
       "output_type": "stream",
       "stream": "stdout",
       "text": [
        "\n",
        "(7890, 40)\n",
        "(8003, 40)\n",
        "(7637, 40)\n",
        "(10000, 40)"
       ]
      },
      {
       "output_type": "stream",
       "stream": "stdout",
       "text": [
        "\n",
        "(9919, 40)\n",
        "(10000, 40)\n",
        "(10000, 40)\n",
        "(10000, 40)"
       ]
      },
      {
       "output_type": "stream",
       "stream": "stdout",
       "text": [
        "\n",
        "(10000, 40)\n",
        "(7906, 40)\n",
        "(7724, 40)"
       ]
      },
      {
       "output_type": "stream",
       "stream": "stdout",
       "text": [
        "\n",
        "(10000, 40)\n",
        "(10000, 40)\n",
        "(10000, 40)\n",
        "(10000, 40)"
       ]
      },
      {
       "output_type": "stream",
       "stream": "stdout",
       "text": [
        "\n",
        "(10000, 40)\n",
        "(8601, 40)\n",
        "(9812, 40)\n",
        "(10000, 40)"
       ]
      },
      {
       "output_type": "stream",
       "stream": "stdout",
       "text": [
        "\n",
        "(10000, 40)\n",
        "(10000, 40)\n",
        "(9316, 40)"
       ]
      },
      {
       "output_type": "stream",
       "stream": "stdout",
       "text": [
        "\n",
        "(9047, 40)\n",
        "(9929, 40)\n",
        "(10000, 40)"
       ]
      },
      {
       "output_type": "stream",
       "stream": "stdout",
       "text": [
        "\n",
        "(10000, 40)\n",
        "(10000, 40)\n",
        "(10000, 40)"
       ]
      },
      {
       "output_type": "stream",
       "stream": "stdout",
       "text": [
        "\n",
        "(9951, 40)\n",
        "(9363, 40)\n",
        "(9356, 40)\n",
        "(9677, 40)"
       ]
      },
      {
       "output_type": "stream",
       "stream": "stdout",
       "text": [
        "\n",
        "(10000, 40)\n",
        "(9848, 40)\n",
        "(7105, 40)"
       ]
      },
      {
       "output_type": "stream",
       "stream": "stdout",
       "text": [
        "\n",
        "(9997, 40)\n",
        "(10000, 40)\n",
        "(9264, 40)\n",
        "(10000, 40)"
       ]
      },
      {
       "output_type": "stream",
       "stream": "stdout",
       "text": [
        "\n",
        "(10000, 40)\n",
        "(9896, 40)\n",
        "(10000, 40)"
       ]
      },
      {
       "output_type": "stream",
       "stream": "stdout",
       "text": [
        "\n",
        "(10000, 40)\n",
        "(10000, 40)\n",
        "(10000, 40)"
       ]
      },
      {
       "output_type": "stream",
       "stream": "stdout",
       "text": [
        "\n",
        "(9261, 40)\n",
        "(9967, 40)\n",
        "(10000, 40)\n",
        "(10000, 40)"
       ]
      },
      {
       "output_type": "stream",
       "stream": "stdout",
       "text": [
        "\n",
        "(9950, 40)\n",
        "(9490, 40)\n",
        "(2739, 40)\n",
        "(0, 40)"
       ]
      },
      {
       "output_type": "stream",
       "stream": "stdout",
       "text": [
        "\n",
        "(0, 40)\n",
        "(0, 40)\n",
        "(0, 40)\n",
        "(0, 40)\n",
        "(0, 40)\n",
        "(0, 40)\n",
        "(0, 40)\n",
        "(0, 40)\n",
        "(0, 40)\n",
        "(0, 40)\n",
        "(0, 40)\n",
        "(0, 40)\n",
        "(0, 40)\n",
        "(0, 40)\n",
        "(0, 40)\n",
        "(0, 40)\n",
        "(2331, 40)"
       ]
      },
      {
       "output_type": "stream",
       "stream": "stdout",
       "text": [
        "\n",
        "(5260, 40)\n",
        "(6025, 40)\n",
        "(8874, 40)\n",
        "(10000, 40)\n",
        "(10000, 40)"
       ]
      },
      {
       "output_type": "stream",
       "stream": "stdout",
       "text": [
        "\n",
        "(10000, 40)\n",
        "(10000, 40)\n",
        "(9422, 40)\n",
        "(10000, 40)"
       ]
      },
      {
       "output_type": "stream",
       "stream": "stdout",
       "text": [
        "\n",
        "(10000, 40)\n",
        "(9202, 40)\n",
        "(9878, 40)"
       ]
      },
      {
       "output_type": "stream",
       "stream": "stdout",
       "text": [
        "\n",
        "(10000, 40)\n",
        "(10000, 40)"
       ]
      },
      {
       "output_type": "stream",
       "stream": "stdout",
       "text": [
        "\n",
        "(9043, 40)\n",
        "(9515, 40)"
       ]
      },
      {
       "output_type": "stream",
       "stream": "stdout",
       "text": [
        "\n",
        "(10000, 40)\n",
        "(10000, 40)"
       ]
      },
      {
       "output_type": "stream",
       "stream": "stdout",
       "text": [
        "\n",
        "(10000, 40)\n",
        "(10000, 40)"
       ]
      },
      {
       "output_type": "stream",
       "stream": "stdout",
       "text": [
        "\n",
        "(10000, 40)\n",
        "(10000, 40)"
       ]
      },
      {
       "output_type": "stream",
       "stream": "stdout",
       "text": [
        "\n",
        "(9887, 40)\n",
        "(9773, 40)"
       ]
      },
      {
       "output_type": "stream",
       "stream": "stdout",
       "text": [
        "\n",
        "(8337, 40)\n",
        "(8157, 40)"
       ]
      },
      {
       "output_type": "stream",
       "stream": "stdout",
       "text": [
        "\n",
        "(5009, 40)\n",
        "(7775, 40)\n",
        "(8768, 40)"
       ]
      },
      {
       "output_type": "stream",
       "stream": "stdout",
       "text": [
        "\n",
        "(8395, 40)\n",
        "(8803, 40)"
       ]
      },
      {
       "output_type": "stream",
       "stream": "stdout",
       "text": [
        "\n",
        "(8666, 40)\n",
        "(5736, 40)\n",
        "(10000, 40)"
       ]
      },
      {
       "output_type": "stream",
       "stream": "stdout",
       "text": [
        "\n",
        "(10000, 40)\n",
        "(10000, 40)\n",
        "(10000, 40)"
       ]
      },
      {
       "output_type": "stream",
       "stream": "stdout",
       "text": [
        "\n",
        "(10000, 40)\n",
        "(9439, 40)"
       ]
      },
      {
       "output_type": "stream",
       "stream": "stdout",
       "text": [
        "\n",
        "(8239, 40)\n",
        "(10000, 40)\n",
        "(10000, 40)"
       ]
      },
      {
       "output_type": "stream",
       "stream": "stdout",
       "text": [
        "\n",
        "(10000, 40)"
       ]
      },
      {
       "output_type": "stream",
       "stream": "stdout",
       "text": [
        "\n",
        "(10000, 40)\n",
        "(9564, 40)\n",
        "(10000, 40)"
       ]
      },
      {
       "output_type": "stream",
       "stream": "stdout",
       "text": [
        "\n",
        "(10000, 40)\n",
        "(10000, 40)\n",
        "(10000, 40)"
       ]
      },
      {
       "output_type": "stream",
       "stream": "stdout",
       "text": [
        "\n",
        "(10000, 40)\n",
        "(10000, 40)\n",
        "(10000, 40)\n",
        "(10000, 40)"
       ]
      },
      {
       "output_type": "stream",
       "stream": "stdout",
       "text": [
        "\n",
        "(10000, 40)\n",
        "(9169, 40)\n",
        "(6141, 40)\n",
        "(6588, 40)"
       ]
      },
      {
       "output_type": "stream",
       "stream": "stdout",
       "text": [
        "\n",
        "(9997, 40)\n",
        "(10000, 40)\n",
        "(9552, 40)"
       ]
      },
      {
       "output_type": "stream",
       "stream": "stdout",
       "text": [
        "\n",
        "(9634, 40)\n",
        "(10000, 40)\n",
        "(10000, 40)"
       ]
      },
      {
       "output_type": "stream",
       "stream": "stdout",
       "text": [
        "\n",
        "(10000, 40)\n",
        "(10000, 40)\n",
        "(10000, 40)\n",
        "(10000, 40)"
       ]
      },
      {
       "output_type": "stream",
       "stream": "stdout",
       "text": [
        "\n",
        "(9988, 40)\n",
        "(9813, 40)\n",
        "(9972, 40)"
       ]
      },
      {
       "output_type": "stream",
       "stream": "stdout",
       "text": [
        "\n",
        "(10000, 40)\n",
        "(10000, 40)\n",
        "(10000, 40)\n",
        "(9689, 40)"
       ]
      },
      {
       "output_type": "stream",
       "stream": "stdout",
       "text": [
        "\n",
        "(2897, 40)\n",
        "(0, 40)\n",
        "(0, 40)\n",
        "(0, 40)\n",
        "(0, 40)\n",
        "(0, 40)\n",
        "(0, 40)\n",
        "(0, 40)\n",
        "(0, 40)\n",
        "(0, 40)\n",
        "(0, 40)\n",
        "(0, 40)\n",
        "(0, 40)"
       ]
      },
      {
       "output_type": "stream",
       "stream": "stdout",
       "text": [
        "\n",
        "(0, 40)\n",
        "(0, 40)\n",
        "(0, 40)\n",
        "(0, 40)\n",
        "(0, 40)\n",
        "(0, 40)\n",
        "(0, 40)\n",
        "(5452, 40)\n",
        "(10000, 40)\n",
        "(10000, 40)"
       ]
      },
      {
       "output_type": "stream",
       "stream": "stdout",
       "text": [
        "\n",
        "(10000, 40)\n",
        "(10000, 40)\n",
        "(9415, 40)\n",
        "(10000, 40)"
       ]
      },
      {
       "output_type": "stream",
       "stream": "stdout",
       "text": [
        "\n",
        "(10000, 40)\n",
        "(10000, 40)\n",
        "(10000, 40)\n",
        "(10000, 40)"
       ]
      },
      {
       "output_type": "stream",
       "stream": "stdout",
       "text": [
        "\n",
        "(10000, 40)\n",
        "(10000, 40)\n",
        "(9792, 40)\n",
        "(8858, 40)"
       ]
      },
      {
       "output_type": "stream",
       "stream": "stdout",
       "text": [
        "\n",
        "(7155, 40)\n",
        "(9826, 40)\n",
        "(10000, 40)\n",
        "(10000, 40)\n",
        "(10000, 40)"
       ]
      },
      {
       "output_type": "stream",
       "stream": "stdout",
       "text": [
        "\n",
        "(10000, 40)\n",
        "(10000, 40)\n",
        "(9357, 40)"
       ]
      },
      {
       "output_type": "stream",
       "stream": "stdout",
       "text": [
        "\n",
        "(9316, 40)\n",
        "(7086, 40)\n",
        "(9478, 40)\n",
        "(8932, 40)"
       ]
      },
      {
       "output_type": "stream",
       "stream": "stdout",
       "text": [
        "\n",
        "(9853, 40)\n",
        "(10000, 40)\n",
        "(10000, 40)"
       ]
      },
      {
       "output_type": "stream",
       "stream": "stdout",
       "text": [
        "\n",
        "(3185, 40)\n",
        "(9810, 40)\n",
        "(9962, 40)\n",
        "(10000, 40)"
       ]
      },
      {
       "output_type": "stream",
       "stream": "stdout",
       "text": [
        "\n",
        "(10000, 40)\n",
        "(10000, 40)\n",
        "(10000, 40)\n",
        "(8256, 40)"
       ]
      },
      {
       "output_type": "stream",
       "stream": "stdout",
       "text": [
        "\n",
        "(9903, 40)\n",
        "(10000, 40)\n",
        "(10000, 40)\n",
        "(10000, 40)"
       ]
      },
      {
       "output_type": "stream",
       "stream": "stdout",
       "text": [
        "\n",
        "(10000, 40)\n",
        "(10000, 40)\n",
        "(10000, 40)"
       ]
      },
      {
       "output_type": "stream",
       "stream": "stdout",
       "text": [
        "\n",
        "(10000, 40)\n",
        "(10000, 40)\n",
        "(10000, 40)"
       ]
      },
      {
       "output_type": "stream",
       "stream": "stdout",
       "text": [
        "\n",
        "(10000, 40)\n",
        "(9223, 40)\n",
        "(9165, 40)"
       ]
      },
      {
       "output_type": "stream",
       "stream": "stdout",
       "text": [
        "\n",
        "(9082, 40)\n",
        "(6778, 40)\n",
        "(9914, 40)\n",
        "(9594, 40)"
       ]
      },
      {
       "output_type": "stream",
       "stream": "stdout",
       "text": [
        "\n",
        "(9173, 40)\n",
        "(10000, 40)\n",
        "(10000, 40)\n",
        "(9576, 40)"
       ]
      },
      {
       "output_type": "stream",
       "stream": "stdout",
       "text": [
        "\n",
        "(10000, 40)\n",
        "(10000, 40)\n",
        "(10000, 40)"
       ]
      },
      {
       "output_type": "stream",
       "stream": "stdout",
       "text": [
        "\n",
        "(10000, 40)\n",
        "(9991, 40)\n",
        "(9580, 40)\n",
        "(9693, 40)"
       ]
      },
      {
       "output_type": "stream",
       "stream": "stdout",
       "text": [
        "\n",
        "(10000, 40)\n",
        "(10000, 40)\n",
        "(10000, 40)\n",
        "(10000, 40)"
       ]
      },
      {
       "output_type": "stream",
       "stream": "stdout",
       "text": [
        "\n",
        "(10000, 40)\n",
        "(10000, 40)\n",
        "(9732, 40)"
       ]
      },
      {
       "output_type": "stream",
       "stream": "stdout",
       "text": [
        "\n",
        "(2856, 40)\n",
        "(0, 40)\n",
        "(0, 40)\n",
        "(0, 40)\n",
        "(0, 40)\n",
        "(0, 40)\n",
        "(0, 40)\n",
        "(0, 40)\n",
        "(0, 40)\n",
        "(0, 40)\n",
        "(0, 40)\n",
        "(0, 40)\n",
        "(0, 40)\n",
        "(0, 40)\n",
        "(0, 40)"
       ]
      },
      {
       "output_type": "stream",
       "stream": "stdout",
       "text": [
        "\n",
        "(0, 40)\n",
        "(0, 40)\n",
        "(0, 40)\n",
        "(0, 40)\n",
        "(1617, 40)\n",
        "(7611, 40)\n",
        "(10000, 40)\n",
        "(10000, 40)\n",
        "(9961, 40)"
       ]
      },
      {
       "output_type": "stream",
       "stream": "stdout",
       "text": [
        "\n",
        "(8218, 40)\n",
        "(10000, 40)\n",
        "(10000, 40)\n",
        "(10000, 40)\n",
        "(10000, 40)"
       ]
      },
      {
       "output_type": "stream",
       "stream": "stdout",
       "text": [
        "\n",
        "(10000, 40)\n",
        "(10000, 40)\n",
        "(10000, 40)\n",
        "(10000, 40)\n",
        "(10000, 40)"
       ]
      },
      {
       "output_type": "stream",
       "stream": "stdout",
       "text": [
        "\n",
        "(9866, 40)\n",
        "(8720, 40)\n",
        "(7807, 40)\n",
        "(9078, 40)"
       ]
      },
      {
       "output_type": "stream",
       "stream": "stdout",
       "text": [
        "\n",
        "(10000, 40)\n",
        "(10000, 40)\n",
        "(10000, 40)"
       ]
      },
      {
       "output_type": "stream",
       "stream": "stdout",
       "text": [
        "\n",
        "(10000, 40)\n",
        "(10000, 40)\n",
        "(10000, 40)"
       ]
      },
      {
       "output_type": "stream",
       "stream": "stdout",
       "text": [
        "\n",
        "(10000, 40)\n",
        "(10000, 40)\n",
        "(10000, 40)\n",
        "(10000, 40)"
       ]
      },
      {
       "output_type": "stream",
       "stream": "stdout",
       "text": [
        "\n",
        "(9992, 40)\n",
        "(5946, 40)\n",
        "(9700, 40)\n",
        "(10000, 40)"
       ]
      },
      {
       "output_type": "stream",
       "stream": "stdout",
       "text": [
        "\n",
        "(10000, 40)\n",
        "(10000, 40)\n",
        "(10000, 40)"
       ]
      },
      {
       "output_type": "stream",
       "stream": "stdout",
       "text": [
        "\n",
        "(9627, 40)\n",
        "(8881, 40)\n",
        "(10000, 40)\n",
        "(10000, 40)"
       ]
      },
      {
       "output_type": "stream",
       "stream": "stdout",
       "text": [
        "\n",
        "(10000, 40)\n",
        "(10000, 40)\n",
        "(10000, 40)"
       ]
      },
      {
       "output_type": "stream",
       "stream": "stdout",
       "text": [
        "\n",
        "(9613, 40)\n",
        "(9470, 40)\n",
        "(9066, 40)\n",
        "(9608, 40)"
       ]
      },
      {
       "output_type": "stream",
       "stream": "stdout",
       "text": [
        "\n",
        "(9267, 40)\n",
        "(8782, 40)\n",
        "(9441, 40)\n",
        "(10000, 40)"
       ]
      },
      {
       "output_type": "stream",
       "stream": "stdout",
       "text": [
        "\n",
        "(10000, 40)\n",
        "(9151, 40)"
       ]
      },
      {
       "output_type": "stream",
       "stream": "stdout",
       "text": [
        "\n",
        "(9964, 40)\n",
        "(10000, 40)"
       ]
      },
      {
       "output_type": "stream",
       "stream": "stdout",
       "text": [
        "\n",
        "(9757, 40)\n",
        "(9992, 40)\n",
        "(10000, 40)"
       ]
      },
      {
       "output_type": "stream",
       "stream": "stdout",
       "text": [
        "\n",
        "(10000, 40)\n",
        "(10000, 40)\n",
        "(9877, 40)"
       ]
      },
      {
       "output_type": "stream",
       "stream": "stdout",
       "text": [
        "\n",
        "(9486, 40)\n",
        "(9227, 40)"
       ]
      },
      {
       "output_type": "stream",
       "stream": "stdout",
       "text": [
        "\n",
        "(9624, 40)\n",
        "(9587, 40)\n",
        "(7034, 40)"
       ]
      },
      {
       "output_type": "stream",
       "stream": "stdout",
       "text": [
        "\n",
        "(8835, 40)\n",
        "(8969, 40)\n",
        "(9220, 40)"
       ]
      },
      {
       "output_type": "stream",
       "stream": "stdout",
       "text": [
        "\n",
        "(10000, 40)\n",
        "(10000, 40)"
       ]
      },
      {
       "output_type": "stream",
       "stream": "stdout",
       "text": [
        "\n",
        "(9965, 40)\n",
        "(10000, 40)"
       ]
      },
      {
       "output_type": "stream",
       "stream": "stdout",
       "text": [
        "\n",
        "(9801, 40)\n",
        "(5141, 40)"
       ]
      },
      {
       "output_type": "stream",
       "stream": "stdout",
       "text": [
        "\n",
        "(786, 40)\n",
        "(0, 40)\n",
        "(0, 40)\n",
        "(0, 40)\n",
        "(0, 40)\n",
        "(0, 40)\n",
        "(0, 40)\n",
        "(0, 40)\n",
        "(0, 40)\n",
        "(0, 40)\n",
        "(0, 40)\n",
        "(0, 40)\n",
        "(0, 40)\n",
        "(0, 40)"
       ]
      },
      {
       "output_type": "stream",
       "stream": "stdout",
       "text": [
        "\n",
        "(0, 40)\n",
        "(0, 40)\n",
        "(0, 40)\n",
        "(0, 40)\n",
        "(356, 40)\n",
        "(8542, 40)\n",
        "(10000, 40)\n",
        "(9966, 40)\n",
        "(9482, 40)\n",
        "(9526, 40)"
       ]
      },
      {
       "output_type": "stream",
       "stream": "stdout",
       "text": [
        "\n",
        "(10000, 40)\n",
        "(10000, 40)"
       ]
      },
      {
       "output_type": "stream",
       "stream": "stdout",
       "text": [
        "\n",
        "(10000, 40)\n",
        "(10000, 40)"
       ]
      },
      {
       "output_type": "stream",
       "stream": "stdout",
       "text": [
        "\n",
        "(10000, 40)\n",
        "(10000, 40)"
       ]
      },
      {
       "output_type": "stream",
       "stream": "stdout",
       "text": [
        "\n",
        "(10000, 40)\n",
        "(10000, 40)\n",
        "(10000, 40)"
       ]
      },
      {
       "output_type": "stream",
       "stream": "stdout",
       "text": [
        "\n",
        "(9938, 40)\n",
        "(9717, 40)\n",
        "(8625, 40)\n",
        "(8480, 40)"
       ]
      },
      {
       "output_type": "stream",
       "stream": "stdout",
       "text": [
        "\n",
        "(9980, 40)\n",
        "(10000, 40)\n",
        "(10000, 40)\n",
        "(10000, 40)"
       ]
      },
      {
       "output_type": "stream",
       "stream": "stdout",
       "text": [
        "\n",
        "(10000, 40)\n",
        "(10000, 40)\n",
        "(10000, 40)\n",
        "(10000, 40)"
       ]
      },
      {
       "output_type": "stream",
       "stream": "stdout",
       "text": [
        "\n",
        "(10000, 40)\n",
        "(10000, 40)\n",
        "(6363, 40)\n",
        "(8720, 40)"
       ]
      },
      {
       "output_type": "stream",
       "stream": "stdout",
       "text": [
        "\n",
        "(10000, 40)\n",
        "(10000, 40)\n",
        "(10000, 40)"
       ]
      },
      {
       "output_type": "stream",
       "stream": "stdout",
       "text": [
        "\n",
        "(9599, 40)\n",
        "(8138, 40)\n",
        "(9764, 40)\n",
        "(10000, 40)"
       ]
      },
      {
       "output_type": "stream",
       "stream": "stdout",
       "text": [
        "\n",
        "(10000, 40)\n",
        "(10000, 40)\n",
        "(9006, 40)"
       ]
      },
      {
       "output_type": "stream",
       "stream": "stdout",
       "text": [
        "\n",
        "(9105, 40)\n",
        "(9733, 40)\n",
        "(10000, 40)\n",
        "(9156, 40)"
       ]
      },
      {
       "output_type": "stream",
       "stream": "stdout",
       "text": [
        "\n",
        "(9248, 40)\n",
        "(10000, 40)\n",
        "(10000, 40)\n",
        "(10000, 40)"
       ]
      },
      {
       "output_type": "stream",
       "stream": "stdout",
       "text": [
        "\n",
        "(10000, 40)\n",
        "(9474, 40)\n",
        "(9027, 40)"
       ]
      },
      {
       "output_type": "stream",
       "stream": "stdout",
       "text": [
        "\n",
        "(9757, 40)\n",
        "(10000, 40)\n",
        "(10000, 40)\n",
        "(9998, 40)"
       ]
      },
      {
       "output_type": "stream",
       "stream": "stdout",
       "text": [
        "\n",
        "(10000, 40)\n",
        "(10000, 40)\n",
        "(10000, 40)"
       ]
      },
      {
       "output_type": "stream",
       "stream": "stdout",
       "text": [
        "\n",
        "(10000, 40)\n",
        "(10000, 40)\n",
        "(10000, 40)\n",
        "(9314, 40)"
       ]
      },
      {
       "output_type": "stream",
       "stream": "stdout",
       "text": [
        "\n",
        "(9467, 40)\n",
        "(10000, 40)\n",
        "(10000, 40)"
       ]
      },
      {
       "output_type": "stream",
       "stream": "stdout",
       "text": [
        "\n",
        "(10000, 40)\n",
        "(8985, 40)\n",
        "(8700, 40)\n",
        "(9085, 40)"
       ]
      },
      {
       "output_type": "stream",
       "stream": "stdout",
       "text": [
        "\n",
        "(7882, 40)\n",
        "(9731, 40)\n",
        "(10000, 40)\n",
        "(10000, 40)"
       ]
      },
      {
       "output_type": "stream",
       "stream": "stdout",
       "text": [
        "\n",
        "(9804, 40)\n",
        "(6574, 40)\n",
        "(2208, 40)\n",
        "(7, 40)\n",
        "(0, 40)\n",
        "(0, 40)"
       ]
      },
      {
       "output_type": "stream",
       "stream": "stdout",
       "text": [
        "\n",
        "(0, 40)\n",
        "(0, 40)\n",
        "(0, 40)\n",
        "(0, 40)\n",
        "(0, 40)\n",
        "(0, 40)\n",
        "(0, 40)\n",
        "(0, 40)\n",
        "(0, 40)\n",
        "(0, 40)\n",
        "(0, 40)\n",
        "(0, 40)\n",
        "(0, 40)\n",
        "(3334, 40)\n",
        "(10000, 40)"
       ]
      },
      {
       "output_type": "stream",
       "stream": "stdout",
       "text": [
        "\n",
        "(10000, 40)\n",
        "(10000, 40)\n",
        "(9281, 40)\n",
        "(9714, 40)\n",
        "(10000, 40)"
       ]
      },
      {
       "output_type": "stream",
       "stream": "stdout",
       "text": [
        "\n",
        "(10000, 40)\n",
        "(10000, 40)\n",
        "(10000, 40)"
       ]
      },
      {
       "output_type": "stream",
       "stream": "stdout",
       "text": [
        "\n",
        "(10000, 40)\n",
        "(10000, 40)"
       ]
      },
      {
       "output_type": "stream",
       "stream": "stdout",
       "text": [
        "\n",
        "(10000, 40)\n",
        "(10000, 40)"
       ]
      },
      {
       "output_type": "stream",
       "stream": "stdout",
       "text": [
        "\n",
        "(10000, 40)\n",
        "(10000, 40)\n",
        "(10000, 40)"
       ]
      },
      {
       "output_type": "stream",
       "stream": "stdout",
       "text": [
        "\n",
        "(9755, 40)\n",
        "(7886, 40)\n",
        "(9267, 40)\n",
        "(10000, 40)"
       ]
      },
      {
       "output_type": "stream",
       "stream": "stdout",
       "text": [
        "\n",
        "(10000, 40)\n",
        "(10000, 40)\n",
        "(9728, 40)"
       ]
      },
      {
       "output_type": "stream",
       "stream": "stdout",
       "text": [
        "\n",
        "(8463, 40)\n",
        "(9044, 40)\n",
        "(7483, 40)\n",
        "(5736, 40)"
       ]
      },
      {
       "output_type": "stream",
       "stream": "stdout",
       "text": [
        "\n",
        "(6873, 40)\n",
        "(6240, 40)\n",
        "(9854, 40)\n",
        "(10000, 40)"
       ]
      },
      {
       "output_type": "stream",
       "stream": "stdout",
       "text": [
        "\n",
        "(9984, 40)\n",
        "(7420, 40)\n",
        "(10000, 40)\n",
        "(9711, 40)"
       ]
      },
      {
       "output_type": "stream",
       "stream": "stdout",
       "text": [
        "\n",
        "(10000, 40)\n",
        "(10000, 40)\n",
        "(8776, 40)"
       ]
      },
      {
       "output_type": "stream",
       "stream": "stdout",
       "text": [
        "\n",
        "(9826, 40)\n",
        "(10000, 40)\n",
        "(9608, 40)"
       ]
      },
      {
       "output_type": "stream",
       "stream": "stdout",
       "text": [
        "\n",
        "(8903, 40)\n",
        "(9191, 40)\n",
        "(10000, 40)\n",
        "(10000, 40)"
       ]
      },
      {
       "output_type": "stream",
       "stream": "stdout",
       "text": [
        "\n",
        "(10000, 40)\n",
        "(10000, 40)\n",
        "(9745, 40)"
       ]
      },
      {
       "output_type": "stream",
       "stream": "stdout",
       "text": [
        "\n",
        "(9905, 40)\n",
        "(10000, 40)\n",
        "(9042, 40)\n",
        "(9254, 40)"
       ]
      },
      {
       "output_type": "stream",
       "stream": "stdout",
       "text": [
        "\n",
        "(10000, 40)\n",
        "(10000, 40)\n",
        "(10000, 40)\n",
        "(10000, 40)"
       ]
      },
      {
       "output_type": "stream",
       "stream": "stdout",
       "text": [
        "\n",
        "(10000, 40)\n",
        "(10000, 40)\n",
        "(10000, 40)"
       ]
      },
      {
       "output_type": "stream",
       "stream": "stdout",
       "text": [
        "\n",
        "(9801, 40)\n",
        "(9894, 40)\n",
        "(10000, 40)"
       ]
      },
      {
       "output_type": "stream",
       "stream": "stdout",
       "text": [
        "\n",
        "(10000, 40)\n",
        "(10000, 40)\n",
        "(9317, 40)"
       ]
      },
      {
       "output_type": "stream",
       "stream": "stdout",
       "text": [
        "\n",
        "(9924, 40)\n",
        "(10000, 40)\n",
        "(10000, 40)\n",
        "(9115, 40)"
       ]
      },
      {
       "output_type": "stream",
       "stream": "stdout",
       "text": [
        "\n",
        "(8513, 40)\n",
        "(6020, 40)\n",
        "(8346, 40)\n",
        "(10000, 40)"
       ]
      },
      {
       "output_type": "stream",
       "stream": "stdout",
       "text": [
        "\n",
        "(10000, 40)\n",
        "(10000, 40)\n",
        "(6239, 40)\n",
        "(0, 40)"
       ]
      },
      {
       "output_type": "stream",
       "stream": "stdout",
       "text": [
        "\n",
        "(0, 40)\n",
        "(0, 40)\n",
        "(0, 40)\n",
        "(0, 40)\n",
        "(0, 40)\n",
        "(0, 40)\n",
        "(0, 40)\n",
        "(0, 40)\n",
        "(0, 40)\n",
        "(0, 40)\n",
        "(0, 40)\n",
        "(0, 40)\n",
        "(0, 40)\n",
        "(0, 40)\n",
        "(36, 40)\n",
        "(7768, 40)"
       ]
      },
      {
       "output_type": "stream",
       "stream": "stdout",
       "text": [
        "\n",
        "(10000, 40)\n",
        "(10000, 40)\n",
        "(10000, 40)\n",
        "(9519, 40)\n",
        "(10000, 40)"
       ]
      },
      {
       "output_type": "stream",
       "stream": "stdout",
       "text": [
        "\n",
        "(10000, 40)\n",
        "(10000, 40)\n",
        "(10000, 40)\n",
        "(10000, 40)"
       ]
      },
      {
       "output_type": "stream",
       "stream": "stdout",
       "text": [
        "\n",
        "(10000, 40)\n",
        "(9401, 40)\n",
        "(8826, 40)\n",
        "(8847, 40)"
       ]
      },
      {
       "output_type": "stream",
       "stream": "stdout",
       "text": [
        "\n",
        "(9890, 40)\n",
        "(10000, 40)\n",
        "(10000, 40)"
       ]
      },
      {
       "output_type": "stream",
       "stream": "stdout",
       "text": [
        "\n",
        "(10000, 40)\n",
        "(9181, 40)\n",
        "(8678, 40)\n",
        "(8897, 40)"
       ]
      },
      {
       "output_type": "stream",
       "stream": "stdout",
       "text": [
        "\n",
        "(9997, 40)\n",
        "(6845, 40)\n",
        "(4282, 40)\n",
        "(6659, 40)\n",
        "(8841, 40)"
       ]
      },
      {
       "output_type": "stream",
       "stream": "stdout",
       "text": [
        "\n",
        "(10000, 40)\n",
        "(10000, 40)\n",
        "(6524, 40)\n",
        "(9609, 40)"
       ]
      },
      {
       "output_type": "stream",
       "stream": "stdout",
       "text": [
        "\n",
        "(9595, 40)\n",
        "(9434, 40)\n",
        "(9008, 40)\n",
        "(9958, 40)"
       ]
      },
      {
       "output_type": "stream",
       "stream": "stdout",
       "text": [
        "\n",
        "(10000, 40)\n",
        "(10000, 40)\n",
        "(10000, 40)"
       ]
      },
      {
       "output_type": "stream",
       "stream": "stdout",
       "text": [
        "\n",
        "(8415, 40)\n",
        "(10000, 40)"
       ]
      },
      {
       "output_type": "stream",
       "stream": "stdout",
       "text": [
        "\n",
        "(10000, 40)\n",
        "(9231, 40)"
       ]
      },
      {
       "output_type": "stream",
       "stream": "stdout",
       "text": [
        "\n",
        "(10000, 40)\n",
        "(9541, 40)\n",
        "(9278, 40)"
       ]
      },
      {
       "output_type": "stream",
       "stream": "stdout",
       "text": [
        "\n",
        "(10000, 40)\n",
        "(10000, 40)"
       ]
      },
      {
       "output_type": "stream",
       "stream": "stdout",
       "text": [
        "\n",
        "(10000, 40)\n",
        "(10000, 40)"
       ]
      },
      {
       "output_type": "stream",
       "stream": "stdout",
       "text": [
        "\n",
        "(10000, 40)\n",
        "(10000, 40)"
       ]
      },
      {
       "output_type": "stream",
       "stream": "stdout",
       "text": [
        "\n",
        "(10000, 40)\n",
        "(9882, 40)"
       ]
      },
      {
       "output_type": "stream",
       "stream": "stdout",
       "text": [
        "\n",
        "(9978, 40)\n",
        "(9995, 40)\n",
        "(9539, 40)"
       ]
      },
      {
       "output_type": "stream",
       "stream": "stdout",
       "text": [
        "\n",
        "(9972, 40)\n",
        "(10000, 40)"
       ]
      },
      {
       "output_type": "stream",
       "stream": "stdout",
       "text": [
        "\n",
        "(10000, 40)\n",
        "(9969, 40)\n",
        "(10000, 40)"
       ]
      },
      {
       "output_type": "stream",
       "stream": "stdout",
       "text": [
        "\n",
        "(9995, 40)\n",
        "(9864, 40)"
       ]
      },
      {
       "output_type": "stream",
       "stream": "stdout",
       "text": [
        "\n",
        "(10000, 40)\n",
        "(10000, 40)"
       ]
      },
      {
       "output_type": "stream",
       "stream": "stdout",
       "text": [
        "\n",
        "(10000, 40)\n",
        "(10000, 40)"
       ]
      },
      {
       "output_type": "stream",
       "stream": "stdout",
       "text": [
        "\n",
        "(9982, 40)\n",
        "(8971, 40)"
       ]
      },
      {
       "output_type": "stream",
       "stream": "stdout",
       "text": [
        "\n",
        "(9814, 40)\n",
        "(10000, 40)"
       ]
      },
      {
       "output_type": "stream",
       "stream": "stdout",
       "text": [
        "\n",
        "(8702, 40)\n",
        "(4028, 40)"
       ]
      },
      {
       "output_type": "stream",
       "stream": "stdout",
       "text": [
        "\n",
        "(8323, 40)\n",
        "(8190, 40)\n",
        "(6631, 40)"
       ]
      },
      {
       "output_type": "stream",
       "stream": "stdout",
       "text": [
        "\n",
        "(491, 40)\n",
        "(0, 40)\n",
        "(0, 40)\n",
        "(0, 40)\n",
        "(0, 40)\n",
        "(0, 40)\n",
        "(0, 40)\n",
        "(0, 40)\n",
        "(0, 40)\n",
        "(0, 40)"
       ]
      },
      {
       "output_type": "stream",
       "stream": "stdout",
       "text": [
        "\n",
        "(0, 40)\n",
        "(0, 40)\n",
        "(0, 40)\n",
        "(0, 40)\n",
        "(0, 40)\n",
        "(0, 40)\n",
        "(0, 40)\n",
        "(1150, 40)\n",
        "(4867, 40)\n",
        "(2804, 40)\n",
        "(5961, 40)\n",
        "(8532, 40)"
       ]
      },
      {
       "output_type": "stream",
       "stream": "stdout",
       "text": [
        "\n",
        "(10000, 40)\n",
        "(10000, 40)\n",
        "(10000, 40)"
       ]
      },
      {
       "output_type": "stream",
       "stream": "stdout",
       "text": [
        "\n",
        "(10000, 40)\n",
        "(10000, 40)"
       ]
      },
      {
       "output_type": "stream",
       "stream": "stdout",
       "text": [
        "\n",
        "(10000, 40)\n",
        "(10000, 40)"
       ]
      },
      {
       "output_type": "stream",
       "stream": "stdout",
       "text": [
        "\n",
        "(10000, 40)\n",
        "(9834, 40)"
       ]
      },
      {
       "output_type": "stream",
       "stream": "stdout",
       "text": [
        "\n",
        "(8690, 40)\n",
        "(8234, 40)"
       ]
      },
      {
       "output_type": "stream",
       "stream": "stdout",
       "text": [
        "\n",
        "(9878, 40)\n",
        "(10000, 40)"
       ]
      },
      {
       "output_type": "stream",
       "stream": "stdout",
       "text": [
        "\n",
        "(10000, 40)\n",
        "(10000, 40)"
       ]
      },
      {
       "output_type": "stream",
       "stream": "stdout",
       "text": [
        "\n",
        "(9905, 40)\n",
        "(7616, 40)"
       ]
      },
      {
       "output_type": "stream",
       "stream": "stdout",
       "text": [
        "\n",
        "(5085, 40)\n",
        "(10000, 40)\n",
        "(10000, 40)"
       ]
      },
      {
       "output_type": "stream",
       "stream": "stdout",
       "text": [
        "\n",
        "(10000, 40)\n",
        "(10000, 40)"
       ]
      },
      {
       "output_type": "stream",
       "stream": "stdout",
       "text": [
        "\n",
        "(10000, 40)\n",
        "(7918, 40)"
       ]
      },
      {
       "output_type": "stream",
       "stream": "stdout",
       "text": [
        "\n",
        "(9660, 40)"
       ]
      },
      {
       "output_type": "stream",
       "stream": "stdout",
       "text": [
        "\n",
        "(9636, 40)\n",
        "(9782, 40)\n",
        "(9782, 40)\n",
        "(9940, 40)\n",
        "(10000, 40)"
       ]
      },
      {
       "output_type": "stream",
       "stream": "stdout",
       "text": [
        "\n",
        "(10000, 40)\n",
        "(9443, 40)\n",
        "(9689, 40)\n",
        "(10000, 40)\n",
        "(10000, 40)"
       ]
      },
      {
       "output_type": "stream",
       "stream": "stdout",
       "text": [
        "\n",
        "(9370, 40)\n",
        "(10000, 40)\n",
        "(10000, 40)\n",
        "(9752, 40)\n",
        "(10000, 40)"
       ]
      },
      {
       "output_type": "stream",
       "stream": "stdout",
       "text": [
        "\n",
        "(10000, 40)\n",
        "(10000, 40)\n",
        "(10000, 40)\n",
        "(10000, 40)\n",
        "(10000, 40)"
       ]
      },
      {
       "output_type": "stream",
       "stream": "stdout",
       "text": [
        "\n",
        "(10000, 40)\n",
        "(10000, 40)\n",
        "(10000, 40)\n",
        "(10000, 40)\n",
        "(9985, 40)"
       ]
      },
      {
       "output_type": "stream",
       "stream": "stdout",
       "text": [
        "\n",
        "(9532, 40)\n",
        "(10000, 40)\n",
        "(10000, 40)\n",
        "(10000, 40)\n",
        "(9725, 40)"
       ]
      },
      {
       "output_type": "stream",
       "stream": "stdout",
       "text": [
        "\n",
        "(8959, 40)\n",
        "(9367, 40)\n",
        "(10000, 40)\n",
        "(10000, 40)\n",
        "(10000, 40)"
       ]
      },
      {
       "output_type": "stream",
       "stream": "stdout",
       "text": [
        "\n",
        "(10000, 40)\n",
        "(10000, 40)\n",
        "(10000, 40)\n",
        "(10000, 40)\n",
        "(10000, 40)"
       ]
      },
      {
       "output_type": "stream",
       "stream": "stdout",
       "text": [
        "\n",
        "(10000, 40)\n",
        "(10000, 40)\n",
        "(10000, 40)\n",
        "(9079, 40)\n",
        "(1389, 40)"
       ]
      },
      {
       "output_type": "stream",
       "stream": "stdout",
       "text": [
        "\n",
        "(0, 40)\n",
        "(0, 40)\n",
        "(0, 40)\n",
        "(0, 40)\n",
        "(0, 40)\n",
        "(0, 40)\n",
        "(0, 40)\n",
        "(0, 40)\n",
        "(0, 40)\n",
        "(0, 40)\n",
        "(0, 40)\n",
        "(0, 40)\n",
        "(0, 40)\n",
        "(0, 40)\n",
        "(0, 40)\n",
        "(0, 40)\n",
        "(0, 40)\n",
        "(0, 40)\n",
        "(0, 40)"
       ]
      },
      {
       "output_type": "stream",
       "stream": "stdout",
       "text": [
        "\n",
        "(0, 40)\n",
        "(0, 40)\n",
        "(114, 40)\n",
        "(5492, 40)\n",
        "(9491, 40)\n",
        "(10000, 40)\n",
        "(10000, 40)\n",
        "(10000, 40)\n",
        "(10000, 40)"
       ]
      },
      {
       "output_type": "stream",
       "stream": "stdout",
       "text": [
        "\n",
        "(10000, 40)\n",
        "(10000, 40)\n",
        "(10000, 40)\n",
        "(10000, 40)"
       ]
      },
      {
       "output_type": "stream",
       "stream": "stdout",
       "text": [
        "\n",
        "(9917, 40)\n",
        "(8209, 40)"
       ]
      },
      {
       "output_type": "stream",
       "stream": "stdout",
       "text": [
        "\n",
        "(9239, 40)\n",
        "(10000, 40)"
       ]
      },
      {
       "output_type": "stream",
       "stream": "stdout",
       "text": [
        "\n",
        "(10000, 40)\n",
        "(9997, 40)"
       ]
      },
      {
       "output_type": "stream",
       "stream": "stdout",
       "text": [
        "\n",
        "(7224, 40)\n",
        "(9964, 40)"
       ]
      },
      {
       "output_type": "stream",
       "stream": "stdout",
       "text": [
        "\n",
        "(10000, 40)\n",
        "(10000, 40)"
       ]
      },
      {
       "output_type": "stream",
       "stream": "stdout",
       "text": [
        "\n",
        "(10000, 40)\n",
        "(10000, 40)"
       ]
      },
      {
       "output_type": "stream",
       "stream": "stdout",
       "text": [
        "\n",
        "(10000, 40)\n",
        "(9175, 40)"
       ]
      },
      {
       "output_type": "stream",
       "stream": "stdout",
       "text": [
        "\n",
        "(10000, 40)\n",
        "(9825, 40)"
       ]
      },
      {
       "output_type": "stream",
       "stream": "stdout",
       "text": [
        "\n",
        "(9535, 40)\n",
        "(9998, 40)"
       ]
      },
      {
       "output_type": "stream",
       "stream": "stdout",
       "text": [
        "\n",
        "(10000, 40)\n",
        "(10000, 40)"
       ]
      },
      {
       "output_type": "stream",
       "stream": "stdout",
       "text": [
        "\n",
        "(9948, 40)\n",
        "(9856, 40)"
       ]
      },
      {
       "output_type": "stream",
       "stream": "stdout",
       "text": [
        "\n",
        "(9991, 40)\n",
        "(10000, 40)"
       ]
      },
      {
       "output_type": "stream",
       "stream": "stdout",
       "text": [
        "\n",
        "(10000, 40)\n",
        "(9524, 40)"
       ]
      },
      {
       "output_type": "stream",
       "stream": "stdout",
       "text": [
        "\n",
        "(9860, 40)\n",
        "(10000, 40)"
       ]
      },
      {
       "output_type": "stream",
       "stream": "stdout",
       "text": [
        "\n",
        "(10000, 40)\n",
        "(9680, 40)"
       ]
      },
      {
       "output_type": "stream",
       "stream": "stdout",
       "text": [
        "\n",
        "(9513, 40)\n",
        "(10000, 40)"
       ]
      },
      {
       "output_type": "stream",
       "stream": "stdout",
       "text": [
        "\n",
        "(10000, 40)\n",
        "(10000, 40)"
       ]
      },
      {
       "output_type": "stream",
       "stream": "stdout",
       "text": [
        "\n",
        "(10000, 40)\n",
        "(9980, 40)"
       ]
      },
      {
       "output_type": "stream",
       "stream": "stdout",
       "text": [
        "\n",
        "(9495, 40)\n",
        "(9379, 40)"
       ]
      },
      {
       "output_type": "stream",
       "stream": "stdout",
       "text": [
        "\n",
        "(9915, 40)\n",
        "(9670, 40)"
       ]
      },
      {
       "output_type": "stream",
       "stream": "stdout",
       "text": [
        "\n",
        "(8887, 40)\n",
        "(9354, 40)"
       ]
      },
      {
       "output_type": "stream",
       "stream": "stdout",
       "text": [
        "\n",
        "(10000, 40)\n",
        "(10000, 40)"
       ]
      },
      {
       "output_type": "stream",
       "stream": "stdout",
       "text": [
        "\n",
        "(10000, 40)\n",
        "(9378, 40)"
       ]
      },
      {
       "output_type": "stream",
       "stream": "stdout",
       "text": [
        "\n",
        "(8404, 40)\n",
        "(10000, 40)"
       ]
      },
      {
       "output_type": "stream",
       "stream": "stdout",
       "text": [
        "\n",
        "(9840, 40)\n",
        "(9810, 40)"
       ]
      },
      {
       "output_type": "stream",
       "stream": "stdout",
       "text": [
        "\n",
        "(10000, 40)\n",
        "(10000, 40)"
       ]
      },
      {
       "output_type": "stream",
       "stream": "stdout",
       "text": [
        "\n",
        "(9531, 40)\n",
        "(8963, 40)"
       ]
      },
      {
       "output_type": "stream",
       "stream": "stdout",
       "text": [
        "\n",
        "(9279, 40)\n",
        "(9229, 40)"
       ]
      },
      {
       "output_type": "stream",
       "stream": "stdout",
       "text": [
        "\n",
        "(9722, 40)\n",
        "(9424, 40)"
       ]
      },
      {
       "output_type": "stream",
       "stream": "stdout",
       "text": [
        "\n",
        "(1903, 40)\n",
        "(0, 40)\n",
        "(0, 40)\n",
        "(0, 40)\n",
        "(0, 40)\n",
        "(0, 40)\n",
        "(0, 40)\n",
        "(0, 40)"
       ]
      },
      {
       "output_type": "stream",
       "stream": "stdout",
       "text": [
        "\n",
        "(0, 40)\n",
        "(0, 40)\n",
        "(0, 40)\n",
        "(0, 40)\n",
        "(0, 40)\n",
        "(0, 40)\n",
        "(0, 40)\n",
        "(0, 40)\n",
        "(0, 40)\n",
        "(0, 40)\n",
        "(0, 40)\n",
        "(0, 40)\n",
        "(0, 40)\n",
        "(0, 40)\n",
        "(0, 40)\n",
        "(0, 40)\n",
        "(0, 40)"
       ]
      },
      {
       "output_type": "stream",
       "stream": "stdout",
       "text": [
        "\n",
        "(2754, 40)\n",
        "(10000, 40)\n",
        "(10000, 40)\n",
        "(10000, 40)\n",
        "(10000, 40)\n",
        "(10000, 40)"
       ]
      },
      {
       "output_type": "stream",
       "stream": "stdout",
       "text": [
        "\n",
        "(10000, 40)\n",
        "(10000, 40)"
       ]
      },
      {
       "output_type": "stream",
       "stream": "stdout",
       "text": [
        "\n",
        "(10000, 40)\n",
        "(10000, 40)"
       ]
      },
      {
       "output_type": "stream",
       "stream": "stdout",
       "text": [
        "\n",
        "(10000, 40)\n",
        "(9146, 40)"
       ]
      },
      {
       "output_type": "stream",
       "stream": "stdout",
       "text": [
        "\n",
        "(9244, 40)\n",
        "(8270, 40)"
       ]
      },
      {
       "output_type": "stream",
       "stream": "stdout",
       "text": [
        "\n",
        "(8210, 40)\n",
        "(8856, 40)"
       ]
      },
      {
       "output_type": "stream",
       "stream": "stdout",
       "text": [
        "\n",
        "(10000, 40)\n",
        "(10000, 40)"
       ]
      },
      {
       "output_type": "stream",
       "stream": "stdout",
       "text": [
        "\n",
        "(10000, 40)\n",
        "(10000, 40)"
       ]
      },
      {
       "output_type": "stream",
       "stream": "stdout",
       "text": [
        "\n",
        "(10000, 40)\n",
        "(10000, 40)"
       ]
      },
      {
       "output_type": "stream",
       "stream": "stdout",
       "text": [
        "\n",
        "(7602, 40)\n",
        "(9248, 40)"
       ]
      },
      {
       "output_type": "stream",
       "stream": "stdout",
       "text": [
        "\n",
        "(10000, 40)\n",
        "(9952, 40)"
       ]
      },
      {
       "output_type": "stream",
       "stream": "stdout",
       "text": [
        "\n",
        "(10000, 40)\n",
        "(10000, 40)"
       ]
      },
      {
       "output_type": "stream",
       "stream": "stdout",
       "text": [
        "\n",
        "(10000, 40)\n",
        "(10000, 40)"
       ]
      },
      {
       "output_type": "stream",
       "stream": "stdout",
       "text": [
        "\n",
        "(10000, 40)\n",
        "(10000, 40)"
       ]
      },
      {
       "output_type": "stream",
       "stream": "stdout",
       "text": [
        "\n",
        "(10000, 40)\n",
        "(10000, 40)"
       ]
      },
      {
       "output_type": "stream",
       "stream": "stdout",
       "text": [
        "\n",
        "(10000, 40)\n",
        "(9992, 40)"
       ]
      },
      {
       "output_type": "stream",
       "stream": "stdout",
       "text": [
        "\n",
        "(10000, 40)\n",
        "(10000, 40)"
       ]
      },
      {
       "output_type": "stream",
       "stream": "stdout",
       "text": [
        "\n",
        "(9774, 40)\n",
        "(9883, 40)"
       ]
      },
      {
       "output_type": "stream",
       "stream": "stdout",
       "text": [
        "\n",
        "(9053, 40)\n",
        "(9971, 40)"
       ]
      },
      {
       "output_type": "stream",
       "stream": "stdout",
       "text": [
        "\n",
        "(10000, 40)\n",
        "(10000, 40)"
       ]
      },
      {
       "output_type": "stream",
       "stream": "stdout",
       "text": [
        "\n",
        "(10000, 40)\n",
        "(10000, 40)"
       ]
      },
      {
       "output_type": "stream",
       "stream": "stdout",
       "text": [
        "\n",
        "(9918, 40)\n",
        "(9242, 40)\n",
        "(9683, 40)"
       ]
      },
      {
       "output_type": "stream",
       "stream": "stdout",
       "text": [
        "\n",
        "(10000, 40)\n",
        "(9147, 40)"
       ]
      },
      {
       "output_type": "stream",
       "stream": "stdout",
       "text": [
        "\n",
        "(8230, 40)\n",
        "(9045, 40)\n",
        "(10000, 40)"
       ]
      },
      {
       "output_type": "stream",
       "stream": "stdout",
       "text": [
        "\n",
        "(9829, 40)\n",
        "(9087, 40)"
       ]
      },
      {
       "output_type": "stream",
       "stream": "stdout",
       "text": [
        "\n",
        "(9084, 40)\n",
        "(10000, 40)\n",
        "(9356, 40)"
       ]
      },
      {
       "output_type": "stream",
       "stream": "stdout",
       "text": [
        "\n",
        "(10000, 40)\n",
        "(10000, 40)"
       ]
      },
      {
       "output_type": "stream",
       "stream": "stdout",
       "text": [
        "\n",
        "(9344, 40)\n",
        "(9065, 40)\n",
        "(8927, 40)"
       ]
      },
      {
       "output_type": "stream",
       "stream": "stdout",
       "text": [
        "\n",
        "(9552, 40)\n",
        "(8471, 40)"
       ]
      },
      {
       "output_type": "stream",
       "stream": "stdout",
       "text": [
        "\n",
        "(2492, 40)\n",
        "(0, 40)\n",
        "(0, 40)\n",
        "(0, 40)\n",
        "(0, 40)\n",
        "(0, 40)\n",
        "(0, 40)\n",
        "(0, 40)\n",
        "(0, 40)\n",
        "(0, 40)\n",
        "(0, 40)\n",
        "(0, 40)\n",
        "(0, 40)\n",
        "(0, 40)\n",
        "(0, 40)\n",
        "(0, 40)\n",
        "(0, 40)"
       ]
      },
      {
       "output_type": "stream",
       "stream": "stdout",
       "text": [
        "\n",
        "(0, 40)\n",
        "(0, 40)\n",
        "(0, 40)\n",
        "(0, 40)\n",
        "(0, 40)\n",
        "(0, 40)\n",
        "(0, 40)\n",
        "(0, 40)\n",
        "(0, 40)\n",
        "(1575, 40)\n",
        "(10000, 40)\n",
        "(10000, 40)\n",
        "(10000, 40)"
       ]
      },
      {
       "output_type": "stream",
       "stream": "stdout",
       "text": [
        "\n",
        "(10000, 40)\n",
        "(10000, 40)\n",
        "(10000, 40)\n",
        "(10000, 40)"
       ]
      },
      {
       "output_type": "stream",
       "stream": "stdout",
       "text": [
        "\n",
        "(10000, 40)\n",
        "(10000, 40)"
       ]
      },
      {
       "output_type": "stream",
       "stream": "stdout",
       "text": [
        "\n",
        "(10000, 40)\n",
        "(10000, 40)"
       ]
      },
      {
       "output_type": "stream",
       "stream": "stdout",
       "text": [
        "\n",
        "(8835, 40)\n",
        "(10000, 40)"
       ]
      },
      {
       "output_type": "stream",
       "stream": "stdout",
       "text": [
        "\n",
        "(10000, 40)\n",
        "(9871, 40)\n",
        "(10000, 40)"
       ]
      },
      {
       "output_type": "stream",
       "stream": "stdout",
       "text": [
        "\n",
        "(9801, 40)\n",
        "(10000, 40)\n",
        "(10000, 40)"
       ]
      },
      {
       "output_type": "stream",
       "stream": "stdout",
       "text": [
        "\n",
        "(10000, 40)\n",
        "(9007, 40)\n",
        "(4308, 40)"
       ]
      },
      {
       "output_type": "stream",
       "stream": "stdout",
       "text": [
        "\n",
        "(4809, 40)\n",
        "(5088, 40)\n",
        "(8545, 40)\n",
        "(9656, 40)\n",
        "(10000, 40)"
       ]
      },
      {
       "output_type": "stream",
       "stream": "stdout",
       "text": [
        "\n",
        "(10000, 40)\n",
        "(10000, 40)\n",
        "(10000, 40)"
       ]
      },
      {
       "output_type": "stream",
       "stream": "stdout",
       "text": [
        "\n",
        "(10000, 40)\n",
        "(10000, 40)\n",
        "(10000, 40)"
       ]
      },
      {
       "output_type": "stream",
       "stream": "stdout",
       "text": [
        "\n",
        "(10000, 40)"
       ]
      },
      {
       "output_type": "stream",
       "stream": "stdout",
       "text": [
        "\n",
        "(10000, 40)"
       ]
      },
      {
       "output_type": "stream",
       "stream": "stdout",
       "text": [
        "\n",
        "(10000, 40)\n",
        "(10000, 40)\n",
        "(10000, 40)"
       ]
      },
      {
       "output_type": "stream",
       "stream": "stdout",
       "text": [
        "\n",
        "(9992, 40)\n",
        "(9510, 40)\n",
        "(9016, 40)\n",
        "(10000, 40)"
       ]
      },
      {
       "output_type": "stream",
       "stream": "stdout",
       "text": [
        "\n",
        "(10000, 40)\n",
        "(10000, 40)\n",
        "(10000, 40)"
       ]
      },
      {
       "output_type": "stream",
       "stream": "stdout",
       "text": [
        "\n",
        "(10000, 40)\n",
        "(10000, 40)\n",
        "(10000, 40)\n",
        "(10000, 40)"
       ]
      },
      {
       "output_type": "stream",
       "stream": "stdout",
       "text": [
        "\n",
        "(10000, 40)\n",
        "(10000, 40)\n",
        "(9513, 40)"
       ]
      },
      {
       "output_type": "stream",
       "stream": "stdout",
       "text": [
        "\n",
        "(9330, 40)\n",
        "(10000, 40)\n",
        "(10000, 40)"
       ]
      },
      {
       "output_type": "stream",
       "stream": "stdout",
       "text": [
        "\n",
        "(9501, 40)\n",
        "(9308, 40)\n",
        "(9290, 40)\n",
        "(10000, 40)"
       ]
      },
      {
       "output_type": "stream",
       "stream": "stdout",
       "text": [
        "\n",
        "(10000, 40)\n",
        "(9601, 40)\n",
        "(9079, 40)"
       ]
      },
      {
       "output_type": "stream",
       "stream": "stdout",
       "text": [
        "\n",
        "(9596, 40)\n",
        "(8774, 40)\n",
        "(3084, 40)\n",
        "(0, 40)\n",
        "(0, 40)\n",
        "(0, 40)"
       ]
      },
      {
       "output_type": "stream",
       "stream": "stdout",
       "text": [
        "\n",
        "(0, 40)\n",
        "(0, 40)\n",
        "(0, 40)\n",
        "(0, 40)\n",
        "(0, 40)\n",
        "(0, 40)\n",
        "(0, 40)\n",
        "(0, 40)\n",
        "(0, 40)\n",
        "(0, 40)\n",
        "(0, 40)\n",
        "(0, 40)\n",
        "(0, 40)\n",
        "(0, 40)\n",
        "(0, 40)\n",
        "(0, 40)\n",
        "(0, 40)\n",
        "(0, 40)\n",
        "(0, 40)"
       ]
      },
      {
       "output_type": "stream",
       "stream": "stdout",
       "text": [
        "\n",
        "(0, 40)\n",
        "(0, 40)\n",
        "(0, 40)\n",
        "(0, 40)\n",
        "(501, 40)\n",
        "(4714, 40)\n",
        "(6725, 40)\n",
        "(9978, 40)\n",
        "(10000, 40)"
       ]
      },
      {
       "output_type": "stream",
       "stream": "stdout",
       "text": [
        "\n",
        "(10000, 40)\n",
        "(10000, 40)\n",
        "(10000, 40)\n",
        "(10000, 40)"
       ]
      },
      {
       "output_type": "stream",
       "stream": "stdout",
       "text": [
        "\n",
        "(10000, 40)\n",
        "(10000, 40)\n",
        "(9297, 40)\n",
        "(9905, 40)\n",
        "(10000, 40)"
       ]
      },
      {
       "output_type": "stream",
       "stream": "stdout",
       "text": [
        "\n",
        "(9247, 40)\n",
        "(7126, 40)\n",
        "(7406, 40)\n",
        "(2589, 40)\n",
        "(4161, 40)\n",
        "(2978, 40)\n",
        "(1576, 40)"
       ]
      },
      {
       "output_type": "stream",
       "stream": "stdout",
       "text": [
        "\n",
        "(189, 40)\n",
        "(0, 40)\n",
        "(0, 40)\n",
        "(0, 40)\n",
        "(596, 40)\n",
        "(6982, 40)\n",
        "(10000, 40)\n",
        "(10000, 40)\n",
        "(10000, 40)"
       ]
      },
      {
       "output_type": "stream",
       "stream": "stdout",
       "text": [
        "\n",
        "(10000, 40)\n",
        "(10000, 40)\n",
        "(10000, 40)\n",
        "(10000, 40)"
       ]
      },
      {
       "output_type": "stream",
       "stream": "stdout",
       "text": [
        "\n",
        "(10000, 40)\n",
        "(10000, 40)\n",
        "(10000, 40)"
       ]
      },
      {
       "output_type": "stream",
       "stream": "stdout",
       "text": [
        "\n",
        "(10000, 40)\n",
        "(10000, 40)\n",
        "(10000, 40)"
       ]
      },
      {
       "output_type": "stream",
       "stream": "stdout",
       "text": [
        "\n",
        "(9597, 40)\n",
        "(8530, 40)\n",
        "(8574, 40)\n",
        "(9960, 40)"
       ]
      },
      {
       "output_type": "stream",
       "stream": "stdout",
       "text": [
        "\n",
        "(10000, 40)\n",
        "(9966, 40)\n",
        "(9008, 40)\n",
        "(8441, 40)"
       ]
      },
      {
       "output_type": "stream",
       "stream": "stdout",
       "text": [
        "\n",
        "(6861, 40)\n",
        "(9180, 40)\n",
        "(8969, 40)\n",
        "(7410, 40)"
       ]
      },
      {
       "output_type": "stream",
       "stream": "stdout",
       "text": [
        "\n",
        "(8207, 40)"
       ]
      },
      {
       "output_type": "stream",
       "stream": "stdout",
       "text": [
        "\n",
        "(7298, 40)\n",
        "(7745, 40)\n",
        "(8160, 40)\n",
        "(7383, 40)"
       ]
      },
      {
       "output_type": "stream",
       "stream": "stdout",
       "text": [
        "\n",
        "(6079, 40)\n",
        "(4468, 40)\n",
        "(7719, 40)\n",
        "(7805, 40)\n",
        "(6873, 40)"
       ]
      },
      {
       "output_type": "stream",
       "stream": "stdout",
       "text": [
        "\n",
        "(5813, 40)\n",
        "(7404, 40)\n",
        "(3541, 40)\n",
        "(0, 40)\n",
        "(0, 40)\n",
        "(0, 40)\n",
        "(0, 40)\n",
        "(0, 40)\n",
        "(0, 40)"
       ]
      },
      {
       "output_type": "stream",
       "stream": "stdout",
       "text": [
        "\n",
        "(0, 40)\n",
        "(0, 40)\n",
        "(0, 40)\n",
        "(0, 40)\n",
        "(0, 40)\n",
        "(0, 40)\n",
        "(0, 40)\n",
        "(0, 40)\n",
        "(0, 40)\n",
        "(0, 40)\n",
        "(0, 40)\n",
        "(0, 40)\n",
        "(0, 40)\n",
        "(0, 40)\n",
        "(0, 40)\n",
        "(0, 40)\n",
        "(0, 40)\n",
        "(0, 40)\n",
        "(0, 40)\n",
        "(0, 40)\n",
        "(0, 40)\n",
        "(0, 40)\n",
        "(0, 40)\n",
        "(0, 40)\n",
        "(706, 40)"
       ]
      },
      {
       "output_type": "stream",
       "stream": "stdout",
       "text": [
        "\n",
        "(2680, 40)\n",
        "(9382, 40)"
       ]
      },
      {
       "output_type": "stream",
       "stream": "stdout",
       "text": [
        "\n",
        "(10000, 40)\n",
        "(10000, 40)\n",
        "(10000, 40)\n",
        "(9297, 40)\n",
        "(8734, 40)"
       ]
      },
      {
       "output_type": "stream",
       "stream": "stdout",
       "text": [
        "\n",
        "(8298, 40)\n",
        "(10000, 40)\n",
        "(9633, 40)\n",
        "(920, 40)\n",
        "(0, 40)\n",
        "(0, 40)\n",
        "(0, 40)\n",
        "(0, 40)\n",
        "(0, 40)\n",
        "(0, 40)\n",
        "(0, 40)\n",
        "(0, 40)"
       ]
      },
      {
       "output_type": "stream",
       "stream": "stdout",
       "text": [
        "\n",
        "(0, 40)"
       ]
      },
      {
       "output_type": "stream",
       "stream": "stdout",
       "text": [
        "\n",
        "(0, 40)\n",
        "(0, 40)\n",
        "(198, 40)\n",
        "(6034, 40)\n",
        "(10000, 40)\n",
        "(10000, 40)\n",
        "(10000, 40)"
       ]
      },
      {
       "output_type": "stream",
       "stream": "stdout",
       "text": [
        "\n",
        "(9386, 40)\n",
        "(9544, 40)\n",
        "(10000, 40)\n",
        "(10000, 40)"
       ]
      },
      {
       "output_type": "stream",
       "stream": "stdout",
       "text": [
        "\n",
        "(10000, 40)\n",
        "(10000, 40)\n",
        "(10000, 40)\n",
        "(10000, 40)"
       ]
      },
      {
       "output_type": "stream",
       "stream": "stdout",
       "text": [
        "\n",
        "(10000, 40)\n",
        "(10000, 40)\n",
        "(10000, 40)\n",
        "(9449, 40)\n",
        "(8440, 40)\n",
        "(8529, 40)"
       ]
      },
      {
       "output_type": "stream",
       "stream": "stdout",
       "text": [
        "\n",
        "(7843, 40)\n",
        "(9927, 40)\n",
        "(10000, 40)\n",
        "(9958, 40)\n",
        "(9104, 40)\n",
        "(9690, 40)"
       ]
      },
      {
       "output_type": "stream",
       "stream": "stdout",
       "text": [
        "\n",
        "(9874, 40)\n",
        "(9962, 40)\n",
        "(9813, 40)\n",
        "(9771, 40)\n",
        "(10000, 40)\n",
        "(10000, 40)"
       ]
      },
      {
       "output_type": "stream",
       "stream": "stdout",
       "text": [
        "\n",
        "(10000, 40)\n",
        "(9976, 40)\n",
        "(10000, 40)\n",
        "(10000, 40)\n",
        "(10000, 40)"
       ]
      },
      {
       "output_type": "stream",
       "stream": "stdout",
       "text": [
        "\n",
        "(9661, 40)\n",
        "(4516, 40)\n",
        "(0, 40)\n",
        "(0, 40)\n",
        "(0, 40)\n",
        "(0, 40)\n",
        "(0, 40)\n",
        "(0, 40)\n",
        "(0, 40)\n",
        "(0, 40)\n",
        "(0, 40)\n",
        "(0, 40)\n",
        "(0, 40)\n",
        "(0, 40)\n",
        "(0, 40)\n",
        "(0, 40)\n",
        "(0, 40)\n",
        "(0, 40)"
       ]
      },
      {
       "output_type": "stream",
       "stream": "stdout",
       "text": [
        "\n",
        "(0, 40)\n",
        "(0, 40)\n",
        "(0, 40)\n",
        "(0, 40)\n",
        "(0, 40)\n",
        "(0, 40)\n",
        "(0, 40)\n",
        "(0, 40)\n",
        "(0, 40)\n",
        "(0, 40)\n",
        "(0, 40)\n",
        "(0, 40)\n",
        "(0, 40)\n",
        "(0, 40)\n",
        "(0, 40)\n",
        "(0, 40)\n",
        "(157, 40)\n",
        "(8990, 40)\n",
        "(10000, 40)"
       ]
      },
      {
       "output_type": "stream",
       "stream": "stdout",
       "text": [
        "\n",
        "(10000, 40)\n",
        "(10000, 40)\n",
        "(10000, 40)\n",
        "(10000, 40)\n",
        "(9479, 40)\n",
        "(10000, 40)"
       ]
      },
      {
       "output_type": "stream",
       "stream": "stdout",
       "text": [
        "\n",
        "(10000, 40)\n",
        "(4819, 40)\n",
        "(0, 40)\n",
        "(0, 40)\n",
        "(0, 40)\n",
        "(0, 40)\n",
        "(0, 40)\n",
        "(0, 40)\n",
        "(0, 40)"
       ]
      },
      {
       "output_type": "stream",
       "stream": "stdout",
       "text": [
        "\n",
        "(0, 40)\n",
        "(0, 40)\n",
        "(0, 40)\n",
        "(0, 40)\n",
        "(0, 40)\n",
        "(382, 40)\n",
        "(6313, 40)\n",
        "(8015, 40)\n",
        "(9726, 40)\n",
        "(8510, 40)\n",
        "(9991, 40)"
       ]
      },
      {
       "output_type": "stream",
       "stream": "stdout",
       "text": [
        "\n",
        "(9786, 40)\n",
        "(7634, 40)\n",
        "(10000, 40)\n",
        "(10000, 40)\n",
        "(10000, 40)\n",
        "(10000, 40)"
       ]
      },
      {
       "output_type": "stream",
       "stream": "stdout",
       "text": [
        "\n",
        "(10000, 40)\n",
        "(10000, 40)\n",
        "(10000, 40)\n",
        "(9944, 40)\n",
        "(10000, 40)"
       ]
      },
      {
       "output_type": "stream",
       "stream": "stdout",
       "text": [
        "\n",
        "(10000, 40)\n",
        "(10000, 40)\n",
        "(10000, 40)\n",
        "(10000, 40)\n",
        "(10000, 40)\n",
        "(9971, 40)"
       ]
      },
      {
       "output_type": "stream",
       "stream": "stdout",
       "text": [
        "\n",
        "(9411, 40)\n",
        "(9935, 40)\n",
        "(10000, 40)\n",
        "(9793, 40)\n",
        "(10000, 40)\n",
        "(10000, 40)"
       ]
      },
      {
       "output_type": "stream",
       "stream": "stdout",
       "text": [
        "\n",
        "(10000, 40)\n",
        "(9923, 40)\n",
        "(9589, 40)\n",
        "(9424, 40)\n",
        "(9658, 40)\n",
        "(10000, 40)"
       ]
      },
      {
       "output_type": "stream",
       "stream": "stdout",
       "text": [
        "\n",
        "(5585, 40)\n",
        "(1, 40)\n",
        "(0, 40)\n",
        "(0, 40)\n",
        "(0, 40)\n",
        "(0, 40)\n",
        "(0, 40)\n",
        "(0, 40)\n",
        "(0, 40)\n",
        "(0, 40)\n",
        "(0, 40)\n",
        "(0, 40)\n",
        "(0, 40)\n",
        "(0, 40)\n",
        "(0, 40)\n",
        "(0, 40)\n",
        "(0, 40)\n",
        "(0, 40)\n",
        "(0, 40)\n",
        "(0, 40)\n",
        "(0, 40)"
       ]
      },
      {
       "output_type": "stream",
       "stream": "stdout",
       "text": [
        "\n",
        "(0, 40)\n",
        "(0, 40)\n",
        "(0, 40)\n",
        "(0, 40)\n",
        "(0, 40)\n",
        "(0, 40)\n",
        "(0, 40)\n",
        "(0, 40)\n",
        "(0, 40)\n",
        "(0, 40)\n",
        "(0, 40)\n",
        "(0, 40)\n",
        "(0, 40)\n",
        "(4568, 40)\n",
        "(10000, 40)\n",
        "(10000, 40)\n",
        "(10000, 40)"
       ]
      },
      {
       "output_type": "stream",
       "stream": "stdout",
       "text": [
        "\n",
        "(10000, 40)\n",
        "(4867, 40)\n",
        "(7796, 40)\n",
        "(10000, 40)\n",
        "(9938, 40)\n",
        "(6226, 40)"
       ]
      },
      {
       "output_type": "stream",
       "stream": "stdout",
       "text": [
        "\n",
        "(684, 40)\n",
        "(0, 40)\n",
        "(0, 40)\n",
        "(0, 40)\n",
        "(0, 40)\n",
        "(0, 40)\n",
        "(0, 40)\n",
        "(0, 40)\n",
        "(0, 40)\n",
        "(0, 40)\n",
        "(0, 40)\n",
        "(0, 40)\n",
        "(0, 40)\n",
        "(0, 40)\n",
        "(0, 40)\n",
        "(1796, 40)\n",
        "(2668, 40)\n",
        "(3891, 40)\n",
        "(3007, 40)"
       ]
      },
      {
       "output_type": "stream",
       "stream": "stdout",
       "text": [
        "\n",
        "(819, 40)\n",
        "(174, 40)\n",
        "(9099, 40)\n",
        "(10000, 40)\n",
        "(10000, 40)\n",
        "(10000, 40)\n",
        "(10000, 40)"
       ]
      },
      {
       "output_type": "stream",
       "stream": "stdout",
       "text": [
        "\n",
        "(10000, 40)\n",
        "(10000, 40)\n",
        "(10000, 40)\n",
        "(10000, 40)\n",
        "(10000, 40)\n",
        "(10000, 40)"
       ]
      },
      {
       "output_type": "stream",
       "stream": "stdout",
       "text": [
        "\n",
        "(10000, 40)\n",
        "(10000, 40)\n",
        "(10000, 40)\n",
        "(10000, 40)\n",
        "(10000, 40)\n",
        "(9992, 40)"
       ]
      },
      {
       "output_type": "stream",
       "stream": "stdout",
       "text": [
        "\n",
        "(9898, 40)\n",
        "(10000, 40)\n",
        "(10000, 40)\n",
        "(9973, 40)\n",
        "(10000, 40)\n",
        "(10000, 40)"
       ]
      },
      {
       "output_type": "stream",
       "stream": "stdout",
       "text": [
        "\n",
        "(10000, 40)\n",
        "(9415, 40)\n",
        "(5367, 40)\n",
        "(2219, 40)\n",
        "(58, 40)\n",
        "(0, 40)"
       ]
      },
      {
       "output_type": "stream",
       "stream": "stdout",
       "text": [
        "\n",
        "(0, 40)\n",
        "(0, 40)\n",
        "(0, 40)\n",
        "(0, 40)\n",
        "(0, 40)\n",
        "(0, 40)\n",
        "(0, 40)\n",
        "(0, 40)\n",
        "(0, 40)\n",
        "(0, 40)\n",
        "(0, 40)\n",
        "(0, 40)\n",
        "(0, 40)\n",
        "(0, 40)\n",
        "(0, 40)\n",
        "(0, 40)\n",
        "(0, 40)\n",
        "(0, 40)\n",
        "(0, 40)\n",
        "(0, 40)\n",
        "(0, 40)\n",
        "(0, 40)\n",
        "(0, 40)\n",
        "(0, 40)\n",
        "(0, 40)"
       ]
      },
      {
       "output_type": "stream",
       "stream": "stdout",
       "text": [
        "\n",
        "(0, 40)\n",
        "(0, 40)\n",
        "(0, 40)\n",
        "(0, 40)\n",
        "(0, 40)\n",
        "(0, 40)\n",
        "(0, 40)\n",
        "(514, 40)\n",
        "(6698, 40)\n",
        "(9628, 40)\n",
        "(10000, 40)\n",
        "(8951, 40)\n",
        "(2574, 40)"
       ]
      },
      {
       "output_type": "stream",
       "stream": "stdout",
       "text": [
        "\n",
        "(27, 40)\n",
        "(1124, 40)\n",
        "(545, 40)\n",
        "(0, 40)\n",
        "(0, 40)\n",
        "(0, 40)\n",
        "(0, 40)\n",
        "(0, 40)\n",
        "(0, 40)\n",
        "(0, 40)\n",
        "(0, 40)\n",
        "(0, 40)\n",
        "(0, 40)\n",
        "(0, 40)\n",
        "(0, 40)\n",
        "(0, 40)\n",
        "(0, 40)\n",
        "(0, 40)\n",
        "(0, 40)\n",
        "(0, 40)\n",
        "(0, 40)\n",
        "(0, 40)\n",
        "(0, 40)\n",
        "(0, 40)\n",
        "(0, 40)"
       ]
      },
      {
       "output_type": "stream",
       "stream": "stdout",
       "text": [
        "\n",
        "(4521, 40)\n",
        "(9783, 40)\n",
        "(10000, 40)\n",
        "(10000, 40)\n",
        "(10000, 40)\n",
        "(10000, 40)\n",
        "(10000, 40)"
       ]
      },
      {
       "output_type": "stream",
       "stream": "stdout",
       "text": [
        "\n",
        "(10000, 40)\n",
        "(10000, 40)\n",
        "(10000, 40)\n",
        "(8762, 40)\n",
        "(6575, 40)\n",
        "(7228, 40)\n",
        "(9038, 40)"
       ]
      },
      {
       "output_type": "stream",
       "stream": "stdout",
       "text": [
        "\n",
        "(10000, 40)\n",
        "(10000, 40)\n",
        "(9769, 40)"
       ]
      },
      {
       "output_type": "stream",
       "stream": "stdout",
       "text": [
        "\n",
        "(9815, 40)\n",
        "(10000, 40)\n",
        "(9569, 40)\n",
        "(9820, 40)"
       ]
      },
      {
       "output_type": "stream",
       "stream": "stdout",
       "text": [
        "\n",
        "(9536, 40)\n",
        "(9450, 40)\n",
        "(5248, 40)\n",
        "(668, 40)"
       ]
      },
      {
       "output_type": "stream",
       "stream": "stdout",
       "text": [
        "\n",
        "(0, 40)\n",
        "(0, 40)\n",
        "(0, 40)\n",
        "(0, 40)\n",
        "(0, 40)\n",
        "(0, 40)\n",
        "(0, 40)\n",
        "(0, 40)\n",
        "(0, 40)\n",
        "(0, 40)\n",
        "(0, 40)\n",
        "(0, 40)\n",
        "(0, 40)\n",
        "(0, 40)\n",
        "(0, 40)\n",
        "(0, 40)\n",
        "(0, 40)\n",
        "(0, 40)\n",
        "(0, 40)\n",
        "(0, 40)\n",
        "(0, 40)\n",
        "(0, 40)\n",
        "(0, 40)\n",
        "(0, 40)\n",
        "(0, 40)"
       ]
      },
      {
       "output_type": "stream",
       "stream": "stdout",
       "text": [
        "\n",
        "(0, 40)\n",
        "(0, 40)\n",
        "(0, 40)\n",
        "(0, 40)\n",
        "(0, 40)\n",
        "(0, 40)\n",
        "(0, 40)\n",
        "(0, 40)\n",
        "(0, 40)\n",
        "(0, 40)\n",
        "(0, 40)\n",
        "(0, 40)\n",
        "(0, 40)\n",
        "(128, 40)\n",
        "(2425, 40)\n",
        "(308, 40)\n",
        "(0, 40)\n",
        "(0, 40)\n",
        "(0, 40)\n",
        "(0, 40)\n",
        "(0, 40)\n",
        "(0, 40)\n",
        "(0, 40)\n",
        "(0, 40)"
       ]
      },
      {
       "output_type": "stream",
       "stream": "stdout",
       "text": [
        "\n",
        "(0, 40)\n",
        "(0, 40)\n",
        "(0, 40)\n",
        "(0, 40)\n",
        "(0, 40)\n",
        "(0, 40)\n",
        "(0, 40)\n",
        "(0, 40)\n",
        "(0, 40)\n",
        "(0, 40)\n",
        "(0, 40)\n",
        "(0, 40)\n",
        "(0, 40)\n",
        "(0, 40)\n",
        "(0, 40)\n",
        "(0, 40)\n",
        "(0, 40)\n",
        "(0, 40)\n",
        "(306, 40)\n",
        "(6899, 40)\n",
        "(8642, 40)\n",
        "(9426, 40)"
       ]
      },
      {
       "output_type": "stream",
       "stream": "stdout",
       "text": [
        "\n",
        "(9831, 40)\n",
        "(10000, 40)\n",
        "(10000, 40)\n",
        "(10000, 40)\n",
        "(10000, 40)\n",
        "(8926, 40)"
       ]
      },
      {
       "output_type": "stream",
       "stream": "stdout",
       "text": [
        "\n",
        "(766, 40)\n",
        "(0, 40)\n",
        "(0, 40)\n",
        "(90, 40)\n",
        "(3493, 40)\n",
        "(8246, 40)\n",
        "(8661, 40)\n",
        "(7531, 40)\n",
        "(5142, 40)"
       ]
      },
      {
       "output_type": "stream",
       "stream": "stdout",
       "text": [
        "\n",
        "(676, 40)\n",
        "(1121, 40)\n",
        "(2798, 40)\n",
        "(328, 40)\n",
        "(0, 40)\n",
        "(0, 40)\n",
        "(0, 40)\n",
        "(0, 40)\n",
        "(0, 40)\n",
        "(0, 40)\n",
        "(0, 40)\n",
        "(0, 40)\n",
        "(0, 40)\n",
        "(0, 40)"
       ]
      },
      {
       "output_type": "stream",
       "stream": "stdout",
       "text": [
        "\n",
        "(0, 40)\n",
        "(0, 40)\n",
        "(0, 40)\n",
        "(0, 40)\n",
        "(0, 40)\n",
        "(0, 40)\n",
        "(0, 40)\n",
        "(0, 40)\n",
        "(0, 40)\n",
        "(0, 40)\n",
        "(0, 40)\n",
        "(0, 40)\n",
        "(0, 40)\n",
        "(0, 40)\n",
        "(0, 40)\n",
        "(0, 40)"
       ]
      },
      {
       "output_type": "stream",
       "stream": "stdout",
       "text": [
        "\n",
        "(0, 40)\n",
        "(0, 40)\n",
        "(0, 40)\n",
        "(0, 40)\n",
        "(0, 40)\n",
        "(0, 40)\n",
        "(0, 40)\n",
        "(0, 40)\n",
        "(0, 40)\n",
        "(0, 40)\n",
        "(0, 40)\n",
        "(0, 40)\n",
        "(0, 40)\n",
        "(0, 40)\n",
        "(0, 40)\n",
        "(0, 40)\n",
        "(0, 40)\n",
        "(0, 40)\n",
        "(0, 40)\n",
        "(0, 40)\n",
        "(0, 40)\n",
        "(0, 40)\n",
        "(0, 40)\n",
        "(0, 40)"
       ]
      },
      {
       "output_type": "stream",
       "stream": "stdout",
       "text": [
        "\n",
        "(0, 40)\n",
        "(0, 40)\n",
        "(0, 40)\n",
        "(0, 40)\n",
        "(0, 40)\n",
        "(0, 40)\n",
        "(0, 40)\n",
        "(0, 40)\n",
        "(0, 40)\n",
        "(0, 40)\n",
        "(0, 40)\n",
        "(0, 40)\n",
        "(0, 40)\n",
        "(0, 40)\n",
        "(0, 40)\n",
        "(0, 40)\n",
        "(0, 40)\n",
        "(0, 40)\n",
        "(0, 40)\n",
        "(0, 40)\n",
        "(3884, 40)\n",
        "(7616, 40)"
       ]
      },
      {
       "output_type": "stream",
       "stream": "stdout",
       "text": [
        "\n",
        "(6759, 40)\n",
        "(6695, 40)\n",
        "(9764, 40)\n",
        "(10000, 40)\n",
        "(9864, 40)\n",
        "(9810, 40)\n",
        "(2495, 40)"
       ]
      },
      {
       "output_type": "stream",
       "stream": "stdout",
       "text": [
        "\n",
        "(0, 40)\n",
        "(0, 40)\n",
        "(0, 40)\n",
        "(0, 40)\n",
        "(0, 40)\n",
        "(0, 40)\n",
        "(0, 40)\n",
        "(0, 40)\n",
        "(0, 40)\n",
        "(0, 40)\n",
        "(0, 40)\n",
        "(0, 40)\n",
        "(0, 40)\n",
        "(0, 40)\n",
        "(0, 40)\n",
        "(0, 40)\n",
        "(0, 40)\n",
        "(0, 40)\n",
        "(0, 40)\n",
        "(0, 40)\n",
        "(0, 40)\n",
        "(0, 40)\n",
        "(0, 40)"
       ]
      },
      {
       "output_type": "stream",
       "stream": "stdout",
       "text": [
        "\n",
        "(0, 40)\n",
        "(0, 40)\n",
        "(0, 40)\n",
        "(0, 40)\n",
        "(0, 40)\n",
        "(0, 40)\n",
        "(0, 40)\n",
        "(0, 40)\n",
        "(0, 40)\n",
        "(0, 40)\n",
        "(0, 40)\n",
        "(0, 40)\n",
        "(0, 40)\n",
        "(0, 40)\n",
        "(0, 40)\n",
        "(0, 40)\n",
        "(0, 40)\n",
        "(0, 40)\n",
        "(0, 40)\n",
        "(0, 40)\n",
        "(0, 40)\n",
        "(0, 40)\n",
        "(0, 40)\n",
        "(0, 40)\n",
        "(0, 40)"
       ]
      },
      {
       "output_type": "stream",
       "stream": "stdout",
       "text": [
        "\n",
        "(0, 40)\n",
        "(0, 40)\n",
        "(0, 40)\n",
        "(0, 40)\n",
        "(0, 40)\n",
        "(0, 40)\n",
        "(0, 40)\n",
        "(0, 40)\n",
        "(0, 40)\n",
        "(0, 40)\n",
        "(0, 40)\n",
        "(0, 40)\n",
        "(0, 40)\n",
        "(0, 40)\n",
        "(0, 40)\n",
        "(0, 40)\n",
        "(0, 40)\n",
        "(0, 40)\n",
        "(0, 40)\n",
        "(0, 40)\n",
        "(0, 40)\n",
        "(0, 40)\n",
        "(0, 40)\n",
        "(0, 40)\n",
        "(0, 40)"
       ]
      },
      {
       "output_type": "stream",
       "stream": "stdout",
       "text": [
        "\n",
        "(0, 40)\n",
        "(0, 40)\n",
        "(0, 40)\n",
        "(0, 40)\n",
        "(0, 40)\n",
        "(0, 40)\n",
        "(0, 40)\n",
        "(0, 40)\n",
        "(0, 40)\n",
        "(0, 40)\n",
        "(1, 40)\n",
        "(3718, 40)\n",
        "(8392, 40)\n",
        "(9084, 40)\n",
        "(6029, 40)"
       ]
      },
      {
       "output_type": "stream",
       "stream": "stdout",
       "text": [
        "\n",
        "(6500, 40)\n",
        "(5931, 40)\n",
        "(1615, 40)\n",
        "(0, 40)\n",
        "(0, 40)\n",
        "(0, 40)\n",
        "(0, 40)\n",
        "(0, 40)\n",
        "(0, 40)\n",
        "(0, 40)\n",
        "(0, 40)\n",
        "(0, 40)\n",
        "(0, 40)\n",
        "(0, 40)\n",
        "(0, 40)\n",
        "(0, 40)\n",
        "(0, 40)\n",
        "(0, 40)\n",
        "(0, 40)\n",
        "(0, 40)"
       ]
      },
      {
       "output_type": "stream",
       "stream": "stdout",
       "text": [
        "\n",
        "(0, 40)\n",
        "(0, 40)\n",
        "(0, 40)\n",
        "(0, 40)\n",
        "(0, 40)\n",
        "(0, 40)\n",
        "(0, 40)\n",
        "(0, 40)\n",
        "(0, 40)\n",
        "(0, 40)\n",
        "(0, 40)\n",
        "(0, 40)\n",
        "(0, 40)\n",
        "(0, 40)\n",
        "(0, 40)\n",
        "(0, 40)\n",
        "(0, 40)\n",
        "(0, 40)\n",
        "(0, 40)\n",
        "(0, 40)\n",
        "(0, 40)\n",
        "(0, 40)\n",
        "(0, 40)\n",
        "(0, 40)\n",
        "(0, 40)"
       ]
      },
      {
       "output_type": "stream",
       "stream": "stdout",
       "text": [
        "\n",
        "(0, 40)\n",
        "(0, 40)\n",
        "(0, 40)\n",
        "(0, 40)\n",
        "(0, 40)\n",
        "(0, 40)\n",
        "(0, 40)\n",
        "(0, 40)\n",
        "(0, 40)\n",
        "(0, 40)\n",
        "(0, 40)\n",
        "(0, 40)\n",
        "(0, 40)"
       ]
      },
      {
       "output_type": "stream",
       "stream": "stdout",
       "text": [
        "\n",
        "(0, 40)\n",
        "(0, 40)\n",
        "(0, 40)\n",
        "(0, 40)\n",
        "(0, 40)\n",
        "(0, 40)\n",
        "(0, 40)\n",
        "(0, 40)\n",
        "(0, 40)\n",
        "(0, 40)\n",
        "(0, 40)\n",
        "(0, 40)\n",
        "(0, 40)\n",
        "(0, 40)\n",
        "(0, 40)\n",
        "(0, 40)\n",
        "(0, 40)\n",
        "(0, 40)\n",
        "(0, 40)\n",
        "(0, 40)\n",
        "(0, 40)\n",
        "(0, 40)\n",
        "(0, 40)\n",
        "(0, 40)\n",
        "(0, 40)"
       ]
      },
      {
       "output_type": "stream",
       "stream": "stdout",
       "text": [
        "\n",
        "(0, 40)\n",
        "(0, 40)\n",
        "(0, 40)\n",
        "(0, 40)\n",
        "(0, 40)\n",
        "(0, 40)\n",
        "(0, 40)\n",
        "(326, 40)\n",
        "(1909, 40)\n",
        "(1250, 40)\n",
        "(0, 40)\n",
        "(0, 40)\n",
        "(0, 40)\n",
        "(0, 40)\n",
        "(0, 40)\n",
        "(0, 40)\n",
        "(0, 40)\n",
        "(0, 40)\n",
        "(0, 40)\n",
        "(0, 40)\n",
        "(0, 40)\n",
        "(0, 40)\n",
        "(0, 40)\n",
        "(0, 40)"
       ]
      },
      {
       "output_type": "stream",
       "stream": "stdout",
       "text": [
        "\n",
        "(0, 40)\n",
        "(0, 40)\n",
        "(0, 40)\n",
        "(0, 40)\n",
        "(0, 40)\n",
        "(0, 40)\n",
        "(0, 40)\n",
        "(0, 40)\n",
        "(0, 40)\n",
        "(0, 40)\n",
        "(0, 40)\n",
        "(0, 40)\n",
        "(0, 40)\n",
        "(0, 40)\n"
       ]
      }
     ],
     "prompt_number": 7
    },
    {
     "cell_type": "code",
     "collapsed": false,
     "input": [],
     "language": "python",
     "metadata": {},
     "outputs": []
    }
   ],
   "metadata": {}
  }
 ]
}