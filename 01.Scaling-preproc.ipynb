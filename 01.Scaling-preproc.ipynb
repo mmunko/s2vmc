{
 "metadata": {
  "name": "",
  "signature": "sha256:4d2c9950dd3e8b4276254fbbd058eebf4e2d4c89f5b43ba82142308a8197a5a2"
 },
 "nbformat": 3,
 "nbformat_minor": 0,
 "worksheets": [
  {
   "cells": [
    {
     "cell_type": "markdown",
     "metadata": {},
     "source": [
      "## Predpriprava Numerickych Dat\n",
      "Pouziva 10 a 90 percentil podla ktoreho skaluje data:\n",
      "\n",
      "$x = \\frac{x - q_{90}}{q_{90}-q_{10}}$\n"
     ]
    },
    {
     "cell_type": "code",
     "collapsed": false,
     "input": [
      "import gdal\n",
      "import numpy as np\n",
      "import glob\n",
      "import os, shutil\n",
      "\n",
      "from tools.tifftools import writeTiff"
     ],
     "language": "python",
     "metadata": {},
     "outputs": [],
     "prompt_number": 2
    },
    {
     "cell_type": "code",
     "collapsed": false,
     "input": [
      "#nastavenie s ktorymi datami ma skript pracovat\n",
      "input_datadir = 'raw_rasters'\n",
      "categorical_data = np.array([\n",
      "        'clc12_recl.tif',\n",
      "        'ov_lithology.tif',\n",
      "        'ov_dem_a10_recl.tif'\n",
      "])"
     ],
     "language": "python",
     "metadata": {},
     "outputs": [],
     "prompt_number": 40
    },
    {
     "cell_type": "code",
     "collapsed": false,
     "input": [
      "input_rasters = glob.glob(os.path.join(input_datadir,'*.tif'))"
     ],
     "language": "python",
     "metadata": {},
     "outputs": [],
     "prompt_number": 41
    },
    {
     "cell_type": "code",
     "collapsed": false,
     "input": [
      "if not os.path.exists('preproc_rasters'):\n",
      "    os.mkdir('preproc_rasters')\n",
      "else:\n",
      "    shutil.rmtree('preproc_rasters')\n",
      "    os.mkdir('preproc_rasters')"
     ],
     "language": "python",
     "metadata": {},
     "outputs": [],
     "prompt_number": 56
    },
    {
     "cell_type": "code",
     "collapsed": false,
     "input": [
      "for in_raster in input_rasters:\n",
      "    if in_raster.split('/')[-1] not in categorical_data:\n",
      "        r = gdal.Open(in_raster)\n",
      "        noData = r.GetRasterBand(1).GetNoDataValue()\n",
      "        data_full = r.GetRasterBand(1).ReadAsArray()\n",
      "        data = data_full[data_full != noData]\n",
      "        data = (data - np.percentile(data,10)) / (np.percentile(data,90) - np.percentile(data,10))\n",
      "        data_full[data_full != noData] = data\n",
      "        data_full[data_full == noData] = -99999\n",
      "        writeTiff(os.path.join('preproc_rasters',in_raster.split('/')[-1]),data_full,r,1,-99999,gdal.GDT_Float32)\n",
      "    else:\n",
      "        r = gdal.Open(in_raster)\n",
      "        noData = r.GetRasterBand(1).GetNoDataValue()\n",
      "        data_full = r.GetRasterBand(1).ReadAsArray()\n",
      "        data_full[data_full == noData] = -99999\n",
      "        writeTiff(os.path.join('preproc_rasters',in_raster.split('/')[-1]),data_full,r,1,-99999,gdal.GDT_Float32)"
     ],
     "language": "python",
     "metadata": {},
     "outputs": [],
     "prompt_number": 57
    },
    {
     "cell_type": "code",
     "collapsed": false,
     "input": [],
     "language": "python",
     "metadata": {},
     "outputs": []
    }
   ],
   "metadata": {}
  }
 ]
}